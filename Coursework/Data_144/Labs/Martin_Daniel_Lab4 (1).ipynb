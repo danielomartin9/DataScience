{
 "cells": [
  {
   "cell_type": "markdown",
   "metadata": {
    "colab_type": "text",
    "id": "1xxMXNDF7ckw"
   },
   "source": [
    "# DMA Fall 19\n",
    "\n",
    "**Note** : This entire lab will be manually evaluated.\n",
    "\n",
    "Name : 'Daniel Martin'\n",
    "\n",
    "Collaborator : 'Eric Jian, Ashwath Mohan, Lavanya Vijayan'"
   ]
  },
  {
   "cell_type": "markdown",
   "metadata": {
    "colab_type": "text",
    "id": "Oyb_RNpFreOr"
   },
   "source": [
    "# Lab 4: Neural Networks #\n"
   ]
  },
  {
   "cell_type": "code",
   "execution_count": 0,
   "metadata": {
    "colab": {},
    "colab_type": "code",
    "id": "yj9Uh79ereOs"
   },
   "outputs": [],
   "source": [
    "import pandas as pd\n",
    "from sklearn.neural_network import MLPClassifier\n",
    "from sklearn.svm import SVC\n",
    "\n",
    "from sklearn.preprocessing import StandardScaler, MinMaxScaler\n",
    "from sklearn.preprocessing import LabelEncoder, OneHotEncoder\n",
    "from sklearn.feature_extraction import DictVectorizer\n",
    "\n",
    "from sklearn.pipeline import Pipeline\n",
    "from sklearn.metrics import accuracy_score\n",
    "from sklearn.model_selection import train_test_split\n",
    "from sklearn.model_selection import GridSearchCV, ParameterGrid\n",
    "\n",
    "import numpy as np\n",
    "\n",
    "import warnings\n",
    "warnings.filterwarnings(\"ignore\")"
   ]
  },
  {
   "cell_type": "code",
   "execution_count": 10,
   "metadata": {
    "colab": {
     "base_uri": "https://localhost:8080/",
     "height": 578
    },
    "colab_type": "code",
    "id": "n6SRFrhfreOt",
    "outputId": "cb171553-bb6e-4530-f36b-f034344bbee3"
   },
   "outputs": [
    {
     "name": "stdout",
     "output_type": "stream",
     "text": [
      "--2019-10-01 18:05:27--  http://people.ischool.berkeley.edu/~zp/course_datasets/lab_4_training.csv\n",
      "Resolving people.ischool.berkeley.edu (people.ischool.berkeley.edu)... 128.32.78.16\n",
      "Connecting to people.ischool.berkeley.edu (people.ischool.berkeley.edu)|128.32.78.16|:80... connected.\n",
      "HTTP request sent, awaiting response... 200 OK\n",
      "Length: 105581 (103K) [text/csv]\n",
      "Saving to: ‘lab_4_training.csv.1’\n",
      "\n",
      "\r",
      "lab_4_training.csv.   0%[                    ]       0  --.-KB/s               \r",
      "lab_4_training.csv. 100%[===================>] 103.11K   489KB/s               \r",
      "lab_4_training.csv. 100%[===================>] 103.11K   489KB/s    in 0.2s    \n",
      "\n",
      "2019-10-01 18:05:28 (489 KB/s) - ‘lab_4_training.csv.1’ saved [105581/105581]\n",
      "\n",
      "--2019-10-01 18:05:29--  http://people.ischool.berkeley.edu/~zp/course_datasets/lab_4_test.csv\n",
      "Resolving people.ischool.berkeley.edu (people.ischool.berkeley.edu)... 128.32.78.16\n",
      "Connecting to people.ischool.berkeley.edu (people.ischool.berkeley.edu)|128.32.78.16|:80... connected.\n",
      "HTTP request sent, awaiting response... 200 OK\n",
      "Length: 26523 (26K) [text/csv]\n",
      "Saving to: ‘lab_4_test.csv.1’\n",
      "\n",
      "lab_4_test.csv.1    100%[===================>]  25.90K  --.-KB/s    in 0.07s   \n",
      "\n",
      "2019-10-01 18:05:29 (371 KB/s) - ‘lab_4_test.csv.1’ saved [26523/26523]\n",
      "\n"
     ]
    },
    {
     "data": {
      "text/html": [
       "<div>\n",
       "<style scoped>\n",
       "    .dataframe tbody tr th:only-of-type {\n",
       "        vertical-align: middle;\n",
       "    }\n",
       "\n",
       "    .dataframe tbody tr th {\n",
       "        vertical-align: top;\n",
       "    }\n",
       "\n",
       "    .dataframe thead th {\n",
       "        text-align: right;\n",
       "    }\n",
       "</style>\n",
       "<table border=\"1\" class=\"dataframe\">\n",
       "  <thead>\n",
       "    <tr style=\"text-align: right;\">\n",
       "      <th></th>\n",
       "      <th>Unnamed: 0</th>\n",
       "      <th>gender</th>\n",
       "      <th>age</th>\n",
       "      <th>year</th>\n",
       "      <th>eyecolor</th>\n",
       "      <th>height</th>\n",
       "      <th>miles</th>\n",
       "      <th>brothers</th>\n",
       "      <th>sisters</th>\n",
       "      <th>computertime</th>\n",
       "      <th>exercise</th>\n",
       "      <th>exercisehours</th>\n",
       "      <th>musiccds</th>\n",
       "      <th>playgames</th>\n",
       "      <th>watchtv</th>\n",
       "    </tr>\n",
       "  </thead>\n",
       "  <tbody>\n",
       "    <tr>\n",
       "      <th>0</th>\n",
       "      <td>1303</td>\n",
       "      <td>male</td>\n",
       "      <td>20</td>\n",
       "      <td>second</td>\n",
       "      <td>green</td>\n",
       "      <td>73.0</td>\n",
       "      <td>210.0</td>\n",
       "      <td>0</td>\n",
       "      <td>1</td>\n",
       "      <td>10.0</td>\n",
       "      <td>Yes</td>\n",
       "      <td>5.0</td>\n",
       "      <td>50.0</td>\n",
       "      <td>1.0</td>\n",
       "      <td>15.0</td>\n",
       "    </tr>\n",
       "    <tr>\n",
       "      <th>1</th>\n",
       "      <td>36</td>\n",
       "      <td>male</td>\n",
       "      <td>20</td>\n",
       "      <td>third</td>\n",
       "      <td>other</td>\n",
       "      <td>71.0</td>\n",
       "      <td>90.0</td>\n",
       "      <td>1</td>\n",
       "      <td>0</td>\n",
       "      <td>15.0</td>\n",
       "      <td>Yes</td>\n",
       "      <td>4.0</td>\n",
       "      <td>10.0</td>\n",
       "      <td>0.0</td>\n",
       "      <td>1.0</td>\n",
       "    </tr>\n",
       "    <tr>\n",
       "      <th>2</th>\n",
       "      <td>489</td>\n",
       "      <td>male</td>\n",
       "      <td>22</td>\n",
       "      <td>fourth</td>\n",
       "      <td>hazel</td>\n",
       "      <td>75.0</td>\n",
       "      <td>200.0</td>\n",
       "      <td>0</td>\n",
       "      <td>1</td>\n",
       "      <td>1.0</td>\n",
       "      <td>Yes</td>\n",
       "      <td>2.0</td>\n",
       "      <td>150.0</td>\n",
       "      <td>1.0</td>\n",
       "      <td>10.0</td>\n",
       "    </tr>\n",
       "    <tr>\n",
       "      <th>3</th>\n",
       "      <td>1415</td>\n",
       "      <td>male</td>\n",
       "      <td>19</td>\n",
       "      <td>second</td>\n",
       "      <td>brown</td>\n",
       "      <td>72.0</td>\n",
       "      <td>35.0</td>\n",
       "      <td>2</td>\n",
       "      <td>2</td>\n",
       "      <td>20.0</td>\n",
       "      <td>Yes</td>\n",
       "      <td>5.0</td>\n",
       "      <td>100.0</td>\n",
       "      <td>0.0</td>\n",
       "      <td>7.0</td>\n",
       "    </tr>\n",
       "    <tr>\n",
       "      <th>4</th>\n",
       "      <td>616</td>\n",
       "      <td>male</td>\n",
       "      <td>22</td>\n",
       "      <td>fourth</td>\n",
       "      <td>hazel</td>\n",
       "      <td>71.0</td>\n",
       "      <td>15.0</td>\n",
       "      <td>2</td>\n",
       "      <td>1</td>\n",
       "      <td>10.0</td>\n",
       "      <td>Yes</td>\n",
       "      <td>7.0</td>\n",
       "      <td>10.0</td>\n",
       "      <td>0.0</td>\n",
       "      <td>5.0</td>\n",
       "    </tr>\n",
       "  </tbody>\n",
       "</table>\n",
       "</div>"
      ],
      "text/plain": [
       "   Unnamed: 0 gender  age    year  ... exercisehours  musiccds  playgames  watchtv\n",
       "0        1303   male   20  second  ...           5.0      50.0        1.0     15.0\n",
       "1          36   male   20   third  ...           4.0      10.0        0.0      1.0\n",
       "2         489   male   22  fourth  ...           2.0     150.0        1.0     10.0\n",
       "3        1415   male   19  second  ...           5.0     100.0        0.0      7.0\n",
       "4         616   male   22  fourth  ...           7.0      10.0        0.0      5.0\n",
       "\n",
       "[5 rows x 15 columns]"
      ]
     },
     "execution_count": 10,
     "metadata": {
      "tags": []
     },
     "output_type": "execute_result"
    }
   ],
   "source": [
    "!wget http://people.ischool.berkeley.edu/~zp/course_datasets/lab_4_training.csv\n",
    "!wget http://people.ischool.berkeley.edu/~zp/course_datasets/lab_4_test.csv\n",
    "\n",
    "df_train = pd.read_csv('./lab_4_training.csv')\n",
    "df_test = pd.read_csv('./lab_4_test.csv')\n",
    "df_train.head()"
   ]
  },
  {
   "cell_type": "markdown",
   "metadata": {
    "colab_type": "text",
    "id": "RGt_10ZAreOv"
   },
   "source": [
    "***\n",
    "### Question 1###\n",
    "Calculate a baseline accuracy measure using the majority class, assuming a target variable of 'gender'. The majority class is the most common value of the target variable in a particular dataset. Accuracy is calculated as (true positives + true negatives) / (all negatives and positives)"
   ]
  },
  {
   "cell_type": "markdown",
   "metadata": {
    "colab_type": "text",
    "id": "UZPiLgekreOw"
   },
   "source": [
    "**Question 1.a**  \n",
    "Find the majority class in the training set. If you always predicted this class in the training set, what would your accuracy be?"
   ]
  },
  {
   "cell_type": "code",
   "execution_count": 11,
   "metadata": {
    "colab": {
     "base_uri": "https://localhost:8080/",
     "height": 34
    },
    "colab_type": "code",
    "id": "iYjEFc1greOx",
    "outputId": "8a2e42c4-c24d-4dc3-f98c-adf4f6630ae4"
   },
   "outputs": [
    {
     "data": {
      "text/plain": [
       "0.5377358490566038"
      ]
     },
     "execution_count": 11,
     "metadata": {
      "tags": []
     },
     "output_type": "execute_result"
    }
   ],
   "source": [
    "# YOUR CODE HERE\n",
    "df_train['gender'].value_counts().max() / df_train['gender'].value_counts().sum()"
   ]
  },
  {
   "cell_type": "markdown",
   "metadata": {
    "colab_type": "text",
    "id": "RtvFM-hM0y2o"
   },
   "source": [
    "###ANSWER: 0.5377358490566038"
   ]
  },
  {
   "cell_type": "markdown",
   "metadata": {
    "colab_type": "text",
    "id": "ULPKW0IvreOy"
   },
   "source": [
    "**Question 1.b**   \n",
    "If you always predicted this same class (majority from the training set) in the test set, what would your accuracy be?"
   ]
  },
  {
   "cell_type": "code",
   "execution_count": 12,
   "metadata": {
    "colab": {
     "base_uri": "https://localhost:8080/",
     "height": 34
    },
    "colab_type": "code",
    "id": "dfU5mwh405vq",
    "outputId": "c81f75ef-b79e-4215-fe8d-b0b72aeb59ae"
   },
   "outputs": [
    {
     "data": {
      "text/plain": [
       "0.5226130653266332"
      ]
     },
     "execution_count": 12,
     "metadata": {
      "tags": []
     },
     "output_type": "execute_result"
    }
   ],
   "source": [
    "# YOUR CODE HERE\n",
    "df_test['gender'].value_counts().max() / df_test['gender'].value_counts().sum()"
   ]
  },
  {
   "cell_type": "markdown",
   "metadata": {
    "colab_type": "text",
    "id": "pINRUJxG05v4"
   },
   "source": [
    "###ANSWER: 0.5226130653266332"
   ]
  },
  {
   "cell_type": "markdown",
   "metadata": {
    "colab_type": "text",
    "id": "GKb2Ju-GreO0"
   },
   "source": [
    "***\n",
    "### Question 2 ###\n",
    "Get started with Neural Networks."
   ]
  },
  {
   "cell_type": "markdown",
   "metadata": {
    "colab_type": "text",
    "id": "UYI6e3F3reO0"
   },
   "source": [
    "   \n",
    "Choose a NN implementation (eg: scikit-learn) and specify which you choose. Be sure the implementation allows you to modify the number of hidden layers and hidden nodes per layer.  \n",
    "\n",
    "NOTE: When possible, specify the logsig (sigmoid/logistc) function as the transfer function (another word for activation function) and use Levenberg-Marquardt backpropagation (lbfgs). It is possible to specify logistic in Sklearn MLPclassifier (Neural net).  "
   ]
  },
  {
   "cell_type": "markdown",
   "metadata": {
    "colab_type": "text",
    "id": "4am3sGc4reO1"
   },
   "source": [
    "**Question 2.a**   \n",
    "Train a neural network with a single 10 node hidden layer. Only use the Height feature of the dataset to predict the Gender. You will have to change Gender to a 0 and 1 class. After training, use your trained model to predict the class using the height feature from the training set. What was the accuracy of this prediction?"
   ]
  },
  {
   "cell_type": "code",
   "execution_count": 13,
   "metadata": {
    "colab": {
     "base_uri": "https://localhost:8080/",
     "height": 34
    },
    "colab_type": "code",
    "id": "jbAzltaw067l",
    "outputId": "32bb6329-9759-4b0d-c1c1-d8702485d0a0"
   },
   "outputs": [
    {
     "name": "stdout",
     "output_type": "stream",
     "text": [
      "0.5377358490566038\n"
     ]
    }
   ],
   "source": [
    "# YOUR CODE HERE\n",
    "from sklearn.neural_network import MLPClassifier\n",
    "from sklearn.metrics import accuracy_score\n",
    "\n",
    "df_train['gender'].replace(0, 'Male', inplace = True)\n",
    "df_train['gender'].replace(1, 'Female', inplace = True)\n",
    "df_test['gender'].replace(0, 'Male', inplace = True)\n",
    "df_test['gender'].replace(1, 'Female', inplace = True)\n",
    "\n",
    "X_train = df_train[['height']]\n",
    "y_train = df_train['gender']\n",
    "\n",
    "clf = MLPClassifier(hidden_layer_sizes = (10,2), max_iter = 100, alpha = 0.0001,\n",
    "                   activation = 'logistic', solver = 'lbfgs', verbose = 10, \n",
    "                   random_state=42, tol=0.000000001)\n",
    "\n",
    "clf.fit(X_train,y_train)\n",
    "\n",
    "y_train_pred = clf.predict(X_train)\n",
    "print(accuracy_score(y_train, y_train_pred))"
   ]
  },
  {
   "cell_type": "markdown",
   "metadata": {
    "colab_type": "text",
    "id": "EuaCk0l0067q"
   },
   "source": [
    "###ANSWER: 0.5377358490566038"
   ]
  },
  {
   "cell_type": "markdown",
   "metadata": {
    "colab_type": "text",
    "id": "AkqzIeshreO2"
   },
   "source": [
    "**Question 2.b**  \n",
    "Take the trained model from question 2.a and use it to predict the test set. This can be accomplished by taking the trained model and giving it the Height feature values from the test set. What is the accuracy of this model on the test set?"
   ]
  },
  {
   "cell_type": "code",
   "execution_count": 14,
   "metadata": {
    "colab": {
     "base_uri": "https://localhost:8080/",
     "height": 34
    },
    "colab_type": "code",
    "id": "Tw25ezWp07hj",
    "outputId": "699b971e-23f5-4796-a5d9-550d8ca4451d"
   },
   "outputs": [
    {
     "name": "stdout",
     "output_type": "stream",
     "text": [
      "0.5226130653266332\n"
     ]
    }
   ],
   "source": [
    "# YOUR CODE HERE\n",
    "from sklearn.metrics import accuracy_score\n",
    "\n",
    "X_test = df_test[['height']]\n",
    "y_test = df_test['gender']\n",
    "\n",
    "y_test_pred = clf.predict(X_test)\n",
    "print(accuracy_score(y_test, y_test_pred))"
   ]
  },
  {
   "cell_type": "markdown",
   "metadata": {
    "colab_type": "text",
    "id": "HbHMAFvw07hm"
   },
   "source": [
    "###ANSWER: 0.5226130653266332"
   ]
  },
  {
   "cell_type": "markdown",
   "metadata": {
    "colab_type": "text",
    "id": "uMmIfsNEreO3"
   },
   "source": [
    "**Question 2.c**   \n",
    "Neural Networks tend to prefer smaller, normalized feature values. Try taking the log of the height feature in both training and testing sets or use a Standard Scalar operation in SKlearn to centre and normalize the data between 0-1 for continuous values. Repeat question 2.a and 2.b with the log version or the normalized and centered version of this feature"
   ]
  },
  {
   "cell_type": "code",
   "execution_count": 15,
   "metadata": {
    "colab": {
     "base_uri": "https://localhost:8080/",
     "height": 51
    },
    "colab_type": "code",
    "id": "wDhCZPaU07_8",
    "outputId": "ec0c049d-4a4a-49d6-ac16-9620646bbbc6"
   },
   "outputs": [
    {
     "name": "stdout",
     "output_type": "stream",
     "text": [
      "0.5616352201257861\n",
      "0.5452261306532663\n"
     ]
    }
   ],
   "source": [
    "# YOUR CODE HERE\n",
    "from sklearn.neural_network import MLPClassifier\n",
    "from sklearn.metrics import accuracy_score\n",
    "import numpy as np\n",
    "\n",
    "df_train['log_height'] = df_train['height'].apply(np.log)\n",
    "df_test['log_height'] = df_test['height'].apply(np.log)\n",
    "\n",
    "# df_train['gender'].replace(0, 'Male', inplace = True)\n",
    "# df_train['gender'].replace(1, 'Female', inplace = True)\n",
    "# df_test['gender'].replace(0, 'Male', inplace = True)\n",
    "# df_test['gender'].replace(1, 'Female', inplace = True)\n",
    "\n",
    "X_train = df_train[['log_height']]\n",
    "y_train = df_train['gender']\n",
    "\n",
    "X_test = df_test[['log_height']]\n",
    "y_test = df_test['gender']\n",
    "\n",
    "clf = MLPClassifier(hidden_layer_sizes = (10,2), max_iter = 100, alpha = 0.0001,\n",
    "                   activation = 'logistic', solver = 'lbfgs', verbose = 10, \n",
    "                   random_state=42, tol=0.000000001)\n",
    "\n",
    "clf.fit(X_train,y_train)\n",
    "\n",
    "y_train_pred = clf.predict(X_train)\n",
    "print(accuracy_score(y_train, y_train_pred))\n",
    "\n",
    "y_test_pred = clf.predict(X_test)\n",
    "print(accuracy_score(y_test, y_test_pred))\n"
   ]
  },
  {
   "cell_type": "markdown",
   "metadata": {
    "colab_type": "text",
    "id": "GTO2KMti07__"
   },
   "source": [
    "###ANSWER: \n",
    "Train Set: 0.5616352201257861\n",
    "\n",
    "Test Set: 0.5452261306532663\n",
    "           "
   ]
  },
  {
   "cell_type": "markdown",
   "metadata": {
    "colab_type": "text",
    "id": "2_SlOdcarePC"
   },
   "source": [
    "***\n",
    "\n",
    "### Question 3###\n",
    "The rest of features in this dataset barring a few are categorical. No ML method accepts categorical features, so transform year, eyecolor, exercise into a set of binary features, one feature per unique original feature value, and mark the binary feature as ‘1’ if the feature value matches the original value and ‘0’ otherwise. Using only these binary variable transformed features, train and predict the class of the test set. What was your accuracy using Neural Network with a single 10 node hidden layer? During training, use a maximum number of iterations of 50."
   ]
  },
  {
   "cell_type": "code",
   "execution_count": 16,
   "metadata": {
    "colab": {
     "base_uri": "https://localhost:8080/",
     "height": 51
    },
    "colab_type": "code",
    "id": "YjhzBFNV1Aip",
    "outputId": "b7814a4a-4e09-4043-ba4d-2b68b853bf32"
   },
   "outputs": [
    {
     "name": "stdout",
     "output_type": "stream",
     "text": [
      "0.5610062893081761\n",
      "0.5879396984924623\n"
     ]
    }
   ],
   "source": [
    "# YOUR CODE HERE\n",
    "from sklearn.neural_network import MLPClassifier\n",
    "from sklearn.metrics import accuracy_score\n",
    "\n",
    "copy_df_train = df_train.copy()\n",
    "copy_df_test = df_test.copy()\n",
    "\n",
    "copy_df_train['year'].replace('first\"', 'first', inplace = True)\n",
    "copy_df_test['year'].replace('first\"', 'first', inplace = True)\n",
    "#copy_df_train.head()\n",
    "\n",
    "df_one_hot_train = pd.get_dummies(copy_df_train, columns = ['year', 'eyecolor', 'exercise'])\n",
    "df_one_hot_test = pd.get_dummies(copy_df_test, columns = ['year', 'eyecolor', 'exercise'])\n",
    "\n",
    "X_train = df_one_hot_train.loc[:, \"year_first\":]\n",
    "y_train = df_one_hot_train['gender']\n",
    "\n",
    "X_test = df_one_hot_test.loc[:, \"year_first\":]\n",
    "y_test = df_one_hot_test['gender']\n",
    "\n",
    "clf = MLPClassifier(hidden_layer_sizes = (10,2), max_iter = 50, alpha = 0.0001,\n",
    "                   activation = 'logistic', solver = 'lbfgs', verbose = 10, \n",
    "                   random_state=42, tol=0.000000001)\n",
    "\n",
    "clf.fit(X_train, y_train)\n",
    "\n",
    "y_train_pred = clf.predict(X_train)\n",
    "print(accuracy_score(y_train, y_train_pred))\n",
    "\n",
    "y_test_pred = clf.predict(X_test)\n",
    "print(accuracy_score(y_test, y_test_pred))"
   ]
  },
  {
   "cell_type": "markdown",
   "metadata": {
    "colab_type": "text",
    "id": "PyQ1EvAY1Ait"
   },
   "source": [
    "###ANSWER: \n",
    "Test Set: 0.5879396984924623"
   ]
  },
  {
   "cell_type": "markdown",
   "metadata": {
    "colab_type": "text",
    "id": "dSSr9sBlrePG"
   },
   "source": [
    "***\n",
    "### Question 4###\n",
    "Using a NN, report the accuracy on  the test set of a model that trained only on the height and the eye color features of instances in the training set."
   ]
  },
  {
   "cell_type": "markdown",
   "metadata": {
    "colab_type": "text",
    "id": "rMNSlOmJrePG"
   },
   "source": [
    "**Question 4.a**  \n",
    "What is the accuracy on the test set using the original height values (no pre-processing) and eye color as a one-hot?"
   ]
  },
  {
   "cell_type": "code",
   "execution_count": 17,
   "metadata": {
    "colab": {
     "base_uri": "https://localhost:8080/",
     "height": 51
    },
    "colab_type": "code",
    "id": "F_vN4tyv1Ckq",
    "outputId": "bc9e0de4-814f-4533-c1a2-35014ad545cd"
   },
   "outputs": [
    {
     "name": "stdout",
     "output_type": "stream",
     "text": [
      "0.7679245283018868\n",
      "0.7788944723618091\n"
     ]
    }
   ],
   "source": [
    "# YOUR CODE HERE\n",
    "from sklearn.neural_network import MLPClassifier\n",
    "from sklearn.metrics import accuracy_score\n",
    "\n",
    "df_one_hot_train = pd.get_dummies(df_train, columns = ['eyecolor'])\n",
    "df_one_hot_test = pd.get_dummies(df_test, columns = ['eyecolor'])\n",
    "\n",
    "X_train = df_one_hot_train.loc[:, ['height', 'eyecolor_blue', 'eyecolor_brown', 'eyecolor_green', 'eyecolor_hazel', 'eyecolor_other']]\n",
    "y_train = df_one_hot_train['gender']\n",
    "\n",
    "X_test = df_one_hot_test.loc[:, ['height', 'eyecolor_blue', 'eyecolor_brown', 'eyecolor_green', 'eyecolor_hazel', 'eyecolor_other']]\n",
    "y_test = df_one_hot_test['gender']\n",
    "\n",
    "clf = MLPClassifier(hidden_layer_sizes = (10,2), max_iter = 100, alpha = 0.0001,\n",
    "                   activation = 'logistic', solver = 'lbfgs', verbose = 10, \n",
    "                   random_state=42, tol=0.000000001)\n",
    "\n",
    "clf.fit(X_train, y_train)\n",
    "\n",
    "y_train_pred = clf.predict(X_train)\n",
    "print(accuracy_score(y_train, y_train_pred))\n",
    "\n",
    "y_test_pred = clf.predict(X_test)\n",
    "print(accuracy_score(y_test, y_test_pred))"
   ]
  },
  {
   "cell_type": "markdown",
   "metadata": {
    "colab_type": "text",
    "id": "CaL2o0TW1Cks"
   },
   "source": [
    "###ANSWER: \n",
    "Test Set: 0.7788944723618091"
   ]
  },
  {
   "cell_type": "markdown",
   "metadata": {
    "colab_type": "text",
    "id": "NC8Ipx9QrePH"
   },
   "source": [
    "**Question 4.b**  \n",
    "What is the accuracy on the test set using the log of height values (applied to both training and testing sets) and eye color as a one-hot?"
   ]
  },
  {
   "cell_type": "code",
   "execution_count": 18,
   "metadata": {
    "colab": {
     "base_uri": "https://localhost:8080/",
     "height": 51
    },
    "colab_type": "code",
    "id": "cFvzNv6O1DG3",
    "outputId": "e33d438b-98d5-4a6f-a68e-76c2d69e98f1"
   },
   "outputs": [
    {
     "name": "stdout",
     "output_type": "stream",
     "text": [
      "0.650314465408805\n",
      "0.6507537688442211\n"
     ]
    }
   ],
   "source": [
    "# YOUR CODE HERE\n",
    "from sklearn.neural_network import MLPClassifier\n",
    "from sklearn.metrics import accuracy_score\n",
    "\n",
    "df_one_hot_train = pd.get_dummies(df_train, columns = ['eyecolor'])\n",
    "df_one_hot_test = pd.get_dummies(df_test, columns = ['eyecolor'])\n",
    "\n",
    "X_train = df_one_hot_train.loc[:, ['log_height', 'eyecolor_blue', 'eyecolor_brown', 'eyecolor_green', 'eyecolor_hazel', 'eyecolor_other']]\n",
    "y_train = df_one_hot_train['gender']\n",
    "\n",
    "X_test = df_one_hot_test.loc[:, ['log_height', 'eyecolor_blue', 'eyecolor_brown', 'eyecolor_green', 'eyecolor_hazel', 'eyecolor_other']]\n",
    "y_test = df_one_hot_test['gender']\n",
    "\n",
    "clf = MLPClassifier(hidden_layer_sizes = (10,2), max_iter = 100, alpha = 0.0001,\n",
    "                   activation = 'logistic', solver = 'lbfgs', verbose = 10, \n",
    "                   random_state=42, tol=0.000000001)\n",
    "\n",
    "clf.fit(X_train, y_train)\n",
    "\n",
    "y_train_pred = clf.predict(X_train)\n",
    "print(accuracy_score(y_train, y_train_pred))\n",
    "\n",
    "y_test_pred = clf.predict(X_test)\n",
    "print(accuracy_score(y_test, y_test_pred))"
   ]
  },
  {
   "cell_type": "markdown",
   "metadata": {
    "colab_type": "text",
    "id": "Pt3NMp1M1DG4"
   },
   "source": [
    "###ANSWER: \n",
    "Train Set: 0.650314465408805\n",
    "\n",
    "Test Set: 0.6507537688442211"
   ]
  },
  {
   "cell_type": "markdown",
   "metadata": {
    "colab_type": "text",
    "id": "iYm2jqnprePI"
   },
   "source": [
    "**Question 4.c**  \n",
    "What is the accuracy on the test set using the Z-score of height values and eye color as a one-hot? \n",
    "\n",
    "Z-score is a normalization function. It is the value of a feature minus the average value for that feature (in the training set), divided by the standard deviation of that feature (in the training set). Remember that, whenever applying a function to a feature in the training set, it also has to be applied to that same feature in the test set."
   ]
  },
  {
   "cell_type": "code",
   "execution_count": 107,
   "metadata": {
    "colab": {
     "base_uri": "https://localhost:8080/",
     "height": 51
    },
    "colab_type": "code",
    "id": "P3mDjF6N1DoN",
    "outputId": "f22cd939-25d3-4e6f-97b4-18d0d5851ac5"
   },
   "outputs": [
    {
     "name": "stdout",
     "output_type": "stream",
     "text": [
      "0.8503144654088051\n",
      "0.8592964824120602\n"
     ]
    }
   ],
   "source": [
    "# YOUR CODE HERE\n",
    "from scipy import stats\n",
    "\n",
    "df_train['z_score_heights'] = stats.zscore(df_train['height'])\n",
    "df_test['z_score_heights'] = stats.zscore(df_test['height'])\n",
    "\n",
    "df_one_hot_train = pd.get_dummies(df_train, columns = ['eyecolor'])\n",
    "df_one_hot_test = pd.get_dummies(df_test, columns = ['eyecolor'])\n",
    "\n",
    "\n",
    "X_train = df_one_hot_train.loc[:, ['z_score_heights', 'eyecolor_blue', 'eyecolor_brown', 'eyecolor_green', 'eyecolor_hazel', 'eyecolor_other']]\n",
    "y_train = df_one_hot_train['gender']\n",
    "\n",
    "X_test = df_one_hot_test.loc[:, ['z_score_heights', 'eyecolor_blue', 'eyecolor_brown', 'eyecolor_green', 'eyecolor_hazel', 'eyecolor_other']]\n",
    "y_test = df_one_hot_test['gender']\n",
    "\n",
    "clf = MLPClassifier(hidden_layer_sizes = (10,2), max_iter = 100, alpha = 0.0001,\n",
    "                   activation = 'logistic', solver = 'lbfgs', verbose = 10, \n",
    "                   random_state=42, tol=0.000000001)\n",
    "\n",
    "clf.fit(X_train, y_train)\n",
    "\n",
    "y_train_pred = clf.predict(X_train)\n",
    "print(accuracy_score(y_train, y_train_pred))\n",
    "\n",
    "y_test_pred = clf.predict(X_test)\n",
    "print(accuracy_score(y_test, y_test_pred))"
   ]
  },
  {
   "cell_type": "markdown",
   "metadata": {
    "colab_type": "text",
    "id": "YAnuY8Sv1DoO"
   },
   "source": [
    "###ANSWER: \n",
    "Train Set: 0.8503144654088051\n",
    "\n",
    "Test Set: 0.8592964824120602"
   ]
  },
  {
   "cell_type": "markdown",
   "metadata": {
    "colab_type": "text",
    "id": "Fh9qwu_9rePJ"
   },
   "source": [
    "***\n",
    "### Question 5 ###\n",
    "Repeat question 4 for exercise hours + eye color"
   ]
  },
  {
   "cell_type": "code",
   "execution_count": 111,
   "metadata": {
    "colab": {
     "base_uri": "https://localhost:8080/",
     "height": 51
    },
    "colab_type": "code",
    "id": "JAgHz_r-1EMR",
    "outputId": "5d69059d-43d2-4c6f-ef36-a8d692815c13"
   },
   "outputs": [
    {
     "name": "stdout",
     "output_type": "stream",
     "text": [
      "0.5937106918238994\n",
      "0.5778894472361809\n"
     ]
    }
   ],
   "source": [
    "# YOUR CODE HERE\n",
    "from scipy import stats\n",
    "\n",
    "df_train['z_score_exercisehours'] = stats.zscore(df_train['exercisehours'])\n",
    "df_test['z_score_exercisehours'] = stats.zscore(df_test['exercisehours'])\n",
    "\n",
    "df_one_hot_train = pd.get_dummies(df_train, columns = ['eyecolor'])\n",
    "df_one_hot_test = pd.get_dummies(df_test, columns = ['eyecolor'])\n",
    "\n",
    "\n",
    "X_train = df_one_hot_train.loc[:, ['z_score_exercisehours', 'eyecolor_blue', 'eyecolor_brown', 'eyecolor_green', 'eyecolor_hazel', 'eyecolor_other']]\n",
    "y_train = df_one_hot_train['gender']\n",
    "\n",
    "X_test = df_one_hot_test.loc[:, ['z_score_exercisehours', 'eyecolor_blue', 'eyecolor_brown', 'eyecolor_green', 'eyecolor_hazel', 'eyecolor_other']]\n",
    "y_test = df_one_hot_test['gender']\n",
    "\n",
    "clf = MLPClassifier(hidden_layer_sizes = (10,2), max_iter = 100, alpha = 0.0001,\n",
    "                   activation = 'logistic', solver = 'lbfgs', verbose = 10, \n",
    "                   random_state=42, tol=0.000000001)\n",
    "\n",
    "clf.fit(X_train, y_train)\n",
    "\n",
    "y_train_pred = clf.predict(X_train)\n",
    "print(accuracy_score(y_train, y_train_pred))\n",
    "\n",
    "y_test_pred = clf.predict(X_test)\n",
    "print(accuracy_score(y_test, y_test_pred))"
   ]
  },
  {
   "cell_type": "markdown",
   "metadata": {
    "colab_type": "text",
    "id": "ZlDfGvy61EMS"
   },
   "source": [
    "###ANSWER: \n",
    "Train Set: 0.5937106918238994\n",
    "\n",
    "Test Set: 0.5778894472361809"
   ]
  },
  {
   "cell_type": "markdown",
   "metadata": {
    "colab_type": "text",
    "id": "JYVuaPWgrePL"
   },
   "source": [
    "***\n",
    "### Question 6###\n",
    "Combine the features from question 3, 4, and 5 (year, eyecolor, exercise, height, exercise hours). For numeric features use the best normalization method from questions 4 and 5."
   ]
  },
  {
   "cell_type": "markdown",
   "metadata": {
    "colab_type": "text",
    "id": "1iAiFhlFrePM"
   },
   "source": [
    "**Question 6.a**  \n",
    "What was the NN accuracy on the test set using the single 10 node hidden layer?"
   ]
  },
  {
   "cell_type": "code",
   "execution_count": 120,
   "metadata": {
    "colab": {
     "base_uri": "https://localhost:8080/",
     "height": 51
    },
    "colab_type": "code",
    "id": "QuLJ6sTB1FfN",
    "outputId": "77f01198-c2ac-4d00-84ed-3f6ad53f517e"
   },
   "outputs": [
    {
     "name": "stdout",
     "output_type": "stream",
     "text": [
      "0.8660377358490566\n",
      "0.8793969849246231\n"
     ]
    }
   ],
   "source": [
    "# YOUR CODE HERE\n",
    "from sklearn.neural_network import MLPClassifier\n",
    "from sklearn.metrics import accuracy_score\n",
    "\n",
    "df_train['year'].replace('first\"', 'first', inplace = True)\n",
    "df_test['year'].replace('first\"', 'first', inplace = True)\n",
    "\n",
    "df_train['z_score_heights'] = stats.zscore(df_train['height'])\n",
    "df_test['z_score_heights'] = stats.zscore(df_test['height'])\n",
    "df_train['z_score_exercisehours'] = stats.zscore(df_train['exercisehours'])\n",
    "df_test['z_score_exercisehours'] = stats.zscore(df_test['exercisehours'])\n",
    "\n",
    "df_one_hot_train = pd.get_dummies(df_train, columns = ['year', 'eyecolor', 'exercise'])\n",
    "df_one_hot_test = pd.get_dummies(df_test, columns = ['year', 'eyecolor', 'exercise'])\n",
    "                                                \n",
    "X_train = df_one_hot_train[['z_score_heights', 'z_score_exercisehours', 'eyecolor_blue', 'eyecolor_brown', 'eyecolor_green', 'eyecolor_hazel', 'eyecolor_other', 'year_first', 'year_second', 'year_third', 'year_fourth', 'year_other', 'exercise_Yes', 'exercise_No']]\n",
    "y_train = df_one_hot_train['gender']\n",
    "\n",
    "X_test = df_one_hot_test[['z_score_heights', 'z_score_exercisehours', 'eyecolor_blue', 'eyecolor_brown', 'eyecolor_green', 'eyecolor_hazel', 'eyecolor_other', 'year_first', 'year_second', 'year_third', 'year_fourth', 'year_other', 'exercise_Yes', 'exercise_No']]\n",
    "y_test = df_one_hot_test['gender']              \n",
    "                                                \n",
    "clf = MLPClassifier(hidden_layer_sizes = (10,2), max_iter = 100, alpha = 0.0001,\n",
    "                   activation = 'logistic', solver = 'lbfgs', verbose = 10, \n",
    "                   random_state=42, tol=0.000000001)\n",
    "\n",
    "clf.fit(X_train, y_train)\n",
    "\n",
    "y_train_pred = clf.predict(X_train)\n",
    "print(accuracy_score(y_train, y_train_pred))\n",
    "\n",
    "y_test_pred = clf.predict(X_test)\n",
    "print(accuracy_score(y_test, y_test_pred))                                                "
   ]
  },
  {
   "cell_type": "markdown",
   "metadata": {
    "colab_type": "text",
    "id": "1foS74O01FfP"
   },
   "source": [
    "###ANSWER: \n",
    "Test Set: 0.8793969849246231"
   ]
  },
  {
   "cell_type": "markdown",
   "metadata": {
    "colab_type": "text",
    "id": "Jusc-kofrePP"
   },
   "source": [
    "***\n",
    "### Question 7- Bonus (10%)###\n",
    "Can you improve your test set prediction accuracy by 5% or more?  \n",
    "\n",
    "See how close to that milestone of improvement you can get by modifying the tuning parameters of  Neural Networks (the number of hidden layers, number of hidden nodes in each layer, the learning rate aka mu). A great guide to tuning parameters is explained in this guide: http://www.csie.ntu.edu.tw/~cjlin/papers/guide/guide.pdf. \n",
    "\n",
    "While the guide is specific to SVM and in particular the C and gamma parameters of the RBF kernel, the method applies to generally to any ML technique with tuning parameters.\n",
    "\n",
    "Please also write a paragraph in a markdown cell below with an explanation of your approach and evaluation metrics.\n"
   ]
  },
  {
   "cell_type": "code",
   "execution_count": 0,
   "metadata": {
    "colab": {},
    "colab_type": "code",
    "id": "qvpoUdeq1GsX"
   },
   "outputs": [],
   "source": [
    "# YOUR CODE HERE"
   ]
  },
  {
   "cell_type": "markdown",
   "metadata": {
    "colab_type": "text",
    "id": "2rFY8D4Q1GsZ"
   },
   "source": [
    "###ANSWER: "
   ]
  }
 ],
 "metadata": {
  "colab": {
   "collapsed_sections": [
    "GTO2KMti07__",
    "YAnuY8Sv1DoO",
    "1foS74O01FfP",
    "2rFY8D4Q1GsZ"
   ],
   "name": "Martin_Daniel_Lab4",
   "provenance": []
  },
  "kernelspec": {
   "display_name": "Python 3",
   "language": "python",
   "name": "python3"
  },
  "language_info": {
   "codemirror_mode": {
    "name": "ipython",
    "version": 3
   },
   "file_extension": ".py",
   "mimetype": "text/x-python",
   "name": "python",
   "nbconvert_exporter": "python",
   "pygments_lexer": "ipython3",
   "version": "3.7.3"
  }
 },
 "nbformat": 4,
 "nbformat_minor": 1
}
