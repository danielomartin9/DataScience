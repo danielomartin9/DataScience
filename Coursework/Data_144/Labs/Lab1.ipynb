{
 "cells": [
  {
   "cell_type": "markdown",
   "metadata": {
    "colab_type": "text",
    "id": "vKduyi9dItO4"
   },
   "source": [
    "Before you turn this problem in, make sure everything runs as expected. First, **restart the kernel** (in the menubar, select Kernel$\\rightarrow$Restart) and then **run all cells** (in the menubar, select Cell$\\rightarrow$Run All).\n",
    "\n",
    "Make sure you fill in any place that says `YOUR CODE HERE` or \"YOUR ANSWER HERE\", as well as your name and collaborators below:"
   ]
  },
  {
   "cell_type": "code",
   "execution_count": 0,
   "metadata": {
    "colab": {},
    "colab_type": "code",
    "id": "FsEVbU41ItO7"
   },
   "outputs": [],
   "source": [
    "NAME = \"Daniel Martin\"\n",
    "COLLABORATORS = \"\""
   ]
  },
  {
   "cell_type": "markdown",
   "metadata": {
    "colab_type": "text",
    "id": "M7sDljEMItPA"
   },
   "source": [
    "---"
   ]
  },
  {
   "cell_type": "markdown",
   "metadata": {
    "colab_type": "text",
    "deletable": false,
    "editable": false,
    "id": "LJNmSc7sItPB",
    "nbgrader": {
     "checksum": "720281502b9b9c7f8930d61c682cb061",
     "grade": false,
     "grade_id": "cell-731531e531b99c39",
     "locked": true,
     "schema_version": 1,
     "solution": false
    }
   },
   "source": [
    "# DMA Assignment 1 - Data Preprocessing\n",
    "\n",
    "Data transformations are useful for preparing a dataset for answering a particular question. Part of this process involves generating features from the dataset you find relevant to the question at hand. For this lab, we will be using a Yelp reviews dataset. Each row in the dataset depicts one review along with the features of the review (the reviewer, the review text, etc.). The goal of this lab is to convert this reviews dataset into a reviewers dataset by creating different features of each reviewer.\n",
    "\n",
    "The submission for this assignment should be done *individually*, although you are allowed to work in groups of 2.\n",
    "\n",
    "# Environment Setup\n",
    "Run this cell to setup your environment."
   ]
  },
  {
   "cell_type": "code",
   "execution_count": 3,
   "metadata": {
    "colab": {
     "base_uri": "https://localhost:8080/",
     "height": 238
    },
    "colab_type": "code",
    "deletable": false,
    "editable": false,
    "id": "LIH96tFzItPC",
    "nbgrader": {
     "checksum": "c4f9a2a35aae087d70dccad8514e5e4f",
     "grade": false,
     "grade_id": "cell-88d067a4407f02bf",
     "locked": true,
     "schema_version": 1,
     "solution": false
    },
    "outputId": "48759707-3cc5-41a5-f027-2bcd143e0769"
   },
   "outputs": [
    {
     "name": "stdout",
     "output_type": "stream",
     "text": [
      "Libraries Imported\n",
      "/bin/sh: wget: command not found\n",
      "Dataset Downloaded: yelp_reviews.csv\n"
     ]
    },
    {
     "ename": "FileNotFoundError",
     "evalue": "[Errno 2] File b'yelp_reviews.csv' does not exist: b'yelp_reviews.csv'",
     "output_type": "error",
     "traceback": [
      "\u001b[0;31m---------------------------------------------------------------------------\u001b[0m",
      "\u001b[0;31mFileNotFoundError\u001b[0m                         Traceback (most recent call last)",
      "\u001b[0;32m<ipython-input-3-98134d8b7ac1>\u001b[0m in \u001b[0;36m<module>\u001b[0;34m\u001b[0m\n\u001b[1;32m     11\u001b[0m \u001b[0;31m#!unzip yelp_reviews.zip\u001b[0m\u001b[0;34m\u001b[0m\u001b[0;34m\u001b[0m\u001b[0;34m\u001b[0m\u001b[0m\n\u001b[1;32m     12\u001b[0m \u001b[0mprint\u001b[0m\u001b[0;34m(\u001b[0m\u001b[0;34m'Dataset Downloaded: yelp_reviews.csv'\u001b[0m\u001b[0;34m)\u001b[0m\u001b[0;34m\u001b[0m\u001b[0;34m\u001b[0m\u001b[0m\n\u001b[0;32m---> 13\u001b[0;31m \u001b[0mdf\u001b[0m\u001b[0;34m=\u001b[0m\u001b[0mpd\u001b[0m\u001b[0;34m.\u001b[0m\u001b[0mread_csv\u001b[0m\u001b[0;34m(\u001b[0m\u001b[0;34m'yelp_reviews.csv'\u001b[0m\u001b[0;34m)\u001b[0m\u001b[0;34m\u001b[0m\u001b[0;34m\u001b[0m\u001b[0m\n\u001b[0m\u001b[1;32m     14\u001b[0m \u001b[0mprint\u001b[0m\u001b[0;34m(\u001b[0m\u001b[0mdf\u001b[0m\u001b[0;34m.\u001b[0m\u001b[0mhead\u001b[0m\u001b[0;34m(\u001b[0m\u001b[0;34m)\u001b[0m\u001b[0;34m)\u001b[0m\u001b[0;34m\u001b[0m\u001b[0;34m\u001b[0m\u001b[0m\n\u001b[1;32m     15\u001b[0m \u001b[0;34m\u001b[0m\u001b[0m\n",
      "\u001b[0;32m/Applications/anaconda3/lib/python3.7/site-packages/pandas/io/parsers.py\u001b[0m in \u001b[0;36mparser_f\u001b[0;34m(filepath_or_buffer, sep, delimiter, header, names, index_col, usecols, squeeze, prefix, mangle_dupe_cols, dtype, engine, converters, true_values, false_values, skipinitialspace, skiprows, skipfooter, nrows, na_values, keep_default_na, na_filter, verbose, skip_blank_lines, parse_dates, infer_datetime_format, keep_date_col, date_parser, dayfirst, iterator, chunksize, compression, thousands, decimal, lineterminator, quotechar, quoting, doublequote, escapechar, comment, encoding, dialect, tupleize_cols, error_bad_lines, warn_bad_lines, delim_whitespace, low_memory, memory_map, float_precision)\u001b[0m\n\u001b[1;32m    700\u001b[0m                     skip_blank_lines=skip_blank_lines)\n\u001b[1;32m    701\u001b[0m \u001b[0;34m\u001b[0m\u001b[0m\n\u001b[0;32m--> 702\u001b[0;31m         \u001b[0;32mreturn\u001b[0m \u001b[0m_read\u001b[0m\u001b[0;34m(\u001b[0m\u001b[0mfilepath_or_buffer\u001b[0m\u001b[0;34m,\u001b[0m \u001b[0mkwds\u001b[0m\u001b[0;34m)\u001b[0m\u001b[0;34m\u001b[0m\u001b[0;34m\u001b[0m\u001b[0m\n\u001b[0m\u001b[1;32m    703\u001b[0m \u001b[0;34m\u001b[0m\u001b[0m\n\u001b[1;32m    704\u001b[0m     \u001b[0mparser_f\u001b[0m\u001b[0;34m.\u001b[0m\u001b[0m__name__\u001b[0m \u001b[0;34m=\u001b[0m \u001b[0mname\u001b[0m\u001b[0;34m\u001b[0m\u001b[0;34m\u001b[0m\u001b[0m\n",
      "\u001b[0;32m/Applications/anaconda3/lib/python3.7/site-packages/pandas/io/parsers.py\u001b[0m in \u001b[0;36m_read\u001b[0;34m(filepath_or_buffer, kwds)\u001b[0m\n\u001b[1;32m    427\u001b[0m \u001b[0;34m\u001b[0m\u001b[0m\n\u001b[1;32m    428\u001b[0m     \u001b[0;31m# Create the parser.\u001b[0m\u001b[0;34m\u001b[0m\u001b[0;34m\u001b[0m\u001b[0;34m\u001b[0m\u001b[0m\n\u001b[0;32m--> 429\u001b[0;31m     \u001b[0mparser\u001b[0m \u001b[0;34m=\u001b[0m \u001b[0mTextFileReader\u001b[0m\u001b[0;34m(\u001b[0m\u001b[0mfilepath_or_buffer\u001b[0m\u001b[0;34m,\u001b[0m \u001b[0;34m**\u001b[0m\u001b[0mkwds\u001b[0m\u001b[0;34m)\u001b[0m\u001b[0;34m\u001b[0m\u001b[0;34m\u001b[0m\u001b[0m\n\u001b[0m\u001b[1;32m    430\u001b[0m \u001b[0;34m\u001b[0m\u001b[0m\n\u001b[1;32m    431\u001b[0m     \u001b[0;32mif\u001b[0m \u001b[0mchunksize\u001b[0m \u001b[0;32mor\u001b[0m \u001b[0miterator\u001b[0m\u001b[0;34m:\u001b[0m\u001b[0;34m\u001b[0m\u001b[0;34m\u001b[0m\u001b[0m\n",
      "\u001b[0;32m/Applications/anaconda3/lib/python3.7/site-packages/pandas/io/parsers.py\u001b[0m in \u001b[0;36m__init__\u001b[0;34m(self, f, engine, **kwds)\u001b[0m\n\u001b[1;32m    893\u001b[0m             \u001b[0mself\u001b[0m\u001b[0;34m.\u001b[0m\u001b[0moptions\u001b[0m\u001b[0;34m[\u001b[0m\u001b[0;34m'has_index_names'\u001b[0m\u001b[0;34m]\u001b[0m \u001b[0;34m=\u001b[0m \u001b[0mkwds\u001b[0m\u001b[0;34m[\u001b[0m\u001b[0;34m'has_index_names'\u001b[0m\u001b[0;34m]\u001b[0m\u001b[0;34m\u001b[0m\u001b[0;34m\u001b[0m\u001b[0m\n\u001b[1;32m    894\u001b[0m \u001b[0;34m\u001b[0m\u001b[0m\n\u001b[0;32m--> 895\u001b[0;31m         \u001b[0mself\u001b[0m\u001b[0;34m.\u001b[0m\u001b[0m_make_engine\u001b[0m\u001b[0;34m(\u001b[0m\u001b[0mself\u001b[0m\u001b[0;34m.\u001b[0m\u001b[0mengine\u001b[0m\u001b[0;34m)\u001b[0m\u001b[0;34m\u001b[0m\u001b[0;34m\u001b[0m\u001b[0m\n\u001b[0m\u001b[1;32m    896\u001b[0m \u001b[0;34m\u001b[0m\u001b[0m\n\u001b[1;32m    897\u001b[0m     \u001b[0;32mdef\u001b[0m \u001b[0mclose\u001b[0m\u001b[0;34m(\u001b[0m\u001b[0mself\u001b[0m\u001b[0;34m)\u001b[0m\u001b[0;34m:\u001b[0m\u001b[0;34m\u001b[0m\u001b[0;34m\u001b[0m\u001b[0m\n",
      "\u001b[0;32m/Applications/anaconda3/lib/python3.7/site-packages/pandas/io/parsers.py\u001b[0m in \u001b[0;36m_make_engine\u001b[0;34m(self, engine)\u001b[0m\n\u001b[1;32m   1120\u001b[0m     \u001b[0;32mdef\u001b[0m \u001b[0m_make_engine\u001b[0m\u001b[0;34m(\u001b[0m\u001b[0mself\u001b[0m\u001b[0;34m,\u001b[0m \u001b[0mengine\u001b[0m\u001b[0;34m=\u001b[0m\u001b[0;34m'c'\u001b[0m\u001b[0;34m)\u001b[0m\u001b[0;34m:\u001b[0m\u001b[0;34m\u001b[0m\u001b[0;34m\u001b[0m\u001b[0m\n\u001b[1;32m   1121\u001b[0m         \u001b[0;32mif\u001b[0m \u001b[0mengine\u001b[0m \u001b[0;34m==\u001b[0m \u001b[0;34m'c'\u001b[0m\u001b[0;34m:\u001b[0m\u001b[0;34m\u001b[0m\u001b[0;34m\u001b[0m\u001b[0m\n\u001b[0;32m-> 1122\u001b[0;31m             \u001b[0mself\u001b[0m\u001b[0;34m.\u001b[0m\u001b[0m_engine\u001b[0m \u001b[0;34m=\u001b[0m \u001b[0mCParserWrapper\u001b[0m\u001b[0;34m(\u001b[0m\u001b[0mself\u001b[0m\u001b[0;34m.\u001b[0m\u001b[0mf\u001b[0m\u001b[0;34m,\u001b[0m \u001b[0;34m**\u001b[0m\u001b[0mself\u001b[0m\u001b[0;34m.\u001b[0m\u001b[0moptions\u001b[0m\u001b[0;34m)\u001b[0m\u001b[0;34m\u001b[0m\u001b[0;34m\u001b[0m\u001b[0m\n\u001b[0m\u001b[1;32m   1123\u001b[0m         \u001b[0;32melse\u001b[0m\u001b[0;34m:\u001b[0m\u001b[0;34m\u001b[0m\u001b[0;34m\u001b[0m\u001b[0m\n\u001b[1;32m   1124\u001b[0m             \u001b[0;32mif\u001b[0m \u001b[0mengine\u001b[0m \u001b[0;34m==\u001b[0m \u001b[0;34m'python'\u001b[0m\u001b[0;34m:\u001b[0m\u001b[0;34m\u001b[0m\u001b[0;34m\u001b[0m\u001b[0m\n",
      "\u001b[0;32m/Applications/anaconda3/lib/python3.7/site-packages/pandas/io/parsers.py\u001b[0m in \u001b[0;36m__init__\u001b[0;34m(self, src, **kwds)\u001b[0m\n\u001b[1;32m   1851\u001b[0m         \u001b[0mkwds\u001b[0m\u001b[0;34m[\u001b[0m\u001b[0;34m'usecols'\u001b[0m\u001b[0;34m]\u001b[0m \u001b[0;34m=\u001b[0m \u001b[0mself\u001b[0m\u001b[0;34m.\u001b[0m\u001b[0musecols\u001b[0m\u001b[0;34m\u001b[0m\u001b[0;34m\u001b[0m\u001b[0m\n\u001b[1;32m   1852\u001b[0m \u001b[0;34m\u001b[0m\u001b[0m\n\u001b[0;32m-> 1853\u001b[0;31m         \u001b[0mself\u001b[0m\u001b[0;34m.\u001b[0m\u001b[0m_reader\u001b[0m \u001b[0;34m=\u001b[0m \u001b[0mparsers\u001b[0m\u001b[0;34m.\u001b[0m\u001b[0mTextReader\u001b[0m\u001b[0;34m(\u001b[0m\u001b[0msrc\u001b[0m\u001b[0;34m,\u001b[0m \u001b[0;34m**\u001b[0m\u001b[0mkwds\u001b[0m\u001b[0;34m)\u001b[0m\u001b[0;34m\u001b[0m\u001b[0;34m\u001b[0m\u001b[0m\n\u001b[0m\u001b[1;32m   1854\u001b[0m         \u001b[0mself\u001b[0m\u001b[0;34m.\u001b[0m\u001b[0munnamed_cols\u001b[0m \u001b[0;34m=\u001b[0m \u001b[0mself\u001b[0m\u001b[0;34m.\u001b[0m\u001b[0m_reader\u001b[0m\u001b[0;34m.\u001b[0m\u001b[0munnamed_cols\u001b[0m\u001b[0;34m\u001b[0m\u001b[0;34m\u001b[0m\u001b[0m\n\u001b[1;32m   1855\u001b[0m \u001b[0;34m\u001b[0m\u001b[0m\n",
      "\u001b[0;32mpandas/_libs/parsers.pyx\u001b[0m in \u001b[0;36mpandas._libs.parsers.TextReader.__cinit__\u001b[0;34m()\u001b[0m\n",
      "\u001b[0;32mpandas/_libs/parsers.pyx\u001b[0m in \u001b[0;36mpandas._libs.parsers.TextReader._setup_parser_source\u001b[0;34m()\u001b[0m\n",
      "\u001b[0;31mFileNotFoundError\u001b[0m: [Errno 2] File b'yelp_reviews.csv' does not exist: b'yelp_reviews.csv'"
     ]
    }
   ],
   "source": [
    "# Importing libraries\n",
    "import pandas as pd\n",
    "import math\n",
    "import numpy as np\n",
    "import os\n",
    "print('Libraries Imported')\n",
    "\n",
    "#DOWNLOADING DATASET IF NOT PRESENT\n",
    "!wget -nc http://people.ischool.berkeley.edu/~zp/course_datasets/yelp_reviews.csv\n",
    "\n",
    "#!unzip yelp_reviews.zip\n",
    "print('Dataset Downloaded: yelp_reviews.csv')\n",
    "df=pd.read_csv('yelp_reviews.csv')\n",
    "print(df.head())\n",
    "\n",
    "print('Setup Complete')"
   ]
  },
  {
   "cell_type": "markdown",
   "metadata": {
    "colab_type": "text",
    "deletable": false,
    "editable": false,
    "id": "esN8qRHkItPG",
    "nbgrader": {
     "checksum": "51be56b978a555a682bd1a02d85a7434",
     "grade": false,
     "grade_id": "cell-63034c0f0a81dc85",
     "locked": true,
     "schema_version": 1,
     "solution": false
    }
   },
   "source": [
    "**Q1: What was the highest number of reviews for any one business_id?**\n",
    "- For this task, we will need to group the reviews dataset by business_id. This will aggregate data for each business, which is what we need. This can be done using [groupby](https://pandas.pydata.org/pandas-docs/stable/generated/pandas.DataFrame.groupby.html).\n",
    "    - ```yelp_businesses = yelp_dataset.groupby('business_id').size() ```\n",
    "    - The .size() counts the number of instances for each business_id, which gives us the number of reviews as each instance in this dataset is a review.\n",
    "    - The following command will sort this list, after which you can take note of the highest value: ```sorted_yelp_businesses = yelp_businesses.sort(ascending=False,inplace=False)```\n",
    "    - This approach allows you to see the data structure being used in the sort. A quicker approach to getting the max would be to use the max function: ```max(yelp_businesses)```\n",
    "<br>\n",
    "<br>"
   ]
  },
  {
   "cell_type": "code",
   "execution_count": 0,
   "metadata": {
    "colab": {},
    "colab_type": "code",
    "deletable": false,
    "id": "AbKk0rohItPG",
    "nbgrader": {
     "checksum": "a4b3a58ab839a93b83e514e1db0c11e3",
     "grade": false,
     "grade_id": "cell-b9fd95d084732ea0",
     "locked": false,
     "schema_version": 1,
     "solution": true
    }
   },
   "outputs": [],
   "source": [
    "#Make sure you return the answer value in this function\n",
    "def q1(df):\n",
    "    \n",
    "    # YOUR CODE HERE\n",
    "    yelp_businesses = df.groupby('business_id').size()\n",
    "    return max(yelp_businesses)"
   ]
  },
  {
   "cell_type": "code",
   "execution_count": 5,
   "metadata": {
    "colab": {
     "base_uri": "https://localhost:8080/",
     "height": 34
    },
    "colab_type": "code",
    "deletable": false,
    "editable": false,
    "id": "rzD83og_ItPJ",
    "nbgrader": {
     "checksum": "e989434a5e20d93eb1500308f7ecf163",
     "grade": true,
     "grade_id": "cell-1d1402069f0f336b",
     "locked": true,
     "points": 0.5,
     "schema_version": 1,
     "solution": false
    },
    "outputId": "1dc70b4a-09e5-49de-bc5d-f3796ea0ed7d"
   },
   "outputs": [
    {
     "name": "stdout",
     "output_type": "stream",
     "text": [
      "4128\n"
     ]
    }
   ],
   "source": [
    "#This is an autograded cell, do not edit\n",
    "print(q1(df))\n"
   ]
  },
  {
   "cell_type": "markdown",
   "metadata": {
    "colab_type": "text",
    "deletable": false,
    "editable": false,
    "id": "fZ_McPZ-ItPL",
    "nbgrader": {
     "checksum": "6cde0278ab840df1fb90b16ca8c14a8a",
     "grade": false,
     "grade_id": "cell-c998b50208612779",
     "locked": true,
     "schema_version": 1,
     "solution": false
    }
   },
   "source": [
    "**Q2: What was the average number of reviews for a business_id?**"
   ]
  },
  {
   "cell_type": "code",
   "execution_count": 0,
   "metadata": {
    "colab": {},
    "colab_type": "code",
    "deletable": false,
    "id": "0V-m-GMAItPM",
    "nbgrader": {
     "checksum": "6ff0153f15cd01aa6d958646c22cd2eb",
     "grade": false,
     "grade_id": "cell-bda529e7277d1978",
     "locked": false,
     "schema_version": 1,
     "solution": true
    }
   },
   "outputs": [],
   "source": [
    "#Make sure you return the answer value in this function\n",
    "def q2(df):\n",
    "    \n",
    "    # YOUR CODE HERE\n",
    "    return df.groupby('business_id').size().mean()"
   ]
  },
  {
   "cell_type": "code",
   "execution_count": 7,
   "metadata": {
    "colab": {
     "base_uri": "https://localhost:8080/",
     "height": 34
    },
    "colab_type": "code",
    "deletable": false,
    "editable": false,
    "id": "V_9IXDmvItPO",
    "nbgrader": {
     "checksum": "72d8375074f6e5eb294215044c460696",
     "grade": true,
     "grade_id": "cell-febce0a51b6da9da",
     "locked": true,
     "points": 0.5,
     "schema_version": 1,
     "solution": false
    },
    "outputId": "6602ca61-3f53-4994-86f3-75434f0bad54"
   },
   "outputs": [
    {
     "name": "stdout",
     "output_type": "stream",
     "text": [
      "12.63413902163123\n"
     ]
    }
   ],
   "source": [
    "#This is an autograded cell, do not edit\n",
    "print(q2(df))\n"
   ]
  },
  {
   "cell_type": "markdown",
   "metadata": {
    "colab_type": "text",
    "deletable": false,
    "editable": false,
    "id": "T9bRVaYZItPQ",
    "nbgrader": {
     "checksum": "d6874779b6c6d2e361fc9891455b6960",
     "grade": false,
     "grade_id": "cell-a568a611d600caa2",
     "locked": true,
     "schema_version": 1,
     "solution": false
    }
   },
   "source": [
    "**Q3: What is the average number of reviews per reviewer?**"
   ]
  },
  {
   "cell_type": "code",
   "execution_count": 0,
   "metadata": {
    "colab": {},
    "colab_type": "code",
    "deletable": false,
    "id": "J58jfsKTItPQ",
    "nbgrader": {
     "checksum": "369c594937118aa98e0aea635c345943",
     "grade": false,
     "grade_id": "cell-f92e05c4b7a28174",
     "locked": false,
     "schema_version": 1,
     "solution": true
    }
   },
   "outputs": [],
   "source": [
    "#Make sure you return the answer value in this function\n",
    "def q3(df):\n",
    "    \n",
    "    # YOUR CODE HERE\n",
    "    return df.groupby('user_id').size().mean()"
   ]
  },
  {
   "cell_type": "code",
   "execution_count": 11,
   "metadata": {
    "colab": {
     "base_uri": "https://localhost:8080/",
     "height": 34
    },
    "colab_type": "code",
    "deletable": false,
    "editable": false,
    "id": "Wx5wcx6pItPT",
    "nbgrader": {
     "checksum": "7ed7ddd4ec46674bdd89445dc1034175",
     "grade": true,
     "grade_id": "cell-d76279e8e7d4a79f",
     "locked": true,
     "points": 0.5,
     "schema_version": 1,
     "solution": false
    },
    "outputId": "7b021ada-b753-49c1-de2f-9474992a675b"
   },
   "outputs": [
    {
     "name": "stdout",
     "output_type": "stream",
     "text": [
      "3.188511934933203\n"
     ]
    }
   ],
   "source": [
    "#This is an autograded cell, do not edit\n",
    "print(q3(df))\n"
   ]
  },
  {
   "cell_type": "markdown",
   "metadata": {
    "colab_type": "text",
    "deletable": false,
    "editable": false,
    "id": "oa0doTGiItPW",
    "nbgrader": {
     "checksum": "e8d5fd42acde59c3bd19cc07db76ac1c",
     "grade": false,
     "grade_id": "cell-c76f8dc8692f2472",
     "locked": true,
     "schema_version": 1,
     "solution": false
    }
   },
   "source": [
    "**Q4: Calculate the total cool votes per reviewer, then average these totals across reviewers.**"
   ]
  },
  {
   "cell_type": "code",
   "execution_count": 0,
   "metadata": {
    "colab": {},
    "colab_type": "code",
    "deletable": false,
    "id": "sWuWYjrSItPX",
    "nbgrader": {
     "checksum": "2db144055be1d1f506af2bbdcf924e58",
     "grade": false,
     "grade_id": "cell-f06192fbabe75195",
     "locked": false,
     "schema_version": 1,
     "solution": true
    }
   },
   "outputs": [],
   "source": [
    "#Make sure you return the answer value in this function\n",
    "def q4(df):\n",
    "    \n",
    "    # YOUR CODE HERE\n",
    "    cool_votes_per = df.groupby('user_id')['cool_votes'].sum().mean()\n",
    "    return cool_votes_per"
   ]
  },
  {
   "cell_type": "code",
   "execution_count": 15,
   "metadata": {
    "colab": {
     "base_uri": "https://localhost:8080/",
     "height": 34
    },
    "colab_type": "code",
    "deletable": false,
    "editable": false,
    "id": "z3o9lMo-ItPZ",
    "nbgrader": {
     "checksum": "70b555da34836694349c4923beb1950b",
     "grade": true,
     "grade_id": "cell-cabbe00e6fee304e",
     "locked": true,
     "points": 0.5,
     "schema_version": 1,
     "solution": false
    },
    "outputId": "fb8e204e-1587-45cb-a81b-d35de2841d48"
   },
   "outputs": [
    {
     "name": "stdout",
     "output_type": "stream",
     "text": [
      "1.2417282785380945\n"
     ]
    }
   ],
   "source": [
    "#This is an autograded cell, do not edit\n",
    "print(q4(df))\n"
   ]
  },
  {
   "cell_type": "markdown",
   "metadata": {
    "colab_type": "text",
    "deletable": false,
    "editable": false,
    "id": "fDD4Lh8fItPb",
    "nbgrader": {
     "checksum": "1e80dfdd5311c1dd540fafe446ad10c3",
     "grade": false,
     "grade_id": "cell-9e278b8cd31ace62",
     "locked": true,
     "schema_version": 1,
     "solution": false
    }
   },
   "source": [
    "**Q5: Calculate the total funny votes per reviewer, then average these totals across reviewers.**"
   ]
  },
  {
   "cell_type": "code",
   "execution_count": 0,
   "metadata": {
    "colab": {},
    "colab_type": "code",
    "deletable": false,
    "id": "KiVt8qB7ItPc",
    "nbgrader": {
     "checksum": "cb6393f6479792516d064ab368490d90",
     "grade": false,
     "grade_id": "cell-93635f0a6f297df9",
     "locked": false,
     "schema_version": 1,
     "solution": true
    }
   },
   "outputs": [],
   "source": [
    "#Make sure you return the answer value in this function\n",
    "def q5(df):\n",
    "    \n",
    "    # YOUR CODE HERE\n",
    "    return df.groupby('user_id')['funny_votes'].sum().mean()"
   ]
  },
  {
   "cell_type": "code",
   "execution_count": 17,
   "metadata": {
    "colab": {
     "base_uri": "https://localhost:8080/",
     "height": 34
    },
    "colab_type": "code",
    "deletable": false,
    "editable": false,
    "id": "bWzUljWAItPe",
    "nbgrader": {
     "checksum": "d3be5fcefa0f798be6504de7f8f1b344",
     "grade": true,
     "grade_id": "cell-4c41413214d2d4f1",
     "locked": true,
     "points": 0.5,
     "schema_version": 1,
     "solution": false
    },
    "outputId": "13009cdc-96b1-45b7-ca71-47b9b3b84240"
   },
   "outputs": [
    {
     "name": "stdout",
     "output_type": "stream",
     "text": [
      "1.10126486404605\n"
     ]
    }
   ],
   "source": [
    "#This is an autograded cell, do not edit\n",
    "print(q5(df))\n"
   ]
  },
  {
   "cell_type": "markdown",
   "metadata": {
    "colab_type": "text",
    "deletable": false,
    "editable": false,
    "id": "qx0rBKw9ItPg",
    "nbgrader": {
     "checksum": "e62dd2a28323b8d943f63dda321c3aea",
     "grade": false,
     "grade_id": "cell-9554ed7bdee76fb1",
     "locked": true,
     "schema_version": 1,
     "solution": false
    }
   },
   "source": [
    "**Q6: Calculate the total useful votes per reviewer, then average these totals across reviewers.**"
   ]
  },
  {
   "cell_type": "code",
   "execution_count": 0,
   "metadata": {
    "colab": {},
    "colab_type": "code",
    "deletable": false,
    "id": "KIYaRM3uItPh",
    "nbgrader": {
     "checksum": "4375ea8e9efa96b5ea65a2f4f553faad",
     "grade": false,
     "grade_id": "cell-2cebd87b7f8b37d1",
     "locked": false,
     "schema_version": 1,
     "solution": true
    }
   },
   "outputs": [],
   "source": [
    "#Make sure you return the answer in this function\n",
    "def q6(df):\n",
    "    \n",
    "    # YOUR CODE HERE\n",
    "    return df.groupby('user_id')['useful_votes'].sum().mean()"
   ]
  },
  {
   "cell_type": "code",
   "execution_count": 23,
   "metadata": {
    "colab": {
     "base_uri": "https://localhost:8080/",
     "height": 34
    },
    "colab_type": "code",
    "deletable": false,
    "editable": false,
    "id": "xrNe4FWdItPj",
    "nbgrader": {
     "checksum": "2435ef28744576ab65e21558b65e0a5e",
     "grade": true,
     "grade_id": "cell-1a546329acbcd0e4",
     "locked": true,
     "points": 0.5,
     "schema_version": 1,
     "solution": false
    },
    "outputId": "26b9aa0e-4e52-4285-97de-85fabf0b59b8"
   },
   "outputs": [
    {
     "name": "stdout",
     "output_type": "stream",
     "text": [
      "2.484476138872867\n"
     ]
    }
   ],
   "source": [
    "#This is an autograded cell, do not edit\n",
    "print(q6(df))\n"
   ]
  },
  {
   "cell_type": "markdown",
   "metadata": {
    "colab_type": "text",
    "deletable": false,
    "editable": false,
    "id": "prqoI7WlItPl",
    "nbgrader": {
     "checksum": "7bec70a026d4e6a31507554af78a52f5",
     "grade": false,
     "grade_id": "cell-707c44dc26d5fd6d",
     "locked": true,
     "schema_version": 1,
     "solution": false
    }
   },
   "source": [
    "**Q7: What is the average of the log of the number of reviews per reviewer?**"
   ]
  },
  {
   "cell_type": "code",
   "execution_count": 0,
   "metadata": {
    "colab": {},
    "colab_type": "code",
    "deletable": false,
    "id": "FJY8ZYe7ItPl",
    "nbgrader": {
     "checksum": "e811c6ccc9b4579d62f6be8bdd89400f",
     "grade": false,
     "grade_id": "cell-af3639b4d0ae4875",
     "locked": false,
     "schema_version": 1,
     "solution": true
    }
   },
   "outputs": [],
   "source": [
    "#Make sure you return the answer in this function\n",
    "def q7(df):\n",
    "    \n",
    "    # YOUR CODE HERE\n",
    "    return df.groupby('user_id').size().apply(math.log).mean()"
   ]
  },
  {
   "cell_type": "code",
   "execution_count": 27,
   "metadata": {
    "colab": {
     "base_uri": "https://localhost:8080/",
     "height": 34
    },
    "colab_type": "code",
    "deletable": false,
    "editable": false,
    "id": "tUbcKssGItPn",
    "nbgrader": {
     "checksum": "402dec412c7f6a8ed0a470af889b7f0e",
     "grade": true,
     "grade_id": "cell-c751f158082e76b5",
     "locked": true,
     "points": 0.5,
     "schema_version": 1,
     "solution": false
    },
    "outputId": "70cc8624-c1e0-4ff7-b9fa-0a9b6a385bfd"
   },
   "outputs": [
    {
     "name": "stdout",
     "output_type": "stream",
     "text": [
      "0.7681766036710075\n"
     ]
    }
   ],
   "source": [
    "#This is an autograded cell, do not edit\n",
    "print(q7(df))\n"
   ]
  },
  {
   "cell_type": "markdown",
   "metadata": {
    "colab_type": "text",
    "deletable": false,
    "editable": false,
    "id": "p7XxeVByItPs",
    "nbgrader": {
     "checksum": "7eac1174620a3636d28aedc382e088a6",
     "grade": false,
     "grade_id": "cell-4dae7fcb5a2a9834",
     "locked": true,
     "schema_version": 1,
     "solution": false
    }
   },
   "source": [
    "**Q8: What is the average of the log of the number of cool votes per reviewer?**"
   ]
  },
  {
   "cell_type": "code",
   "execution_count": 0,
   "metadata": {
    "colab": {},
    "colab_type": "code",
    "deletable": false,
    "id": "_fME8KFEItPs",
    "nbgrader": {
     "checksum": "3a84de92b20769ba37eccf85971947fa",
     "grade": false,
     "grade_id": "cell-49a6702b0fbe20dc",
     "locked": false,
     "schema_version": 1,
     "solution": true
    }
   },
   "outputs": [],
   "source": [
    "#Make sure you return the answer in this function\n",
    "def q8(df):\n",
    "    \n",
    "    # YOUR CODE HERE\n",
    "    df = df[df['cool_votes']!=0]\n",
    "    return df.groupby('user_id')['cool_votes'].sum().apply(np.log).mean()"
   ]
  },
  {
   "cell_type": "code",
   "execution_count": 45,
   "metadata": {
    "colab": {
     "base_uri": "https://localhost:8080/",
     "height": 34
    },
    "colab_type": "code",
    "deletable": false,
    "editable": false,
    "id": "p569N5qXItPw",
    "nbgrader": {
     "checksum": "94ee17d58a566706dae0200e4048b879",
     "grade": true,
     "grade_id": "cell-7adc5d1c1446e986",
     "locked": true,
     "points": 0.5,
     "schema_version": 1,
     "solution": false
    },
    "outputId": "f3756619-fa78-4f71-f192-003e3ba0917a"
   },
   "outputs": [
    {
     "name": "stdout",
     "output_type": "stream",
     "text": [
      "0.6653356886588697\n"
     ]
    }
   ],
   "source": [
    "#This is an autograded cell, do not edit\n",
    "print(q8(df))\n"
   ]
  },
  {
   "cell_type": "markdown",
   "metadata": {
    "colab_type": "text",
    "deletable": false,
    "editable": false,
    "id": "AsTuGdV4ItP0",
    "nbgrader": {
     "checksum": "94b3ae9f3e35636e940ed8b552fd7533",
     "grade": false,
     "grade_id": "cell-c818be35a93d3136",
     "locked": true,
     "schema_version": 1,
     "solution": false
    }
   },
   "source": [
    "**Q9: What is the average of the log of the number of funny votes per reviewer?**"
   ]
  },
  {
   "cell_type": "code",
   "execution_count": 0,
   "metadata": {
    "colab": {},
    "colab_type": "code",
    "deletable": false,
    "id": "FupQfKX0ItP1",
    "nbgrader": {
     "checksum": "e9cb4e524bd70de520ca477916741ae4",
     "grade": false,
     "grade_id": "cell-ee758931b311abee",
     "locked": false,
     "schema_version": 1,
     "solution": true
    }
   },
   "outputs": [],
   "source": [
    "#Make sure you return the answer in this function\n",
    "def q9(df):\n",
    "    \n",
    "    # YOUR CODE HERE\n",
    "    df = df[df['funny_votes']!=0]\n",
    "    return df.groupby('user_id')['funny_votes'].sum().apply(np.log).mean()"
   ]
  },
  {
   "cell_type": "code",
   "execution_count": 47,
   "metadata": {
    "colab": {
     "base_uri": "https://localhost:8080/",
     "height": 34
    },
    "colab_type": "code",
    "deletable": false,
    "editable": false,
    "id": "B_0q5D1pItP3",
    "nbgrader": {
     "checksum": "cc2f61a9ac1d7aef1c893435542d1f48",
     "grade": true,
     "grade_id": "cell-6b3ba1daa6c7a4ea",
     "locked": true,
     "points": 0.5,
     "schema_version": 1,
     "solution": false
    },
    "outputId": "37c5976e-69f3-4543-930f-b53cc0e5287b"
   },
   "outputs": [
    {
     "name": "stdout",
     "output_type": "stream",
     "text": [
      "0.660879397622696\n"
     ]
    }
   ],
   "source": [
    "#This is an autograded cell, do not edit\n",
    "print(q9(df))\n"
   ]
  },
  {
   "cell_type": "markdown",
   "metadata": {
    "colab_type": "text",
    "deletable": false,
    "editable": false,
    "id": "fTmF5FMHItP5",
    "nbgrader": {
     "checksum": "51d8486d039a41032e8c104fbbd84a1d",
     "grade": false,
     "grade_id": "cell-db140007a8b4c696",
     "locked": true,
     "schema_version": 1,
     "solution": false
    }
   },
   "source": [
    "**Q10: What is the average of the log of the number of useful votes per reviewer?**"
   ]
  },
  {
   "cell_type": "code",
   "execution_count": 0,
   "metadata": {
    "colab": {},
    "colab_type": "code",
    "deletable": false,
    "id": "tgKKaluaItP5",
    "nbgrader": {
     "checksum": "5fb1ae517ecf1a4b671d34b888f8d130",
     "grade": false,
     "grade_id": "cell-4c5cb9cd0c399dd1",
     "locked": false,
     "schema_version": 1,
     "solution": true
    }
   },
   "outputs": [],
   "source": [
    "#Make sure you return the answer in this function\n",
    "def q10(df):\n",
    "    \n",
    "    # YOUR CODE HERE\n",
    "    df = df[df['useful_votes']!=0]\n",
    "    return df.groupby('user_id')['useful_votes'].sum().apply(np.log).mean()"
   ]
  },
  {
   "cell_type": "code",
   "execution_count": 49,
   "metadata": {
    "colab": {
     "base_uri": "https://localhost:8080/",
     "height": 34
    },
    "colab_type": "code",
    "deletable": false,
    "editable": false,
    "id": "4UBoH1ZuItP8",
    "nbgrader": {
     "checksum": "7d814f15431622a46272cec34282f321",
     "grade": true,
     "grade_id": "cell-de71e929088d9871",
     "locked": true,
     "points": 0.5,
     "schema_version": 1,
     "solution": false
    },
    "outputId": "84b04fd3-953f-457f-d185-59480ec89c9e"
   },
   "outputs": [
    {
     "name": "stdout",
     "output_type": "stream",
     "text": [
      "0.9106025900072982\n"
     ]
    }
   ],
   "source": [
    "#This is an autograded cell, do not edit\n",
    "print(q10(df))\n"
   ]
  },
  {
   "cell_type": "markdown",
   "metadata": {
    "colab_type": "text",
    "deletable": false,
    "editable": false,
    "id": "yUBt7rj9ItP-",
    "nbgrader": {
     "checksum": "560323764f6c0effd9615228a4dd9537",
     "grade": false,
     "grade_id": "cell-328aa1a4c9a958d8",
     "locked": true,
     "schema_version": 1,
     "solution": false
    }
   },
   "source": [
    "**Q11: Find the average of the percentage of total cool votes out of total votes for each reviewer.**"
   ]
  },
  {
   "cell_type": "code",
   "execution_count": 0,
   "metadata": {
    "colab": {},
    "colab_type": "code",
    "deletable": false,
    "id": "LuFzcyytItP-",
    "nbgrader": {
     "checksum": "c4ca0edbf727b2adc41527ebb2129cef",
     "grade": false,
     "grade_id": "cell-54fe5dd9777347a1",
     "locked": false,
     "schema_version": 1,
     "solution": true
    }
   },
   "outputs": [],
   "source": [
    "#Make sure you return the answer in this function\n",
    "#Remember to multiply by 100 for percentages\n",
    "def q11(df):\n",
    "    \n",
    "    # YOUR CODE HERE\n",
    "    df['total_votes'] = df.loc[:,['cool_votes','useful_votes','funny_votes']].sum(axis=1)\n",
    "    df = df.groupby('user_id')['cool_votes','total_votes'].sum()\n",
    "    df = df.loc[df['total_votes']!=0, :]\n",
    "    return (df['cool_votes']/df['total_votes'] * 100).mean()"
   ]
  },
  {
   "cell_type": "code",
   "execution_count": 128,
   "metadata": {
    "colab": {
     "base_uri": "https://localhost:8080/",
     "height": 34
    },
    "colab_type": "code",
    "deletable": false,
    "editable": false,
    "id": "ftY6isjeItQA",
    "nbgrader": {
     "checksum": "6ba2d96b43cc0796b9c8ec31e17fefe9",
     "grade": true,
     "grade_id": "cell-594b1121d785d15e",
     "locked": true,
     "points": 0.5,
     "schema_version": 1,
     "solution": false
    },
    "outputId": "8d53b3ce-98e6-4950-8f28-c1a47fb565c2"
   },
   "outputs": [
    {
     "name": "stdout",
     "output_type": "stream",
     "text": [
      "19.270405241857706\n"
     ]
    }
   ],
   "source": [
    "#This is an autograded cell, do not edit\n",
    "#Remember to multiply by 100 for percentages\n",
    "print(q11(df))\n"
   ]
  },
  {
   "cell_type": "markdown",
   "metadata": {
    "colab_type": "text",
    "deletable": false,
    "editable": false,
    "id": "zKe8LJJLItQC",
    "nbgrader": {
     "checksum": "f7ca49268591f6d357d5e4d4be17e3c9",
     "grade": false,
     "grade_id": "cell-8b434399df89705e",
     "locked": true,
     "schema_version": 1,
     "solution": false
    }
   },
   "source": [
    "**Q12: Find the average of the percentage of total funny votes out of total votes for each reviewer.**"
   ]
  },
  {
   "cell_type": "code",
   "execution_count": 0,
   "metadata": {
    "colab": {},
    "colab_type": "code",
    "deletable": false,
    "id": "DkXVxKdXItQC",
    "nbgrader": {
     "checksum": "b869bd5447e8ea81d0af3cae06012b94",
     "grade": false,
     "grade_id": "cell-a3dc739b16a53957",
     "locked": false,
     "schema_version": 1,
     "solution": true
    }
   },
   "outputs": [],
   "source": [
    "#Make sure you return the answer in this function\n",
    "#Remember to multiply by 100 for percentages\n",
    "def q12(df):\n",
    "    \n",
    "    # YOUR CODE HERE\n",
    "    df['total_votes'] = df.loc[:,['cool_votes','useful_votes','funny_votes']].sum(axis=1)\n",
    "    df = df.groupby('user_id')['funny_votes','total_votes'].sum()\n",
    "    df = df.loc[df['total_votes']!=0, :]\n",
    "    return (df['funny_votes']/df['total_votes'] * 100).mean()"
   ]
  },
  {
   "cell_type": "code",
   "execution_count": 130,
   "metadata": {
    "colab": {
     "base_uri": "https://localhost:8080/",
     "height": 34
    },
    "colab_type": "code",
    "deletable": false,
    "editable": false,
    "id": "q6uEzM9HItQE",
    "nbgrader": {
     "checksum": "2ef3655caaaedc3e433262c7db94fb77",
     "grade": true,
     "grade_id": "cell-e7fdee0fd548baf1",
     "locked": true,
     "points": 0.5,
     "schema_version": 1,
     "solution": false
    },
    "outputId": "1436aaa4-b180-42b5-8a36-b2ef0bce30e9"
   },
   "outputs": [
    {
     "name": "stdout",
     "output_type": "stream",
     "text": [
      "18.26\n"
     ]
    }
   ],
   "source": [
    "#This is an autograded cell, do not edit\n",
    "print(round(q12(df),2))\n"
   ]
  },
  {
   "cell_type": "markdown",
   "metadata": {
    "colab_type": "text",
    "deletable": false,
    "editable": false,
    "id": "wYs2eqhSItQI",
    "nbgrader": {
     "checksum": "3ce1c8eefc6053b8515dc4218c5a0afb",
     "grade": false,
     "grade_id": "cell-40cd96c922286117",
     "locked": true,
     "schema_version": 1,
     "solution": false
    }
   },
   "source": [
    "**Q13: Find the average of the percentage of total useful votes out of total votes for each reviewer.**"
   ]
  },
  {
   "cell_type": "code",
   "execution_count": 0,
   "metadata": {
    "colab": {},
    "colab_type": "code",
    "deletable": false,
    "id": "56CBDjgrItQI",
    "nbgrader": {
     "checksum": "c8e322eafbf209672785a2c9f7c97f52",
     "grade": false,
     "grade_id": "cell-38769f4cbbe9cb8f",
     "locked": false,
     "schema_version": 1,
     "solution": true
    }
   },
   "outputs": [],
   "source": [
    "#Make sure you return the answer in this function\n",
    "def q13(df):\n",
    "    \n",
    "    # YOUR CODE HERE\n",
    "    df['total_votes'] = df.loc[:,['cool_votes','useful_votes','funny_votes']].sum(axis=1)\n",
    "    df = df.groupby('user_id')['useful_votes','total_votes'].sum()\n",
    "    df = df.loc[df['total_votes']!=0, :]\n",
    "    return (df['useful_votes']/df['total_votes'] * 100).mean()"
   ]
  },
  {
   "cell_type": "code",
   "execution_count": 132,
   "metadata": {
    "colab": {
     "base_uri": "https://localhost:8080/",
     "height": 34
    },
    "colab_type": "code",
    "deletable": false,
    "editable": false,
    "id": "LvE8ZWSOItQL",
    "nbgrader": {
     "checksum": "d3aeca2366b4c12d564167261c6bc6a2",
     "grade": true,
     "grade_id": "cell-590fb1425068cc06",
     "locked": true,
     "points": 0.5,
     "schema_version": 1,
     "solution": false
    },
    "outputId": "e346594c-d1b2-4c37-df1c-2b271f77ee16"
   },
   "outputs": [
    {
     "name": "stdout",
     "output_type": "stream",
     "text": [
      "62.47\n"
     ]
    }
   ],
   "source": [
    "#This is an autograded cell, do not edit\n",
    "print(round(q13(df),2))\n"
   ]
  },
  {
   "cell_type": "markdown",
   "metadata": {
    "colab_type": "text",
    "deletable": false,
    "editable": false,
    "id": "2ixankjPItQO",
    "nbgrader": {
     "checksum": "2efdbde3ea13f0e1829d7488da2c6d92",
     "grade": false,
     "grade_id": "cell-615a3d7b2c4e0e26",
     "locked": true,
     "schema_version": 1,
     "solution": false
    }
   },
   "source": [
    "**Q14: Average review text length (in non-space characters)**"
   ]
  },
  {
   "cell_type": "code",
   "execution_count": 0,
   "metadata": {
    "colab": {},
    "colab_type": "code",
    "deletable": false,
    "id": "qgwHiHaVItQP",
    "nbgrader": {
     "checksum": "59cc81340d9a1967bd6d3a0ffcacdcf3",
     "grade": false,
     "grade_id": "cell-75ec15303c64c506",
     "locked": false,
     "schema_version": 1,
     "solution": true
    }
   },
   "outputs": [],
   "source": [
    "#Make sure you return the answer in this function\n",
    "def q14(df):\n",
    "    \n",
    "    # YOUR CODE HERE\n",
    "    return df['text'].str.replace(' ','').apply(len).mean()\n",
    "  "
   ]
  },
  {
   "cell_type": "code",
   "execution_count": 14,
   "metadata": {
    "colab": {
     "base_uri": "https://localhost:8080/",
     "height": 34
    },
    "colab_type": "code",
    "deletable": false,
    "editable": false,
    "id": "_XmxRXdFItQQ",
    "nbgrader": {
     "checksum": "083e5ff6b77629d8784b8f6a30352251",
     "grade": true,
     "grade_id": "cell-d9fb4fc39a0b21c4",
     "locked": true,
     "points": 1,
     "schema_version": 1,
     "solution": false
    },
    "outputId": "73a8e452-76a1-406e-bef3-2752a25d2dc4"
   },
   "outputs": [
    {
     "name": "stdout",
     "output_type": "stream",
     "text": [
      "499.0\n"
     ]
    }
   ],
   "source": [
    "#This is an autograded cell, do not edit\n",
    "print(round(q14(df),0))\n"
   ]
  },
  {
   "cell_type": "markdown",
   "metadata": {
    "colab_type": "text",
    "deletable": false,
    "editable": false,
    "id": "03gWN2PAItQS",
    "nbgrader": {
     "checksum": "54c8c584ece619ea786165e50a4e1002",
     "grade": false,
     "grade_id": "cell-a21a423546eb8654",
     "locked": true,
     "schema_version": 1,
     "solution": false
    }
   },
   "source": [
    "**Q15: Year in which the reviewer wrote the most reviews. Once you have this for each reviewer, subtract the minimum possible year (2005) from each so that your final feature values are 0, 1, 2 etc.**"
   ]
  },
  {
   "cell_type": "code",
   "execution_count": 89,
   "metadata": {
    "colab": {
     "base_uri": "https://localhost:8080/",
     "height": 204
    },
    "colab_type": "code",
    "deletable": false,
    "id": "XideHYGkItQT",
    "nbgrader": {
     "checksum": "d6d5ba528ca188b45b1e36e5385caab0",
     "grade": true,
     "grade_id": "cell-5c7a809865483dca",
     "locked": false,
     "points": 1.5,
     "schema_version": 1,
     "solution": true
    },
    "outputId": "e5e74a6c-c1a0-4db4-b6d9-64b8be1280be"
   },
   "outputs": [
    {
     "data": {
      "text/html": [
       "<div>\n",
       "<style scoped>\n",
       "    .dataframe tbody tr th:only-of-type {\n",
       "        vertical-align: middle;\n",
       "    }\n",
       "\n",
       "    .dataframe tbody tr th {\n",
       "        vertical-align: top;\n",
       "    }\n",
       "\n",
       "    .dataframe thead th {\n",
       "        text-align: right;\n",
       "    }\n",
       "</style>\n",
       "<table border=\"1\" class=\"dataframe\">\n",
       "  <thead>\n",
       "    <tr style=\"text-align: right;\">\n",
       "      <th></th>\n",
       "      <th>user_id</th>\n",
       "      <th>year</th>\n",
       "      <th>amount</th>\n",
       "    </tr>\n",
       "  </thead>\n",
       "  <tbody>\n",
       "    <tr>\n",
       "      <th>0</th>\n",
       "      <td>QYS29txRosYV2mGu68Cnhg</td>\n",
       "      <td>5</td>\n",
       "      <td>347</td>\n",
       "    </tr>\n",
       "    <tr>\n",
       "      <th>1</th>\n",
       "      <td>dhVuDuzCimescgn83tWQOA</td>\n",
       "      <td>7</td>\n",
       "      <td>114</td>\n",
       "    </tr>\n",
       "    <tr>\n",
       "      <th>2</th>\n",
       "      <td>86EnhYP1N8VFmHyON_TcJA</td>\n",
       "      <td>10</td>\n",
       "      <td>96</td>\n",
       "    </tr>\n",
       "    <tr>\n",
       "      <th>3</th>\n",
       "      <td>YlpzPPySUxJsUJHRyRde8A</td>\n",
       "      <td>6</td>\n",
       "      <td>86</td>\n",
       "    </tr>\n",
       "    <tr>\n",
       "      <th>4</th>\n",
       "      <td>88OFCnILjT5vi2DhWX6rew</td>\n",
       "      <td>11</td>\n",
       "      <td>76</td>\n",
       "    </tr>\n",
       "  </tbody>\n",
       "</table>\n",
       "</div>"
      ],
      "text/plain": [
       "                  user_id  year  amount\n",
       "0  QYS29txRosYV2mGu68Cnhg     5     347\n",
       "1  dhVuDuzCimescgn83tWQOA     7     114\n",
       "2  86EnhYP1N8VFmHyON_TcJA    10      96\n",
       "3  YlpzPPySUxJsUJHRyRde8A     6      86\n",
       "4  88OFCnILjT5vi2DhWX6rew    11      76"
      ]
     },
     "execution_count": 89,
     "metadata": {
      "tags": []
     },
     "output_type": "execute_result"
    }
   ],
   "source": [
    "# YOUR CODE HERE\n",
    "def get_year(text):\n",
    "  return int(text[:4])\n",
    "\n",
    "copy = df.copy()\n",
    "copy['year'] = copy['date'].apply(get_year)\n",
    "copy = copy.groupby(['user_id','year']).size().sort_values(ascending=False).groupby(level=0).head(1)\n",
    "copy = copy.reset_index().rename(columns = {0:'amount'})\n",
    "copy['year'] = copy['year']-2005\n",
    "copy.head()"
   ]
  },
  {
   "cell_type": "markdown",
   "metadata": {
    "colab_type": "text",
    "deletable": false,
    "editable": false,
    "id": "waqvrQeDItQV",
    "nbgrader": {
     "checksum": "93f7e9ef2385bdac5184802eb7e1ce75",
     "grade": false,
     "grade_id": "cell-da33d981591f0ff3",
     "locked": true,
     "schema_version": 1,
     "solution": false
    }
   },
   "source": [
    "**Q16: Come up with a new feature for every review. This may be derived from existing features.\n",
    "Give your feature the name *my_new_feature.* Display head() of this new feature.**"
   ]
  },
  {
   "cell_type": "code",
   "execution_count": 1,
   "metadata": {
    "colab": {
     "base_uri": "https://localhost:8080/",
     "height": 289
    },
    "colab_type": "code",
    "deletable": false,
    "id": "j3TZ3TD2ItQW",
    "nbgrader": {
     "checksum": "787d48b01fdbfeab0810cceb64c1abb3",
     "grade": true,
     "grade_id": "cell-09bbdc6a2946b441",
     "locked": false,
     "points": 1,
     "schema_version": 1,
     "solution": true
    },
    "outputId": "d05cea8d-7063-4c4e-b233-0b4a39e989ca"
   },
   "outputs": [
    {
     "ename": "NameError",
     "evalue": "name 'pd' is not defined",
     "output_type": "error",
     "traceback": [
      "\u001b[0;31m---------------------------------------------------------------------------\u001b[0m",
      "\u001b[0;31mNameError\u001b[0m                                 Traceback (most recent call last)",
      "\u001b[0;32m<ipython-input-1-9da6d533cc2c>\u001b[0m in \u001b[0;36m<module>\u001b[0;34m\u001b[0m\n\u001b[1;32m      1\u001b[0m \u001b[0;31m# YOUR CODE HERE\u001b[0m\u001b[0;34m\u001b[0m\u001b[0;34m\u001b[0m\u001b[0;34m\u001b[0m\u001b[0m\n\u001b[0;32m----> 2\u001b[0;31m \u001b[0mdf\u001b[0m\u001b[0;34m=\u001b[0m\u001b[0mpd\u001b[0m\u001b[0;34m.\u001b[0m\u001b[0mread_csv\u001b[0m\u001b[0;34m(\u001b[0m\u001b[0;34m'yelp_reviews.csv'\u001b[0m\u001b[0;34m)\u001b[0m\u001b[0;34m\u001b[0m\u001b[0;34m\u001b[0m\u001b[0m\n\u001b[0m\u001b[1;32m      3\u001b[0m \u001b[0mavg_stars_per_bus\u001b[0m \u001b[0;34m=\u001b[0m \u001b[0mdf\u001b[0m\u001b[0;34m.\u001b[0m\u001b[0mgroupby\u001b[0m\u001b[0;34m(\u001b[0m\u001b[0;34m'business_id'\u001b[0m\u001b[0;34m)\u001b[0m\u001b[0;34m[\u001b[0m\u001b[0;34m'stars'\u001b[0m\u001b[0;34m]\u001b[0m\u001b[0;34m.\u001b[0m\u001b[0mmean\u001b[0m\u001b[0;34m(\u001b[0m\u001b[0;34m)\u001b[0m\u001b[0;34m.\u001b[0m\u001b[0mto_frame\u001b[0m\u001b[0;34m(\u001b[0m\u001b[0;34m)\u001b[0m\u001b[0;34m\u001b[0m\u001b[0;34m\u001b[0m\u001b[0m\n\u001b[1;32m      4\u001b[0m \u001b[0mnew_df\u001b[0m \u001b[0;34m=\u001b[0m \u001b[0mdf\u001b[0m\u001b[0;34m.\u001b[0m\u001b[0mmerge\u001b[0m\u001b[0;34m(\u001b[0m\u001b[0mright\u001b[0m\u001b[0;34m=\u001b[0m\u001b[0mavg_stars_per_bus\u001b[0m\u001b[0;34m,\u001b[0m \u001b[0mon\u001b[0m\u001b[0;34m=\u001b[0m\u001b[0;34m'business_id'\u001b[0m\u001b[0;34m)\u001b[0m\u001b[0;34m\u001b[0m\u001b[0;34m\u001b[0m\u001b[0m\n\u001b[1;32m      5\u001b[0m \u001b[0mnew_df\u001b[0m\u001b[0;34m.\u001b[0m\u001b[0mrename\u001b[0m\u001b[0;34m(\u001b[0m\u001b[0mcolumns\u001b[0m\u001b[0;34m=\u001b[0m\u001b[0;34m{\u001b[0m\u001b[0;34m'stars_y'\u001b[0m\u001b[0;34m:\u001b[0m \u001b[0;34m'my_new_feature'\u001b[0m\u001b[0;34m}\u001b[0m\u001b[0;34m)\u001b[0m\u001b[0;34m\u001b[0m\u001b[0;34m\u001b[0m\u001b[0m\n",
      "\u001b[0;31mNameError\u001b[0m: name 'pd' is not defined"
     ]
    }
   ],
   "source": [
    "# YOUR CODE HERE\n",
    "df=pd.read_csv('yelp_reviews.csv')\n",
    "avg_stars_per_bus = df.groupby('business_id')['stars'].mean().to_frame()\n",
    "new_df = df.merge(right=avg_stars_per_bus, on='business_id')\n",
    "new_df.rename(columns={'stars_y': 'my_new_feature'})\n",
    "new_df.head()"
   ]
  },
  {
   "cell_type": "code",
   "execution_count": 0,
   "metadata": {
    "colab": {},
    "colab_type": "code",
    "id": "XMWX9zWXVPo6"
   },
   "outputs": [],
   "source": []
  }
 ],
 "metadata": {
  "colab": {
   "collapsed_sections": [],
   "name": "Copy of DMA_Fall19_Lab1.ipynb",
   "provenance": [],
   "version": "0.3.2"
  },
  "kernelspec": {
   "display_name": "Python 3",
   "language": "python",
   "name": "python3"
  },
  "language_info": {
   "codemirror_mode": {
    "name": "ipython",
    "version": 3
   },
   "file_extension": ".py",
   "mimetype": "text/x-python",
   "name": "python",
   "nbconvert_exporter": "python",
   "pygments_lexer": "ipython3",
   "version": "3.7.3"
  }
 },
 "nbformat": 4,
 "nbformat_minor": 1
}
