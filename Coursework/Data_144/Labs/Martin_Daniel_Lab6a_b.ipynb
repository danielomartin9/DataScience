{
  "nbformat": 4,
  "nbformat_minor": 0,
  "metadata": {
    "kernelspec": {
      "display_name": "Python 3",
      "language": "python",
      "name": "python3"
    },
    "language_info": {
      "codemirror_mode": {
        "name": "ipython",
        "version": 3
      },
      "file_extension": ".py",
      "mimetype": "text/x-python",
      "name": "python",
      "nbconvert_exporter": "python",
      "pygments_lexer": "ipython3",
      "version": "3.6.9"
    },
    "colab": {
      "name": "Martin_Daniel_Lab6a/b.ipynb",
      "provenance": [],
      "collapsed_sections": []
    }
  },
  "cells": [
    {
      "cell_type": "code",
      "metadata": {
        "id": "IDlU-kLCKDVZ",
        "colab_type": "code",
        "colab": {}
      },
      "source": [
        "NAME = \"Daniel Martin\"\n",
        "COLLABORATORS = \"\""
      ],
      "execution_count": 0,
      "outputs": []
    },
    {
      "cell_type": "markdown",
      "metadata": {
        "id": "kW9zL4V6KDVc",
        "colab_type": "text"
      },
      "source": [
        "---"
      ]
    },
    {
      "cell_type": "markdown",
      "metadata": {
        "deletable": false,
        "editable": false,
        "nbgrader": {
          "checksum": "9a0ec075584699a44c46933457b0a8ba",
          "grade": false,
          "grade_id": "cell-a910b376742d04c0",
          "locked": true,
          "schema_version": 1,
          "solution": false
        },
        "id": "ECD5r2hFKDVd",
        "colab_type": "text"
      },
      "source": [
        "# Lab 6a: Skip Gram\n",
        "\n",
        "**Please read the following instructions very carefully**\n",
        "\n",
        "## Working on the assignment / FAQs\n",
        "- **Always use the seed/random_state as *42* wherever applicable** (This is to ensure repeatability in answers, across students and coding environments) \n",
        "- The type of question and the points they carry are indicated in each question cell\n",
        "- To avoid any ambiguity, each question also specifies what *value* must be set. Note that these are dummy values and not the answers\n",
        "- If an autograded question has multiple answers (due to differences in handling NaNs, zeros etc.), all answers will be considered.\n",
        "- You can delete the `raise NotImplementedError()`\n",
        "- **Submitting the assignment** : Download the '.ipynb' file from Colab and upload it to bcourses. Do not delete any outputs from cells before submitting.\n",
        "- That's about it. Happy coding!\n",
        "\n",
        "\n",
        "Available software:\n",
        " - Python's Gensim module: https://radimrehurek.com/gensim/ (install using pip)\n",
        " - Sklearn’s  TSNE module in case you use TSNE to reduce dimension (optional)\n",
        " - Python’s Matplotlib (optional)\n",
        "\n",
        "_Note: The most important hyper parameters of skip-gram/CBOW are vector size and windows size_\n"
      ]
    },
    {
      "cell_type": "code",
      "metadata": {
        "deletable": false,
        "editable": false,
        "nbgrader": {
          "checksum": "a09a0bf3042da711c4bf843e9b4a4189",
          "grade": false,
          "grade_id": "cell-bf780e597c0216c8",
          "locked": true,
          "schema_version": 1,
          "solution": false
        },
        "id": "Vsocwry-KDVe",
        "colab_type": "code",
        "outputId": "fdd0477e-3f99-4e3c-8b9f-463aaad0ed8a",
        "colab": {
          "base_uri": "https://localhost:8080/",
          "height": 360
        }
      },
      "source": [
        "!pip install gensim\n",
        "!wget -nc https://s3.amazonaws.com/dl4j-distribution/GoogleNews-vectors-negative300.bin.gz \n",
        "\n",
        "\n",
        "import pandas as pd\n",
        "import numpy as np \n",
        "import gensim\n",
        "from sklearn.cluster import KMeans"
      ],
      "execution_count": 0,
      "outputs": [
        {
          "output_type": "stream",
          "text": [
            "Requirement already satisfied: gensim in /usr/local/lib/python3.6/dist-packages (3.6.0)\n",
            "Requirement already satisfied: smart-open>=1.2.1 in /usr/local/lib/python3.6/dist-packages (from gensim) (1.8.4)\n",
            "Requirement already satisfied: scipy>=0.18.1 in /usr/local/lib/python3.6/dist-packages (from gensim) (1.3.1)\n",
            "Requirement already satisfied: numpy>=1.11.3 in /usr/local/lib/python3.6/dist-packages (from gensim) (1.17.3)\n",
            "Requirement already satisfied: six>=1.5.0 in /usr/local/lib/python3.6/dist-packages (from gensim) (1.12.0)\n",
            "Requirement already satisfied: boto3 in /usr/local/lib/python3.6/dist-packages (from smart-open>=1.2.1->gensim) (1.10.7)\n",
            "Requirement already satisfied: requests in /usr/local/lib/python3.6/dist-packages (from smart-open>=1.2.1->gensim) (2.21.0)\n",
            "Requirement already satisfied: boto>=2.32 in /usr/local/lib/python3.6/dist-packages (from smart-open>=1.2.1->gensim) (2.49.0)\n",
            "Requirement already satisfied: botocore<1.14.0,>=1.13.7 in /usr/local/lib/python3.6/dist-packages (from boto3->smart-open>=1.2.1->gensim) (1.13.7)\n",
            "Requirement already satisfied: s3transfer<0.3.0,>=0.2.0 in /usr/local/lib/python3.6/dist-packages (from boto3->smart-open>=1.2.1->gensim) (0.2.1)\n",
            "Requirement already satisfied: jmespath<1.0.0,>=0.7.1 in /usr/local/lib/python3.6/dist-packages (from boto3->smart-open>=1.2.1->gensim) (0.9.4)\n",
            "Requirement already satisfied: urllib3<1.25,>=1.21.1 in /usr/local/lib/python3.6/dist-packages (from requests->smart-open>=1.2.1->gensim) (1.24.3)\n",
            "Requirement already satisfied: certifi>=2017.4.17 in /usr/local/lib/python3.6/dist-packages (from requests->smart-open>=1.2.1->gensim) (2019.9.11)\n",
            "Requirement already satisfied: chardet<3.1.0,>=3.0.2 in /usr/local/lib/python3.6/dist-packages (from requests->smart-open>=1.2.1->gensim) (3.0.4)\n",
            "Requirement already satisfied: idna<2.9,>=2.5 in /usr/local/lib/python3.6/dist-packages (from requests->smart-open>=1.2.1->gensim) (2.8)\n",
            "Requirement already satisfied: docutils<0.16,>=0.10 in /usr/local/lib/python3.6/dist-packages (from botocore<1.14.0,>=1.13.7->boto3->smart-open>=1.2.1->gensim) (0.15.2)\n",
            "Requirement already satisfied: python-dateutil<3.0.0,>=2.1; python_version >= \"2.7\" in /usr/local/lib/python3.6/dist-packages (from botocore<1.14.0,>=1.13.7->boto3->smart-open>=1.2.1->gensim) (2.6.1)\n",
            "File ‘GoogleNews-vectors-negative300.bin.gz’ already there; not retrieving.\n",
            "\n"
          ],
          "name": "stdout"
        }
      ]
    },
    {
      "cell_type": "code",
      "metadata": {
        "id": "TJSGo-r3Kd29",
        "colab_type": "code",
        "outputId": "cc0b4ac7-349a-44d4-c251-b7a5d0c3ba85",
        "colab": {
          "base_uri": "https://localhost:8080/",
          "height": 71
        }
      },
      "source": [
        "from gensim.models import KeyedVectors\n",
        "model = KeyedVectors.load_word2vec_format('GoogleNews-vectors-negative300.bin.gz', binary=True)"
      ],
      "execution_count": 0,
      "outputs": [
        {
          "output_type": "stream",
          "text": [
            "/usr/local/lib/python3.6/dist-packages/smart_open/smart_open_lib.py:398: UserWarning: This function is deprecated, use smart_open.open instead. See the migration notes for details: https://github.com/RaRe-Technologies/smart_open/blob/master/README.rst#migrating-to-the-new-open-function\n",
            "  'See the migration notes for details: %s' % _MIGRATION_NOTES_URL\n"
          ],
          "name": "stderr"
        }
      ]
    },
    {
      "cell_type": "markdown",
      "metadata": {
        "deletable": false,
        "editable": false,
        "nbgrader": {
          "checksum": "47031c66b74746d23ccc5e8369446a4b",
          "grade": false,
          "grade_id": "cell-3f89500615a0096f",
          "locked": true,
          "schema_version": 1,
          "solution": false
        },
        "id": "ZF74G9bDKDVh",
        "colab_type": "text"
      },
      "source": [
        "**Q1 (1 point)** : Find the cosine similarity between the following word pairs\n",
        "\n",
        "- (France, England)\n",
        "- (smaller, bigger)\n",
        "- (England, London)\n",
        "- (France, Rocket)\n",
        "- (big, bigger)"
      ]
    },
    {
      "cell_type": "code",
      "metadata": {
        "deletable": false,
        "nbgrader": {
          "checksum": "4d52dda406c3d8cd5e37d29755f0fb12",
          "grade": false,
          "grade_id": "cell-fbbe575f8f5a6368",
          "locked": false,
          "schema_version": 1,
          "solution": true
        },
        "id": "SZD5ZaMvKDVk",
        "colab_type": "code",
        "outputId": "5e44609f-f3d3-4a80-a078-b0ba5a226f0e",
        "colab": {
          "base_uri": "https://localhost:8080/",
          "height": 71
        }
      },
      "source": [
        "#Replace 0 with the code / value; Do not delete this cell\n",
        "similarity_pair1 = model.similarity('France','England')\n",
        "similarity_pair2 = model.similarity('smaller','bigger')\n",
        "similarity_pair3 = model.similarity('England','London')\n",
        "similarity_pair4 = model.similarity('France','Rocket')\n",
        "similarity_pair5 = model.similarity('big','bigger')\n",
        "\n"
      ],
      "execution_count": 0,
      "outputs": [
        {
          "output_type": "stream",
          "text": [
            "/usr/local/lib/python3.6/dist-packages/gensim/matutils.py:737: FutureWarning: Conversion of the second argument of issubdtype from `int` to `np.signedinteger` is deprecated. In future, it will be treated as `np.int64 == np.dtype(int).type`.\n",
            "  if np.issubdtype(vec.dtype, np.int):\n"
          ],
          "name": "stderr"
        }
      ]
    },
    {
      "cell_type": "code",
      "metadata": {
        "deletable": false,
        "editable": false,
        "nbgrader": {
          "checksum": "569aa8b664a41d901bf7b0a5e23e9930",
          "grade": true,
          "grade_id": "cell-929d59ed5d67f618",
          "locked": true,
          "points": 1,
          "schema_version": 1,
          "solution": false
        },
        "id": "tFUPLSK7KDVp",
        "colab_type": "code",
        "outputId": "ec0716b7-de44-459c-d912-14bf8df3ea8a",
        "colab": {
          "base_uri": "https://localhost:8080/",
          "height": 34
        }
      },
      "source": [
        "#This is an autograded cell, do not edit/delete\n",
        "print(similarity_pair1, similarity_pair2, similarity_pair3, similarity_pair4, similarity_pair5)"
      ],
      "execution_count": 0,
      "outputs": [
        {
          "output_type": "stream",
          "text": [
            "0.39804944 0.7302272 0.43992856 0.07114174 0.68423855\n"
          ],
          "name": "stdout"
        }
      ]
    },
    {
      "cell_type": "markdown",
      "metadata": {
        "deletable": false,
        "editable": false,
        "nbgrader": {
          "checksum": "a7f270405ddf9ecbffde36e6c096b818",
          "grade": false,
          "grade_id": "cell-ccd6618b4fac3715",
          "locked": true,
          "schema_version": 1,
          "solution": false
        },
        "id": "ZcqpWCjJKDVs",
        "colab_type": "text"
      },
      "source": [
        "**Q2 (1 point)** : Write an expression to extract the vector representations of the words: \n",
        "\n",
        "- France\n",
        "- England\n",
        "- smaller\n",
        "- bigger\n",
        "- rocket\n",
        "- big\n",
        "\n",
        "Get only the first 5 elements for each vector representation."
      ]
    },
    {
      "cell_type": "code",
      "metadata": {
        "deletable": false,
        "nbgrader": {
          "checksum": "6b3cecb268eb9440c446cd3de984b7f6",
          "grade": false,
          "grade_id": "cell-00f3d05abb28aa23",
          "locked": false,
          "schema_version": 1,
          "solution": true
        },
        "id": "6pzKlLyjKDVt",
        "colab_type": "code",
        "colab": {}
      },
      "source": [
        "#Replace 0 with the code / value to get the first 5 elements of each vector; Do not delete this cell\n",
        "vector_1 = model['France'][:5]\n",
        "vector_2 = model['England'][:5]\n",
        "vector_3 = model['smaller'][:5]\n",
        "vector_4 = model['bigger'][:5]\n",
        "vector_5 = model['rocket'][:5]\n",
        "vector_6 = model['big'][:5]\n",
        "\n"
      ],
      "execution_count": 0,
      "outputs": []
    },
    {
      "cell_type": "code",
      "metadata": {
        "deletable": false,
        "editable": false,
        "nbgrader": {
          "checksum": "401940f859774b3c1ec48338fa15682e",
          "grade": true,
          "grade_id": "cell-6f34229370fa873f",
          "locked": true,
          "points": 1,
          "schema_version": 1,
          "solution": false
        },
        "id": "Hkj2ROGTKDVv",
        "colab_type": "code",
        "outputId": "cd98092b-c614-4fb3-e02d-5b792774febf",
        "colab": {
          "base_uri": "https://localhost:8080/",
          "height": 119
        }
      },
      "source": [
        "#This is an autograded cell, do not edit/delete\n",
        "print(vector_1)\n",
        "print(vector_2)\n",
        "print(vector_3)\n",
        "print(vector_4)\n",
        "print(vector_5)\n",
        "print(vector_6)\n"
      ],
      "execution_count": 0,
      "outputs": [
        {
          "output_type": "stream",
          "text": [
            "[0.04858398 0.07861328 0.32421875 0.03491211 0.07714844]\n",
            "[-0.19824219  0.11523438  0.0625     -0.05834961  0.2265625 ]\n",
            "[-0.05004883  0.03417969 -0.0703125   0.17578125  0.00689697]\n",
            "[-0.06542969 -0.09521484 -0.06225586  0.16210938  0.01989746]\n",
            "[-0.03198242  0.27148438 -0.2890625  -0.15429688  0.16894531]\n",
            "[ 0.11132812  0.10595703 -0.07373047  0.18847656  0.07666016]\n"
          ],
          "name": "stdout"
        }
      ]
    },
    {
      "cell_type": "markdown",
      "metadata": {
        "deletable": false,
        "editable": false,
        "nbgrader": {
          "checksum": "ac8b42811c924e7988f17b9dbd3f71ef",
          "grade": false,
          "grade_id": "cell-4ad44071d3785409",
          "locked": true,
          "schema_version": 1,
          "solution": false
        },
        "id": "2UBnMwiXKDVy",
        "colab_type": "text"
      },
      "source": [
        "**Q3 (1 point)**: Find the euclidean distances between the word pairs : \n",
        "\n",
        "- (France, England)\n",
        "- (smaller, bigger)\n",
        "- (England, London)\n",
        "- (France, Rocket)\n",
        "- (big, bigger)\n"
      ]
    },
    {
      "cell_type": "code",
      "metadata": {
        "deletable": false,
        "nbgrader": {
          "checksum": "a771483fbb59086604eb84bcc7c7f0ad",
          "grade": false,
          "grade_id": "cell-3aba86afc0ebd8a8",
          "locked": false,
          "schema_version": 1,
          "solution": true
        },
        "id": "zQGd-YVoKDV3",
        "colab_type": "code",
        "colab": {}
      },
      "source": [
        "#Replace 0 with the code / value; Do not delete this cell\n",
        "eu_dist1 = np.linalg.norm(model['France']-model['England'])\n",
        "eu_dist2 = np.linalg.norm(model['smaller']-model['bigger'])\n",
        "eu_dist3 = np.linalg.norm(model['England']-model['London'])\n",
        "eu_dist4 = np.linalg.norm(model['France']-model['Rocket'])\n",
        "eu_dist5 = np.linalg.norm(model['big']-model['bigger'])\n",
        "\n"
      ],
      "execution_count": 0,
      "outputs": []
    },
    {
      "cell_type": "code",
      "metadata": {
        "deletable": false,
        "editable": false,
        "nbgrader": {
          "checksum": "17796eb5de342e8f8e841aa137a2c41c",
          "grade": true,
          "grade_id": "cell-15ffa50b82de21ad",
          "locked": true,
          "points": 1,
          "schema_version": 1,
          "solution": false
        },
        "id": "HsSg0l2UKDV6",
        "colab_type": "code",
        "outputId": "ea500c34-e077-40ba-bd27-cc83fd2e52b3",
        "colab": {
          "base_uri": "https://localhost:8080/",
          "height": 102
        }
      },
      "source": [
        "#This is an autograded cell, do not edit / delete\n",
        "print(eu_dist1)\n",
        "print(eu_dist2)\n",
        "print(eu_dist3)\n",
        "print(eu_dist4)\n",
        "print(eu_dist5)\n"
      ],
      "execution_count": 0,
      "outputs": [
        {
          "output_type": "stream",
          "text": [
            "3.0151067\n",
            "1.8618743\n",
            "2.8752837\n",
            "3.892071\n",
            "1.9586496\n"
          ],
          "name": "stdout"
        }
      ]
    },
    {
      "cell_type": "markdown",
      "metadata": {
        "deletable": false,
        "editable": false,
        "nbgrader": {
          "checksum": "bc50385c084e87555d0fa3e25c71bcea",
          "grade": false,
          "grade_id": "cell-7cd00f3c129dfab5",
          "locked": true,
          "schema_version": 1,
          "solution": false
        },
        "id": "OFll-_W3KDV8",
        "colab_type": "text"
      },
      "source": [
        "**Q4 (2 points)**: What is the relationship between the magnitude of individual vectors, the vectors themselves and the cosine distance for any pair of words. Use any tuple in Q1 as an example to support your answer.\n",
        "\n",
        "**Do not delete the below cell**"
      ]
    },
    {
      "cell_type": "code",
      "metadata": {
        "deletable": false,
        "nbgrader": {
          "checksum": "f5858182370c73645303d9ce8103bbe2",
          "grade": true,
          "grade_id": "cell-09afc950f748a302",
          "locked": false,
          "points": 2,
          "schema_version": 1,
          "solution": true
        },
        "id": "rPUUyypZKDV9",
        "colab_type": "code",
        "colab": {}
      },
      "source": [
        "# ex) (France, England)\n",
        "# cosine similarity cos(a,b) = a(dot product)b / sqrt(a(dot product)a) * sqrt(b(dot product)b)\n",
        "# cos(France, England) = France_vec * England_vec / (sqrt(Franc_vec*France_vec))*(sqrt(England_vec*England_vec))\n"
      ],
      "execution_count": 0,
      "outputs": []
    },
    {
      "cell_type": "markdown",
      "metadata": {
        "deletable": false,
        "editable": false,
        "nbgrader": {
          "checksum": "afc0e843c7545e2df83448feda9f28f5",
          "grade": false,
          "grade_id": "cell-7cd8b9b67386376d",
          "locked": true,
          "schema_version": 1,
          "solution": false
        },
        "id": "XvO2iU7QKDWA",
        "colab_type": "text"
      },
      "source": [
        "**Q5 (1 point)**: Time to dabble with the power of Word2Vec. Find the 2 closest words  for the following conditions:  \n",
        "- (King - Man + Queen)\n",
        "- (bigger - big + small)\n",
        "- (man + programmer - woman)\n",
        "- (waiting - wait + run)\n",
        "- (Texas + Milwaukee – Wisconsin)"
      ]
    },
    {
      "cell_type": "code",
      "metadata": {
        "deletable": false,
        "nbgrader": {
          "checksum": "50ef096feb166865434fe2fca3d41f99",
          "grade": false,
          "grade_id": "cell-b72201968c5fd1ec",
          "locked": false,
          "schema_version": 1,
          "solution": true
        },
        "id": "jCxWmA1eKDWB",
        "colab_type": "code",
        "outputId": "1585d12d-0759-4848-f511-40a66923cad9",
        "colab": {
          "base_uri": "https://localhost:8080/",
          "height": 71
        }
      },
      "source": [
        "#Replace 0 with the code / value; Do not delete this cell\n",
        "closest1 = model.most_similar(positive=['King','Queen'], negative=['Man'])[:2]\n",
        "closest2 = model.most_similar(positive=['bigger','small'], negative=['big'])[:2]\n",
        "closest3 = model.most_similar(positive=['man','programmer'], negative=['woman'])[:2]\n",
        "closest4 = model.most_similar(positive=['waiting','run'], negative=['wait'])[:2]\n",
        "closest5 = model.most_similar(positive=['Texas','Milwaukee'], negative=['Wisconsin'])[:2]\n"
      ],
      "execution_count": 0,
      "outputs": [
        {
          "output_type": "stream",
          "text": [
            "/usr/local/lib/python3.6/dist-packages/gensim/matutils.py:737: FutureWarning: Conversion of the second argument of issubdtype from `int` to `np.signedinteger` is deprecated. In future, it will be treated as `np.int64 == np.dtype(int).type`.\n",
            "  if np.issubdtype(vec.dtype, np.int):\n"
          ],
          "name": "stderr"
        }
      ]
    },
    {
      "cell_type": "code",
      "metadata": {
        "deletable": false,
        "editable": false,
        "nbgrader": {
          "checksum": "f9c5ff502264f29d2632c6387f92686a",
          "grade": true,
          "grade_id": "cell-b69718ab0e1470bc",
          "locked": true,
          "points": 1,
          "schema_version": 1,
          "solution": false
        },
        "id": "io9elfD8KDWE",
        "colab_type": "code",
        "outputId": "7a513c5a-212e-4107-cdc5-e7feef33c364",
        "colab": {
          "base_uri": "https://localhost:8080/",
          "height": 102
        }
      },
      "source": [
        "#This is an autograded cell, do not edit/delete\n",
        "print(closest1)\n",
        "print(closest2)\n",
        "print(closest3)\n",
        "print(closest4)\n",
        "print(closest5)\n"
      ],
      "execution_count": 0,
      "outputs": [
        {
          "output_type": "stream",
          "text": [
            "[('Queen_Elizabeth', 0.5257916450500488), ('monarch', 0.5004087090492249)]\n",
            "[('larger', 0.7402471899986267), ('smaller', 0.732999324798584)]\n",
            "[('programer', 0.5371963977813721), ('programmers', 0.5310999155044556)]\n",
            "[('running', 0.5654535889625549), ('runs', 0.49640005826950073)]\n",
            "[('Houston', 0.7767744064331055), ('Fort_Worth', 0.7270511388778687)]\n"
          ],
          "name": "stdout"
        }
      ]
    },
    {
      "cell_type": "markdown",
      "metadata": {
        "deletable": false,
        "editable": false,
        "nbgrader": {
          "checksum": "6432058d78f4fa52224c48a3b3e71d0d",
          "grade": false,
          "grade_id": "cell-73dca0e2072fef91",
          "locked": true,
          "schema_version": 1,
          "solution": false
        },
        "id": "erUu4u71KDWJ",
        "colab_type": "text"
      },
      "source": [
        "**Q6 (3 points)**: Using the vectors for the words in the Google News dataset, explore the semantic representation of these words through K-means clustering and explain your findings.\n",
        "\n",
        "*Note : Since there are ~3Mil words in the vocabulary, you can downsample it to ~20-30k randomly selected words*\n",
        "\n",
        "**Do not delete the below cell**"
      ]
    },
    {
      "cell_type": "code",
      "metadata": {
        "deletable": false,
        "nbgrader": {
          "checksum": "7ecef46689f11d4d0a6fed72e049235f",
          "grade": true,
          "grade_id": "cell-80b177848b8b0212",
          "locked": false,
          "points": 3,
          "schema_version": 1,
          "solution": true
        },
        "id": "M3jN02fOKDWK",
        "colab_type": "code",
        "outputId": "13608141-7294-4830-c750-4dc6443207ff",
        "colab": {
          "base_uri": "https://localhost:8080/",
          "height": 88
        }
      },
      "source": [
        "from random import sample\n",
        "import numpy as np\n",
        "\n",
        "words = list(model.wv.vocab.keys())\n",
        "sample = sample(words, 20000)\n",
        "#sample\n",
        "\n",
        "X = np.empty((20000, 300))\n",
        "for i in range(20000):\n",
        "  X[i] = model[sample[i]]\n",
        "\n",
        "X.shape"
      ],
      "execution_count": 0,
      "outputs": [
        {
          "output_type": "stream",
          "text": [
            "/usr/local/lib/python3.6/dist-packages/ipykernel_launcher.py:4: DeprecationWarning: Call to deprecated `wv` (Attribute will be removed in 4.0.0, use self instead).\n",
            "  after removing the cwd from sys.path.\n"
          ],
          "name": "stderr"
        },
        {
          "output_type": "execute_result",
          "data": {
            "text/plain": [
              "(20000, 300)"
            ]
          },
          "metadata": {
            "tags": []
          },
          "execution_count": 13
        }
      ]
    },
    {
      "cell_type": "code",
      "metadata": {
        "id": "R1oNUx9wBWJb",
        "colab_type": "code",
        "outputId": "909cbcfd-8c10-40b3-bc0e-fdf7e6de5258",
        "colab": {
          "base_uri": "https://localhost:8080/",
          "height": 136
        }
      },
      "source": [
        "from sklearn.cluster import KMeans\n",
        "from sklearn.metrics import silhouette_score\n",
        "\n",
        "for k in range(2,9):\n",
        "  kmeans = KMeans(n_clusters = k, random_state = 42)\n",
        "  kmeans.fit(X)\n",
        "  score = silhouette_score(X, kmeans.labels_)\n",
        "  print('k: {} score: {}'.format(k, score)) \n"
      ],
      "execution_count": 0,
      "outputs": [
        {
          "output_type": "stream",
          "text": [
            "k: 2 score: 0.2153115242061107\n",
            "k: 3 score: 0.1291362212919472\n",
            "k: 4 score: 0.07297147856266706\n",
            "k: 5 score: 0.06197115288921009\n",
            "k: 6 score: 0.05694870119466965\n",
            "k: 7 score: 0.04609936400448944\n",
            "k: 8 score: 0.03132558666142625\n"
          ],
          "name": "stdout"
        }
      ]
    },
    {
      "cell_type": "code",
      "metadata": {
        "id": "ZS_4bFMXIH4x",
        "colab_type": "code",
        "outputId": "1c780792-b31a-444f-febd-5784a2b982bc",
        "colab": {
          "base_uri": "https://localhost:8080/",
          "height": 105
        }
      },
      "source": [
        "# 2 is best K\n",
        "kmeans = KMeans(n_clusters = 2, random_state = 42)\n",
        "kmeans.fit(X)\n",
        "\n",
        "cluster_1 = model.similar_by_vector(kmeans.cluster_centers_[0])[:5]\n",
        "cluster_2 = model.similar_by_vector(kmeans.cluster_centers_[1])[:5]\n",
        "print(cluster_1)\n",
        "print(cluster_2)\n",
        "\n",
        "# The first cluster is a cluster of words that appears to names or authors from\n",
        "# Google's news data.  This could be why those words and their semantic representation\n",
        "# are clustered together.  The second cluster seems to by words that in HTML or \n",
        "# irregular .net syntax.  However, I do feel that these clusters may overlap \n",
        "# (not a clean cluster), especially since there are so many data points and the \n",
        "# best K was 2. "
      ],
      "execution_count": 0,
      "outputs": [
        {
          "output_type": "stream",
          "text": [
            "/usr/local/lib/python3.6/dist-packages/gensim/matutils.py:737: FutureWarning: Conversion of the second argument of issubdtype from `int` to `np.signedinteger` is deprecated. In future, it will be treated as `np.int64 == np.dtype(int).type`.\n",
            "  if np.issubdtype(vec.dtype, np.int):\n"
          ],
          "name": "stderr"
        },
        {
          "output_type": "stream",
          "text": [
            "[('Emil_Protalinski_Published', 0.9194611310958862), ('By_QianMian_####-##-##', 0.917617678642273), ('By_HuDie_####-##-##', 0.9174624681472778), ('By_XiaoBing_####-##-##', 0.9159759283065796), ('BY_GEOFF_KOHL', 0.9159120917320251)]\n",
            "[('http_dol##.net_index###.html_http', 0.918448805809021), ('dol##.net_index####.html_http_dol##.net', 0.9081463813781738), ('index###.html_http_dol##.net_index###.html', 0.9070696830749512), ('Deltagen_undertakes', 0.9042704105377197), ('By_TRICIA_SCRUGGS', 0.9025315046310425)]\n"
          ],
          "name": "stdout"
        }
      ]
    },
    {
      "cell_type": "markdown",
      "metadata": {
        "deletable": false,
        "editable": false,
        "nbgrader": {
          "checksum": "0467b27a0f59504cbb62b851a002386f",
          "grade": false,
          "grade_id": "cell-5b2a5e8ff6c74323",
          "locked": true,
          "schema_version": 1,
          "solution": false
        },
        "id": "rmdtLoHkKDWR",
        "colab_type": "text"
      },
      "source": [
        "**Q7 (1 point)**: What loss function does the skipgram model use and briefly describe what this function is minimizing.\n",
        "\n",
        "**Do not delete the below cell**"
      ]
    },
    {
      "cell_type": "code",
      "metadata": {
        "deletable": false,
        "nbgrader": {
          "checksum": "774aef2c5bf8ef9d92e3489d1cd80390",
          "grade": true,
          "grade_id": "cell-90cc4b2c0ae8e2c2",
          "locked": false,
          "points": 1,
          "schema_version": 1,
          "solution": true
        },
        "id": "SyOASYXOKDWS",
        "colab_type": "code",
        "colab": {}
      },
      "source": [
        "# Skipgram model uses categorical cross-entropy loss function.\n",
        "# Categorical cross-entropy is used for single label categorization, when only \n",
        "# one category is applicable for each data point. This loss function is minimizing\n",
        "# the difference (error) between the true distribution class (usually one-hot encoded) \n",
        "# and the distribution of the predictions.  Minimizing the dot product, if normalized\n",
        "# using softmax, of the predicted vector and the true vector.\n"
      ],
      "execution_count": 0,
      "outputs": []
    },
    {
      "cell_type": "markdown",
      "metadata": {
        "deletable": false,
        "editable": false,
        "nbgrader": {
          "checksum": "c14f6069f64cc86ab6e384d28df270d8",
          "grade": false,
          "grade_id": "cell-74a177caaabb5009",
          "locked": true,
          "schema_version": 1,
          "solution": false
        },
        "id": "dbpuJx9CKDWV",
        "colab_type": "text"
      },
      "source": [
        "**Bonus Question (1 point)** : Find at least 2 interesting word vec combinations like the ones given in Q5\n",
        "\n",
        "**Do not delete the below cell**"
      ]
    },
    {
      "cell_type": "code",
      "metadata": {
        "deletable": false,
        "nbgrader": {
          "checksum": "c2d42b5327f4b020c7e1706506dd5ce9",
          "grade": true,
          "grade_id": "cell-7351297993d72e83",
          "locked": false,
          "points": 1,
          "schema_version": 1,
          "solution": true
        },
        "id": "pQM8C_T7KDWW",
        "colab_type": "code",
        "outputId": "289d0492-b837-485d-bf5e-b3ce0f8c8138",
        "colab": {
          "base_uri": "https://localhost:8080/",
          "height": 71
        }
      },
      "source": [
        "inter_one = model.most_similar(positive=['Porsche','BMW'], negative=['Mercedes'])[:2]\n",
        "inter_two = model.most_similar(positive=['California','New_York'], negative=['Nebraska'])[:2]"
      ],
      "execution_count": 0,
      "outputs": [
        {
          "output_type": "stream",
          "text": [
            "/usr/local/lib/python3.6/dist-packages/gensim/matutils.py:737: FutureWarning: Conversion of the second argument of issubdtype from `int` to `np.signedinteger` is deprecated. In future, it will be treated as `np.int64 == np.dtype(int).type`.\n",
            "  if np.issubdtype(vec.dtype, np.int):\n"
          ],
          "name": "stderr"
        }
      ]
    },
    {
      "cell_type": "code",
      "metadata": {
        "id": "5o9tzdsTKDWZ",
        "colab_type": "code",
        "outputId": "4f7c61d2-956f-4de1-d993-e54862fc10b9",
        "colab": {
          "base_uri": "https://localhost:8080/",
          "height": 51
        }
      },
      "source": [
        "print(inter_one)\n",
        "print(inter_two)"
      ],
      "execution_count": 0,
      "outputs": [
        {
          "output_type": "stream",
          "text": [
            "[('Audi', 0.6969912052154541), ('Volkswagen', 0.6102272868156433)]\n",
            "[('Los_Angeles', 0.6218940019607544), ('San_Francisco', 0.5677804946899414)]\n"
          ],
          "name": "stdout"
        }
      ]
    },
    {
      "cell_type": "code",
      "metadata": {
        "id": "_rL33JFmPQld",
        "colab_type": "code",
        "colab": {}
      },
      "source": [
        ""
      ],
      "execution_count": 0,
      "outputs": []
    },
    {
      "cell_type": "code",
      "metadata": {
        "id": "qFyJ-n17PdNF",
        "colab_type": "code",
        "colab": {}
      },
      "source": [
        ""
      ],
      "execution_count": 0,
      "outputs": []
    },
    {
      "cell_type": "markdown",
      "metadata": {
        "id": "quDkyJd_PnQB",
        "colab_type": "text"
      },
      "source": [
        "LAB 6b)"
      ]
    },
    {
      "cell_type": "code",
      "metadata": {
        "id": "Bk7vfDDwPqKe",
        "colab_type": "code",
        "colab": {
          "base_uri": "https://localhost:8080/",
          "height": 170
        },
        "outputId": "05e40874-216d-4dc1-9c70-aa075abede0b"
      },
      "source": [
        "import os\n",
        "import string\n",
        "import pandas as pd\n",
        "import numpy as np\n",
        "import re\n",
        "import pprint\n",
        "from urllib.request import urlopen\n",
        "\n",
        "import gensim\n",
        "from gensim import corpora, models, similarities\n",
        "import nltk\n",
        "from nltk import word_tokenize, tokenize\n",
        "nltk.download('punkt')\n",
        "!wget -c \"https://s3.amazonaws.com/dl4j-distribution/GoogleNews-vectors-negative300.bin.gz\""
      ],
      "execution_count": 92,
      "outputs": [
        {
          "output_type": "stream",
          "text": [
            "[nltk_data] Downloading package punkt to /root/nltk_data...\n",
            "[nltk_data]   Package punkt is already up-to-date!\n",
            "--2019-11-12 03:56:03--  https://s3.amazonaws.com/dl4j-distribution/GoogleNews-vectors-negative300.bin.gz\n",
            "Resolving s3.amazonaws.com (s3.amazonaws.com)... 52.217.4.6\n",
            "Connecting to s3.amazonaws.com (s3.amazonaws.com)|52.217.4.6|:443... connected.\n",
            "HTTP request sent, awaiting response... 416 Requested Range Not Satisfiable\n",
            "\n",
            "    The file is already fully retrieved; nothing to do.\n",
            "\n"
          ],
          "name": "stdout"
        }
      ]
    },
    {
      "cell_type": "code",
      "metadata": {
        "id": "QNnDsIfXQaUE",
        "colab_type": "code",
        "colab": {}
      },
      "source": [
        "### Download and load \"Alice in Wonderland\" by Alice Gerstenberg\n",
        "## from Project Gutenberg : https://www.gutenberg.org\n",
        "url = \"http://www.gutenberg.org/files/11/11-0.txt\" ## Your raw text file location \n",
        "resp = urlopen(url)\n",
        "raw = resp.read().decode('utf8')\n",
        "firstlook = tokenize.sent_tokenize(raw)"
      ],
      "execution_count": 0,
      "outputs": []
    },
    {
      "cell_type": "code",
      "metadata": {
        "id": "oQXOiKT2Qs-N",
        "colab_type": "code",
        "colab": {}
      },
      "source": [
        "pattern = r'''(?x)  # set flag to allow verbose regexps\n",
        "(?:[A-Z]\\.)+        # abbreviations, e.g. U.S.A.\n",
        "|\\w+(?:[-']\\w+)*    # words with optional internal hyphens\n",
        "|\\$?\\d+(?:\\.\\d+)?   # currency, e.g. $12.80 \n",
        "|\\.\\.\\.             # elipses\n",
        "|[.,;\"'?()-_`]      # these are separate tokens\n",
        "'''\n",
        "tokenized_raw = \" \".join(nltk.regexp_tokenize(raw, pattern))\n",
        "tokenized_raw = tokenize.sent_tokenize(tokenized_raw)"
      ],
      "execution_count": 0,
      "outputs": []
    },
    {
      "cell_type": "code",
      "metadata": {
        "id": "7woQYo7yQuvO",
        "colab_type": "code",
        "colab": {
          "base_uri": "https://localhost:8080/",
          "height": 207
        },
        "outputId": "03d21430-03f1-4a35-80e7-e1946905d094"
      },
      "source": [
        "tokenized_raw[:10]"
      ],
      "execution_count": 95,
      "outputs": [
        {
          "output_type": "execute_result",
          "data": {
            "text/plain": [
              "['Project Gutenberg s Alice s Adventures in Wonderland , by Lewis Carroll This eBook is for the use of anyone anywhere at no cost and with almost no restrictions whatsoever .',\n",
              " 'You may copy it , give it away or re-use it under the terms of the Project Gutenberg License included with this eBook or online at www .',\n",
              " 'gutenberg .',\n",
              " 'org Title : Alice s Adventures in Wonderland Author : Lewis Carroll Posting Date : June 25 , 2008 [ EBook 11 ] Release Date : March , 1994 Last Updated : October 6 , 2016 Language : English Character set encoding : UTF-8 * * * START OF THIS PROJECT GUTENBERG EBOOK ALICE S ADVENTURES IN WONDERLAND * * * ALICE S ADVENTURES IN WONDERLAND Lewis Carroll THE MILLENNIUM FULCRUM EDITION 3 .',\n",
              " '0 CHAPTER I.',\n",
              " 'Down the Rabbit-Hole Alice was beginning to get very tired of sitting by her sister on the bank , and of having nothing to do : once or twice she had peeped into the book her sister was reading , but it had no pictures or conversations in it , and what is the use of a book , thought Alice without pictures or conversations ?',\n",
              " 'So she was considering in her own mind ( as well as she could , for the hot day made her feel very sleepy and stupid ) , whether the pleasure of making a daisy-chain would be worth the trouble of getting up and picking the daisies , when suddenly a White Rabbit with pink eyes ran close by her .',\n",
              " 'There was nothing so VERY remarkable in that ; nor did Alice think it so VERY much out of the way to hear the Rabbit say to itself , Oh dear Oh dear I shall be late ( when she thought it over afterwards , it occurred to her that she ought to have wondered at this , but at the time it all seemed quite natural ) ; but when the Rabbit actually TOOK A WATCH OUT OF ITS WAISTCOAT-POCKET , and looked at it , and then hurried on , Alice started to her feet , for it flashed across her mind that she had never before seen a rabbit with either a waistcoat-pocket , or a watch to take out of it , and burning with curiosity , she ran across the field after it , and fortunately was just in time to see it pop down a large rabbit-hole under the hedge .',\n",
              " 'In another moment down went Alice after it , never once considering how in the world she was to get out again .',\n",
              " 'The rabbit-hole went straight on like a tunnel for some way , and then dipped suddenly down , so suddenly that Alice had not a moment to think about stopping herself before she found herself falling down a very deep well .']"
            ]
          },
          "metadata": {
            "tags": []
          },
          "execution_count": 95
        }
      ]
    },
    {
      "cell_type": "code",
      "metadata": {
        "id": "1kjx762VTK5H",
        "colab_type": "code",
        "colab": {}
      },
      "source": [
        "# Remove punctuations & lowecase text\n",
        "nopunct = []\n",
        "for sent in tokenized_raw:\n",
        "    a = [w.lower() for w in sent.split() if w not in string.punctuation]\n",
        "    nopunct.append(\" \".join(a))"
      ],
      "execution_count": 0,
      "outputs": []
    },
    {
      "cell_type": "code",
      "metadata": {
        "id": "9RI917LaTioW",
        "colab_type": "code",
        "colab": {
          "base_uri": "https://localhost:8080/",
          "height": 510
        },
        "outputId": "36c59549-d3cf-4c42-a287-32a4a517829a"
      },
      "source": [
        "# Word tokenize\n",
        "tok_corp = [nltk.word_tokenize(sent) for sent in nopunct]\n",
        "tok_corp[0]"
      ],
      "execution_count": 97,
      "outputs": [
        {
          "output_type": "execute_result",
          "data": {
            "text/plain": [
              "['project',\n",
              " 'gutenberg',\n",
              " 's',\n",
              " 'alice',\n",
              " 's',\n",
              " 'adventures',\n",
              " 'in',\n",
              " 'wonderland',\n",
              " 'by',\n",
              " 'lewis',\n",
              " 'carroll',\n",
              " 'this',\n",
              " 'ebook',\n",
              " 'is',\n",
              " 'for',\n",
              " 'the',\n",
              " 'use',\n",
              " 'of',\n",
              " 'anyone',\n",
              " 'anywhere',\n",
              " 'at',\n",
              " 'no',\n",
              " 'cost',\n",
              " 'and',\n",
              " 'with',\n",
              " 'almost',\n",
              " 'no',\n",
              " 'restrictions',\n",
              " 'whatsoever']"
            ]
          },
          "metadata": {
            "tags": []
          },
          "execution_count": 97
        }
      ]
    },
    {
      "cell_type": "code",
      "metadata": {
        "id": "Nej_XmzwU_fo",
        "colab_type": "code",
        "colab": {
          "base_uri": "https://localhost:8080/",
          "height": 34
        },
        "outputId": "c60decdb-0d51-4d6d-ad70-2d59282cc747"
      },
      "source": [
        "### Creating a list of unique words \n",
        "unique_words = list(set([item for sublist in tok_corp for item in sublist]))\n",
        "print(len(unique_words))"
      ],
      "execution_count": 98,
      "outputs": [
        {
          "output_type": "stream",
          "text": [
            "3084\n"
          ],
          "name": "stdout"
        }
      ]
    },
    {
      "cell_type": "markdown",
      "metadata": {
        "id": "PGDm_YIVUNw-",
        "colab_type": "text"
      },
      "source": [
        "1) Generate embeddings from the corpus you have chosen."
      ]
    },
    {
      "cell_type": "code",
      "metadata": {
        "id": "j6nFBfzyURPC",
        "colab_type": "code",
        "colab": {}
      },
      "source": [
        "### Its just one single command\n",
        "model = gensim.models.Word2Vec(tok_corp, min_count=1, size=16, window=5)\n",
        "\n",
        "## Window size : The parameter that fixes the length of window of words by which the model sweeps \n",
        "# the data\n",
        "## Size: Size of the vector\n",
        "## min_count: accept a word if it has a certain minimum number of occurances in the document"
      ],
      "execution_count": 0,
      "outputs": []
    },
    {
      "cell_type": "code",
      "metadata": {
        "id": "XQpVOUgjX9T1",
        "colab_type": "code",
        "colab": {
          "base_uri": "https://localhost:8080/",
          "height": 71
        },
        "outputId": "ff4dbab3-f692-40bc-8e4e-b35b590652d2"
      },
      "source": [
        "## Extracting the respective vectors corresponding to the words\n",
        "vector_list = model[unique_words] ## n by d matrix containing words and their respective vectors"
      ],
      "execution_count": 100,
      "outputs": [
        {
          "output_type": "stream",
          "text": [
            "/usr/local/lib/python3.6/dist-packages/ipykernel_launcher.py:1: DeprecationWarning: Call to deprecated `__getitem__` (Method will be removed in 4.0.0, use self.wv.__getitem__() instead).\n",
            "  \"\"\"Entry point for launching an IPython kernel.\n"
          ],
          "name": "stderr"
        }
      ]
    },
    {
      "cell_type": "code",
      "metadata": {
        "id": "Z111WrUKYIIM",
        "colab_type": "code",
        "colab": {
          "base_uri": "https://localhost:8080/",
          "height": 34
        },
        "outputId": "83e30b8c-db11-4437-d91e-d93f2598bbdb"
      },
      "source": [
        "len(vector_list)"
      ],
      "execution_count": 101,
      "outputs": [
        {
          "output_type": "execute_result",
          "data": {
            "text/plain": [
              "3084"
            ]
          },
          "metadata": {
            "tags": []
          },
          "execution_count": 101
        }
      ]
    },
    {
      "cell_type": "markdown",
      "metadata": {
        "id": "aq-eiM4QYhEA",
        "colab_type": "text"
      },
      "source": [
        "2) 3 Hypothesis of choosen corpus"
      ]
    },
    {
      "cell_type": "code",
      "metadata": {
        "id": "iNfnxuV5YwAy",
        "colab_type": "code",
        "colab": {
          "base_uri": "https://localhost:8080/",
          "height": 411
        },
        "outputId": "a52cf547-b00f-4297-cdf3-ed282c9d5370"
      },
      "source": [
        "# Hypothesis one: I think the word 'Alice' and the words 'girl/young'\n",
        "# will have a high similarity (smaller angle between vectors)\n",
        "\n",
        "print('alice/girl' , model.similarity('alice', 'girl')) # 0.9476881\n",
        "print('alice/young' , model.similarity('alice', 'young')) # 0.9909074\n",
        "\n",
        "# Hypothesis two: I think the word 'Rabbit' and the words 'timid/hurry'\n",
        "# will have a high similarity (smaller angle between vectors)\n",
        "\n",
        "print('rabbit/timid', model.similarity('rabbit', 'timid')) # 0.9076624\n",
        "print('rabbit/hurry', model.similarity('rabbit', 'hurry')) # 0.9870283\n",
        "\n",
        "# Hypothesis three: I think the word 'Queen' and the words \n",
        "# 'mean/loud' will have a high similarity (smaller angle between vectors)\n",
        "\n",
        "print('queen/mean', model.similarity('queen', 'mean')) # 0.98348093\n",
        "print('queen/loud', model.similarity('queen', 'loud')) # 0.9866151\n",
        "\n",
        "# However, certain pairs of words that I would not expect to be similar \n",
        "# like Alice - Old have a similarity of almost 1, which does not make \n",
        "# sense.  This could possibly be the case because I am referencing/using\n",
        "# a very small corpus.\n",
        "print('alice/old' , model.similarity('alice', 'old')) # 0.9988168"
      ],
      "execution_count": 102,
      "outputs": [
        {
          "output_type": "stream",
          "text": [
            "alice/girl 0.9439648\n",
            "alice/young 0.9923736\n",
            "rabbit/timid 0.96509993\n",
            "rabbit/hurry 0.9944021\n",
            "queen/mean 0.9821536\n",
            "queen/loud 0.98684436\n",
            "alice/old 0.9988314\n"
          ],
          "name": "stdout"
        },
        {
          "output_type": "stream",
          "text": [
            "/usr/local/lib/python3.6/dist-packages/ipykernel_launcher.py:2: DeprecationWarning: Call to deprecated `similarity` (Method will be removed in 4.0.0, use self.wv.similarity() instead).\n",
            "  \n",
            "/usr/local/lib/python3.6/dist-packages/gensim/matutils.py:737: FutureWarning: Conversion of the second argument of issubdtype from `int` to `np.signedinteger` is deprecated. In future, it will be treated as `np.int64 == np.dtype(int).type`.\n",
            "  if np.issubdtype(vec.dtype, np.int):\n",
            "/usr/local/lib/python3.6/dist-packages/ipykernel_launcher.py:3: DeprecationWarning: Call to deprecated `similarity` (Method will be removed in 4.0.0, use self.wv.similarity() instead).\n",
            "  This is separate from the ipykernel package so we can avoid doing imports until\n",
            "/usr/local/lib/python3.6/dist-packages/ipykernel_launcher.py:8: DeprecationWarning: Call to deprecated `similarity` (Method will be removed in 4.0.0, use self.wv.similarity() instead).\n",
            "  \n",
            "/usr/local/lib/python3.6/dist-packages/ipykernel_launcher.py:9: DeprecationWarning: Call to deprecated `similarity` (Method will be removed in 4.0.0, use self.wv.similarity() instead).\n",
            "  if __name__ == '__main__':\n",
            "/usr/local/lib/python3.6/dist-packages/ipykernel_launcher.py:14: DeprecationWarning: Call to deprecated `similarity` (Method will be removed in 4.0.0, use self.wv.similarity() instead).\n",
            "  \n",
            "/usr/local/lib/python3.6/dist-packages/ipykernel_launcher.py:15: DeprecationWarning: Call to deprecated `similarity` (Method will be removed in 4.0.0, use self.wv.similarity() instead).\n",
            "  from ipykernel import kernelapp as app\n",
            "/usr/local/lib/python3.6/dist-packages/ipykernel_launcher.py:21: DeprecationWarning: Call to deprecated `similarity` (Method will be removed in 4.0.0, use self.wv.similarity() instead).\n"
          ],
          "name": "stderr"
        }
      ]
    },
    {
      "cell_type": "markdown",
      "metadata": {
        "id": "PMhVwuvTjF5T",
        "colab_type": "text"
      },
      "source": [
        "3) T-SNE dimensionality reduction"
      ]
    },
    {
      "cell_type": "markdown",
      "metadata": {
        "id": "XYmRB03el0HZ",
        "colab_type": "text"
      },
      "source": [
        "3a) Google News Corpus"
      ]
    },
    {
      "cell_type": "code",
      "metadata": {
        "id": "6PtDz7Mql6fy",
        "colab_type": "code",
        "colab": {
          "base_uri": "https://localhost:8080/",
          "height": 71
        },
        "outputId": "c421817c-b9ce-43a9-c705-ee1c2f799950"
      },
      "source": [
        "from gensim.models import KeyedVectors\n",
        "model = KeyedVectors.load_word2vec_format('GoogleNews-vectors-negative300.bin.gz', binary=True)"
      ],
      "execution_count": 103,
      "outputs": [
        {
          "output_type": "stream",
          "text": [
            "/usr/local/lib/python3.6/dist-packages/smart_open/smart_open_lib.py:402: UserWarning: This function is deprecated, use smart_open.open instead. See the migration notes for details: https://github.com/RaRe-Technologies/smart_open/blob/master/README.rst#migrating-to-the-new-open-function\n",
            "  'See the migration notes for details: %s' % _MIGRATION_NOTES_URL\n"
          ],
          "name": "stderr"
        }
      ]
    },
    {
      "cell_type": "code",
      "metadata": {
        "id": "OShoBX9EopGy",
        "colab_type": "code",
        "colab": {
          "base_uri": "https://localhost:8080/",
          "height": 71
        },
        "outputId": "89aa518e-d771-44d3-eede-8e80d12be19f"
      },
      "source": [
        "# 20k samples\n",
        "most_frequent = model.wv.index2entity[:20000]\n",
        "most_frequent_vectors = model[most_frequent]"
      ],
      "execution_count": 84,
      "outputs": [
        {
          "output_type": "stream",
          "text": [
            "/usr/local/lib/python3.6/dist-packages/ipykernel_launcher.py:1: DeprecationWarning: Call to deprecated `wv` (Attribute will be removed in 4.0.0, use self instead).\n",
            "  \"\"\"Entry point for launching an IPython kernel.\n"
          ],
          "name": "stderr"
        }
      ]
    },
    {
      "cell_type": "code",
      "metadata": {
        "id": "dXCJyWIoqI1C",
        "colab_type": "code",
        "colab": {
          "base_uri": "https://localhost:8080/",
          "height": 816
        },
        "outputId": "c531973e-a528-4b5e-bee0-21310d24aa9b"
      },
      "source": [
        "## A popular non-linear dimensionality reduction technique that preserves greatly thge local \n",
        "## and global structure of the data. Essentially tries to reconstruct the subspace in which the \n",
        "## data exists\n",
        "## We will use the Sklearn TSNE implementation \n",
        "\n",
        "from sklearn.manifold import TSNE\n",
        "\n",
        "# Lets dim reduce the 16 dimension vectors to 2dimensions to vizualise the dataset \n",
        "data_embed=TSNE(n_components=2, perplexity=50, verbose=2, method='barnes_hut').fit_transform(most_frequent_vectors)\n",
        "\n",
        "\n",
        "## Parameters\n",
        "## n_components = number of dimensions you want your data to be reduced\n",
        "## preplexity =  Number of neighboours to fit the gaussian , normally 30"
      ],
      "execution_count": 104,
      "outputs": [
        {
          "output_type": "stream",
          "text": [
            "[t-SNE] Computing 151 nearest neighbors...\n",
            "[t-SNE] Indexed 20000 samples in 0.321s...\n",
            "[t-SNE] Computed neighbors for 20000 samples in 355.674s...\n",
            "[t-SNE] Computed conditional probabilities for sample 1000 / 20000\n",
            "[t-SNE] Computed conditional probabilities for sample 2000 / 20000\n",
            "[t-SNE] Computed conditional probabilities for sample 3000 / 20000\n",
            "[t-SNE] Computed conditional probabilities for sample 4000 / 20000\n",
            "[t-SNE] Computed conditional probabilities for sample 5000 / 20000\n",
            "[t-SNE] Computed conditional probabilities for sample 6000 / 20000\n",
            "[t-SNE] Computed conditional probabilities for sample 7000 / 20000\n",
            "[t-SNE] Computed conditional probabilities for sample 8000 / 20000\n",
            "[t-SNE] Computed conditional probabilities for sample 9000 / 20000\n",
            "[t-SNE] Computed conditional probabilities for sample 10000 / 20000\n",
            "[t-SNE] Computed conditional probabilities for sample 11000 / 20000\n",
            "[t-SNE] Computed conditional probabilities for sample 12000 / 20000\n",
            "[t-SNE] Computed conditional probabilities for sample 13000 / 20000\n",
            "[t-SNE] Computed conditional probabilities for sample 14000 / 20000\n",
            "[t-SNE] Computed conditional probabilities for sample 15000 / 20000\n",
            "[t-SNE] Computed conditional probabilities for sample 16000 / 20000\n",
            "[t-SNE] Computed conditional probabilities for sample 17000 / 20000\n",
            "[t-SNE] Computed conditional probabilities for sample 18000 / 20000\n",
            "[t-SNE] Computed conditional probabilities for sample 19000 / 20000\n",
            "[t-SNE] Computed conditional probabilities for sample 20000 / 20000\n",
            "[t-SNE] Mean sigma: 0.993958\n",
            "[t-SNE] Computed conditional probabilities in 1.667s\n",
            "[t-SNE] Iteration 50: error = 102.4217300, gradient norm = 0.0884785 (50 iterations in 31.838s)\n",
            "[t-SNE] Iteration 100: error = 103.5877075, gradient norm = 0.0763334 (50 iterations in 31.741s)\n",
            "[t-SNE] Iteration 150: error = 103.4756851, gradient norm = 0.1010316 (50 iterations in 45.588s)\n",
            "[t-SNE] Iteration 200: error = 104.2032318, gradient norm = 0.0633740 (50 iterations in 47.760s)\n",
            "[t-SNE] Iteration 250: error = 103.5749817, gradient norm = 0.0672871 (50 iterations in 44.525s)\n",
            "[t-SNE] KL divergence after 250 iterations with early exaggeration: 103.574982\n",
            "[t-SNE] Iteration 300: error = 4.6278901, gradient norm = 0.0037884 (50 iterations in 42.583s)\n",
            "[t-SNE] Iteration 350: error = 3.9639275, gradient norm = 0.0014123 (50 iterations in 50.064s)\n",
            "[t-SNE] Iteration 400: error = 3.6465757, gradient norm = 0.0017317 (50 iterations in 26.394s)\n",
            "[t-SNE] Iteration 450: error = 3.5036974, gradient norm = 0.0002767 (50 iterations in 12.796s)\n",
            "[t-SNE] Iteration 500: error = 3.4018362, gradient norm = 0.0002013 (50 iterations in 12.733s)\n",
            "[t-SNE] Iteration 550: error = 3.3244998, gradient norm = 0.0001611 (50 iterations in 12.830s)\n",
            "[t-SNE] Iteration 600: error = 3.2603705, gradient norm = 0.0001341 (50 iterations in 12.841s)\n",
            "[t-SNE] Iteration 650: error = 3.2077427, gradient norm = 0.0001134 (50 iterations in 13.206s)\n",
            "[t-SNE] Iteration 700: error = 3.1637375, gradient norm = 0.0000992 (50 iterations in 13.531s)\n",
            "[t-SNE] Iteration 750: error = 3.1262357, gradient norm = 0.0000866 (50 iterations in 12.894s)\n",
            "[t-SNE] Iteration 800: error = 3.0944855, gradient norm = 0.0000766 (50 iterations in 12.932s)\n",
            "[t-SNE] Iteration 850: error = 3.0668192, gradient norm = 0.0000684 (50 iterations in 13.210s)\n",
            "[t-SNE] Iteration 900: error = 3.0427163, gradient norm = 0.0000621 (50 iterations in 13.086s)\n",
            "[t-SNE] Iteration 950: error = 3.0212126, gradient norm = 0.0000568 (50 iterations in 13.185s)\n",
            "[t-SNE] Iteration 1000: error = 3.0023689, gradient norm = 0.0000538 (50 iterations in 13.226s)\n",
            "[t-SNE] KL divergence after 1000 iterations: 3.002369\n"
          ],
          "name": "stdout"
        }
      ]
    },
    {
      "cell_type": "markdown",
      "metadata": {
        "id": "ZzP6qSNeuGXA",
        "colab_type": "text"
      },
      "source": [
        "4) - Google News"
      ]
    },
    {
      "cell_type": "code",
      "metadata": {
        "id": "d71ZM-oUs5Te",
        "colab_type": "code",
        "colab": {}
      },
      "source": [
        "## Vizualise\n",
        "%matplotlib inline\n",
        "from matplotlib import pyplot as plt"
      ],
      "execution_count": 0,
      "outputs": []
    },
    {
      "cell_type": "code",
      "metadata": {
        "id": "sac438DbtJR8",
        "colab_type": "code",
        "colab": {
          "base_uri": "https://localhost:8080/",
          "height": 265
        },
        "outputId": "67172d97-6613-4ffa-b5ea-bcef0c15c6e2"
      },
      "source": [
        "x_axis= data_embed[:,0]\n",
        "y_axis=data_embed[:,1]\n",
        "\n",
        "plt.scatter(x_axis, y_axis, s=5)\n",
        "plt.show() ## The plots vary each time you run them "
      ],
      "execution_count": 106,
      "outputs": [
        {
          "output_type": "display_data",
          "data": {
            "image/png": "[encoded data removed]",
            "text/plain": [
              "<Figure size 432x288 with 1 Axes>"
            ]
          },
          "metadata": {
            "tags": []
          }
        }
      ]
    },
    {
      "cell_type": "markdown",
      "metadata": {
        "id": "udmvdr7bCa6R",
        "colab_type": "text"
      },
      "source": [
        "This scatter plot shows that there are many words with different embeddings being used in the Google News corpus.  When we reduced the dimensions from 16 to 2, the plot shown is a very large and spread 'blob'.  If we explore a few of the words in the corpus, we see that many of the words are stop words such as 'for', 'that', and 'the'.  It would make sense that these words have a high similarity because they could be used in the same context.  This could possibly be the reason why there is no unique pattern/shape like the corpus used in Alice in Wonderland. "
      ]
    },
    {
      "cell_type": "markdown",
      "metadata": {
        "id": "9hONpaVql3Q-",
        "colab_type": "text"
      },
      "source": [
        "3b) Alice in Wonderland Corpus"
      ]
    },
    {
      "cell_type": "code",
      "metadata": {
        "id": "PmHiEstDjM_c",
        "colab_type": "code",
        "colab": {
          "base_uri": "https://localhost:8080/",
          "height": 544
        },
        "outputId": "72aeb8f1-7f1e-47a3-e90b-e0087d5b1ef5"
      },
      "source": [
        "## A popular non-linear dimensionality reduction technique that preserves greatly thge local \n",
        "## and global structure of the data. Essentially tries to reconstruct the subspace in which the \n",
        "## data exists\n",
        "## We will use the Sklearn TSNE implementation \n",
        "\n",
        "from sklearn.manifold import TSNE\n",
        "\n",
        "# Lets dim reduce the 16 dimension vectors to 2dimensions to vizualise the dataset \n",
        "data_embed=TSNE(n_components=2, perplexity=50, verbose=2, method='barnes_hut').fit_transform(vector_list)\n",
        "\n",
        "## Parameters\n",
        "## n_components = number of dimensions you want your data to be reduced\n",
        "## preplexity =  Number of neighboours to fit the gaussian , normally 30 "
      ],
      "execution_count": 107,
      "outputs": [
        {
          "output_type": "stream",
          "text": [
            "[t-SNE] Computing 151 nearest neighbors...\n",
            "[t-SNE] Indexed 3084 samples in 0.004s...\n",
            "[t-SNE] Computed neighbors for 3084 samples in 0.260s...\n",
            "[t-SNE] Computed conditional probabilities for sample 1000 / 3084\n",
            "[t-SNE] Computed conditional probabilities for sample 2000 / 3084\n",
            "[t-SNE] Computed conditional probabilities for sample 3000 / 3084\n",
            "[t-SNE] Computed conditional probabilities for sample 3084 / 3084\n",
            "[t-SNE] Mean sigma: 0.032982\n",
            "[t-SNE] Computed conditional probabilities in 0.371s\n",
            "[t-SNE] Iteration 50: error = 74.9419937, gradient norm = 0.0516105 (50 iterations in 2.259s)\n",
            "[t-SNE] Iteration 100: error = 68.2900620, gradient norm = 0.0088813 (50 iterations in 1.214s)\n",
            "[t-SNE] Iteration 150: error = 67.9414749, gradient norm = 0.0152531 (50 iterations in 1.038s)\n",
            "[t-SNE] Iteration 200: error = 67.8603439, gradient norm = 0.0040627 (50 iterations in 1.025s)\n",
            "[t-SNE] Iteration 250: error = 67.7992096, gradient norm = 0.0029138 (50 iterations in 1.042s)\n",
            "[t-SNE] KL divergence after 250 iterations with early exaggeration: 67.799210\n",
            "[t-SNE] Iteration 300: error = 1.9112201, gradient norm = 0.0009388 (50 iterations in 1.170s)\n",
            "[t-SNE] Iteration 350: error = 1.7623144, gradient norm = 0.0003488 (50 iterations in 1.255s)\n",
            "[t-SNE] Iteration 400: error = 1.7068926, gradient norm = 0.0001874 (50 iterations in 1.173s)\n",
            "[t-SNE] Iteration 450: error = 1.6803905, gradient norm = 0.0001322 (50 iterations in 1.181s)\n",
            "[t-SNE] Iteration 500: error = 1.6674646, gradient norm = 0.0001004 (50 iterations in 1.195s)\n",
            "[t-SNE] Iteration 550: error = 1.6600497, gradient norm = 0.0000904 (50 iterations in 1.210s)\n",
            "[t-SNE] Iteration 600: error = 1.6550049, gradient norm = 0.0000813 (50 iterations in 1.204s)\n",
            "[t-SNE] Iteration 650: error = 1.6520506, gradient norm = 0.0000679 (50 iterations in 1.212s)\n",
            "[t-SNE] Iteration 700: error = 1.6494174, gradient norm = 0.0000664 (50 iterations in 1.211s)\n",
            "[t-SNE] Iteration 750: error = 1.6470420, gradient norm = 0.0000591 (50 iterations in 1.224s)\n",
            "[t-SNE] Iteration 800: error = 1.6450921, gradient norm = 0.0000588 (50 iterations in 1.226s)\n",
            "[t-SNE] Iteration 850: error = 1.6438574, gradient norm = 0.0000528 (50 iterations in 1.235s)\n",
            "[t-SNE] Iteration 900: error = 1.6427139, gradient norm = 0.0000475 (50 iterations in 1.245s)\n",
            "[t-SNE] Iteration 950: error = 1.6414369, gradient norm = 0.0000496 (50 iterations in 1.238s)\n",
            "[t-SNE] Iteration 1000: error = 1.6406730, gradient norm = 0.0000436 (50 iterations in 1.249s)\n",
            "[t-SNE] KL divergence after 1000 iterations: 1.640673\n"
          ],
          "name": "stdout"
        }
      ]
    },
    {
      "cell_type": "markdown",
      "metadata": {
        "id": "cRni5TDBuKjs",
        "colab_type": "text"
      },
      "source": [
        "4 - Alice in Wonderland "
      ]
    },
    {
      "cell_type": "code",
      "metadata": {
        "id": "jLrIp63dlZlr",
        "colab_type": "code",
        "colab": {}
      },
      "source": [
        "## Vizualise\n",
        "%matplotlib inline\n",
        "from matplotlib import pyplot as plt"
      ],
      "execution_count": 0,
      "outputs": []
    },
    {
      "cell_type": "code",
      "metadata": {
        "id": "qVXR8_RylaHs",
        "colab_type": "code",
        "colab": {
          "base_uri": "https://localhost:8080/",
          "height": 265
        },
        "outputId": "7c14a2c0-851f-4941-a956-08e9c483c102"
      },
      "source": [
        "x_axis= data_embed[:,0]\n",
        "y_axis=data_embed[:,1]\n",
        "\n",
        "plt.scatter(x_axis, y_axis, s=5)\n",
        "plt.show() ## The plots vary each time you run them "
      ],
      "execution_count": 109,
      "outputs": [
        {
          "output_type": "display_data",
          "data": {
            "image/png": "[encoded data removed]",
            "text/plain": [
              "<Figure size 432x288 with 1 Axes>"
            ]
          },
          "metadata": {
            "tags": []
          }
        }
      ]
    },
    {
      "cell_type": "markdown",
      "metadata": {
        "id": "HCExQQNfCZ1W",
        "colab_type": "text"
      },
      "source": [
        "This scatter plot shows that there are only a particular set of words being used in the Alice in Wonderland corpus.  Reducing the dimensions from 16 to 2, shows a scatter plot where many of the words are in a 'blob' on the left hand side, while the rest narrow together in a curved shape.  This may be the reason why certain words I would expect to have a low similarity actaully end up having a high similarity.  Another interesting fact is that the scatter plot for the book used in the tutorial had a very similar shape.  We were wondering if this could be because the vocab used in books are similar or are used in a similar context.\n",
        "\n"
      ]
    },
    {
      "cell_type": "markdown",
      "metadata": {
        "id": "iOEaNoqTuj1v",
        "colab_type": "text"
      },
      "source": [
        "6) TSV format"
      ]
    },
    {
      "cell_type": "code",
      "metadata": {
        "id": "TRHnA2qduqWJ",
        "colab_type": "code",
        "colab": {}
      },
      "source": [
        "import pandas as pd\n",
        "\n",
        "df = pd.DataFrame(data_embed)\n",
        "df['words'] = unique_words\n",
        "df = df.rename(columns = {0: 'dim1', 1: 'dim2'})\n",
        "df.to_csv('output_file.tsv', sep='\\t', index=False)"
      ],
      "execution_count": 0,
      "outputs": []
    },
    {
      "cell_type": "code",
      "metadata": {
        "id": "XL1up6YovUyo",
        "colab_type": "code",
        "colab": {}
      },
      "source": [
        "from google.colab import files\n",
        "files.download(\"output_file.tsv\")"
      ],
      "execution_count": 0,
      "outputs": []
    },
    {
      "cell_type": "code",
      "metadata": {
        "id": "L8dQo-GECLvn",
        "colab_type": "code",
        "colab": {}
      },
      "source": [
        ""
      ],
      "execution_count": 0,
      "outputs": []
    }
  ]
}