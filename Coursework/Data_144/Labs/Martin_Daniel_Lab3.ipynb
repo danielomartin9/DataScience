{
 "cells": [
  {
   "cell_type": "markdown",
   "metadata": {
    "colab_type": "text",
    "id": "vAxKKJ84ugjs"
   },
   "source": [
    "# DMA Fall 19"
   ]
  },
  {
   "cell_type": "code",
   "execution_count": 0,
   "metadata": {
    "colab": {},
    "colab_type": "code",
    "id": "nFr3Tjz_ugjv"
   },
   "outputs": [],
   "source": [
    "NAME = \"Daniel Martin\"\n",
    "COLLABORATORS = \"Eric Jian, Ash Mohan\""
   ]
  },
  {
   "cell_type": "markdown",
   "metadata": {
    "colab_type": "text",
    "id": "VtQyVZG7ugj0"
   },
   "source": [
    "---"
   ]
  },
  {
   "cell_type": "markdown",
   "metadata": {
    "colab_type": "text",
    "deletable": false,
    "editable": false,
    "id": "dSxT_unDugj1",
    "nbgrader": {
     "checksum": "0ec61936c13b80ce01fa0818121a29a9",
     "grade": false,
     "grade_id": "cell-c6a6e713740ff888",
     "locked": true,
     "schema_version": 1,
     "solution": false
    }
   },
   "source": [
    "# Lab 3: Decision Trees\n",
    "\n",
    "**Please read the following instructions very carefully**\n",
    "\n",
    "## Working on the assignment / FAQs\n",
    "- **Always use the seed/random_state as *42* wherever applicable** (This is to ensure repeatability in answers, across students and coding environments) \n",
    "- Questions can be either autograded and manually graded.\n",
    "- The type of question and the points they carry are indicated in each question cell\n",
    "- An autograded question has 3 cells\n",
    "     - **Question cell** : Read only cell containing the question\n",
    "     - **Code Cell** : This is where you write the code\n",
    "     - **Grading cell** : This is where the grading occurs, and **you are required not to edit this cell**\n",
    "- Manually graded questions only have the question and code cells. **All manually graded questions are explicitly stated**\n",
    "- To avoid any ambiguity, each question also specifies what *value* must be set. Note that these are dummy values and not the answers\n",
    "- If an autograded question has multiple answers (due to differences in handling NaNs, zeros etc.), all answers will be considered.\n",
    "- Most assignments have bonus questions for extra credit, do try them out! \n",
    "- You can delete the `raise NotImplementedError()` for all questions.\n",
    "- **Submitting the assignment** : Download the '.ipynb' file from Colab and upload it to bcourses. Do not delete any outputs from cells before submitting.\n",
    "- That's about it. Happy coding!\n",
    "\n",
    "\n",
    "## About the dataset\n",
    "This assignment uses a dataset obtained from the JSE Data Archive that contains biological and self-reported activity traits of a sample of college students at a single university uploaded in 2013. The study associated with these data focused on exploring if a correspondence exists between eye color and and other traits. You will be using gender as the target/label in this lab.\n",
    "\n",
    "FEATURE DESCRIPTIONS: \n",
    "- Color (Blue, Brown, Green, Hazel, Other)\n",
    "- Age (in years)\n",
    "- YearinSchool (First, Second, Third, Fourth, Other)\n",
    "- Height (in inches)\n",
    "- Miles (distance from home town of student to Ames, IA) \n",
    "- Brothers (number of brothers)\n",
    "- Sisters (number of sisters)\n",
    "- CompTime (number of hours spent on computer per week)\n",
    "- Exercise (whether the student exercises Yes or No)\n",
    "- ExerTime (number of hours spent exercising per week)\n",
    "- MusicCDs (number of music CDs student owns)\n",
    "- PlayGames (number of hours spent playing games per week)\n",
    "- WatchTV (number of hours spent watching TV per week\n",
    "\n",
    "https://ww2.amstat.org/publications/jse/jse_data_archive.htm (eyecolorgenderdata.csv)\n"
   ]
  },
  {
   "cell_type": "code",
   "execution_count": 195,
   "metadata": {
    "colab": {
     "base_uri": "https://localhost:8080/",
     "height": 272
    },
    "colab_type": "code",
    "deletable": false,
    "editable": false,
    "id": "xeiDHBc5ugj2",
    "nbgrader": {
     "checksum": "0fb5897b9d372125635a32c3c25065db",
     "grade": false,
     "grade_id": "cell-0c1c5a5b7543f388",
     "locked": true,
     "schema_version": 1,
     "solution": false
    },
    "outputId": "0abd7ea1-f708-477c-f9ab-d3ac6647f7be"
   },
   "outputs": [
    {
     "name": "stdout",
     "output_type": "stream",
     "text": [
      "File ‘eye_color.zip’ already there; not retrieving.\n",
      "\n",
      "Archive:  eye_color.zip\n",
      "Eye_Color.csv  Eye_Color_Dataset_Description.txt  eye_color.zip  sample_data\n"
     ]
    },
    {
     "data": {
      "text/html": [
       "<div>\n",
       "<style scoped>\n",
       "    .dataframe tbody tr th:only-of-type {\n",
       "        vertical-align: middle;\n",
       "    }\n",
       "\n",
       "    .dataframe tbody tr th {\n",
       "        vertical-align: top;\n",
       "    }\n",
       "\n",
       "    .dataframe thead th {\n",
       "        text-align: right;\n",
       "    }\n",
       "</style>\n",
       "<table border=\"1\" class=\"dataframe\">\n",
       "  <thead>\n",
       "    <tr style=\"text-align: right;\">\n",
       "      <th></th>\n",
       "      <th>gender</th>\n",
       "      <th>age</th>\n",
       "      <th>year</th>\n",
       "      <th>eyecolor</th>\n",
       "      <th>height</th>\n",
       "      <th>miles</th>\n",
       "      <th>brothers</th>\n",
       "      <th>sisters</th>\n",
       "      <th>computertime</th>\n",
       "      <th>exercise</th>\n",
       "      <th>exercisehours</th>\n",
       "      <th>musiccds</th>\n",
       "      <th>playgames</th>\n",
       "      <th>watchtv</th>\n",
       "    </tr>\n",
       "  </thead>\n",
       "  <tbody>\n",
       "    <tr>\n",
       "      <th>0</th>\n",
       "      <td>female</td>\n",
       "      <td>18</td>\n",
       "      <td>first</td>\n",
       "      <td>hazel</td>\n",
       "      <td>68.0</td>\n",
       "      <td>195.0</td>\n",
       "      <td>0</td>\n",
       "      <td>1</td>\n",
       "      <td>20.0</td>\n",
       "      <td>Yes</td>\n",
       "      <td>3.0</td>\n",
       "      <td>75.0</td>\n",
       "      <td>6.0</td>\n",
       "      <td>18.0</td>\n",
       "    </tr>\n",
       "    <tr>\n",
       "      <th>1</th>\n",
       "      <td>male</td>\n",
       "      <td>20</td>\n",
       "      <td>third</td>\n",
       "      <td>brown</td>\n",
       "      <td>70.0</td>\n",
       "      <td>120.0</td>\n",
       "      <td>3</td>\n",
       "      <td>0</td>\n",
       "      <td>24.0</td>\n",
       "      <td>No</td>\n",
       "      <td>0.0</td>\n",
       "      <td>50.0</td>\n",
       "      <td>0.0</td>\n",
       "      <td>3.0</td>\n",
       "    </tr>\n",
       "    <tr>\n",
       "      <th>2</th>\n",
       "      <td>female</td>\n",
       "      <td>18</td>\n",
       "      <td>first</td>\n",
       "      <td>green</td>\n",
       "      <td>67.0</td>\n",
       "      <td>200.0</td>\n",
       "      <td>0</td>\n",
       "      <td>1</td>\n",
       "      <td>35.0</td>\n",
       "      <td>Yes</td>\n",
       "      <td>3.0</td>\n",
       "      <td>53.0</td>\n",
       "      <td>8.0</td>\n",
       "      <td>1.0</td>\n",
       "    </tr>\n",
       "    <tr>\n",
       "      <th>3</th>\n",
       "      <td>male</td>\n",
       "      <td>23</td>\n",
       "      <td>fourth</td>\n",
       "      <td>hazel</td>\n",
       "      <td>74.0</td>\n",
       "      <td>140.0</td>\n",
       "      <td>1</td>\n",
       "      <td>1</td>\n",
       "      <td>5.0</td>\n",
       "      <td>Yes</td>\n",
       "      <td>25.0</td>\n",
       "      <td>50.0</td>\n",
       "      <td>0.0</td>\n",
       "      <td>7.0</td>\n",
       "    </tr>\n",
       "    <tr>\n",
       "      <th>4</th>\n",
       "      <td>female</td>\n",
       "      <td>19</td>\n",
       "      <td>second</td>\n",
       "      <td>blue</td>\n",
       "      <td>62.0</td>\n",
       "      <td>60.0</td>\n",
       "      <td>0</td>\n",
       "      <td>1</td>\n",
       "      <td>5.0</td>\n",
       "      <td>Yes</td>\n",
       "      <td>4.0</td>\n",
       "      <td>30.0</td>\n",
       "      <td>2.0</td>\n",
       "      <td>5.0</td>\n",
       "    </tr>\n",
       "  </tbody>\n",
       "</table>\n",
       "</div>"
      ],
      "text/plain": [
       "   gender  age    year eyecolor  ...  exercisehours  musiccds  playgames  watchtv\n",
       "0  female   18   first    hazel  ...            3.0      75.0        6.0     18.0\n",
       "1    male   20   third    brown  ...            0.0      50.0        0.0      3.0\n",
       "2  female   18   first    green  ...            3.0      53.0        8.0      1.0\n",
       "3    male   23  fourth    hazel  ...           25.0      50.0        0.0      7.0\n",
       "4  female   19  second     blue  ...            4.0      30.0        2.0      5.0\n",
       "\n",
       "[5 rows x 14 columns]"
      ]
     },
     "execution_count": 195,
     "metadata": {
      "tags": []
     },
     "output_type": "execute_result"
    }
   ],
   "source": [
    "from collections import Counter, defaultdict\n",
    "from itertools import combinations \n",
    "import pandas as pd\n",
    "import numpy as np\n",
    "import operator\n",
    "import math\n",
    "\n",
    "!wget -nc http://people.ischool.berkeley.edu/~zp/course_datasets/eye_color.zip\n",
    "!unzip -u eye_color.zip\n",
    "!ls\n",
    "df = pd.read_csv('Eye_Color.csv')\n",
    "# remove NA's and reset the index\n",
    "df = df.dropna(axis=0, how='any', thresh=None, subset=None, inplace=False)\n",
    "df = df.reset_index(drop=True)\n",
    "\n",
    "df.head()"
   ]
  },
  {
   "cell_type": "markdown",
   "metadata": {
    "colab_type": "text",
    "deletable": false,
    "editable": false,
    "id": "S2_bd_sZugj_",
    "nbgrader": {
     "checksum": "f27367e7e9ea794fdff16caaf9834f90",
     "grade": false,
     "grade_id": "cell-80cb77583712aa18",
     "locked": true,
     "schema_version": 1,
     "solution": false
    }
   },
   "source": [
    "---\n",
    "**Question 1 (0.5 points, autograded)**: How many males and females exist in the dataset?"
   ]
  },
  {
   "cell_type": "code",
   "execution_count": 196,
   "metadata": {
    "colab": {
     "base_uri": "https://localhost:8080/",
     "height": 68
    },
    "colab_type": "code",
    "deletable": false,
    "id": "Qq43exlvugkA",
    "nbgrader": {
     "checksum": "7bae96e9bc3cf6154faf15c8c953a12d",
     "grade": false,
     "grade_id": "cell-30e88bd16d0691ae",
     "locked": false,
     "schema_version": 1,
     "solution": true
    },
    "outputId": "1b2df466-abf5-4fdf-bd28-b9f39dd9cfab"
   },
   "outputs": [
    {
     "data": {
      "text/plain": [
       "female    1078\n",
       "male       910\n",
       "Name: gender, dtype: int64"
      ]
     },
     "execution_count": 196,
     "metadata": {
      "tags": []
     },
     "output_type": "execute_result"
    }
   ],
   "source": [
    "# YOUR CODE HERE\n",
    "df['gender'].value_counts()"
   ]
  },
  {
   "cell_type": "code",
   "execution_count": 199,
   "metadata": {
    "colab": {
     "base_uri": "https://localhost:8080/",
     "height": 68
    },
    "colab_type": "code",
    "deletable": false,
    "id": "qowIpB1MugkL",
    "nbgrader": {
     "checksum": "4b015ffcf2248033a4c736e194051ce0",
     "grade": false,
     "grade_id": "cell-b6afcdf2e16edeaf",
     "locked": false,
     "schema_version": 1,
     "solution": true
    },
    "outputId": "89a4e337-5726-4e37-800c-f492e13862a3"
   },
   "outputs": [
    {
     "data": {
      "text/plain": [
       "female    1078\n",
       "male       910\n",
       "Name: gender, dtype: int64"
      ]
     },
     "execution_count": 199,
     "metadata": {
      "tags": []
     },
     "output_type": "execute_result"
    }
   ],
   "source": [
    "#The value set in the variables must be integers\n",
    "num_males = 910\n",
    "num_females = 1078 \n",
    "\n",
    "# YOUR CODE HERE\n",
    "df['gender'].value_counts()"
   ]
  },
  {
   "cell_type": "code",
   "execution_count": 200,
   "metadata": {
    "colab": {
     "base_uri": "https://localhost:8080/",
     "height": 34
    },
    "colab_type": "code",
    "deletable": false,
    "editable": false,
    "id": "rxROmUKRugkQ",
    "nbgrader": {
     "checksum": "b5f6c5a26715775443afa42a101640d3",
     "grade": true,
     "grade_id": "cell-148801df79f2a9ad",
     "locked": true,
     "points": 0.5,
     "schema_version": 1,
     "solution": false
    },
    "outputId": "a76fc390-2a96-4932-cb48-7dda42d72c34"
   },
   "outputs": [
    {
     "name": "stdout",
     "output_type": "stream",
     "text": [
      "910 1078\n"
     ]
    }
   ],
   "source": [
    "#This is an autograded cell, do not edit\n",
    "print(num_males, num_females)"
   ]
  },
  {
   "cell_type": "markdown",
   "metadata": {
    "colab_type": "text",
    "deletable": false,
    "editable": false,
    "id": "LE7EGFnbugkU",
    "nbgrader": {
     "checksum": "46a9256f2edd92e7d4ab52309a6b4c57",
     "grade": false,
     "grade_id": "cell-c087e3cd6c8885e2",
     "locked": true,
     "schema_version": 1,
     "solution": false
    }
   },
   "source": [
    "---\n",
    "**Question 2 (0.5 points, autograded)**: What is the Gini Index of this dataset, using males and females as the target classes?"
   ]
  },
  {
   "cell_type": "code",
   "execution_count": 0,
   "metadata": {
    "colab": {},
    "colab_type": "code",
    "deletable": false,
    "id": "L5-IeBVlugkV",
    "nbgrader": {
     "checksum": "099940e4f38498b7848e39cf16effa72",
     "grade": false,
     "grade_id": "cell-77e48e0f5499c4dc",
     "locked": false,
     "schema_version": 1,
     "solution": true
    }
   },
   "outputs": [],
   "source": [
    "# YOUR CODE HERE\n",
    "percent_female = num_females / df.shape[0]\n",
    "percent_male = num_males / df.shape[0]"
   ]
  },
  {
   "cell_type": "code",
   "execution_count": 0,
   "metadata": {
    "colab": {},
    "colab_type": "code",
    "deletable": false,
    "id": "qWJVFWqqugkZ",
    "nbgrader": {
     "checksum": "9ad8fad77a751f201648404551610cd0",
     "grade": false,
     "grade_id": "cell-48020b6f76b01df8",
     "locked": false,
     "schema_version": 1,
     "solution": true
    }
   },
   "outputs": [],
   "source": [
    "#The value set in the variable must be float\n",
    "gini_index = 1 - (percent_female**2 + percent_male**2) #Replace 0 with the actual value / formula\n",
    "\n",
    "# YOUR CODE HERE\n",
    "percent_female = num_females / df.shape[0]\n",
    "percent_male = num_males / df.shape[0]"
   ]
  },
  {
   "cell_type": "code",
   "execution_count": 203,
   "metadata": {
    "colab": {
     "base_uri": "https://localhost:8080/",
     "height": 34
    },
    "colab_type": "code",
    "deletable": false,
    "editable": false,
    "id": "N6nvXmTHugke",
    "nbgrader": {
     "checksum": "9e64fcb8ce6b4b69fad066fea2ced65a",
     "grade": true,
     "grade_id": "cell-7ae5a16e0caf13e6",
     "locked": true,
     "points": 0.5,
     "schema_version": 1,
     "solution": false
    },
    "outputId": "8c18666a-5c2d-4803-eea1-a13e5ef57393"
   },
   "outputs": [
    {
     "name": "stdout",
     "output_type": "stream",
     "text": [
      "0.4964292799047807\n"
     ]
    }
   ],
   "source": [
    "#This is an autograded cell, do not edit\n",
    "print(gini_index)"
   ]
  },
  {
   "cell_type": "markdown",
   "metadata": {
    "colab_type": "text",
    "deletable": false,
    "editable": false,
    "id": "p4XzX2Jjugkj",
    "nbgrader": {
     "checksum": "df88f99709afdfc9d92e17de990723e4",
     "grade": false,
     "grade_id": "cell-429dd5b9870bc4f0",
     "locked": true,
     "schema_version": 1,
     "solution": false
    }
   },
   "source": [
    "---\n",
    "## Best Split of a numeric feature\n",
    "**Question 3 (1.5 points, autograded)**: What is the best split point of the 'height' feature? (Still using males and females as the target classes, assuming a binary split)\n",
    "\n",
    "Recall that, to calculate the best split of this numeric field, you'll need to order your data by 'height', then consider the midpoint between each pair of consecutive heights as a potential split point, then calculate the Gini Index for that partitioning. You'll want to keep track of the best split point and its Gini Index (remember that you are trying to minimize the Gini Index). \n",
    "\n",
    "There are a lot of ways to do this. Some are very fast, others very slow. One tip to make this run quickly is, as you consecutively step through the data and calculate the Gini Index of each possible split point, keep a running total of the number of rows for each candidate that are located above and below the split point. \n",
    "\n",
    "Some Python tips: \n",
    "\n",
    "* Counter(), from the collections module, is a special dictionary for counting values of a key\n",
    "* zip() lets you concatenate lists into a list of tuples (for example, if we have a list of the candidates and a list of transaction amounts, zip(candidate_list, transaction_amount) would give us a list of (candidate, transaction amount) pairs"
   ]
  },
  {
   "cell_type": "code",
   "execution_count": 208,
   "metadata": {
    "colab": {
     "base_uri": "https://localhost:8080/",
     "height": 34
    },
    "colab_type": "code",
    "deletable": false,
    "id": "C922WXCougkm",
    "nbgrader": {
     "checksum": "39f67d746e08f968310e08a1e6302254",
     "grade": false,
     "grade_id": "cell-7e178474fbad8e3a",
     "locked": false,
     "schema_version": 1,
     "solution": true
    },
    "outputId": "768912bb-d23e-40f6-f15d-a1afc19548dc"
   },
   "outputs": [
    {
     "name": "stdout",
     "output_type": "stream",
     "text": [
      "68.5\n"
     ]
    }
   ],
   "source": [
    "# YOUR CODE HERE\n",
    "def calc_gini_index(series):\n",
    "  value_counts = series.value_counts()\n",
    "  total = sum(series.value_counts())\n",
    "  gini = 1\n",
    "  for value in value_counts:\n",
    "    gini -= ((value/total)**2)  \n",
    "  return gini\n",
    "\n",
    "height = list(df['height'].sort_values(ascending=True).unique())\n",
    "consec_heights = set(zip(height, height[1:]))\n",
    "gini_dic = {}\n",
    "\n",
    "for point in consec_heights:\n",
    "  midpoint = (point[0] + point[1])/2\n",
    "  \n",
    "  left = df.loc[df['height'] < midpoint, 'gender']\n",
    "  right = df.loc[df['height'] > midpoint, 'gender']\n",
    "  \n",
    "  total = len(left)+len(right)\n",
    "  left_gini = calc_gini_index(left)\n",
    "  right_gini = calc_gini_index(right)\n",
    "  weighted_gini = ((len(left)/total)*left_gini) + ((len(right)/total)*right_gini)\n",
    "  \n",
    "  gini_dic[midpoint] = weighted_gini\n",
    "\n",
    "  \n",
    "best_split_point = min(gini_dic, key=gini_dic.get)\n",
    "print(best_split_point)\n",
    "  \n",
    "  "
   ]
  },
  {
   "cell_type": "code",
   "execution_count": 0,
   "metadata": {
    "colab": {},
    "colab_type": "code",
    "deletable": false,
    "id": "RiMp3KiOugkv",
    "nbgrader": {
     "checksum": "6f2ddee90f539fef475c3cf581869a7f",
     "grade": false,
     "grade_id": "cell-fdcb9f54f35480c4",
     "locked": false,
     "schema_version": 1,
     "solution": true
    }
   },
   "outputs": [],
   "source": [
    "#The value set in the variable must be float\n",
    "best_split_point = 68.5\n",
    "\n",
    "# YOUR CODE HERE"
   ]
  },
  {
   "cell_type": "code",
   "execution_count": 211,
   "metadata": {
    "colab": {
     "base_uri": "https://localhost:8080/",
     "height": 34
    },
    "colab_type": "code",
    "deletable": false,
    "editable": false,
    "id": "61AwBlXhugk0",
    "nbgrader": {
     "checksum": "2b3dd2ed02ddb601bc36a52f45defd92",
     "grade": true,
     "grade_id": "cell-323f912bd5314e78",
     "locked": true,
     "points": 1.5,
     "schema_version": 1,
     "solution": false
    },
    "outputId": "2ce25695-5fcd-4704-e7b4-1ebf8d0a8cba"
   },
   "outputs": [
    {
     "name": "stdout",
     "output_type": "stream",
     "text": [
      "68.5\n"
     ]
    }
   ],
   "source": [
    "#This is an autograded cell, do not edit\n",
    "print(best_split_point)"
   ]
  },
  {
   "cell_type": "markdown",
   "metadata": {
    "colab_type": "text",
    "deletable": false,
    "editable": false,
    "id": "AawaoNa9ugk2",
    "nbgrader": {
     "checksum": "166316144c3f9c6f82d2963c96c19ba4",
     "grade": false,
     "grade_id": "cell-aa468156b67c5ab6",
     "locked": true,
     "schema_version": 1,
     "solution": false
    }
   },
   "source": [
    "---\n",
    "**Question 4 (0.5 points, autograded)**: What is the Gini index of the best split point of the 'height' feature? (Still using males and females as the target classes, assuming a binary split)\n"
   ]
  },
  {
   "cell_type": "code",
   "execution_count": 212,
   "metadata": {
    "colab": {
     "base_uri": "https://localhost:8080/",
     "height": 34
    },
    "colab_type": "code",
    "deletable": false,
    "id": "J_8GTuoSugk3",
    "nbgrader": {
     "checksum": "ee6e07cc1c224dbd0852a4105190e3f2",
     "grade": false,
     "grade_id": "cell-11b6c20fa6270892",
     "locked": false,
     "schema_version": 1,
     "solution": true
    },
    "outputId": "caf9eecd-2703-445c-9cbb-4e202c31bd6f"
   },
   "outputs": [
    {
     "data": {
      "text/plain": [
       "0.26552881207029194"
      ]
     },
     "execution_count": 212,
     "metadata": {
      "tags": []
     },
     "output_type": "execute_result"
    }
   ],
   "source": [
    "# YOUR CODE HERE\n",
    "gini_dic[68.5]"
   ]
  },
  {
   "cell_type": "code",
   "execution_count": 0,
   "metadata": {
    "colab": {},
    "colab_type": "code",
    "deletable": false,
    "id": "nnY4qayGugk8",
    "nbgrader": {
     "checksum": "4264def559ba5fe2e77d3688f04d9cfd",
     "grade": false,
     "grade_id": "cell-bef6191446f0b09e",
     "locked": false,
     "schema_version": 1,
     "solution": true
    }
   },
   "outputs": [],
   "source": [
    "#The value set in the variable must be float\n",
    "gini_of_best_split_point =  0.26552881207029194\n",
    "\n",
    "# YOUR CODE HERE"
   ]
  },
  {
   "cell_type": "code",
   "execution_count": 214,
   "metadata": {
    "colab": {
     "base_uri": "https://localhost:8080/",
     "height": 34
    },
    "colab_type": "code",
    "deletable": false,
    "editable": false,
    "id": "qtHNnrD8ugk_",
    "nbgrader": {
     "checksum": "0a0c63234a8f7fe57d8a19b011609fda",
     "grade": true,
     "grade_id": "cell-a483f7c52ce46218",
     "locked": true,
     "points": 0.5,
     "schema_version": 1,
     "solution": false
    },
    "outputId": "9692892a-bf30-4e00-c1ec-c772dbbced79"
   },
   "outputs": [
    {
     "name": "stdout",
     "output_type": "stream",
     "text": [
      "0.26552881207029194\n"
     ]
    }
   ],
   "source": [
    "#This is an autograded cell, do not edit\n",
    "print(gini_of_best_split_point)"
   ]
  },
  {
   "cell_type": "markdown",
   "metadata": {
    "colab_type": "text",
    "deletable": false,
    "editable": false,
    "id": "TILEzh_WuglE",
    "nbgrader": {
     "checksum": "3e4a285a07159ff52a5f4ffe396f74d6",
     "grade": false,
     "grade_id": "cell-3d05b5c3faef353d",
     "locked": true,
     "schema_version": 1,
     "solution": false
    }
   },
   "source": [
    "---\n",
    "**Question 5 (0.5 points, autograded)**: How much does this partitioning reduce the Gini Index over the Gini index of the overall dataset?"
   ]
  },
  {
   "cell_type": "code",
   "execution_count": 0,
   "metadata": {
    "colab": {},
    "colab_type": "code",
    "deletable": false,
    "id": "qOCZ13AAuglG",
    "nbgrader": {
     "checksum": "58f9b4479c238a525df6aa057e6eaa3b",
     "grade": false,
     "grade_id": "cell-1ab03a8159601e29",
     "locked": false,
     "schema_version": 1,
     "solution": true
    }
   },
   "outputs": [],
   "source": [
    "# YOUR CODE HERE"
   ]
  },
  {
   "cell_type": "code",
   "execution_count": 0,
   "metadata": {
    "colab": {},
    "colab_type": "code",
    "deletable": false,
    "id": "Z_jBrzFLuglN",
    "nbgrader": {
     "checksum": "0d222b71a5f4dd420fd140eeefb846d4",
     "grade": false,
     "grade_id": "cell-fbcebc71fc8bc842",
     "locked": false,
     "schema_version": 1,
     "solution": true
    }
   },
   "outputs": [],
   "source": [
    "#The value set in the variable must be float\n",
    "gini_difference = 0.4964292799047807 - 0.26552881207029194\n",
    "\n",
    "# YOUR CODE HERE"
   ]
  },
  {
   "cell_type": "code",
   "execution_count": 216,
   "metadata": {
    "colab": {
     "base_uri": "https://localhost:8080/",
     "height": 34
    },
    "colab_type": "code",
    "deletable": false,
    "editable": false,
    "id": "XrLS99QPuglQ",
    "nbgrader": {
     "checksum": "86c116a776736ca45f3b04f15f237623",
     "grade": true,
     "grade_id": "cell-f24e621d36c96976",
     "locked": true,
     "points": 0.5,
     "schema_version": 1,
     "solution": false
    },
    "outputId": "97cb5fc2-dfc8-467c-a26d-c8391ec1ea4d"
   },
   "outputs": [
    {
     "name": "stdout",
     "output_type": "stream",
     "text": [
      "0.23090046783448875\n"
     ]
    }
   ],
   "source": [
    "#This is an autograded cell, do not edit\n",
    "print(gini_difference)"
   ]
  },
  {
   "cell_type": "markdown",
   "metadata": {
    "colab_type": "text",
    "deletable": false,
    "editable": false,
    "id": "4vI5aG7GuglS",
    "nbgrader": {
     "checksum": "a3c0d5d5951cda89ddc95d0edd3c006d",
     "grade": false,
     "grade_id": "cell-68fc7f06fbb3bd5c",
     "locked": true,
     "schema_version": 1,
     "solution": false
    }
   },
   "source": [
    "---\n",
    "**Question 6 (0.5 points, autograded)**: How many 'female' and 'male' rows are below your best split point?"
   ]
  },
  {
   "cell_type": "code",
   "execution_count": 217,
   "metadata": {
    "colab": {
     "base_uri": "https://localhost:8080/",
     "height": 68
    },
    "colab_type": "code",
    "deletable": false,
    "id": "Zmt1qgE5uglT",
    "nbgrader": {
     "checksum": "3d82c210dd5b8b938066fc8b9a0e70e8",
     "grade": false,
     "grade_id": "cell-cbfbed1feed2c2c6",
     "locked": false,
     "schema_version": 1,
     "solution": true
    },
    "outputId": "6c0edd37-d931-417d-ed1a-9bfa552864d6"
   },
   "outputs": [
    {
     "data": {
      "text/plain": [
       "female    905\n",
       "male      142\n",
       "Name: gender, dtype: int64"
      ]
     },
     "execution_count": 217,
     "metadata": {
      "tags": []
     },
     "output_type": "execute_result"
    }
   ],
   "source": [
    "# YOUR CODE HERE\n",
    "below = df.loc[df['height'] < best_split_point, 'gender']\n",
    "below.value_counts()"
   ]
  },
  {
   "cell_type": "code",
   "execution_count": 0,
   "metadata": {
    "colab": {},
    "colab_type": "code",
    "deletable": false,
    "id": "xAB5GTeauglX",
    "nbgrader": {
     "checksum": "71225beec49fc733245cd37612d3712e",
     "grade": false,
     "grade_id": "cell-fed4f19f21abcc31",
     "locked": false,
     "schema_version": 1,
     "solution": true
    }
   },
   "outputs": [],
   "source": [
    "\n",
    "#The value set in the variable must be integer\n",
    "female_rows_below = 905\n",
    "male_rows_below = 142 \n",
    "\n",
    "# YOUR CODE HERE"
   ]
  },
  {
   "cell_type": "code",
   "execution_count": 219,
   "metadata": {
    "colab": {
     "base_uri": "https://localhost:8080/",
     "height": 34
    },
    "colab_type": "code",
    "deletable": false,
    "editable": false,
    "id": "MiBZAc9vugld",
    "nbgrader": {
     "checksum": "12c1b2345e628bec41463cf88a60aeb0",
     "grade": true,
     "grade_id": "cell-8129604534bfec74",
     "locked": true,
     "points": 0.5,
     "schema_version": 1,
     "solution": false
    },
    "outputId": "ca7c6c9b-c3ea-4685-82dd-fed5a639042b"
   },
   "outputs": [
    {
     "name": "stdout",
     "output_type": "stream",
     "text": [
      "905 142\n"
     ]
    }
   ],
   "source": [
    "#This is an autograded cell, do not edit\n",
    "print(female_rows_below, male_rows_below)"
   ]
  },
  {
   "cell_type": "markdown",
   "metadata": {
    "colab_type": "text",
    "deletable": false,
    "editable": false,
    "id": "GmBNDTILuglg",
    "nbgrader": {
     "checksum": "9fa8403981b6352444437901acb0d45c",
     "grade": false,
     "grade_id": "cell-95c30c8534082764",
     "locked": true,
     "schema_version": 1,
     "solution": false
    }
   },
   "source": [
    "---\n",
    "**Question 7 (0.5 points, autograded)**: How many 'female' and 'male' rows are above your best split point?"
   ]
  },
  {
   "cell_type": "code",
   "execution_count": 220,
   "metadata": {
    "colab": {
     "base_uri": "https://localhost:8080/",
     "height": 68
    },
    "colab_type": "code",
    "deletable": false,
    "id": "dHJLmbwvuglh",
    "nbgrader": {
     "checksum": "9754f9fb331109f6c4b2b834211f0021",
     "grade": false,
     "grade_id": "cell-8b16da8f6a50682f",
     "locked": false,
     "schema_version": 1,
     "solution": true
    },
    "outputId": "da62ba90-70c9-40ad-d394-61acef3937e8"
   },
   "outputs": [
    {
     "data": {
      "text/plain": [
       "male      768\n",
       "female    173\n",
       "Name: gender, dtype: int64"
      ]
     },
     "execution_count": 220,
     "metadata": {
      "tags": []
     },
     "output_type": "execute_result"
    }
   ],
   "source": [
    "# YOUR CODE HERE\n",
    "above = df.loc[df['height'] > best_split_point, 'gender']\n",
    "above.value_counts()"
   ]
  },
  {
   "cell_type": "code",
   "execution_count": 0,
   "metadata": {
    "colab": {},
    "colab_type": "code",
    "deletable": false,
    "id": "46G-hbpnugll",
    "nbgrader": {
     "checksum": "e2697ca1d9a6feec241ff33460d57600",
     "grade": false,
     "grade_id": "cell-2314033286696a75",
     "locked": false,
     "schema_version": 1,
     "solution": true
    }
   },
   "outputs": [],
   "source": [
    "\n",
    "#The value set in the variable must be integer\n",
    "female_rows_above = 768\n",
    "male_rows_above = 173\n",
    "\n",
    "# YOUR CODE HERE"
   ]
  },
  {
   "cell_type": "code",
   "execution_count": 222,
   "metadata": {
    "colab": {
     "base_uri": "https://localhost:8080/",
     "height": 34
    },
    "colab_type": "code",
    "deletable": false,
    "editable": false,
    "id": "n2seT5oauglo",
    "nbgrader": {
     "checksum": "b2c8fbc90d6eb0473ef27e1855483904",
     "grade": true,
     "grade_id": "cell-da98dfdb73b8de96",
     "locked": true,
     "points": 0.5,
     "schema_version": 1,
     "solution": false
    },
    "outputId": "1149d2d9-636a-4fd8-e428-b0758bc942c9"
   },
   "outputs": [
    {
     "name": "stdout",
     "output_type": "stream",
     "text": [
      "768 173\n"
     ]
    }
   ],
   "source": [
    "#This is an autograded cell, do not edit\n",
    "print(female_rows_above, male_rows_above)"
   ]
  },
  {
   "cell_type": "markdown",
   "metadata": {
    "colab_type": "text",
    "deletable": false,
    "editable": false,
    "id": "waG6P9fyuglt",
    "nbgrader": {
     "checksum": "1600c335755c3857d742205f32718e81",
     "grade": false,
     "grade_id": "cell-f0f3bf7078e30689",
     "locked": true,
     "schema_version": 1,
     "solution": false
    }
   },
   "source": [
    "---\n",
    "## Best Split of a Categorial Variable\n",
    "\n",
    "**Question 8 (0.5 points, autograded)**: How many possible splits are there of the eyecolor feature? (Assuming binary split)\n",
    "\n",
    "Python tip: the combinations function of the itertools module allows you to enumerate combinations of a list. You might want to Google 'power set'.\n"
   ]
  },
  {
   "cell_type": "code",
   "execution_count": 224,
   "metadata": {
    "colab": {
     "base_uri": "https://localhost:8080/",
     "height": 561
    },
    "colab_type": "code",
    "deletable": false,
    "id": "1uYaZLJnuglu",
    "nbgrader": {
     "checksum": "2887cf4ef5a35baf851be351c05f0397",
     "grade": false,
     "grade_id": "cell-e5896ba56062be2d",
     "locked": false,
     "schema_version": 1,
     "solution": true
    },
    "outputId": "225e7096-7f12-4fe6-a799-d340e4b25d12"
   },
   "outputs": [
    {
     "data": {
      "text/plain": [
       "[(),\n",
       " ('blue',),\n",
       " ('brown',),\n",
       " ('hazel',),\n",
       " ('green',),\n",
       " ('other',),\n",
       " ('blue', 'brown'),\n",
       " ('blue', 'hazel'),\n",
       " ('blue', 'green'),\n",
       " ('blue', 'other'),\n",
       " ('brown', 'hazel'),\n",
       " ('brown', 'green'),\n",
       " ('brown', 'other'),\n",
       " ('hazel', 'green'),\n",
       " ('hazel', 'other'),\n",
       " ('green', 'other'),\n",
       " ('blue', 'brown', 'hazel'),\n",
       " ('blue', 'brown', 'green'),\n",
       " ('blue', 'brown', 'other'),\n",
       " ('blue', 'hazel', 'green'),\n",
       " ('blue', 'hazel', 'other'),\n",
       " ('blue', 'green', 'other'),\n",
       " ('brown', 'hazel', 'green'),\n",
       " ('brown', 'hazel', 'other'),\n",
       " ('brown', 'green', 'other'),\n",
       " ('hazel', 'green', 'other'),\n",
       " ('blue', 'brown', 'hazel', 'green'),\n",
       " ('blue', 'brown', 'hazel', 'other'),\n",
       " ('blue', 'brown', 'green', 'other'),\n",
       " ('blue', 'hazel', 'green', 'other'),\n",
       " ('brown', 'hazel', 'green', 'other'),\n",
       " ('blue', 'brown', 'hazel', 'green', 'other')]"
      ]
     },
     "execution_count": 224,
     "metadata": {
      "tags": []
     },
     "output_type": "execute_result"
    }
   ],
   "source": [
    "# YOUR CODE HERE\n",
    "import itertools\n",
    "df['eyecolor'].value_counts().index\n",
    "\n",
    "def power_set(s):   \n",
    "  # Your code\n",
    "  return list(itertools.chain.from_iterable(\n",
    "      itertools.combinations(s, r) for r in range(len(s)+1)))\n",
    "\n",
    "power_set(df['eyecolor'].value_counts().index)"
   ]
  },
  {
   "cell_type": "code",
   "execution_count": 225,
   "metadata": {
    "colab": {
     "base_uri": "https://localhost:8080/",
     "height": 289
    },
    "colab_type": "code",
    "id": "b5cYtjJKeTyH",
    "outputId": "6ddb0b30-f41a-485c-ca64-9bbb30d8fab8"
   },
   "outputs": [
    {
     "name": "stdout",
     "output_type": "stream",
     "text": [
      "('blue', 'brown', 'hazel', 'green') ('other',)\n",
      "('blue', 'brown', 'hazel', 'other') ('green',)\n",
      "('blue', 'brown', 'hazel') ('green', 'other')\n",
      "('blue', 'brown', 'green', 'other') ('hazel',)\n",
      "('blue', 'brown', 'green') ('hazel', 'other')\n",
      "('blue', 'brown', 'other') ('hazel', 'green')\n",
      "('blue', 'brown') ('hazel', 'green', 'other')\n",
      "('blue', 'hazel', 'green', 'other') ('brown',)\n",
      "('blue', 'hazel', 'green') ('brown', 'other')\n",
      "('blue', 'hazel', 'other') ('brown', 'green')\n",
      "('blue', 'hazel') ('brown', 'green', 'other')\n",
      "('blue', 'green', 'other') ('brown', 'hazel')\n",
      "('blue', 'green') ('brown', 'hazel', 'other')\n",
      "('blue', 'other') ('brown', 'hazel', 'green')\n",
      "('blue',) ('brown', 'hazel', 'green', 'other')\n",
      "15\n"
     ]
    }
   ],
   "source": [
    "import itertools\n",
    "\n",
    "def binary_splits(seq):\n",
    "    for result_indices in itertools.product((0,1), repeat=len(seq)):\n",
    "        result = ([], [])\n",
    "        \n",
    "        for seq_index, result_index in enumerate(result_indices):\n",
    "            result[result_index].append(seq[seq_index])\n",
    "            \n",
    "        if not result[0] or not result[1]: \n",
    "          continue\n",
    "        yield map(tuple, result)\n",
    "\n",
    "def binary_splits_no_dupes(seq):\n",
    "    closed = set()\n",
    "    for item in binary_splits(seq):\n",
    "        key = tuple(sorted(item))\n",
    "        if key in closed: \n",
    "          continue\n",
    "        yield key\n",
    "        closed.add(key)\n",
    "\n",
    "num_splits = 0\n",
    "for left, right in binary_splits_no_dupes(df['eyecolor'].value_counts().index):\n",
    "    num_splits += 1\n",
    "    print(left, right)\n",
    "    \n",
    "print(num_splits)"
   ]
  },
  {
   "cell_type": "code",
   "execution_count": 0,
   "metadata": {
    "colab": {},
    "colab_type": "code",
    "deletable": false,
    "id": "FozfnlkNuglx",
    "nbgrader": {
     "checksum": "c295a12954acf6f936b6a921a548717d",
     "grade": false,
     "grade_id": "cell-7cc929e1f346c97c",
     "locked": false,
     "schema_version": 1,
     "solution": true
    }
   },
   "outputs": [],
   "source": [
    "\n",
    "#The value set in the variable must be integer\n",
    "num_of_splits = 15\n",
    "# YOUR CODE HERE"
   ]
  },
  {
   "cell_type": "code",
   "execution_count": 177,
   "metadata": {
    "colab": {
     "base_uri": "https://localhost:8080/",
     "height": 34
    },
    "colab_type": "code",
    "deletable": false,
    "editable": false,
    "id": "cLupsW1Sugl0",
    "nbgrader": {
     "checksum": "d10ef3967a94bfbc24d620dceae732ed",
     "grade": true,
     "grade_id": "cell-e345841556e102c6",
     "locked": true,
     "points": 0.5,
     "schema_version": 1,
     "solution": false
    },
    "outputId": "4879ff10-efcb-4e5d-d869-908f0a0f6a26"
   },
   "outputs": [
    {
     "name": "stdout",
     "output_type": "stream",
     "text": [
      "15\n"
     ]
    }
   ],
   "source": [
    "#This is an autograded cell, do not edit\n",
    "print(num_of_splits)"
   ]
  },
  {
   "cell_type": "markdown",
   "metadata": {
    "colab_type": "text",
    "deletable": false,
    "editable": false,
    "id": "PuLJsUuvugl3",
    "nbgrader": {
     "checksum": "3f998cc39260ed85ff0341750544bd86",
     "grade": false,
     "grade_id": "cell-8503b7bec552f92c",
     "locked": true,
     "schema_version": 1,
     "solution": false
    }
   },
   "source": [
    "---\n",
    "**Question 9 (1 points, autograded)**: Which split of eyecolor best splits the female and male rows, as measured by the Gini Index?"
   ]
  },
  {
   "cell_type": "code",
   "execution_count": 226,
   "metadata": {
    "colab": {
     "base_uri": "https://localhost:8080/",
     "height": 34
    },
    "colab_type": "code",
    "deletable": false,
    "id": "HLOlJnsqugl3",
    "nbgrader": {
     "checksum": "4f117805db47824ae1ef7129672c0d47",
     "grade": false,
     "grade_id": "cell-76f837f4f27e0842",
     "locked": false,
     "schema_version": 1,
     "solution": true
    },
    "outputId": "310ef6da-0175-4eff-c302-06a9e2178074"
   },
   "outputs": [
    {
     "name": "stdout",
     "output_type": "stream",
     "text": [
      "(('blue', 'brown', 'hazel', 'other'), ('green',))\n"
     ]
    }
   ],
   "source": [
    "# YOUR CODE HERE\n",
    "gini_dic = {}\n",
    "for left, right in binary_splits_no_dupes(df['eyecolor'].value_counts().index):\n",
    "    left_set = df.loc[df['eyecolor'].isin(list(left)), 'gender']\n",
    "    right_set = df.loc[df['eyecolor'].isin(list(right)), 'gender']\n",
    "    total = len(left_set) + len(right_set)\n",
    "  \n",
    "    left_gini = calc_gini_index(left_set)\n",
    "    right_gini = calc_gini_index(right_set)\n",
    "    weighted_gini = ((len(left_set)/total)*left_gini) + ((len(right_set)/total)*right_gini)\n",
    "    \n",
    "    gini_dic[(left,right)] = weighted_gini\n",
    "    \n",
    "    best_groupings = min(gini_dic, key=gini_dic.get)\n",
    "\n",
    "print(best_groupings)"
   ]
  },
  {
   "cell_type": "code",
   "execution_count": 0,
   "metadata": {
    "colab": {},
    "colab_type": "code",
    "deletable": false,
    "id": "iTBzhW_Vugl5",
    "nbgrader": {
     "checksum": "1904d5cda806153db739b5a397c420ce",
     "grade": false,
     "grade_id": "cell-c6d008b0007ae4d7",
     "locked": false,
     "schema_version": 1,
     "solution": true
    }
   },
   "outputs": [],
   "source": [
    "#The value set in the variable must be an array\n",
    "colour_group_1 = ['blue', 'brown', 'hazel', 'other']\n",
    "colour_group_2 = ['green']\n",
    "# YOUR CODE HERE"
   ]
  },
  {
   "cell_type": "code",
   "execution_count": 228,
   "metadata": {
    "colab": {
     "base_uri": "https://localhost:8080/",
     "height": 34
    },
    "colab_type": "code",
    "deletable": false,
    "editable": false,
    "id": "DBKu0dDvugl-",
    "nbgrader": {
     "checksum": "4e306b120de04cbdc496f0bf5ca4bc75",
     "grade": true,
     "grade_id": "cell-633329070c59b89d",
     "locked": true,
     "points": 1,
     "schema_version": 1,
     "solution": false
    },
    "outputId": "914f31a6-cc2f-4c79-afde-f857e07a079c"
   },
   "outputs": [
    {
     "name": "stdout",
     "output_type": "stream",
     "text": [
      "['blue', 'brown', 'hazel', 'other'] ['green']\n"
     ]
    }
   ],
   "source": [
    "#This is an autograded cell, do not edit\n",
    "print(colour_group_1, colour_group_2)"
   ]
  },
  {
   "cell_type": "markdown",
   "metadata": {
    "colab_type": "text",
    "deletable": false,
    "editable": false,
    "id": "Q0n3uxWFugmC",
    "nbgrader": {
     "checksum": "a5fa6db03e0b1d03320f702d669e6328",
     "grade": false,
     "grade_id": "cell-54d3a4d63e10789a",
     "locked": true,
     "schema_version": 1,
     "solution": false
    }
   },
   "source": [
    "---\n",
    "**Question 10 (0.5 points, autograded)**: What is the Gini Index of this best split?"
   ]
  },
  {
   "cell_type": "code",
   "execution_count": 229,
   "metadata": {
    "colab": {
     "base_uri": "https://localhost:8080/",
     "height": 34
    },
    "colab_type": "code",
    "deletable": false,
    "id": "SLWuwwvnugmF",
    "nbgrader": {
     "checksum": "f1b5c57dc68cb76716cb9dd1e5cb00db",
     "grade": false,
     "grade_id": "cell-f755b4ebebdcbcd3",
     "locked": false,
     "schema_version": 1,
     "solution": true
    },
    "outputId": "b8c760b6-aa9e-4a7c-c8e5-3562199605cc"
   },
   "outputs": [
    {
     "data": {
      "text/plain": [
       "0.4930915729509777"
      ]
     },
     "execution_count": 229,
     "metadata": {
      "tags": []
     },
     "output_type": "execute_result"
    }
   ],
   "source": [
    "# YOUR CODE HERE\n",
    "gini_dic[best_groupings]"
   ]
  },
  {
   "cell_type": "code",
   "execution_count": 0,
   "metadata": {
    "colab": {},
    "colab_type": "code",
    "deletable": false,
    "id": "VYJlCiCuugmJ",
    "nbgrader": {
     "checksum": "efce7c9024ee735ae78576a9e6153798",
     "grade": false,
     "grade_id": "cell-b9d691586c5addbd",
     "locked": false,
     "schema_version": 1,
     "solution": true
    }
   },
   "outputs": [],
   "source": [
    "#The value set in the variable must be float\n",
    "gini_of_best_split_group = 0.4930915729509777\n",
    "\n",
    "# YOUR CODE HERE"
   ]
  },
  {
   "cell_type": "code",
   "execution_count": 231,
   "metadata": {
    "colab": {
     "base_uri": "https://localhost:8080/",
     "height": 34
    },
    "colab_type": "code",
    "deletable": false,
    "editable": false,
    "id": "MFn6uVBcugmL",
    "nbgrader": {
     "checksum": "2d4da39818e70541f2d3a55729adbae0",
     "grade": true,
     "grade_id": "cell-7332ad4509b48564",
     "locked": true,
     "points": 0.5,
     "schema_version": 1,
     "solution": false
    },
    "outputId": "55df1741-2be9-49e2-a722-d8ca95265f72"
   },
   "outputs": [
    {
     "name": "stdout",
     "output_type": "stream",
     "text": [
      "0.4930915729509777\n"
     ]
    }
   ],
   "source": [
    "#This is an autograded cell, do not edit\n",
    "print(gini_of_best_split_group)"
   ]
  },
  {
   "cell_type": "markdown",
   "metadata": {
    "colab_type": "text",
    "deletable": false,
    "editable": false,
    "id": "_o0PW2rLugmO",
    "nbgrader": {
     "checksum": "473602565cfa2400f2ad7b85fd72b373",
     "grade": false,
     "grade_id": "cell-34f1033ad6a06232",
     "locked": true,
     "schema_version": 1,
     "solution": false
    }
   },
   "source": [
    "---\n",
    "**Question 11 (0.5 points, autograded)**: How much does this partitioning reduce the Gini Index over the Gini index of the overall dataset?"
   ]
  },
  {
   "cell_type": "code",
   "execution_count": 232,
   "metadata": {
    "colab": {
     "base_uri": "https://localhost:8080/",
     "height": 34
    },
    "colab_type": "code",
    "deletable": false,
    "id": "Ja5w5_ucugmP",
    "nbgrader": {
     "checksum": "bf9360740e6f25bb1c156c93c1869845",
     "grade": false,
     "grade_id": "cell-68d41651a95a23df",
     "locked": false,
     "schema_version": 1,
     "solution": true
    },
    "outputId": "5b47fb84-ef09-4525-e34b-116209c8b106"
   },
   "outputs": [
    {
     "data": {
      "text/plain": [
       "0.003337706953802977"
      ]
     },
     "execution_count": 232,
     "metadata": {
      "tags": []
     },
     "output_type": "execute_result"
    }
   ],
   "source": [
    "# YOUR CODE HERE\n",
    "0.4964292799047807 - 0.4930915729509777"
   ]
  },
  {
   "cell_type": "code",
   "execution_count": 0,
   "metadata": {
    "colab": {},
    "colab_type": "code",
    "deletable": false,
    "id": "Z1m4Yf-NugmR",
    "nbgrader": {
     "checksum": "7d84ef913eb55fa6ab7d5f327bc8b650",
     "grade": false,
     "grade_id": "cell-7e15f66615ed4361",
     "locked": false,
     "schema_version": 1,
     "solution": true
    }
   },
   "outputs": [],
   "source": [
    "\n",
    "#The value set in the variable must be float\n",
    "gini_difference_2 = 0.003337706953802977\n",
    "\n",
    "# YOUR CODE HERE"
   ]
  },
  {
   "cell_type": "code",
   "execution_count": 234,
   "metadata": {
    "colab": {
     "base_uri": "https://localhost:8080/",
     "height": 34
    },
    "colab_type": "code",
    "deletable": false,
    "editable": false,
    "id": "-7ij3URDugmT",
    "nbgrader": {
     "checksum": "6ac2eb45e569ee8da44b7ed0faf33edc",
     "grade": true,
     "grade_id": "cell-a879c9d33c4f102f",
     "locked": true,
     "points": 0.5,
     "schema_version": 1,
     "solution": false
    },
    "outputId": "6d690929-9417-4042-ed01-256e8f81a426"
   },
   "outputs": [
    {
     "name": "stdout",
     "output_type": "stream",
     "text": [
      "0.003337706953802977\n"
     ]
    }
   ],
   "source": [
    "#This is an autograded cell, do not edit\n",
    "print(gini_difference_2)"
   ]
  },
  {
   "cell_type": "markdown",
   "metadata": {
    "colab_type": "text",
    "deletable": false,
    "editable": false,
    "id": "C0UNgzrTugmX",
    "nbgrader": {
     "checksum": "60aae9f1a5f6e166acf954ee3219986a",
     "grade": false,
     "grade_id": "cell-a47e13b3fcc0108a",
     "locked": true,
     "schema_version": 1,
     "solution": false
    }
   },
   "source": [
    "---\n",
    "**Question 12 (1 points, autograded)** : How many 'female' rows and 'male' rows are in your first partition? How many 'female' rows and 'male' rows are in your second partition?"
   ]
  },
  {
   "cell_type": "code",
   "execution_count": 235,
   "metadata": {
    "colab": {
     "base_uri": "https://localhost:8080/",
     "height": 119
    },
    "colab_type": "code",
    "deletable": false,
    "id": "JguwfDQmugmY",
    "nbgrader": {
     "checksum": "83f6848101b44ce8d5d499484d55d3b2",
     "grade": false,
     "grade_id": "cell-da838430a7b931e1",
     "locked": false,
     "schema_version": 1,
     "solution": true
    },
    "outputId": "c073630e-6db1-4711-88ee-80fdc94ac671"
   },
   "outputs": [
    {
     "name": "stdout",
     "output_type": "stream",
     "text": [
      "female    888\n",
      "male      803\n",
      "Name: gender, dtype: int64\n",
      "female    190\n",
      "male      107\n",
      "Name: gender, dtype: int64\n"
     ]
    }
   ],
   "source": [
    "# YOUR CODE HERE\n",
    "first_part = df.loc[df['eyecolor'].isin(colour_group_1), 'gender'].value_counts()\n",
    "print(first)\n",
    "second_part = df.loc[df['eyecolor'].isin(colour_group_2), 'gender'].value_counts()\n",
    "print(second)"
   ]
  },
  {
   "cell_type": "code",
   "execution_count": 0,
   "metadata": {
    "colab": {},
    "colab_type": "code",
    "deletable": false,
    "id": "H-dDxSbDugma",
    "nbgrader": {
     "checksum": "3c880462e0a6e9e9d64542752b22cbef",
     "grade": false,
     "grade_id": "cell-e4c3bc95376f6df7",
     "locked": false,
     "schema_version": 1,
     "solution": true
    }
   },
   "outputs": [],
   "source": [
    "\n",
    "#The value set in the variable must be integer, order doesn't matter\n",
    "partition1_male = 803 \n",
    "partition1_female = 888 \n",
    "partition2_male = 107 \n",
    "partition2_female = 190 \n",
    "\n",
    "# YOUR CODE HERE"
   ]
  },
  {
   "cell_type": "code",
   "execution_count": 237,
   "metadata": {
    "colab": {
     "base_uri": "https://localhost:8080/",
     "height": 34
    },
    "colab_type": "code",
    "deletable": false,
    "editable": false,
    "id": "XYCfnyCNugmd",
    "nbgrader": {
     "checksum": "0fdc2e6ab8f5b169f5bfd9566d85fc01",
     "grade": true,
     "grade_id": "cell-1c022d94964cb6cc",
     "locked": true,
     "points": 1,
     "schema_version": 1,
     "solution": false
    },
    "outputId": "692a7bb8-122d-435b-9a78-d3cc843609d9"
   },
   "outputs": [
    {
     "name": "stdout",
     "output_type": "stream",
     "text": [
      "803 888 107 190\n"
     ]
    }
   ],
   "source": [
    "#This is an autograded cell, do not edit\n",
    "print(partition1_male, partition1_female, partition2_male, partition2_female)"
   ]
  },
  {
   "cell_type": "markdown",
   "metadata": {
    "colab_type": "text",
    "deletable": false,
    "editable": false,
    "id": "JoFggmQGugmi",
    "nbgrader": {
     "checksum": "2d2ab95c05c31c5f214bd422e16e450b",
     "grade": false,
     "grade_id": "cell-d81b2ec1e886e1b6",
     "locked": true,
     "schema_version": 1,
     "solution": false
    }
   },
   "source": [
    "---\n",
    "## Training a decision tree\n",
    "**Question 13 (1 points, autograded)**: Using all of the features in the original dataframe read in at the top of this notebook, train a decision tree classifier that has a depth of three (not including the root node). What is the accuracy of this classifier on the training data?\n",
    "\n",
    "Scikit-learn classifiers require class labels and features to be in numeric arrays. As such, you will need to turn your categorical features into numeric arrays using DictVectorizer. This is a helpful notebook for understanding how to do this: http://nbviewer.ipython.org/gist/sarguido/7423289. You can turn a pandas dataframe of features into a dictionary of the form needed by DictVectorizer by using df.to_dict('records'). Make sure you remove the class label first (in this case, gender). If you use the class label as a feature, your classifier will have a training accuracy of 100%! The example notebook link also shows how to turn your class labels into a numeric array using sklearn.preprocessing.LabelEncoder()."
   ]
  },
  {
   "cell_type": "code",
   "execution_count": 122,
   "metadata": {
    "colab": {
     "base_uri": "https://localhost:8080/",
     "height": 204
    },
    "colab_type": "code",
    "deletable": false,
    "id": "kFIx_xdyugmj",
    "nbgrader": {
     "checksum": "14960b019250231f745c6db5a38c70f7",
     "grade": false,
     "grade_id": "cell-a77a52f79c83b21a",
     "locked": false,
     "schema_version": 1,
     "solution": true
    },
    "outputId": "a2388db2-b036-4513-ef68-1c417f4371ec"
   },
   "outputs": [
    {
     "data": {
      "text/html": [
       "<div>\n",
       "<style scoped>\n",
       "    .dataframe tbody tr th:only-of-type {\n",
       "        vertical-align: middle;\n",
       "    }\n",
       "\n",
       "    .dataframe tbody tr th {\n",
       "        vertical-align: top;\n",
       "    }\n",
       "\n",
       "    .dataframe thead th {\n",
       "        text-align: right;\n",
       "    }\n",
       "</style>\n",
       "<table border=\"1\" class=\"dataframe\">\n",
       "  <thead>\n",
       "    <tr style=\"text-align: right;\">\n",
       "      <th></th>\n",
       "      <th>gender</th>\n",
       "      <th>age</th>\n",
       "      <th>year</th>\n",
       "      <th>eyecolor</th>\n",
       "      <th>height</th>\n",
       "      <th>miles</th>\n",
       "      <th>brothers</th>\n",
       "      <th>sisters</th>\n",
       "      <th>computertime</th>\n",
       "      <th>exercise</th>\n",
       "      <th>exercisehours</th>\n",
       "      <th>musiccds</th>\n",
       "      <th>playgames</th>\n",
       "      <th>watchtv</th>\n",
       "    </tr>\n",
       "  </thead>\n",
       "  <tbody>\n",
       "    <tr>\n",
       "      <th>0</th>\n",
       "      <td>female</td>\n",
       "      <td>18</td>\n",
       "      <td>first</td>\n",
       "      <td>hazel</td>\n",
       "      <td>68.0</td>\n",
       "      <td>195.0</td>\n",
       "      <td>0</td>\n",
       "      <td>1</td>\n",
       "      <td>20.0</td>\n",
       "      <td>Yes</td>\n",
       "      <td>3.0</td>\n",
       "      <td>75.0</td>\n",
       "      <td>6.0</td>\n",
       "      <td>18.0</td>\n",
       "    </tr>\n",
       "    <tr>\n",
       "      <th>1</th>\n",
       "      <td>male</td>\n",
       "      <td>20</td>\n",
       "      <td>third</td>\n",
       "      <td>brown</td>\n",
       "      <td>70.0</td>\n",
       "      <td>120.0</td>\n",
       "      <td>3</td>\n",
       "      <td>0</td>\n",
       "      <td>24.0</td>\n",
       "      <td>No</td>\n",
       "      <td>0.0</td>\n",
       "      <td>50.0</td>\n",
       "      <td>0.0</td>\n",
       "      <td>3.0</td>\n",
       "    </tr>\n",
       "    <tr>\n",
       "      <th>2</th>\n",
       "      <td>female</td>\n",
       "      <td>18</td>\n",
       "      <td>first</td>\n",
       "      <td>green</td>\n",
       "      <td>67.0</td>\n",
       "      <td>200.0</td>\n",
       "      <td>0</td>\n",
       "      <td>1</td>\n",
       "      <td>35.0</td>\n",
       "      <td>Yes</td>\n",
       "      <td>3.0</td>\n",
       "      <td>53.0</td>\n",
       "      <td>8.0</td>\n",
       "      <td>1.0</td>\n",
       "    </tr>\n",
       "    <tr>\n",
       "      <th>3</th>\n",
       "      <td>male</td>\n",
       "      <td>23</td>\n",
       "      <td>fourth</td>\n",
       "      <td>hazel</td>\n",
       "      <td>74.0</td>\n",
       "      <td>140.0</td>\n",
       "      <td>1</td>\n",
       "      <td>1</td>\n",
       "      <td>5.0</td>\n",
       "      <td>Yes</td>\n",
       "      <td>25.0</td>\n",
       "      <td>50.0</td>\n",
       "      <td>0.0</td>\n",
       "      <td>7.0</td>\n",
       "    </tr>\n",
       "    <tr>\n",
       "      <th>4</th>\n",
       "      <td>female</td>\n",
       "      <td>19</td>\n",
       "      <td>second</td>\n",
       "      <td>blue</td>\n",
       "      <td>62.0</td>\n",
       "      <td>60.0</td>\n",
       "      <td>0</td>\n",
       "      <td>1</td>\n",
       "      <td>5.0</td>\n",
       "      <td>Yes</td>\n",
       "      <td>4.0</td>\n",
       "      <td>30.0</td>\n",
       "      <td>2.0</td>\n",
       "      <td>5.0</td>\n",
       "    </tr>\n",
       "  </tbody>\n",
       "</table>\n",
       "</div>"
      ],
      "text/plain": [
       "   gender  age    year eyecolor  ...  exercisehours  musiccds  playgames  watchtv\n",
       "0  female   18   first    hazel  ...            3.0      75.0        6.0     18.0\n",
       "1    male   20   third    brown  ...            0.0      50.0        0.0      3.0\n",
       "2  female   18   first    green  ...            3.0      53.0        8.0      1.0\n",
       "3    male   23  fourth    hazel  ...           25.0      50.0        0.0      7.0\n",
       "4  female   19  second     blue  ...            4.0      30.0        2.0      5.0\n",
       "\n",
       "[5 rows x 14 columns]"
      ]
     },
     "execution_count": 122,
     "metadata": {
      "tags": []
     },
     "output_type": "execute_result"
    }
   ],
   "source": [
    "# YOUR CODE HERE\n",
    "df.head()"
   ]
  },
  {
   "cell_type": "code",
   "execution_count": 238,
   "metadata": {
    "colab": {
     "base_uri": "https://localhost:8080/",
     "height": 34
    },
    "colab_type": "code",
    "id": "PIrVhUzJn4vY",
    "outputId": "e240645a-fc21-4063-9912-3a4603ec70cf"
   },
   "outputs": [
    {
     "name": "stdout",
     "output_type": "stream",
     "text": [
      "0.8646881287726358\n"
     ]
    }
   ],
   "source": [
    "from sklearn.tree import DecisionTreeClassifier\n",
    "from sklearn.metrics import accuracy_score\n",
    "from sklearn.feature_extraction import DictVectorizer\n",
    "from sklearn import preprocessing\n",
    "\n",
    "y = df.loc[:,'gender']\n",
    "X = df.loc[:, 'age':'watchtv'].to_dict('records')\n",
    "vec = DictVectorizer()\n",
    "X = vec.fit_transform(X).toarray()\n",
    "\n",
    "le = preprocessing.LabelEncoder()\n",
    "le.fit(['male','female'])\n",
    "target = le.transform(df['gender'])\n",
    "\n",
    "clf = DecisionTreeClassifier(max_depth=3)\n",
    "\n",
    "clf = clf.fit(X, y)\n",
    "y_pred = clf.predict(X)\n",
    "\n",
    "print(accuracy_score(y, y_pred))"
   ]
  },
  {
   "cell_type": "code",
   "execution_count": 0,
   "metadata": {
    "colab": {},
    "colab_type": "code",
    "deletable": false,
    "id": "CqowI-lrugmn",
    "nbgrader": {
     "checksum": "f26339bc22d99829fefeb18e1c46cb06",
     "grade": false,
     "grade_id": "cell-55c9f9a2702cf09c",
     "locked": false,
     "schema_version": 1,
     "solution": true
    }
   },
   "outputs": [],
   "source": [
    "\n",
    "#The value set in the variable must be float\n",
    "accuracy = 0.8646881287726358 \n",
    "\n",
    "# YOUR CODE HERE"
   ]
  },
  {
   "cell_type": "code",
   "execution_count": 240,
   "metadata": {
    "colab": {
     "base_uri": "https://localhost:8080/",
     "height": 34
    },
    "colab_type": "code",
    "deletable": false,
    "editable": false,
    "id": "urP93Al5ugmu",
    "nbgrader": {
     "checksum": "75544e763b81e3e36748ea0f4989c6ae",
     "grade": true,
     "grade_id": "cell-329a69c83b199316",
     "locked": true,
     "points": 1,
     "schema_version": 1,
     "solution": false
    },
    "outputId": "3c571e11-5303-4973-8135-3c9aeedebab6"
   },
   "outputs": [
    {
     "name": "stdout",
     "output_type": "stream",
     "text": [
      "0.8646881287726358\n"
     ]
    }
   ],
   "source": [
    "#This is an autograded cell, do not edit\n",
    "print(accuracy)"
   ]
  },
  {
   "cell_type": "markdown",
   "metadata": {
    "colab_type": "text",
    "deletable": false,
    "editable": false,
    "id": "MpU-3jviugm1",
    "nbgrader": {
     "checksum": "f23e20cb9c25f2f8d674f98079625ff2",
     "grade": false,
     "grade_id": "cell-e321872a66519e2c",
     "locked": true,
     "schema_version": 1,
     "solution": false
    }
   },
   "source": [
    "---\n",
    "**Question 14 (1 points, manually graded)**: Using the following code snippet, export your decision tree to graphviz and visualize it. In your write-up, write down the interpretation of the rule at each node which is used to perform the splitting.\n",
    "\n",
    "In order to install graphviz, you may need to download the tool from [this website](https://graphviz.gitlab.io), and then pip3/conda install the python libraries you do not have.\n",
    "\n",
    "Mac users can use ```brew install graphviz``` instead of following the link, and linux users can do the same using their favourite package manager (for example, Ubuntu users can use ```sudo apt-get install graphviz```, followed by the necessary pip3/conda installations."
   ]
  },
  {
   "cell_type": "code",
   "execution_count": 241,
   "metadata": {
    "colab": {
     "base_uri": "https://localhost:8080/",
     "height": 614
    },
    "colab_type": "code",
    "deletable": false,
    "editable": false,
    "id": "H80MNiT4ugm2",
    "nbgrader": {
     "checksum": "b43dac070b745305841e22382bc87bda",
     "grade": false,
     "grade_id": "cell-5aaab8332072d23e",
     "locked": true,
     "schema_version": 1,
     "solution": false
    },
    "outputId": "9025de30-43b2-41e2-e647-8887fc0438d0"
   },
   "outputs": [
    {
     "data": {
      "image/png": "[encoded data removed]",
      "text/plain": [
       "<IPython.core.display.Image object>"
      ]
     },
     "execution_count": 241,
     "metadata": {
      "tags": []
     },
     "output_type": "execute_result"
    }
   ],
   "source": [
    "from IPython.display import Image  \n",
    "import pydotplus \n",
    "import pydot\n",
    "from sklearn.externals.six import StringIO\n",
    "from sklearn import tree\n",
    "\n",
    "\n",
    "# clf = your classifier\n",
    "dotfile = StringIO() \n",
    "tree.export_graphviz(clf, out_file=dotfile,\n",
    "                     feature_names=vec.feature_names_ ,  \n",
    "                         class_names=['Female', 'Male'],  \n",
    "                         filled=True, rounded=True,  \n",
    "                         special_characters=True)\n",
    "graph = pydotplus.graph_from_dot_data(dotfile.getvalue())\n",
    "Image(graph.create_png())\n",
    "\n",
    "\n",
    "#Ignore the cell below, but do not delete it. It is used to grade the image output of this cell."
   ]
  },
  {
   "cell_type": "markdown",
   "metadata": {
    "colab_type": "text",
    "id": "Hqk2L3KE1Euj"
   },
   "source": [
    "The first node (root node) is splitting the data based on height using the best split point found in question 3, which is 68.5. The child node to the left is splitting the data based on the hours an individual played games per week. Instances were the individual played less than or equal to 7.75 hours fall into the left child node. The right child node looks at height and captures the instances where the heights are less than or equal to 70.5 inches and the class label is male. The left child node of the playgmames split, splits based upon height (less than or equal to 67.5), resulting the majority of instances being labeled female. The right child node of the playgames split, splits based on height (less than or equal to 65.5), resulting in the instances being labeled male. The left node of the height split, splits the data based on playgames (less than or equal to 2.5 hours) resulting in the label being male. The right child node of the heigh split, splits the data based on playgames (less than or equal to 1.75 hours), which also results in a label of male. The leaf nodes of the splits display the gini index (the impurty/inequality) of the captured instances."
   ]
  },
  {
   "cell_type": "markdown",
   "metadata": {
    "colab_type": "text",
    "deletable": false,
    "editable": false,
    "id": "gIOPTYuiugnF",
    "nbgrader": {
     "checksum": "29e84207b6e13109206f7ef78d0ff602",
     "grade": false,
     "grade_id": "cell-06714e6427b2d0d0",
     "locked": true,
     "schema_version": 1,
     "solution": false
    }
   },
   "source": [
    "---\n",
    "## Bonus Question (2 points, auto graded)\n",
    "For each of your leaf nodes, specify the percentage of 'female' rows in that node (out of the total number of rows at that node)\n"
   ]
  },
  {
   "cell_type": "code",
   "execution_count": 0,
   "metadata": {
    "colab": {},
    "colab_type": "code",
    "deletable": false,
    "id": "co_iRKrUugnG",
    "nbgrader": {
     "checksum": "88cda91aeb11b6f96d6c2bacf4a4804e",
     "grade": false,
     "grade_id": "cell-650a81bc31e6f608",
     "locked": false,
     "schema_version": 1,
     "solution": true
    }
   },
   "outputs": [],
   "source": [
    "#The value set in the variable must be array\n",
    "ratios = [] #Replace 0 with the actual value\n",
    "\n",
    "# YOUR CODE HERE\n",
    "raise NotImplementedError()\n"
   ]
  },
  {
   "cell_type": "code",
   "execution_count": 0,
   "metadata": {
    "colab": {},
    "colab_type": "code",
    "deletable": false,
    "editable": false,
    "id": "Ugyn_t3lugnH",
    "nbgrader": {
     "checksum": "de18cf01eb62a9398145d3f1879681d5",
     "grade": true,
     "grade_id": "cell-2cc540aa430d101d",
     "locked": true,
     "points": 2,
     "schema_version": 1,
     "solution": false
    }
   },
   "outputs": [],
   "source": [
    "#This is an autograded cell, do not edit\n",
    "print(ratios)"
   ]
  },
  {
   "cell_type": "code",
   "execution_count": 0,
   "metadata": {
    "colab": {},
    "colab_type": "code",
    "id": "DIjVpr5ZugnU"
   },
   "outputs": [],
   "source": []
  }
 ],
 "metadata": {
  "colab": {
   "collapsed_sections": [
    "gIOPTYuiugnF"
   ],
   "name": "Martin_Daniel_Lab3.ipynb",
   "provenance": []
  },
  "kernelspec": {
   "display_name": "Python 3",
   "language": "python",
   "name": "python3"
  },
  "language_info": {
   "codemirror_mode": {
    "name": "ipython",
    "version": 3
   },
   "file_extension": ".py",
   "mimetype": "text/x-python",
   "name": "python",
   "nbconvert_exporter": "python",
   "pygments_lexer": "ipython3",
   "version": "3.7.3"
  }
 },
 "nbformat": 4,
 "nbformat_minor": 1
}
