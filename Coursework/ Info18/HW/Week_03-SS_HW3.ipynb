{
 "cells": [
  {
   "cell_type": "markdown",
   "metadata": {},
   "source": [
    "# Homework 3 - Summer Session\n",
    "\n",
    "* Assignment due date: Right before week 4's next live session"
   ]
  },
  {
   "cell_type": "markdown",
   "metadata": {},
   "source": [
    "# 1 - For Loops\n",
    "\n",
    "1. Write a script that prompts the user for two words.  Print all the letters that are common to both words, in alphabetical order. The script should be case agnostic.\n",
    "```\n",
    "Enter one word: Home\n",
    "Enter another word: meter\n",
    "Letters in common: em\n",
    "```"
   ]
  },
  {
   "cell_type": "code",
   "execution_count": 11,
   "metadata": {},
   "outputs": [
    {
     "name": "stdout",
     "output_type": "stream",
     "text": [
      "Enter word 1: Home\n",
      "Enter word 2: meter\n",
      "Letters in common: em"
     ]
    }
   ],
   "source": [
    "word1 = list(input(\"Enter word 1: \").lower())\n",
    "word2 = list(input(\"Enter word 2: \").lower())\n",
    "print('Letters in common: ', end=\"\")\n",
    "common = set([])\n",
    "\n",
    "for i_char in word1:\n",
    "    for k_char in word2:\n",
    "        if i_char == k_char:\n",
    "            common.add(i_char)\n",
    "            \n",
    "for _ in sorted(common):\n",
    "    print(_,end='')"
   ]
  },
  {
   "cell_type": "markdown",
   "metadata": {},
   "source": [
    "# 2 - Comprehensions\n",
    "\n",
    "**2-1:** Use a comprehension to make a list of the square numbers below 100 that give a remainder of 1 when divided by 3."
   ]
  },
  {
   "cell_type": "code",
   "execution_count": 12,
   "metadata": {},
   "outputs": [
    {
     "name": "stdout",
     "output_type": "stream",
     "text": [
      "[1, 4, 16, 25, 49, 64]\n"
     ]
    }
   ],
   "source": [
    "import math\n",
    "lst = [num for num in range(100) if num % 3 == 1 and \n",
    "       num**0.5 - math.floor(num**0.5) == 0]\n",
    "print(lst)"
   ]
  },
  {
   "cell_type": "markdown",
   "metadata": {},
   "source": [
    "**2-2:** A string is defined in the code snippet below. Split it into individual words and use a comprehension to make a list of the first letters of each word in the snippet."
   ]
  },
  {
   "cell_type": "code",
   "execution_count": 13,
   "metadata": {},
   "outputs": [],
   "source": [
    "text = \"I live my life a quarter mile at a time. \\\n",
    "Nothing else matters: not the mortgage, not the store, \\\n",
    "not my team and all their bullshit. \\\n",
    "For those ten seconds or less, I’m free.\"\n",
    "# the slashes just mean that the string continues onto the next line\n",
    "# if you print the text, it will make no difference"
   ]
  },
  {
   "cell_type": "code",
   "execution_count": 14,
   "metadata": {},
   "outputs": [
    {
     "name": "stdout",
     "output_type": "stream",
     "text": [
      "['I', 'l', 'm', 'l', 'a', 'q', 'm', 'a', 'a', 't', 'N', 'e', 'm', 'n', 't', 'm', 'n', 't', 's', 'n', 'm', 't', 'a', 'a', 't', 'b', 'F', 't', 't', 's', 'o', 'l', 'I', 'f']\n"
     ]
    }
   ],
   "source": [
    "lst = [word[0] for word in text.split()]\n",
    "print(lst)"
   ]
  },
  {
   "cell_type": "markdown",
   "metadata": {},
   "source": [
    "**2-3:** Given the a word, provided below, use a comprehension to make a list of all strings that can be formed by deleting exactly one character from the word.\n",
    "\n",
    "`word = \"Welcomed\"`"
   ]
  },
  {
   "cell_type": "code",
   "execution_count": 15,
   "metadata": {},
   "outputs": [
    {
     "name": "stdout",
     "output_type": "stream",
     "text": [
      "['elcomed', 'Wlcomd', 'Wecomed', 'Welomed', 'Welcmed', 'Welcoed', 'Wlcomd', 'Welcome']\n"
     ]
    }
   ],
   "source": [
    "word = \"Welcomed\"\n",
    "lst = [word.replace(word[letter],\"\") for letter in range(len(word))]\n",
    "print(lst)"
   ]
  },
  {
   "cell_type": "markdown",
   "metadata": {},
   "source": [
    "# 3 - Nested functions\n",
    "\n",
    "**3-1:** Write a function `is_consonant` that takes a character and returns `True` if it is a consonant."
   ]
  },
  {
   "cell_type": "code",
   "execution_count": 16,
   "metadata": {},
   "outputs": [
    {
     "name": "stdout",
     "output_type": "stream",
     "text": [
      "False\n",
      "True\n"
     ]
    }
   ],
   "source": [
    "def is_consonant(char):\n",
    "    if char not in \"aeiou\":\n",
    "        return True\n",
    "    return False\n",
    "\n",
    "print(is_consonant('a'))\n",
    "print(is_consonant('b'))"
   ]
  },
  {
   "cell_type": "markdown",
   "metadata": {},
   "source": [
    "**3-2:** Use your function to call a new fuction `to_piglatin` that takes a word, moves all starting consonants to the end of the word, then adds *ay* to the end and returns the result. You may expect that the the input will be just one word.\n",
    "\n",
    "*(Optional): Have this function check whether or not the input is multiple words and return the whole sentence in pig latin. For this you may assume that a sentence always ends with a period and is always one sentence, never more than one.*"
   ]
  },
  {
   "cell_type": "code",
   "execution_count": 17,
   "metadata": {},
   "outputs": [
    {
     "name": "stdout",
     "output_type": "stream",
     "text": [
      "aioiaclfrnay\n"
     ]
    }
   ],
   "source": [
    "def to_piglatin(word):\n",
    "    consonants = ''\n",
    "    for char in list(word):\n",
    "        if is_consonant(char):\n",
    "            consonants += char\n",
    "            word = word.replace(char, \"\")\n",
    "    return word + consonants + 'ay'\n",
    "\n",
    "print(to_piglatin('california')) #aioiaclfrnay"
   ]
  },
  {
   "cell_type": "markdown",
   "metadata": {},
   "source": [
    "# 4 - Namespace Exercises\n",
    "\n",
    "**4-1:** The following script defines a list of customer orders.  Each item in the list is a tuple containing the name of the item, the number requested, and the price per item.\n",
    "\n",
    "Fill in just the `process_order` function below without changing any other code. This function should remove one of the elements of the order list and print a nice message about it. Finally, make sure that the final print statement correctly displays the total price for the entire list."
   ]
  },
  {
   "cell_type": "code",
   "execution_count": 18,
   "metadata": {
    "scrolled": true
   },
   "outputs": [
    {
     "name": "stdout",
     "output_type": "stream",
     "text": [
      "Oranges, what a great purchase!\n",
      "Gummy bears, what a great purchase!\n",
      "Sour bites, what a great purchase!\n",
      "Antacid, what a great purchase!\n",
      "total price:  12.87\n"
     ]
    }
   ],
   "source": [
    "total = 0\n",
    "\n",
    "def process_order(x_list):\n",
    "    item = x_list.pop(0)\n",
    "    print('{}, what a great purchase!'.format(item[0].capitalize()))\n",
    "    return item[2]\n",
    "\n",
    "x = [(\"oranges\", 4, 3.22),(\"gummy bears\",1,1.99),(\"sour bites\", 3, 2.33), (\"antacid\", 1, 5.33)]\n",
    "while(len(x)>0):\n",
    "    total += process_order(x)\n",
    "print(\"total price: \", round(total,2))"
   ]
  },
  {
   "cell_type": "markdown",
   "metadata": {
    "collapsed": true
   },
   "source": [
    "# 5 - Exceptions Exercise\n",
    "\n",
    "Refactor (modify) this code that attempts to compute a reciprocal so that it keeps prompting the user for a number repeatedly until the user successfully enters a valid input.  If the user enters 0, the program should print that zero does not have a reciprocal, then terminate.\n",
    "\n",
    "\"Refactor\" is a computer programming term that means to change or restructure code.\n",
    "\n",
    "The \"reciprocal\" of a fraction is obtained by interchanging the numerator and the denominator, i.e. by inverting the fraction. The reciprocal of \"x\" is \"1/x\".\n"
   ]
  },
  {
   "cell_type": "code",
   "execution_count": 19,
   "metadata": {},
   "outputs": [
    {
     "name": "stdout",
     "output_type": "stream",
     "text": [
      "Enter a number: a\n",
      "You did not enter a valid number.\n",
      "Enter a number: b\n",
      "You did not enter a valid number.\n",
      "Enter a number: 0\n",
      "Zero does not have a reciprocal\n"
     ]
    }
   ],
   "source": [
    "condition = True\n",
    "while condition:\n",
    "    try:\n",
    "        x = float(input(\"Enter a number: \"))\n",
    "        print(\"The reciprocal of your number is\", 1/x)\n",
    "        condition = False\n",
    "    except ValueError:\n",
    "        print(\"You did not enter a valid number.\")\n",
    "    except ZeroDivisionError:\n",
    "        print(\"Zero does not have a reciprocal\")\n",
    "        condition = False\n",
    "    except:\n",
    "        print(\"something else went wrong.\")"
   ]
  },
  {
   "cell_type": "markdown",
   "metadata": {},
   "source": [
    "# 6 - Bisection Search\n",
    "\n",
    "**6-1:** The bisection code below finds the square root of a number. Try inputting 16 into the code to confirm it works. Next, try inputting 0.25 into the bisection search algorithm below and confirm that it doesn't work. Then correct the algorithm so that it works for all positive numbers, including decimals such as 0.25."
   ]
  },
  {
   "cell_type": "code",
   "execution_count": 20,
   "metadata": {},
   "outputs": [
    {
     "name": "stdout",
     "output_type": "stream",
     "text": [
      "enter a number:0.25\n",
      "low = 0.0 high = 1.0\n",
      "low = 0.0 high = 0.5\n",
      "low = 0.25 high = 0.5\n",
      "low = 0.375 high = 0.5\n",
      "low = 0.4375 high = 0.5\n",
      "low = 0.46875 high = 0.5\n",
      "low = 0.484375 high = 0.5\n",
      "low = 0.4921875 high = 0.5\n",
      "low = 0.49609375 high = 0.5\n",
      "low = 0.498046875 high = 0.5\n",
      "low = 0.4990234375 high = 0.5\n",
      "low = 0.49951171875 high = 0.5\n",
      "low = 0.499755859375 high = 0.5\n",
      "low = 0.4998779296875 high = 0.5\n",
      "low = 0.49993896484375 high = 0.5\n",
      "low = 0.499969482421875 high = 0.5\n",
      "number of guesses = 16\n",
      "0.49999237060546875 is close to square root of 0.25\n"
     ]
    }
   ],
   "source": [
    "## Bisection Search to Find a Square Root\n",
    "\n",
    "x = float(input(\"enter a number:\"))\n",
    "epsilon = 0.00001\n",
    "num_guesses = 0\n",
    "low = 0.0\n",
    "high = (x<1)*1 + (x>1)*x\n",
    "ans = (high + low)/2.0\n",
    "while high - low >= 2 * epsilon:\n",
    "    print(\"low =\",low,\"high =\", high)\n",
    "    num_guesses += 1\n",
    "    if ans ** 2 < x:\n",
    "        low = ans\n",
    "    else:\n",
    "        high = ans\n",
    "    ans = (high + low)/2.0\n",
    "print('number of guesses =', num_guesses)\n",
    "print(ans, 'is close to square root of', x)"
   ]
  },
  {
   "cell_type": "markdown",
   "metadata": {},
   "source": [
    "**6-2:** In your own words, why does the bisection search algorthm for finding square roots work faster on large numbers than the brute force algorithm? Write your answer below."
   ]
  },
  {
   "cell_type": "markdown",
   "metadata": {},
   "source": [
    "**[Type your answer here]**\n",
    "The bisection alogrithm finds the square roots faster on larger numbers than the brute force algorithm because it continues to bisect/cut the number in half, allowing the algorithm to skip/not check all values."
   ]
  },
  {
   "cell_type": "markdown",
   "metadata": {},
   "source": [
    "**6-3:** In your own words, why does Newton's method for finding square roots outperform both the brute force and the bisection search algorithms? Write your answer below.\n"
   ]
  },
  {
   "cell_type": "markdown",
   "metadata": {},
   "source": [
    "**[Type your answer here]**\n",
    "Newton's method for finding square roots outperforms both the brute force and the bisection search algorithms because your second guess/iteration is based on more information/accuracy (crossing the x-axis), where the bisection algorithm simply just halfs the value and the brute force method checks all values."
   ]
  },
  {
   "cell_type": "markdown",
   "metadata": {},
   "source": [
    "# Bonus question (20 pts)! - Chess board exercise "
   ]
  },
  {
   "cell_type": "markdown",
   "metadata": {},
   "source": [
    "You place a pawn at the top left corner of an n-by-n chess board, labeled (0,0).  For each move, you have a choice: move the pawn down a single space, or move the pawn down one space and right one space.  That is, if the pawn is at position (i,j), you can move the pawn to (i+1,j) or (i+1, j+1).\n",
    "\n",
    "Ask the user for the size of a chessboard, n.  Find the number of different paths the pawn could take to reach each position on the chess board.  For example, there are two different paths the pawn can take to reach (2,1): \n",
    "\n",
    "* (0,0) -> (1,0) -> (2,1)\n",
    "* (0,0) -> (1,1) -> (2,1)\n",
    "\n",
    "print the board with the number of ways to reach each square labeled as shown below.\n",
    "\n",
    "Enter a size: 3\n",
    "```\n",
    "1 0 0\n",
    "1 1 0\n",
    "1 2 1\n",
    "```\n",
    "\n",
    "Below is the code to take in a board size input. Build your code from here."
   ]
  },
  {
   "cell_type": "code",
   "execution_count": null,
   "metadata": {},
   "outputs": [],
   "source": [
    "n = int(input(\"Enter a board size: \"))"
   ]
  },
  {
   "cell_type": "markdown",
   "metadata": {},
   "source": [
    "## Please submit feedback for any and all homeworks!\n",
    "\n",
    "http://goo.gl/forms/74yCiQTf6k"
   ]
  }
 ],
 "metadata": {
  "kernelspec": {
   "display_name": "Python 3",
   "language": "python",
   "name": "python3"
  },
  "language_info": {
   "codemirror_mode": {
    "name": "ipython",
    "version": 3
   },
   "file_extension": ".py",
   "mimetype": "text/x-python",
   "name": "python",
   "nbconvert_exporter": "python",
   "pygments_lexer": "ipython3",
   "version": "3.7.3"
  },
  "name": "_merged"
 },
 "nbformat": 4,
 "nbformat_minor": 1
}
