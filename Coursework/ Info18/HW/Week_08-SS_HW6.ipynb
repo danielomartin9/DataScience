{
 "cells": [
  {
   "cell_type": "markdown",
   "metadata": {},
   "source": [
    "## Week 12 Assignment - W200 Python Fundamentals for Data Science, UC Berkeley MIDS\n",
    "\n",
    "Write code in this Jupyter Notebook to solve the following problems. Please upload this **Notebook** with your solutions to your GitHub repository in your SUBMISSIONS/week_12 folder by 11:59PM PST the night before class."
   ]
  },
  {
   "cell_type": "markdown",
   "metadata": {},
   "source": [
    "This homework assignment is Week 12 which corresponds to the Unit #11 async. If you turn-in anything on ISVC please do so under the Week 12 Assignment category. (Apologies for the confusion)"
   ]
  },
  {
   "cell_type": "markdown",
   "metadata": {},
   "source": [
    "## Objectives\n",
    "\n",
    "- Explore and get insights from a real dataset using pandas\n",
    "- Practice the use of pandas for: exploratory analysis, information gathering and discovery\n",
    "- Use matplotlib for plotting charts from the data"
   ]
  },
  {
   "cell_type": "markdown",
   "metadata": {},
   "source": [
    "## Data files\n",
    "\n",
    "In this assignment you will apply what you are learning to answer questions about campaign contributions in the Democratic presidential primary race. We will use the csv file located here: https://drive.google.com/file/d/1Lgg-PwXQ6TQLDowd6XyBxZw5g1NGWPjB/view?usp=sharing. You will need to download and save the csv in the same folder as this notebook. This file originally came from the U.S. Federal Election Commission (https://www.fec.gov/).\n",
    "\n",
    "** REMEMBER -- DO NOT PUT THIS DATA IN YOUR GITHUB REPO ! **\n",
    "\n",
    "Documentation for this data file can be found here: https://drive.google.com/file/d/11o_SByceenv0NgNMstM-dxC1jL7I9fHL/view?usp=sharing"
   ]
  },
  {
   "cell_type": "markdown",
   "metadata": {},
   "source": [
    "## General Guidelines:\n",
    "\n",
    "- This is a **real** dataset and so it contains errors and other pecularities to work through\n",
    "- The data is ~218mb which will take some time to load (and probably won't load in google sheets or Excel)\n",
    "- If you make assumptions please annotate them in your answer\n",
    "- While we've left one code/markdown cell for you after each question as a placeholder, some of your answers will require multiple cells to fully respond\n",
    "- Double click the markdown cells where it says YOUR ANSWER HERE to enter your written answers; if you need more cells to write answers in please make them markdown cells (rather than code cells)"
   ]
  },
  {
   "cell_type": "markdown",
   "metadata": {},
   "source": [
    "## Setup\n",
    "\n",
    "First, run the two cells below. \n",
    "\n",
    "The first cell will load in the data to a pandas dataframe named 'contrib'. Note we define a custom date parser to speed up import (we could have Python guess the date format, but this can make the load a lot slower).  \n",
    "\n",
    "The second cell subsets the data to look at the primary period.  Otherwise, we would see general election donations which would make it harder to draw conclusions about the primaries.  We will analyze through May 2016."
   ]
  },
  {
   "cell_type": "code",
   "execution_count": 97,
   "metadata": {},
   "outputs": [
    {
     "name": "stderr",
     "output_type": "stream",
     "text": [
      "/Applications/anaconda3/lib/python3.7/site-packages/IPython/core/interactiveshell.py:3049: DtypeWarning: Columns (6,11,12) have mixed types. Specify dtype option on import or set low_memory=False.\n",
      "  interactivity=interactivity, compiler=compiler, result=result)\n"
     ]
    }
   ],
   "source": [
    "# import the data\n",
    "import pandas as pd\n",
    "import matplotlib.pyplot as plt\n",
    "\n",
    "pd.options.display.float_format = '{:,.2f}'.format\n",
    "%matplotlib inline\n",
    "\n",
    "# Create date parser to pass to read_csv\n",
    "import datetime\n",
    "d = lambda x: pd.datetime.strptime(x, '%d-%b-%y')\n",
    "\n",
    "contrib = pd.read_csv('./P00000001-CA.csv', index_col=False, parse_dates = ['contb_receipt_dt'], date_parser=d)\n",
    "\n",
    "# Note - for now, it is okay to ignore the warning about mixed types.  "
   ]
  },
  {
   "cell_type": "code",
   "execution_count": 98,
   "metadata": {},
   "outputs": [
    {
     "name": "stdout",
     "output_type": "stream",
     "text": [
      "(1125659, 18)\n",
      "(654502, 18)\n"
     ]
    }
   ],
   "source": [
    "# Subset data to primary period \n",
    "print(contrib.shape)\n",
    "\n",
    "contrib = contrib.copy()[contrib['contb_receipt_dt'] <= datetime.datetime(2016, 5, 31)]\n",
    "print(contrib.shape)"
   ]
  },
  {
   "cell_type": "markdown",
   "metadata": {},
   "source": [
    "## 1. Data Exploration\n",
    "\n",
    "**1a.** First, let's take a preliminary look at our data:\n",
    "- Print the *shape* of the data. What does this tell you about the number of variables and rows you have?\n",
    "- Print a list of column names. \n",
    "- Review the documentation for this dataset (linked above). Do you have all of the columns you expect to have?\n",
    "- Sometimes variable names are not clear unless we read the documentation. In your own words, based on the documentation, what information does the \"election_tp\" variable contain?"
   ]
  },
  {
   "cell_type": "code",
   "execution_count": 3,
   "metadata": {
    "deletable": false,
    "nbgrader": {
     "checksum": "9f7a7938e43b14d3c7c49d6a278b0bb1",
     "grade": true,
     "grade_id": "cell-5d017805206f18b1",
     "locked": false,
     "points": 0,
     "schema_version": 1,
     "solution": true
    },
    "scrolled": true
   },
   "outputs": [
    {
     "name": "stdout",
     "output_type": "stream",
     "text": [
      "(654502, 18)\n",
      "\n",
      "['cmte_id', 'cand_id', 'cand_nm', 'contbr_nm', 'contbr_city', 'contbr_st', 'contbr_zip', 'contbr_employer', 'contbr_occupation', 'contb_receipt_amt', 'contb_receipt_dt', 'receipt_desc', 'memo_cd', 'memo_text', 'form_tp', 'file_num', 'tran_id', 'election_tp']\n",
      "\n"
     ]
    }
   ],
   "source": [
    "# YOUR CODE HERE\n",
    "print(contrib.shape, end = '\\n\\n') \n",
    "# 18 variables/columns/features and 654502 rows\n",
    "\n",
    "print([cols for cols in contrib.columns], end = '\\n\\n')"
   ]
  },
  {
   "cell_type": "markdown",
   "metadata": {
    "deletable": false,
    "nbgrader": {
     "checksum": "e6a198453ec4b0171a064fef0bd7c678",
     "grade": true,
     "grade_id": "cell-3bc26919169bf4aa",
     "locked": false,
     "points": 5,
     "schema_version": 1,
     "solution": true
    }
   },
   "source": [
    "- 1a YOUR ANSWER HERE\n",
    "\n",
    "Yes, I have all the columns from the documentation for the dataset linked above.\n",
    "\n",
    "election_tp : the election type variable contains what type the election was in a string format.\n",
    "The election types can be P = primary, C = convention, E = recount, and etc. "
   ]
  },
  {
   "cell_type": "markdown",
   "metadata": {},
   "source": [
    "**1b.** Print out the first 5 observations from the dataset to manually look through some of your data."
   ]
  },
  {
   "cell_type": "code",
   "execution_count": 99,
   "metadata": {
    "deletable": false,
    "nbgrader": {
     "checksum": "4fbf682f1c78b3614832c6f48ecd88c7",
     "grade": true,
     "grade_id": "cell-72bc97601b84f17d",
     "locked": false,
     "points": 5,
     "schema_version": 1,
     "solution": true
    }
   },
   "outputs": [
    {
     "data": {
      "text/html": [
       "<div>\n",
       "<style scoped>\n",
       "    .dataframe tbody tr th:only-of-type {\n",
       "        vertical-align: middle;\n",
       "    }\n",
       "\n",
       "    .dataframe tbody tr th {\n",
       "        vertical-align: top;\n",
       "    }\n",
       "\n",
       "    .dataframe thead th {\n",
       "        text-align: right;\n",
       "    }\n",
       "</style>\n",
       "<table border=\"1\" class=\"dataframe\">\n",
       "  <thead>\n",
       "    <tr style=\"text-align: right;\">\n",
       "      <th></th>\n",
       "      <th>cmte_id</th>\n",
       "      <th>cand_id</th>\n",
       "      <th>cand_nm</th>\n",
       "      <th>contbr_nm</th>\n",
       "      <th>contbr_city</th>\n",
       "      <th>contbr_st</th>\n",
       "      <th>contbr_zip</th>\n",
       "      <th>contbr_employer</th>\n",
       "      <th>contbr_occupation</th>\n",
       "      <th>contb_receipt_amt</th>\n",
       "      <th>contb_receipt_dt</th>\n",
       "      <th>receipt_desc</th>\n",
       "      <th>memo_cd</th>\n",
       "      <th>memo_text</th>\n",
       "      <th>form_tp</th>\n",
       "      <th>file_num</th>\n",
       "      <th>tran_id</th>\n",
       "      <th>election_tp</th>\n",
       "    </tr>\n",
       "  </thead>\n",
       "  <tbody>\n",
       "    <tr>\n",
       "      <th>0</th>\n",
       "      <td>C00575795</td>\n",
       "      <td>P00003392</td>\n",
       "      <td>Clinton, Hillary Rodham</td>\n",
       "      <td>AULL, ANNE</td>\n",
       "      <td>LARKSPUR</td>\n",
       "      <td>CA</td>\n",
       "      <td>949,391,913.00</td>\n",
       "      <td>NaN</td>\n",
       "      <td>RETIRED</td>\n",
       "      <td>50.00</td>\n",
       "      <td>2016-04-26</td>\n",
       "      <td>NaN</td>\n",
       "      <td>X</td>\n",
       "      <td>* HILLARY VICTORY FUND</td>\n",
       "      <td>SA18</td>\n",
       "      <td>1091718</td>\n",
       "      <td>C4768722</td>\n",
       "      <td>P2016</td>\n",
       "    </tr>\n",
       "    <tr>\n",
       "      <th>1</th>\n",
       "      <td>C00575795</td>\n",
       "      <td>P00003392</td>\n",
       "      <td>Clinton, Hillary Rodham</td>\n",
       "      <td>CARROLL, MARYJEAN</td>\n",
       "      <td>CAMBRIA</td>\n",
       "      <td>CA</td>\n",
       "      <td>934,284,638.00</td>\n",
       "      <td>NaN</td>\n",
       "      <td>RETIRED</td>\n",
       "      <td>200.00</td>\n",
       "      <td>2016-04-20</td>\n",
       "      <td>NaN</td>\n",
       "      <td>X</td>\n",
       "      <td>* HILLARY VICTORY FUND</td>\n",
       "      <td>SA18</td>\n",
       "      <td>1091718</td>\n",
       "      <td>C4747242</td>\n",
       "      <td>P2016</td>\n",
       "    </tr>\n",
       "    <tr>\n",
       "      <th>2</th>\n",
       "      <td>C00575795</td>\n",
       "      <td>P00003392</td>\n",
       "      <td>Clinton, Hillary Rodham</td>\n",
       "      <td>GANDARA, DESIREE</td>\n",
       "      <td>FONTANA</td>\n",
       "      <td>CA</td>\n",
       "      <td>923,371,507.00</td>\n",
       "      <td>NaN</td>\n",
       "      <td>RETIRED</td>\n",
       "      <td>5.00</td>\n",
       "      <td>2016-04-02</td>\n",
       "      <td>NaN</td>\n",
       "      <td>X</td>\n",
       "      <td>* HILLARY VICTORY FUND</td>\n",
       "      <td>SA18</td>\n",
       "      <td>1091718</td>\n",
       "      <td>C4666603</td>\n",
       "      <td>P2016</td>\n",
       "    </tr>\n",
       "    <tr>\n",
       "      <th>3</th>\n",
       "      <td>C00577130</td>\n",
       "      <td>P60007168</td>\n",
       "      <td>Sanders, Bernard</td>\n",
       "      <td>LEE, ALAN</td>\n",
       "      <td>CAMARILLO</td>\n",
       "      <td>CA</td>\n",
       "      <td>930,111,214.00</td>\n",
       "      <td>AT&amp;T GOVERNMENT SOLUTIONS</td>\n",
       "      <td>SOFTWARE ENGINEER</td>\n",
       "      <td>40.00</td>\n",
       "      <td>2016-03-04</td>\n",
       "      <td>NaN</td>\n",
       "      <td>NaN</td>\n",
       "      <td>* EARMARKED CONTRIBUTION: SEE BELOW</td>\n",
       "      <td>SA17A</td>\n",
       "      <td>1077404</td>\n",
       "      <td>VPF7BKWA097</td>\n",
       "      <td>P2016</td>\n",
       "    </tr>\n",
       "    <tr>\n",
       "      <th>4</th>\n",
       "      <td>C00577130</td>\n",
       "      <td>P60007168</td>\n",
       "      <td>Sanders, Bernard</td>\n",
       "      <td>LEONELLI, ODETTE</td>\n",
       "      <td>REDONDO BEACH</td>\n",
       "      <td>CA</td>\n",
       "      <td>902,784,310.00</td>\n",
       "      <td>VERICOR ENTERPRISES INC.</td>\n",
       "      <td>PHARMACIST</td>\n",
       "      <td>35.00</td>\n",
       "      <td>2016-03-05</td>\n",
       "      <td>NaN</td>\n",
       "      <td>NaN</td>\n",
       "      <td>* EARMARKED CONTRIBUTION: SEE BELOW</td>\n",
       "      <td>SA17A</td>\n",
       "      <td>1077404</td>\n",
       "      <td>VPF7BKX3MB3</td>\n",
       "      <td>P2016</td>\n",
       "    </tr>\n",
       "  </tbody>\n",
       "</table>\n",
       "</div>"
      ],
      "text/plain": [
       "     cmte_id    cand_id                  cand_nm          contbr_nm  \\\n",
       "0  C00575795  P00003392  Clinton, Hillary Rodham         AULL, ANNE   \n",
       "1  C00575795  P00003392  Clinton, Hillary Rodham  CARROLL, MARYJEAN   \n",
       "2  C00575795  P00003392  Clinton, Hillary Rodham   GANDARA, DESIREE   \n",
       "3  C00577130  P60007168         Sanders, Bernard          LEE, ALAN   \n",
       "4  C00577130  P60007168         Sanders, Bernard   LEONELLI, ODETTE   \n",
       "\n",
       "     contbr_city contbr_st     contbr_zip            contbr_employer  \\\n",
       "0       LARKSPUR        CA 949,391,913.00                        NaN   \n",
       "1        CAMBRIA        CA 934,284,638.00                        NaN   \n",
       "2        FONTANA        CA 923,371,507.00                        NaN   \n",
       "3      CAMARILLO        CA 930,111,214.00  AT&T GOVERNMENT SOLUTIONS   \n",
       "4  REDONDO BEACH        CA 902,784,310.00   VERICOR ENTERPRISES INC.   \n",
       "\n",
       "   contbr_occupation  contb_receipt_amt contb_receipt_dt receipt_desc memo_cd  \\\n",
       "0            RETIRED              50.00       2016-04-26          NaN       X   \n",
       "1            RETIRED             200.00       2016-04-20          NaN       X   \n",
       "2            RETIRED               5.00       2016-04-02          NaN       X   \n",
       "3  SOFTWARE ENGINEER              40.00       2016-03-04          NaN     NaN   \n",
       "4         PHARMACIST              35.00       2016-03-05          NaN     NaN   \n",
       "\n",
       "                             memo_text form_tp  file_num      tran_id  \\\n",
       "0               * HILLARY VICTORY FUND    SA18   1091718     C4768722   \n",
       "1               * HILLARY VICTORY FUND    SA18   1091718     C4747242   \n",
       "2               * HILLARY VICTORY FUND    SA18   1091718     C4666603   \n",
       "3  * EARMARKED CONTRIBUTION: SEE BELOW   SA17A   1077404  VPF7BKWA097   \n",
       "4  * EARMARKED CONTRIBUTION: SEE BELOW   SA17A   1077404  VPF7BKX3MB3   \n",
       "\n",
       "  election_tp  \n",
       "0       P2016  \n",
       "1       P2016  \n",
       "2       P2016  \n",
       "3       P2016  \n",
       "4       P2016  "
      ]
     },
     "execution_count": 99,
     "metadata": {},
     "output_type": "execute_result"
    }
   ],
   "source": [
    "# YOUR CODE HERE\n",
    "contrib.head(5)"
   ]
  },
  {
   "cell_type": "markdown",
   "metadata": {},
   "source": [
    "**1c.** When working with a new dataset, it is important to explore and sanity check your variables. Pick **three** variables from the dataset above and run some quick sanity checks. For example, you may want to examine the maximum and minimum values, a frequency count, or something else. Use markdown cells to explain if your sanity checks \"pass\" your scrutiny or if you have concerns about the integrity of your data. "
   ]
  },
  {
   "cell_type": "code",
   "execution_count": 100,
   "metadata": {
    "deletable": false,
    "nbgrader": {
     "checksum": "0ec29a2cabd52709322d1cfd650babe7",
     "grade": true,
     "grade_id": "cell-23b51536d24c1645",
     "locked": false,
     "points": 0,
     "schema_version": 1,
     "solution": true
    }
   },
   "outputs": [
    {
     "name": "stdout",
     "output_type": "stream",
     "text": [
      "max contribution receipt amount: 10800.0\n",
      "min contribution receipt amount: -10000.0\n",
      "\n",
      "# of missing values in candidate name: 0\n",
      "\n",
      "# of missing values in occupation of the contributor: 5194\n"
     ]
    }
   ],
   "source": [
    "# YOUR CODE HERE\n",
    "print('max contribution receipt amount: ' + str(max(contrib['contb_receipt_amt'])))\n",
    "print('min contribution receipt amount: ' + str(min(contrib['contb_receipt_amt'])), end = '\\n\\n')\n",
    "\n",
    "print('# of missing values in candidate name: ' + str(sum(contrib['cand_nm'].isnull())), end = '\\n\\n')\n",
    "\n",
    "print('# of missing values in occupation of the contributor: ' + str(sum(contrib['contbr_occupation'].isnull())))"
   ]
  },
  {
   "cell_type": "markdown",
   "metadata": {
    "deletable": false,
    "nbgrader": {
     "checksum": "cfa64002e64474584dc1442b5a39b460",
     "grade": true,
     "grade_id": "cell-8a320c2ff7c24d98",
     "locked": false,
     "points": 0,
     "schema_version": 1,
     "solution": true
    }
   },
   "source": [
    "- 1c YOUR ANSWER HERE\n",
    "\n",
    "For the contribution amount, I am bit skeptical of the data since the minimum contribution amount is -10000.00.  My assumption for the minimum contribution amount was an amount of 0.0, not a negative number.\n",
    "\n",
    "The candidate name feature does pass my sanity check that there are no null/missing values.  I used the .isnull() method to check if there were any candidate names missing, but as with my assumption no values are missing\n",
    "\n",
    "The occupation of the contributor contains the occupation title of the contributor. Not aligned with my assumption, there are 5194 missing values in this feature meaning 5194 contributors either did not include their occupation or the data was not inputed into the dataset."
   ]
  },
  {
   "cell_type": "markdown",
   "metadata": {},
   "source": [
    "## 2. Exploring Campaign Contributions\n",
    "\n",
    "Let's investigate the donations to the candidates.\n",
    "\n",
    "**2a.** \n",
    "Create a table that shows the total number of donations to each candidate. Hint: use \"groupby\" as shown in async unit 11.07.\n",
    "\n",
    "When presenting data in a table, it is best to sort the data in a meaningful way. This makes it easier for your reader to examine what you've done and to get insights out of your tables. Use \"sort_values\" to sort the data so that candidates with the largest number of donations appear on top. From now on, all tables you present in this assignment (and course) should be sorted.\n",
    "\n",
    "What candidate recieved the largest number of contributions (variable 'contb_receipt_amt')?"
   ]
  },
  {
   "cell_type": "code",
   "execution_count": 101,
   "metadata": {
    "deletable": false,
    "nbgrader": {
     "checksum": "442b24601da06376c43cbe6ef5c5348a",
     "grade": true,
     "grade_id": "cell-6a453219105384dd",
     "locked": false,
     "points": 0,
     "schema_version": 1,
     "solution": true
    },
    "scrolled": false
   },
   "outputs": [
    {
     "data": {
      "text/html": [
       "<div>\n",
       "<style scoped>\n",
       "    .dataframe tbody tr th:only-of-type {\n",
       "        vertical-align: middle;\n",
       "    }\n",
       "\n",
       "    .dataframe tbody tr th {\n",
       "        vertical-align: top;\n",
       "    }\n",
       "\n",
       "    .dataframe thead th {\n",
       "        text-align: right;\n",
       "    }\n",
       "</style>\n",
       "<table border=\"1\" class=\"dataframe\">\n",
       "  <thead>\n",
       "    <tr style=\"text-align: right;\">\n",
       "      <th></th>\n",
       "      <th>contb_receipt_amt</th>\n",
       "    </tr>\n",
       "    <tr>\n",
       "      <th>cand_nm</th>\n",
       "      <th></th>\n",
       "    </tr>\n",
       "  </thead>\n",
       "  <tbody>\n",
       "    <tr>\n",
       "      <th>Sanders, Bernard</th>\n",
       "      <td>371795</td>\n",
       "    </tr>\n",
       "    <tr>\n",
       "      <th>Clinton, Hillary Rodham</th>\n",
       "      <td>163509</td>\n",
       "    </tr>\n",
       "    <tr>\n",
       "      <th>Cruz, Rafael Edward 'Ted'</th>\n",
       "      <td>57136</td>\n",
       "    </tr>\n",
       "    <tr>\n",
       "      <th>Carson, Benjamin S.</th>\n",
       "      <td>27342</td>\n",
       "    </tr>\n",
       "    <tr>\n",
       "      <th>Rubio, Marco</th>\n",
       "      <td>14089</td>\n",
       "    </tr>\n",
       "  </tbody>\n",
       "</table>\n",
       "</div>"
      ],
      "text/plain": [
       "                           contb_receipt_amt\n",
       "cand_nm                                     \n",
       "Sanders, Bernard                      371795\n",
       "Clinton, Hillary Rodham               163509\n",
       "Cruz, Rafael Edward 'Ted'              57136\n",
       "Carson, Benjamin S.                    27342\n",
       "Rubio, Marco                           14089"
      ]
     },
     "execution_count": 101,
     "metadata": {},
     "output_type": "execute_result"
    }
   ],
   "source": [
    "total_number_donations = contrib.groupby('cand_nm')['contb_receipt_amt'].count().sort_values(ascending = False).to_frame()\n",
    "total_number_donations.head()"
   ]
  },
  {
   "cell_type": "code",
   "execution_count": 102,
   "metadata": {},
   "outputs": [
    {
     "data": {
      "text/plain": [
       "'Sanders, Bernard'"
      ]
     },
     "execution_count": 102,
     "metadata": {},
     "output_type": "execute_result"
    }
   ],
   "source": [
    "contrib.groupby('cand_nm')['contb_receipt_amt'].count().sort_values(ascending = False).index[0]\n"
   ]
  },
  {
   "cell_type": "markdown",
   "metadata": {
    "deletable": false,
    "nbgrader": {
     "checksum": "c5a1b7f30648cced7269ccb9b1532bd6",
     "grade": true,
     "grade_id": "cell-90c49bd6471a3dc9",
     "locked": false,
     "points": 0,
     "schema_version": 1,
     "solution": true
    }
   },
   "source": [
    "- 2a YOUR ANSWER HERE\n",
    "\n",
    "Sanders, Bernard"
   ]
  },
  {
   "cell_type": "markdown",
   "metadata": {},
   "source": [
    "**2b.** Now, create a table that shows the total **value** of donations to each candidate. What candidate raised the most money in California?"
   ]
  },
  {
   "cell_type": "code",
   "execution_count": 103,
   "metadata": {},
   "outputs": [
    {
     "data": {
      "text/html": [
       "<div>\n",
       "<style scoped>\n",
       "    .dataframe tbody tr th:only-of-type {\n",
       "        vertical-align: middle;\n",
       "    }\n",
       "\n",
       "    .dataframe tbody tr th {\n",
       "        vertical-align: top;\n",
       "    }\n",
       "\n",
       "    .dataframe thead th {\n",
       "        text-align: right;\n",
       "    }\n",
       "</style>\n",
       "<table border=\"1\" class=\"dataframe\">\n",
       "  <thead>\n",
       "    <tr style=\"text-align: right;\">\n",
       "      <th></th>\n",
       "      <th>contb_receipt_amt</th>\n",
       "    </tr>\n",
       "    <tr>\n",
       "      <th>cand_nm</th>\n",
       "      <th></th>\n",
       "    </tr>\n",
       "  </thead>\n",
       "  <tbody>\n",
       "    <tr>\n",
       "      <th>Clinton, Hillary Rodham</th>\n",
       "      <td>39,368,777.01</td>\n",
       "    </tr>\n",
       "    <tr>\n",
       "      <th>Sanders, Bernard</th>\n",
       "      <td>18,773,871.31</td>\n",
       "    </tr>\n",
       "    <tr>\n",
       "      <th>Cruz, Rafael Edward 'Ted'</th>\n",
       "      <td>6,286,460.34</td>\n",
       "    </tr>\n",
       "    <tr>\n",
       "      <th>Rubio, Marco</th>\n",
       "      <td>4,846,483.72</td>\n",
       "    </tr>\n",
       "    <tr>\n",
       "      <th>Bush, Jeb</th>\n",
       "      <td>3,325,536.83</td>\n",
       "    </tr>\n",
       "  </tbody>\n",
       "</table>\n",
       "</div>"
      ],
      "text/plain": [
       "                           contb_receipt_amt\n",
       "cand_nm                                     \n",
       "Clinton, Hillary Rodham        39,368,777.01\n",
       "Sanders, Bernard               18,773,871.31\n",
       "Cruz, Rafael Edward 'Ted'       6,286,460.34\n",
       "Rubio, Marco                    4,846,483.72\n",
       "Bush, Jeb                       3,325,536.83"
      ]
     },
     "execution_count": 103,
     "metadata": {},
     "output_type": "execute_result"
    }
   ],
   "source": [
    "# YOUR CODE HERE\n",
    "ca_only = contrib.loc[contrib['contbr_st'] == 'CA', :]\n",
    "total_value_donations = ca_only.groupby('cand_nm')['contb_receipt_amt'].sum().sort_values(ascending = False).to_frame()\n",
    "total_value_donations.head()"
   ]
  },
  {
   "cell_type": "markdown",
   "metadata": {
    "deletable": false,
    "nbgrader": {
     "checksum": "60d3e303837e9603de5b96e32af7d806",
     "grade": true,
     "grade_id": "cell-447dc63eff8ebc5f",
     "locked": false,
     "points": 0,
     "schema_version": 1,
     "solution": true
    }
   },
   "source": [
    "- 2b YOUR ANSWER HERE\n",
    "\n",
    "Clinton, Hillary Rodham"
   ]
  },
  {
   "cell_type": "markdown",
   "metadata": {},
   "source": [
    "**2c.** Combining your tables\n",
    "- What is the \"type\" of the two tables you printed above? Show if they are Series, or DataFrames.\n",
    "- Convert any Series to pandas DataFrames.\n",
    "- Update the variable (column) names to accurately describe what is shown\n",
    "- Merge together your tables to show the *count* and the *value* of donations to each candidate in one table. Use the \"join\" function."
   ]
  },
  {
   "cell_type": "code",
   "execution_count": 12,
   "metadata": {},
   "outputs": [
    {
     "name": "stdout",
     "output_type": "stream",
     "text": [
      "total number of donations type:\t <class 'pandas.core.frame.DataFrame'>\n",
      "total value of donations type:\t <class 'pandas.core.frame.DataFrame'>\n"
     ]
    }
   ],
   "source": [
    "# YOUR CODE HERE\n",
    "print('total number of donations type:\\t ' + str(type(total_number_donations)))\n",
    "print('total value of donations type:\\t ' + str(type(total_value_donations)))"
   ]
  },
  {
   "cell_type": "code",
   "execution_count": 104,
   "metadata": {
    "scrolled": true
   },
   "outputs": [
    {
     "data": {
      "text/html": [
       "<div>\n",
       "<style scoped>\n",
       "    .dataframe tbody tr th:only-of-type {\n",
       "        vertical-align: middle;\n",
       "    }\n",
       "\n",
       "    .dataframe tbody tr th {\n",
       "        vertical-align: top;\n",
       "    }\n",
       "\n",
       "    .dataframe thead th {\n",
       "        text-align: right;\n",
       "    }\n",
       "</style>\n",
       "<table border=\"1\" class=\"dataframe\">\n",
       "  <thead>\n",
       "    <tr style=\"text-align: right;\">\n",
       "      <th></th>\n",
       "      <th>total_count_of_donations</th>\n",
       "    </tr>\n",
       "    <tr>\n",
       "      <th>cand_nm</th>\n",
       "      <th></th>\n",
       "    </tr>\n",
       "  </thead>\n",
       "  <tbody>\n",
       "    <tr>\n",
       "      <th>Sanders, Bernard</th>\n",
       "      <td>371795</td>\n",
       "    </tr>\n",
       "    <tr>\n",
       "      <th>Clinton, Hillary Rodham</th>\n",
       "      <td>163509</td>\n",
       "    </tr>\n",
       "    <tr>\n",
       "      <th>Cruz, Rafael Edward 'Ted'</th>\n",
       "      <td>57136</td>\n",
       "    </tr>\n",
       "    <tr>\n",
       "      <th>Carson, Benjamin S.</th>\n",
       "      <td>27342</td>\n",
       "    </tr>\n",
       "    <tr>\n",
       "      <th>Rubio, Marco</th>\n",
       "      <td>14089</td>\n",
       "    </tr>\n",
       "  </tbody>\n",
       "</table>\n",
       "</div>"
      ],
      "text/plain": [
       "                           total_count_of_donations\n",
       "cand_nm                                            \n",
       "Sanders, Bernard                             371795\n",
       "Clinton, Hillary Rodham                      163509\n",
       "Cruz, Rafael Edward 'Ted'                     57136\n",
       "Carson, Benjamin S.                           27342\n",
       "Rubio, Marco                                  14089"
      ]
     },
     "execution_count": 104,
     "metadata": {},
     "output_type": "execute_result"
    }
   ],
   "source": [
    "total_number_donations = total_number_donations.rename({'contb_receipt_amt': 'total_count_of_donations'}, axis = 'columns')\n",
    "total_number_donations.head()"
   ]
  },
  {
   "cell_type": "code",
   "execution_count": 107,
   "metadata": {
    "scrolled": true
   },
   "outputs": [
    {
     "data": {
      "text/html": [
       "<div>\n",
       "<style scoped>\n",
       "    .dataframe tbody tr th:only-of-type {\n",
       "        vertical-align: middle;\n",
       "    }\n",
       "\n",
       "    .dataframe tbody tr th {\n",
       "        vertical-align: top;\n",
       "    }\n",
       "\n",
       "    .dataframe thead th {\n",
       "        text-align: right;\n",
       "    }\n",
       "</style>\n",
       "<table border=\"1\" class=\"dataframe\">\n",
       "  <thead>\n",
       "    <tr style=\"text-align: right;\">\n",
       "      <th></th>\n",
       "      <th>total_value_of_donations</th>\n",
       "    </tr>\n",
       "    <tr>\n",
       "      <th>cand_nm</th>\n",
       "      <th></th>\n",
       "    </tr>\n",
       "  </thead>\n",
       "  <tbody>\n",
       "    <tr>\n",
       "      <th>Clinton, Hillary Rodham</th>\n",
       "      <td>39,368,777.01</td>\n",
       "    </tr>\n",
       "    <tr>\n",
       "      <th>Sanders, Bernard</th>\n",
       "      <td>18,773,871.31</td>\n",
       "    </tr>\n",
       "    <tr>\n",
       "      <th>Cruz, Rafael Edward 'Ted'</th>\n",
       "      <td>6,286,460.34</td>\n",
       "    </tr>\n",
       "    <tr>\n",
       "      <th>Rubio, Marco</th>\n",
       "      <td>4,846,483.72</td>\n",
       "    </tr>\n",
       "    <tr>\n",
       "      <th>Bush, Jeb</th>\n",
       "      <td>3,325,536.83</td>\n",
       "    </tr>\n",
       "  </tbody>\n",
       "</table>\n",
       "</div>"
      ],
      "text/plain": [
       "                           total_value_of_donations\n",
       "cand_nm                                            \n",
       "Clinton, Hillary Rodham               39,368,777.01\n",
       "Sanders, Bernard                      18,773,871.31\n",
       "Cruz, Rafael Edward 'Ted'              6,286,460.34\n",
       "Rubio, Marco                           4,846,483.72\n",
       "Bush, Jeb                              3,325,536.83"
      ]
     },
     "execution_count": 107,
     "metadata": {},
     "output_type": "execute_result"
    }
   ],
   "source": [
    "total_value_donations = total_value_donations.rename({'contb_receipt_amt': 'total_value_of_donations'}, axis = 'columns')\n",
    "total_value_donations.head()"
   ]
  },
  {
   "cell_type": "code",
   "execution_count": 108,
   "metadata": {},
   "outputs": [
    {
     "data": {
      "text/html": [
       "<div>\n",
       "<style scoped>\n",
       "    .dataframe tbody tr th:only-of-type {\n",
       "        vertical-align: middle;\n",
       "    }\n",
       "\n",
       "    .dataframe tbody tr th {\n",
       "        vertical-align: top;\n",
       "    }\n",
       "\n",
       "    .dataframe thead th {\n",
       "        text-align: right;\n",
       "    }\n",
       "</style>\n",
       "<table border=\"1\" class=\"dataframe\">\n",
       "  <thead>\n",
       "    <tr style=\"text-align: right;\">\n",
       "      <th></th>\n",
       "      <th>total_count_of_donations</th>\n",
       "      <th>total_value_of_donations</th>\n",
       "    </tr>\n",
       "    <tr>\n",
       "      <th>cand_nm</th>\n",
       "      <th></th>\n",
       "      <th></th>\n",
       "    </tr>\n",
       "  </thead>\n",
       "  <tbody>\n",
       "    <tr>\n",
       "      <th>Sanders, Bernard</th>\n",
       "      <td>371795</td>\n",
       "      <td>18,773,871.31</td>\n",
       "    </tr>\n",
       "    <tr>\n",
       "      <th>Clinton, Hillary Rodham</th>\n",
       "      <td>163509</td>\n",
       "      <td>39,368,777.01</td>\n",
       "    </tr>\n",
       "    <tr>\n",
       "      <th>Cruz, Rafael Edward 'Ted'</th>\n",
       "      <td>57136</td>\n",
       "      <td>6,286,460.34</td>\n",
       "    </tr>\n",
       "    <tr>\n",
       "      <th>Carson, Benjamin S.</th>\n",
       "      <td>27342</td>\n",
       "      <td>2,952,109.00</td>\n",
       "    </tr>\n",
       "    <tr>\n",
       "      <th>Rubio, Marco</th>\n",
       "      <td>14089</td>\n",
       "      <td>4,846,483.72</td>\n",
       "    </tr>\n",
       "  </tbody>\n",
       "</table>\n",
       "</div>"
      ],
      "text/plain": [
       "                           total_count_of_donations  total_value_of_donations\n",
       "cand_nm                                                                      \n",
       "Sanders, Bernard                             371795             18,773,871.31\n",
       "Clinton, Hillary Rodham                      163509             39,368,777.01\n",
       "Cruz, Rafael Edward 'Ted'                     57136              6,286,460.34\n",
       "Carson, Benjamin S.                           27342              2,952,109.00\n",
       "Rubio, Marco                                  14089              4,846,483.72"
      ]
     },
     "execution_count": 108,
     "metadata": {},
     "output_type": "execute_result"
    }
   ],
   "source": [
    "joined_dataframe = total_number_donations.join(total_value_donations, how = 'left')\n",
    "joined_dataframe.head()"
   ]
  },
  {
   "cell_type": "markdown",
   "metadata": {},
   "source": [
    "**2d.** Calculate and add a new variable to your table that shows the average $ per donation."
   ]
  },
  {
   "cell_type": "code",
   "execution_count": 109,
   "metadata": {},
   "outputs": [
    {
     "data": {
      "text/html": [
       "<div>\n",
       "<style scoped>\n",
       "    .dataframe tbody tr th:only-of-type {\n",
       "        vertical-align: middle;\n",
       "    }\n",
       "\n",
       "    .dataframe tbody tr th {\n",
       "        vertical-align: top;\n",
       "    }\n",
       "\n",
       "    .dataframe thead th {\n",
       "        text-align: right;\n",
       "    }\n",
       "</style>\n",
       "<table border=\"1\" class=\"dataframe\">\n",
       "  <thead>\n",
       "    <tr style=\"text-align: right;\">\n",
       "      <th></th>\n",
       "      <th>total_count_of_donations</th>\n",
       "      <th>total_value_of_donations</th>\n",
       "      <th>average_$_per_donations</th>\n",
       "    </tr>\n",
       "    <tr>\n",
       "      <th>cand_nm</th>\n",
       "      <th></th>\n",
       "      <th></th>\n",
       "      <th></th>\n",
       "    </tr>\n",
       "  </thead>\n",
       "  <tbody>\n",
       "    <tr>\n",
       "      <th>Sanders, Bernard</th>\n",
       "      <td>371795</td>\n",
       "      <td>18,773,871.31</td>\n",
       "      <td>50.50</td>\n",
       "    </tr>\n",
       "    <tr>\n",
       "      <th>Clinton, Hillary Rodham</th>\n",
       "      <td>163509</td>\n",
       "      <td>39,368,777.01</td>\n",
       "      <td>240.77</td>\n",
       "    </tr>\n",
       "    <tr>\n",
       "      <th>Cruz, Rafael Edward 'Ted'</th>\n",
       "      <td>57136</td>\n",
       "      <td>6,286,460.34</td>\n",
       "      <td>110.03</td>\n",
       "    </tr>\n",
       "    <tr>\n",
       "      <th>Carson, Benjamin S.</th>\n",
       "      <td>27342</td>\n",
       "      <td>2,952,109.00</td>\n",
       "      <td>107.97</td>\n",
       "    </tr>\n",
       "    <tr>\n",
       "      <th>Rubio, Marco</th>\n",
       "      <td>14089</td>\n",
       "      <td>4,846,483.72</td>\n",
       "      <td>343.99</td>\n",
       "    </tr>\n",
       "    <tr>\n",
       "      <th>Fiorina, Carly</th>\n",
       "      <td>4696</td>\n",
       "      <td>1,468,489.42</td>\n",
       "      <td>312.71</td>\n",
       "    </tr>\n",
       "    <tr>\n",
       "      <th>Paul, Rand</th>\n",
       "      <td>4256</td>\n",
       "      <td>797,624.29</td>\n",
       "      <td>187.41</td>\n",
       "    </tr>\n",
       "    <tr>\n",
       "      <th>Bush, Jeb</th>\n",
       "      <td>3114</td>\n",
       "      <td>3,325,536.83</td>\n",
       "      <td>1,067.93</td>\n",
       "    </tr>\n",
       "    <tr>\n",
       "      <th>Kasich, John R.</th>\n",
       "      <td>2988</td>\n",
       "      <td>1,553,823.54</td>\n",
       "      <td>520.02</td>\n",
       "    </tr>\n",
       "    <tr>\n",
       "      <th>Trump, Donald J.</th>\n",
       "      <td>2255</td>\n",
       "      <td>893,356.89</td>\n",
       "      <td>396.17</td>\n",
       "    </tr>\n",
       "  </tbody>\n",
       "</table>\n",
       "</div>"
      ],
      "text/plain": [
       "                           total_count_of_donations  total_value_of_donations  \\\n",
       "cand_nm                                                                         \n",
       "Sanders, Bernard                             371795             18,773,871.31   \n",
       "Clinton, Hillary Rodham                      163509             39,368,777.01   \n",
       "Cruz, Rafael Edward 'Ted'                     57136              6,286,460.34   \n",
       "Carson, Benjamin S.                           27342              2,952,109.00   \n",
       "Rubio, Marco                                  14089              4,846,483.72   \n",
       "Fiorina, Carly                                 4696              1,468,489.42   \n",
       "Paul, Rand                                     4256                797,624.29   \n",
       "Bush, Jeb                                      3114              3,325,536.83   \n",
       "Kasich, John R.                                2988              1,553,823.54   \n",
       "Trump, Donald J.                               2255                893,356.89   \n",
       "\n",
       "                           average_$_per_donations  \n",
       "cand_nm                                             \n",
       "Sanders, Bernard                             50.50  \n",
       "Clinton, Hillary Rodham                     240.77  \n",
       "Cruz, Rafael Edward 'Ted'                   110.03  \n",
       "Carson, Benjamin S.                         107.97  \n",
       "Rubio, Marco                                343.99  \n",
       "Fiorina, Carly                              312.71  \n",
       "Paul, Rand                                  187.41  \n",
       "Bush, Jeb                                 1,067.93  \n",
       "Kasich, John R.                             520.02  \n",
       "Trump, Donald J.                            396.17  "
      ]
     },
     "execution_count": 109,
     "metadata": {},
     "output_type": "execute_result"
    }
   ],
   "source": [
    "joined_dataframe['average_$_per_donations'] = joined_dataframe['total_value_of_donations']/joined_dataframe['total_count_of_donations']\n",
    "joined_dataframe.head(10)"
   ]
  },
  {
   "cell_type": "markdown",
   "metadata": {},
   "source": [
    "**2e.** There are several interesting conclusions you can draw from the table you have created. Please comment on the results of your data analysis in a short paragraph. What have you learned about campaign contributions in California?"
   ]
  },
  {
   "cell_type": "markdown",
   "metadata": {},
   "source": [
    "- 2e YOUR ANSWER HERE\n",
    "\n",
    "An interesting conclusion drawn from the dataframe created above is the column average dollar per donations.  We can see that candidate Sanders, Bernard recieved the highest amount of contributions by over double the second closest candidate Clinton, Hillary Rodham.  However, although she recieved far fewer donations, the amount per donation average is much higher (almost 5 times) the amount of Sanders, Bernard.  Also candidate Bush, Jeb recieved far few donations but his average dollar per donation is quite high.  It be seen that both the amount of donations and average_$_per_donations amount are what is necessary for a candidate to receive the highest contributon amount."
   ]
  },
  {
   "cell_type": "markdown",
   "metadata": {},
   "source": [
    "## 3. Exploring Donor Occupation\n",
    "\n",
    "Above in part 2, we saw that some simple data analysis can give us insights into the campaign of our candidates. Now let's quickly look to see what *kind* of person is donating to each campaign using the \"contbr_occupation\" variable."
   ]
  },
  {
   "cell_type": "markdown",
   "metadata": {},
   "source": [
    "**3a.** Subset your data to create a data frame with only donations for Hillary Clinton. Then use value_counts() and head() to display the top 5 occupations (contbr_occupation) for her donors. Note: we are just interested in the count of donations, not the value of those donations."
   ]
  },
  {
   "cell_type": "code",
   "execution_count": 110,
   "metadata": {
    "deletable": false,
    "nbgrader": {
     "checksum": "20a71229316bf24a2ce62c52f72d8142",
     "grade": true,
     "grade_id": "cell-963603c5ed346a99",
     "locked": false,
     "points": 0,
     "schema_version": 1,
     "solution": true
    }
   },
   "outputs": [
    {
     "data": {
      "text/plain": [
       "RETIRED                  33450\n",
       "ATTORNEY                  7315\n",
       "INFORMATION REQUESTED     4742\n",
       "TEACHER                   3591\n",
       "HOMEMAKER                 3436\n",
       "Name: contbr_occupation, dtype: int64"
      ]
     },
     "execution_count": 110,
     "metadata": {},
     "output_type": "execute_result"
    }
   ],
   "source": [
    "hillary_clinton = contrib.loc[contrib['cand_nm'] == 'Clinton, Hillary Rodham', :]\n",
    "hillary_clinton['contbr_occupation'].value_counts().head()"
   ]
  },
  {
   "cell_type": "markdown",
   "metadata": {
    "deletable": false,
    "nbgrader": {
     "checksum": "426b589a9d6457f38381eb1c77678d4f",
     "grade": true,
     "grade_id": "cell-b6fc3f7c906c95a2",
     "locked": false,
     "points": 0,
     "schema_version": 1,
     "solution": true
    }
   },
   "source": [
    "- 3a YOUR ANSWER HERE\n",
    "\n",
    "RETIRED                  33450\n",
    "\n",
    "ATTORNEY                  7315\n",
    "\n",
    "INFORMATION REQUESTED     4742\n",
    "\n",
    "TEACHER                   3591\n",
    "\n",
    "HOMEMAKER                 3436"
   ]
  },
  {
   "cell_type": "markdown",
   "metadata": {},
   "source": [
    "**3b.** Imagine that you want to do the previous operation on several candidates.  To keep your work neat, you want to take the work you did on the Clinton-subset and wrap it in a function that you can apply to other subsets of the data.  Specifically, write a function called get_donors() that takes a DataFrame as input, and outputs a Series containing the counts for the top 5 occupations contained in that DataFrame."
   ]
  },
  {
   "cell_type": "code",
   "execution_count": 111,
   "metadata": {
    "deletable": false,
    "nbgrader": {
     "checksum": "81ebf2a2f96961b4464f6c35d2143427",
     "grade": true,
     "grade_id": "cell-bea2cf7a6fff8565",
     "locked": false,
     "points": 0,
     "schema_version": 1,
     "solution": true
    }
   },
   "outputs": [],
   "source": [
    "def get_donors(df):\n",
    "    \"\"\"This function takes a dataframe that contains a variable named contbr_occupation.\n",
    "    It outputs a Series containing the counts for the 5 most common values of that\n",
    "    variable.\"\"\"\n",
    "    \n",
    "    # YOUR CODE HERE\n",
    "    return df['contbr_occupation'].value_counts().head()"
   ]
  },
  {
   "cell_type": "markdown",
   "metadata": {},
   "source": [
    "**3c.** Now try running your function on subsets of the dataframe corresponding to three candidates:\n",
    "    1. Hillary Clinton\n",
    "    2. Bernie Sanders\n",
    "    3. Donald Trump"
   ]
  },
  {
   "cell_type": "code",
   "execution_count": 112,
   "metadata": {
    "deletable": false,
    "nbgrader": {
     "checksum": "bffd2778d22127102347386bfb6f5b20",
     "grade": true,
     "grade_id": "cell-4ad1da24176f0450",
     "locked": false,
     "points": 0,
     "schema_version": 1,
     "solution": true
    }
   },
   "outputs": [
    {
     "name": "stdout",
     "output_type": "stream",
     "text": [
      "RETIRED                  33450\n",
      "ATTORNEY                  7315\n",
      "INFORMATION REQUESTED     4742\n",
      "TEACHER                   3591\n",
      "HOMEMAKER                 3436\n",
      "Name: contbr_occupation, dtype: int64\n",
      "\n",
      "NOT EMPLOYED         96371\n",
      "RETIRED              15048\n",
      "TEACHER              10167\n",
      "SOFTWARE ENGINEER     7861\n",
      "ENGINEER              7094\n",
      "Name: contbr_occupation, dtype: int64\n",
      "\n",
      "RETIRED                  849\n",
      "INFORMATION REQUESTED     70\n",
      "CEO                       57\n",
      "OWNER                     51\n",
      "PRESIDENT                 35\n",
      "Name: contbr_occupation, dtype: int64\n"
     ]
    }
   ],
   "source": [
    "# YOUR CODE HERE\n",
    "hillary_clinton = contrib.loc[contrib['cand_nm'] == 'Clinton, Hillary Rodham', :]\n",
    "bernie_sanders = contrib.loc[contrib['cand_nm'] == 'Sanders, Bernard', :]\n",
    "donald_trump = contrib.loc[contrib['cand_nm'] == 'Trump, Donald J.', :]\n",
    "\n",
    "print(get_donors(hillary_clinton), end = '\\n\\n')\n",
    "print(get_donors(bernie_sanders), end = '\\n\\n')\n",
    "print(get_donors(donald_trump))"
   ]
  },
  {
   "cell_type": "markdown",
   "metadata": {},
   "source": [
    "**3d.** Finally, use a groupby to divide the entire dataset by candidate.  Call .apply(get_donors) on your groupby object, which will apply the function you wrote to each subset of your data.  Look at your output and marvel at what Pandas can do in just one line!"
   ]
  },
  {
   "cell_type": "code",
   "execution_count": 113,
   "metadata": {},
   "outputs": [
    {
     "data": {
      "text/plain": [
       "cand_nm                                                          \n",
       "Bush, Jeb                  RETIRED                                     996\n",
       "                           HOMEMAKER                                   180\n",
       "                           ATTORNEY                                     92\n",
       "                           Q.A.                                         89\n",
       "                           PRESIDENT                                    84\n",
       "Carson, Benjamin S.        RETIRED                                   13692\n",
       "                           INFORMATION REQUESTED PER BEST EFFORTS     1614\n",
       "                           HOMEMAKER                                  1049\n",
       "                           PHYSICIAN                                   329\n",
       "                           R.N.                                        234\n",
       "Christie, Christopher J.   RETIRED                                      38\n",
       "                           NONE                                         22\n",
       "                           CONSULTANT                                   18\n",
       "                           CEO                                          16\n",
       "                           HOMEMAKER                                    15\n",
       "Clinton, Hillary Rodham    RETIRED                                   33450\n",
       "                           ATTORNEY                                   7315\n",
       "                           INFORMATION REQUESTED                      4742\n",
       "                           TEACHER                                    3591\n",
       "                           HOMEMAKER                                  3436\n",
       "Cruz, Rafael Edward 'Ted'  RETIRED                                   22956\n",
       "                           INFORMATION REQUESTED PER BEST EFFORTS     1651\n",
       "                           HOMEMAKER                                  1261\n",
       "                           ENGINEER                                   1080\n",
       "                           TEACHER                                     838\n",
       "Fiorina, Carly             RETIRED                                    1971\n",
       "                           HOMEMAKER                                   169\n",
       "                           ATTORNEY                                    140\n",
       "                           INFORMATION REQUESTED PER BEST EFFORTS       95\n",
       "                           INVESTOR                                     64\n",
       "                                                                     ...  \n",
       "Sanders, Bernard           NOT EMPLOYED                              96371\n",
       "                           RETIRED                                   15048\n",
       "                           TEACHER                                   10167\n",
       "                           SOFTWARE ENGINEER                          7861\n",
       "                           ENGINEER                                   7094\n",
       "Santorum, Richard J.       RETIRED                                      44\n",
       "                           ENGINEER                                      5\n",
       "                           MACHINIST                                     4\n",
       "                           GENERAL CONTRACTOR                            3\n",
       "                           INFORMATION REQUESTED                         3\n",
       "Stein, Jill                RETIRED                                      32\n",
       "                           RESEARCHER                                   25\n",
       "                           WRITER                                       20\n",
       "                           SOFTWARE ENGINEER                             9\n",
       "                           FORMAL FINANCIAL SERVICES EMPLOYEE            9\n",
       "Trump, Donald J.           RETIRED                                     849\n",
       "                           INFORMATION REQUESTED                        70\n",
       "                           CEO                                          57\n",
       "                           OWNER                                        51\n",
       "                           PRESIDENT                                    35\n",
       "Walker, Scott              RETIRED                                     232\n",
       "                           INFORMATION REQUESTED                        70\n",
       "                           PRESIDENT                                    37\n",
       "                           HOMEMAKER                                    34\n",
       "                           ATTORNEY                                     31\n",
       "Webb, James Henry Jr.      RETIRED                                      14\n",
       "                           ATTORNEY                                      8\n",
       "                           DEPUTY DISTRICT ATTORNEY                      7\n",
       "                           NOT EMPLOYED                                  5\n",
       "                           MATH EDUCATOR                                 5\n",
       "Name: contbr_occupation, Length: 118, dtype: int64"
      ]
     },
     "execution_count": 113,
     "metadata": {},
     "output_type": "execute_result"
    }
   ],
   "source": [
    "# YOUR CODE HERE\n",
    "contrib.groupby('cand_nm').apply(get_donors)"
   ]
  },
  {
   "cell_type": "markdown",
   "metadata": {
    "collapsed": true,
    "deletable": false,
    "nbgrader": {
     "checksum": "14c2855e3d59f0da6b1afd5cf0da2da8",
     "grade": true,
     "grade_id": "cell-fd840cdd19d2bd2a",
     "locked": false,
     "points": 0,
     "schema_version": 1,
     "solution": true
    }
   },
   "source": [
    "**3e.** Comment on your findings in a short paragraph."
   ]
  },
  {
   "cell_type": "markdown",
   "metadata": {
    "deletable": false,
    "nbgrader": {
     "checksum": "43ce3d15cee7ab73f53fd8f054c9826c",
     "grade": true,
     "grade_id": "cell-dce8d3107c1463ca",
     "locked": false,
     "points": 0,
     "schema_version": 1,
     "solution": true
    }
   },
   "source": [
    "- 3e YOUR ANSWER HERE\n",
    "\n",
    "An interesting conclusion discovered the groupby dataset is the type of contributor occupation.  For example, Donald Trump is a candidate that has a contribution type of president, meaning he provided his own contributions or that past presidents contributed to his campaign.  Also Bernie Sanders campaign spoke to many young millenials, which is shown by the amount of software engineers and engineers that donated to his campaign.  Hillary Clinton on the otherhand spoke to an older generation which is shown by the amount of retired, homemaker, and teachers that contributed to her campaign."
   ]
  },
  {
   "cell_type": "markdown",
   "metadata": {},
   "source": [
    "**3f.** Think about your findings in section 3 vs. your findings in section 2 of this assignment. Do you have any new insights into the results you got in section 2, now that you see the top occupations for each candidate?"
   ]
  },
  {
   "cell_type": "markdown",
   "metadata": {
    "deletable": false,
    "nbgrader": {
     "checksum": "a5f4e6df0f32e24c492a9589ec87fef6",
     "grade": true,
     "grade_id": "cell-9e3f68b21dac8e10",
     "locked": false,
     "points": 0,
     "schema_version": 1,
     "solution": true
    }
   },
   "source": [
    "- 3f YOUR ANSWER HERE\n",
    "\n",
    "Yes, the results in section 2 and the results in section 3 go hand in hand.  Hillary Clinton recieved the most amount of contributions (value-wise) in section 2 and in section 3 it was shown that many of her contributors are retired.  I am assuming that individuals who are retired have enough to money to not only support themselves but also have extra to support a candidate they prefer.  Bernie Sanders recieved the most contributions by count and his contributions came also from retired individuals and also engineers.  It seems that Bernie was reaching a broader audience which could be why he did indeed receive the highest amount of contributions (count-wise)."
   ]
  },
  {
   "cell_type": "markdown",
   "metadata": {},
   "source": [
    "\n",
    "## 4. Plotting Data\n",
    "\n",
    "There is an important element that we have not yet explored in this dataset - time."
   ]
  },
  {
   "cell_type": "markdown",
   "metadata": {},
   "source": [
    "**4a.** Please create a single line chart with the following elements:\n",
    "- Show the date on the x-axis\n",
    "- Show the contribution amount on the y-axis\n",
    "- Include a title\n",
    "- Include axis labels"
   ]
  },
  {
   "cell_type": "code",
   "execution_count": 114,
   "metadata": {
    "deletable": false,
    "nbgrader": {
     "checksum": "4f1a9e7ee0ded9d2b5af5777cb85e505",
     "grade": true,
     "grade_id": "cell-c14fbed9d72d54e3",
     "locked": false,
     "points": 0,
     "schema_version": 1,
     "solution": true
    }
   },
   "outputs": [
    {
     "data": {
      "image/png": "[encoded data removed]",
      "text/plain": [
       "<Figure size 432x288 with 1 Axes>"
      ]
     },
     "metadata": {
      "needs_background": "light"
     },
     "output_type": "display_data"
    }
   ],
   "source": [
    "# YOUR CODE HERE\n",
    "import seaborn as sn\n",
    "\n",
    "ax = sn.lineplot(x = 'contb_receipt_dt', y = 'contb_receipt_amt', data = contrib)\n",
    "for labels in ax.get_xticklabels():\n",
    "    labels.set_rotation(30)\n",
    "ax.set_title('Contribution amount vs Time');"
   ]
  },
  {
   "cell_type": "markdown",
   "metadata": {},
   "source": [
    "**4b.** This chart is messy (and you should make better plots for your project). While there are better ways we can show this data, what conclusions can you draw from just your basic plot?"
   ]
  },
  {
   "cell_type": "markdown",
   "metadata": {
    "deletable": false,
    "nbgrader": {
     "checksum": "010f5de5f6af4c7f830d1cf7a81bbc0f",
     "grade": true,
     "grade_id": "cell-5617179133b06d0c",
     "locked": false,
     "points": 0,
     "schema_version": 1,
     "solution": true
    }
   },
   "source": [
    "- 4b YOUR ANSWER HERE\n",
    "\n",
    "From the plot above, we can see that the amount of contributions decreases as time goes on.  We see that in late 2014 to mid 2015, contribution amounts are quite high.  Hoever, as we go into late 2015 and all through 2016, the contribution amounts decrease drastically, just slightly hovering above 0."
   ]
  },
  {
   "cell_type": "markdown",
   "metadata": {},
   "source": [
    "**4c.** Brainstorm: If you were going to improve on this plot looking at donations over time, what could you display that would be more useful? You do not need to do any plotting for this question."
   ]
  },
  {
   "cell_type": "markdown",
   "metadata": {
    "deletable": false,
    "nbgrader": {
     "checksum": "6dc1481a003cdd752c5edfa9ac400879",
     "grade": true,
     "grade_id": "cell-f7a01ce9c5b10ac7",
     "locked": false,
     "points": 0,
     "schema_version": 1,
     "solution": true
    }
   },
   "source": [
    "- 4c YOUR ANSWER HERE\n",
    "\n",
    "If I were going to improve this plot looking at donations over time, I could diplay the total value amount for a given year rather than for individual months.  It would be easier and more clear to see if the amounts being contributed were going down yearly compared to monthly if we summed the amounts by year. "
   ]
  },
  {
   "cell_type": "markdown",
   "metadata": {},
   "source": [
    "## If you have feedback for this homework, please submit it using the link below:\n",
    "\n",
    "http://goo.gl/forms/74yCiQTf6k"
   ]
  }
 ],
 "metadata": {
  "kernelspec": {
   "display_name": "Python 3",
   "language": "python",
   "name": "python3"
  },
  "language_info": {
   "codemirror_mode": {
    "name": "ipython",
    "version": 3
   },
   "file_extension": ".py",
   "mimetype": "text/x-python",
   "name": "python",
   "nbconvert_exporter": "python",
   "pygments_lexer": "ipython3",
   "version": "3.7.3"
  }
 },
 "nbformat": 4,
 "nbformat_minor": 2
}
