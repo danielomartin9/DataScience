{
 "cells": [
  {
   "cell_type": "markdown",
   "metadata": {},
   "source": [
    "# Homework 2 - Summer Session\n",
    "\n",
    "### Assignment due date: 24 hours before the Week 3 Live Session.\n",
    "\n",
    "\n"
   ]
  },
  {
   "cell_type": "markdown",
   "metadata": {},
   "source": [
    "## Section 1 text and arithmetic\n",
    "\n",
    "In the first section you will create simple text and arithmetic scripts. These tasks are designed to give you an introduction to input/output and text formating. Each of these should be saved as a separate .py script and each should labeled so that it is clear which problem each script is for. Make sure you run your .py scripts from the command line to ensure they run successfully before submitting them.\n",
    "\n",
    "When you sync your repository to GitHub, we expect that you will have one script for each of the problems in section 1. Section 2 (further below) can be completed in this Jupter Notebook.\n",
    "\n",
    "### 1-1. Tip Calculator\n",
    "\n",
    "Below, you can see the script we wrote to compute the tip for a meal.  Fix it so that it works correctly.  Save your result as the file tip.py."
   ]
  },
  {
   "cell_type": "code",
   "execution_count": null,
   "metadata": {
    "collapsed": true
   },
   "outputs": [],
   "source": [
    "price = input(\"Enter the price of a meal:\")\n",
    "\n",
    "tip = price * 0.16\n",
    "total = price + tip\n",
    "\n",
    "print(\"A 16% tip would be \", tip)\n",
    "print(\"The total including tip would be \", total)"
   ]
  },
  {
   "cell_type": "markdown",
   "metadata": {
    "collapsed": true
   },
   "source": [
    "### 1-2. Pig Latin Translator\n",
    "\n",
    "Write a script that translates names into a (simplified) Pig Latin. Have your script ask the user for his or her name. Move the first letter to the end of the name and add the letters \"ay\".  Make sure that only the first letter of your output is capitalized. Your script should re-create the following behavior exactly:\n",
    "\n",
    "** Hint: Be sure that your script can handle one, two or three names. This will likely involve a loop.**\n",
    "\n",
    "```\n",
    "Enter your name: Paul Laskowski\n",
    "Aulpay Askowskilay\n",
    "```\n",
    "\n",
    "Save your script as **piglatin.py**"
   ]
  },
  {
   "cell_type": "markdown",
   "metadata": {
    "collapsed": true
   },
   "source": [
    "## 1-3. Matrix Inverter\n",
    "\n",
    "One place tuples are convenient is in the representation of matrices.  Label the values in a 2x2 matrix as follows:\n",
    "$$\n",
    "\\begin{bmatrix}\n",
    "    a       & b  \\\\\n",
    "    c       & d\n",
    "\\end{bmatrix}\n",
    "$$\n",
    "Write a script, matrix_fun.py, that asks the user for a text string including the four values, a, b, c, and d, separated by spaces.  You can use the `split()` method on the string to create a list of the four values in order.\n",
    "\n",
    "Create a tuple that represents each row, then create a tuple that contains those two tuples.  It should have the form `((a, b), (c, d))`.  Print this representation.\n",
    "\n",
    "The inverse of the matrix above is given by the formula,\n",
    "\n",
    "$$\n",
    "\\frac{1}{ad-bc} \\begin{bmatrix}\n",
    "    d       & -b  \\\\\n",
    "    -c       & a\n",
    "\\end{bmatrix}\n",
    "$$\n",
    "\n",
    "Compute the inverse of the given matrix, again represented as nested tuples, and print this representation. For example:\n",
    "\n",
    "\n",
    "input: 1 2 3 4\n",
    "\n",
    "output:\n",
    "```\n",
    "matrix: ((1.0, 2.0), (3.0, 4.0))\n",
    "inverse: ((-2.0, 1.0), (1.5, -0.5))\n",
    "```\n",
    "\n",
    ">**Hint: For this question your code should simply apply the inversion formula. The formula requires that you get the product of a constant and a matrix. To do that,  you should multiply the constant by each element of the 2x2 matrix as shown in the formula.  For the purpose of this exercise, there is no need to check invertibility of the matrix unless you want bonus points.**"
   ]
  },
  {
   "cell_type": "markdown",
   "metadata": {},
   "source": [
    "## Section 2 - Flow control \n",
    "\n",
    "For these tasks you answer the questions inside this ipython notebook file and submit it. Questions can be labelled accordingly.\n",
    "\n"
   ]
  },
  {
   "cell_type": "markdown",
   "metadata": {},
   "source": [
    "## 2-1. If statements\n",
    "\n",
    "The mythical island nation of Laskoatu has a rather simple tax code.  The first \\$1000 of income is taxed at 5%.  The next \\$1000 is taxed at 10%.  Any income beyond the first \\$2000 is taxed at 15%.  Complete the following script so that it asks the user for his or her income and outputs the amount of tax owed."
   ]
  },
  {
   "cell_type": "code",
   "execution_count": 4,
   "metadata": {},
   "outputs": [
    {
     "name": "stdout",
     "output_type": "stream",
     "text": [
      "Please enter your income:3345\n",
      "Income: 3345\n",
      "Tax Owed: 351.75\n"
     ]
    }
   ],
   "source": [
    "income = int(input(\"Please enter your income:\"))\n",
    "\n",
    "if income > 2000:\n",
    "    tax_owed = (1000*0.05) + (1000*0.10) + ((income-2000)*0.15)\n",
    "elif income > 1000:\n",
    "    tax_owed = (1000*0.05) + (income-1000)*0.10\n",
    "else:\n",
    "    tax_owed = income*0.05\n",
    "    \n",
    "print('Income: {}\\nTax Owed: {}'.format(income,tax_owed))"
   ]
  },
  {
   "cell_type": "markdown",
   "metadata": {},
   "source": [
    "## 2-2 While loops\n",
    "Write a script that prompts the user for his or her name. Using a while loop that counts downwards, print the name with the letters reversed. You may use `s.lower()` and `s.upper()` to change a string `s` to lowercase and uppercase letters.\n",
    "```\n",
    "Enter your name: Paul \n",
    "Luap\n",
    "```\n",
    "If the name is the same forward and backwards, print \"Palindrome!\" on the next line.\n",
    "```\n",
    "Enter your name: Ana \n",
    "Ana \n",
    "Palindrome!\n",
    "```\n",
    "\n",
    ">**Hint: You can treat a single and double word name as a single string, or if you want to get fancy reverse each name independantly and test each to see if it is a palandrome."
   ]
  },
  {
   "cell_type": "code",
   "execution_count": 9,
   "metadata": {},
   "outputs": [
    {
     "name": "stdout",
     "output_type": "stream",
     "text": [
      "Enter your name: Ana\n",
      "Ana \n",
      "Palindrome!\n"
     ]
    }
   ],
   "source": [
    "name = input(\"Enter your name: \").split()\n",
    "\n",
    "while name: # True until list is empty\n",
    "    var = name.pop(0)\n",
    "    if var.lower() == var[::-1].lower():\n",
    "        print('{} \\nPalindrome!'.format(var))\n",
    "    else:\n",
    "        print(var[::-1].capitalize())"
   ]
  },
  {
   "cell_type": "markdown",
   "metadata": {},
   "source": [
    "## 2-3 Create a to-do list using a dictionary of lists\n",
    "\n",
    "\n",
    "Your program should have the following elements:\n",
    "\n",
    "1. Empty dictionary to store information\n",
    "\n",
    "2. Key for each day of the week\n",
    "\n",
    "3. Each key has a list value that stores items\n",
    "\n",
    "4. User is prompted to add to or view to-do list\n",
    "\n",
    "5. User can type \"add\" program will ask what day and add it correctly\n",
    "\n",
    "6. User can type \"get\" and the program will ask for the day and print the values\n",
    "\n",
    ">7. User can type \"quit\" to exit the loop \n",
    "\n",
    "\n",
    "Example:\n",
    "```\n",
    "What would you like to do?\n",
    "add\n",
    "What day?\n",
    "Friday\n",
    "What would you like to add to Friday's to-do list?\n",
    "practice clarinet\n",
    "What would you like to do?\n",
    "get\n",
    "What day?\n",
    "Friday\n",
    "You have to practice clarinet.\n",
    "What would you like to do?\n",
    "```"
   ]
  },
  {
   "cell_type": "code",
   "execution_count": 10,
   "metadata": {},
   "outputs": [
    {
     "name": "stdout",
     "output_type": "stream",
     "text": [
      "What would you like to do? add\n",
      "What day? Friday\n",
      "What would you like to add to Friday's to-do list? practice clarinet\n",
      "What would you like to do? get\n",
      "What day? Friday\n",
      "You have to do practice clarinet\n",
      "What would you like to do? quit\n"
     ]
    }
   ],
   "source": [
    "dict = {'Monday':[], 'Tuesday':[], 'Wednesday':[], 'Thursday':[], 'Friday':[], 'Saturday':[], 'Sunday':[]}\n",
    "\n",
    "while True:\n",
    "    operation = input('What would you like to do? ').lower()\n",
    "    if operation == 'quit':\n",
    "        break\n",
    "    day = input('What day? ').capitalize()\n",
    "\n",
    "    if operation == 'add':\n",
    "        obj = input('What would you like to {} to {}\\'s to-do list? '.format(operation, day))\n",
    "        dict[day] = obj\n",
    "    elif operation == 'get':\n",
    "        print('You have to do {}'.format(dict.get(day)))\n",
    "    else:\n",
    "        print('Invalid operation')"
   ]
  },
  {
   "cell_type": "markdown",
   "metadata": {},
   "source": [
    "## 2-4 Fibonacci\n",
    "\n",
    "The Fibonacci numbers begin with 1, 1.  After the first two numbers, each number is the sum of the previous two. 1 + 1 = 2, so 2 is the third number. Then 1 + 2 = 3, so 3 is the next one, and so on. Write a script that prompts the user for a number, then prints all the Fibonacci numbers that are less than or equal to the input, in order.\n",
    "\n",
    "```\n",
    "Enter a number: 15\n",
    "1 1 2 3 5 8 13\n",
    "```"
   ]
  },
  {
   "cell_type": "code",
   "execution_count": 11,
   "metadata": {},
   "outputs": [
    {
     "name": "stdout",
     "output_type": "stream",
     "text": [
      "Enter a number: 15\n",
      "1 1 2 3 5 8 13 "
     ]
    }
   ],
   "source": [
    "n = int(input(\"Enter a number: \"))\n",
    "lst = [1,1]\n",
    "\n",
    "while lst[-1] <= n:\n",
    "    result = lst[-2] + lst[-1]\n",
    "    if result > n:\n",
    "        break\n",
    "    lst.append(result)\n",
    "\n",
    "for _ in lst:\n",
    "    print(_, end=' ')"
   ]
  },
  {
   "cell_type": "markdown",
   "metadata": {},
   "source": [
    "## 2-5 Pascal's Triangle\n",
    "\n",
    "Pascal's triangle is a triangle of numbers that is computed as follows.  The first row contains a 1.  Each row after that begins and ends with a 1, and every other number is the sum of the two numbers above it.  The first six rows of Pascal's triangle are shown below.\n",
    "```\n",
    "      1\n",
    "     1 1\n",
    "    1 2 1\n",
    "  1  3 3  1\n",
    " 1 4  6  4 1\n",
    "1 5 10 10 5 1\n",
    "```\n",
    "Write a script to compute the *n*th row of Pascal's triangle."
   ]
  },
  {
   "cell_type": "code",
   "execution_count": 17,
   "metadata": {},
   "outputs": [
    {
     "name": "stdout",
     "output_type": "stream",
     "text": [
      "Enter a number: 6\n",
      "1 5 10 10 5 1 "
     ]
    }
   ],
   "source": [
    "n = int(input(\"Enter a number: \"))-1\n",
    "\n",
    "lst = [1]\n",
    "for num in range(n):\n",
    "    lst.append(lst[num]*(n-num)//(num+1))\n",
    "for _ in lst:\n",
    "    print(_, end=' ')"
   ]
  },
  {
   "cell_type": "markdown",
   "metadata": {},
   "source": [
    "## Please submit feedback for any and all homeworks!\n",
    "\n",
    "http://goo.gl/forms/74yCiQTf6k"
   ]
  }
 ],
 "metadata": {
  "kernelspec": {
   "display_name": "Python 3",
   "language": "python",
   "name": "python3"
  },
  "language_info": {
   "codemirror_mode": {
    "name": "ipython",
    "version": 3
   },
   "file_extension": ".py",
   "mimetype": "text/x-python",
   "name": "python",
   "nbconvert_exporter": "python",
   "pygments_lexer": "ipython3",
   "version": "3.7.3"
  }
 },
 "nbformat": 4,
 "nbformat_minor": 1
}
