{
 "cells": [
  {
   "cell_type": "markdown",
   "metadata": {
    "nbgrader": {
     "grade": false,
     "grade_id": "cell-527229cf042812ef",
     "locked": true,
     "schema_version": 1,
     "solution": false
    }
   },
   "source": [
    "## HW 4 - W18 Python for Data Science, UC Berkeley\n",
    "\n",
    "Write code in this Jupyter Notebook to solve each of the following problems. Each problem should have its solution in a separate cell. Please upload this **Notebook** with your solutions to your GitHub repository in your SUBMISSIONS/Week_04 folder by 11:59PM PST the night before class."
   ]
  },
  {
   "cell_type": "markdown",
   "metadata": {
    "nbgrader": {
     "grade": false,
     "grade_id": "cell-1b44a7b98ed62731",
     "locked": true,
     "schema_version": 1,
     "solution": false
    }
   },
   "source": [
    "## Objectives:\n",
    "\n",
    "- Demonstrate how to define classes\n",
    "- Design and implement class objects and class interactions\n",
    "- Understand how to call methods from both inside and outside of classes\n",
    "- Understand how to set internal attribute within a class"
   ]
  },
  {
   "cell_type": "markdown",
   "metadata": {
    "nbgrader": {
     "grade": false,
     "grade_id": "cell-cfac900eae3841cc",
     "locked": true,
     "schema_version": 1,
     "solution": false
    }
   },
   "source": [
    "## General Guidelines:\n",
    "\n",
    "- All calculations need to be done in the classes (that includes any formatting of the output)\n",
    "- Name your classes exactly as written in the problem statement\n",
    "- Do NOT make separate input() statements.  The classes will be passed the input as shown in the examples\n",
    "- The examples given are samples of how we will test/grade your code. Please ensure your classes output the same information\n",
    "- Answer format is graded - please match the examples\n",
    "- User / function inputs do need to be validated or checked. (For example, if the problem states input an integer we will check it by inputting an integer)\n",
    "- Comments in your code are strongly suggested but won't be graded\n",
    "- This homework is mostly auto-graded. The blank code blocks are the auto-grading scripts - please do not delete these!\n",
    "- Your code needs to be written in the #Your Code Here blocks or it wont be graded correctly."
   ]
  },
  {
   "cell_type": "markdown",
   "metadata": {
    "nbgrader": {
     "grade": false,
     "grade_id": "cell-783896db972e3f83",
     "locked": true,
     "schema_version": 1,
     "solution": false
    }
   },
   "source": [
    "## Project Proposal\n",
    "\n",
    "**Reminder!** Please complete your project proposal, as discussed in class and outlined in the project_1 folder.  You may submit your 1-2 page proposal in a Google Doc or PDF.  Please store your proposal (or a link to it) in your repo under the project_1 folder.\n",
    "\n",
    "This is worth 10 points of your **project** grade (not the grade for this homework)."
   ]
  },
  {
   "cell_type": "markdown",
   "metadata": {
    "nbgrader": {
     "grade": false,
     "grade_id": "cell-696344d235251439",
     "locked": true,
     "schema_version": 1,
     "solution": false
    }
   },
   "source": [
    "## 4-1 A Quick Reading\n",
    "\n",
    "Please read the following article and write a couple sentences of reaction. What is the most interesting part?\n",
    "\n",
    "<a href=\"http://programmingisterrible.com/post/139222674273/write-code-that-is-easy-to-delete-not-easy-to\">Write code that is easy to delete, not easy to extend</a> \n",
    "\n",
    "This article is to explain an \"architectural\" perspective towards thinking about writing in large code bases. This might not really apply to the work that you are doing now but should provide some food for thought on upcoming projects. Think about the author's perspective and why he seems to have come to it. Please don't worry about knowing all the terminology or programs/systems that he refers to. We want you to extract what he's trying to say about writing code rather than the intricacies of the low-level systems that is referring to.\n"
   ]
  },
  {
   "cell_type": "markdown",
   "metadata": {
    "nbgrader": {
     "grade": true,
     "grade_id": "cell-ec8be46bbe5effd3",
     "locked": false,
     "points": 20,
     "schema_version": 1,
     "solution": true
    }
   },
   "source": [
    "**[Write Response Here]**\n",
    "\n",
    "I felt the most interesting part of the paper/article was the explanation of the Erlang system and its use of supervisors. When an error occurs in an Erlang system, the system exits and the supervisor reboots itself rather than handling the error. The article puts it best by saying \"Error handling like this may seem counter-intuitive, gaining reliability by giving up when errors happen...\".  Another portion of the article that intrigued me was its overall view of changing code and the various implementations to do so.  It is essential that as we code, we try to write code that has the ability to easily and cheaply be changed overtime."
   ]
  },
  {
   "cell_type": "markdown",
   "metadata": {
    "nbgrader": {
     "grade": false,
     "grade_id": "cell-7804e7ebc0429dcc",
     "locked": true,
     "schema_version": 1,
     "solution": false
    }
   },
   "source": [
    "--------------------------------------------------------------------------------------------------------------------------------\n",
    "# Please do the card deck exercise\n",
    "* For 25 bonus points each added to any deficient assignment, you can do the Marbles game or Galton's box "
   ]
  },
  {
   "cell_type": "markdown",
   "metadata": {
    "nbgrader": {
     "grade": false,
     "grade_id": "cell-03f9229475d9a257",
     "locked": true,
     "schema_version": 1,
     "solution": false
    }
   },
   "source": [
    "## 4-2 - Deck of Cards\n",
    "\n",
    "Please design two classes in this notebook as follows:\n",
    "\n",
    "1\\. Please create a class called **PlayingCard**. This class should have: <br>\n",
    "- An attribute, \"rank\" that takes a value of 2-10, J, Q, K, or A. <br>\n",
    "- An attribute, \"suit\" that takes a value of \"♠\" \"♥\" \"♦\" or \"♣\". (If you don't know how to make these characters you can cut and paste from this block)<br>  \n",
    "- An __init__ function \n",
    "\n",
    "2\\. Please create a class called **Deck**.  This class should have: <br>\n",
    "- An attribute, \"cards\", that holds a list of PlayingCard objects. <br>\n",
    "- An __init__ function that: \n",
    "\n",
    "    - By default stores a full deck of 52 playing card (with proper numbers and suits) in the \"cards\" list. Each cards will be  of the class PlayingCard above<br>\n",
    "    - Allows the user to specify a specific suit (of the 4 - \"♠\" \"♥\" \"♦\" or \"♣\").  In this case, the program should only populate the deck with the 13 cards of that suit.\n",
    "    - After the cards object is initialized, call the \"shuffle_deck()\" function (below).<br>\n",
    "    \n",
    "- A \"shuffle_deck()\" function that randomly changes the order of cards in the deck.<br>\n",
    "- A \"deal_card(card_count)\" function that removes the first X cards from the deck and returns them as a list.<br>\n",
    "    - Make sure this function gives an appropriate response when the deck is out of cards.\n",
    "    \n",
    "3\\. You might have to write ```__str__ or __repr__``` methods to display the cards correctly.\n",
    "\n",
    "\n",
    "Example:\n",
    "```\n",
    ">>> card1 = PlayingCard(\"A\", \"♠\")\n",
    ">>> print(card1)\n",
    "'A' of ♠\n",
    "\n",
    ">>> card2 = PlayingCard(15, \"♠\")\n",
    "Invalid rank!\n",
    "\n",
    ">>> card2 = PlayingCard(10, \"bunnies\")\n",
    "Invalid suit!\n",
    "\n",
    ">>> deck1 = Deck()\n",
    ">>> print(deck1.cards)\n",
    "['K' of ♠, 'A' of ♥, 6 of ♣, 7 of ♠, 'J' of ♦, 6 of ♠, 'Q' of ♦, 5 of ♣, 10 of ♦, 2 of ♥, 8 of ♣, 8 of ♦, 4 of ♦, 7 of ♦, 3 of ♣, 'K' of ♣, 9 of ♠, 4 of ♥, 10 of ♥, 10 of ♣, 'A' of ♠, 9 of ♥, 7 of ♥, 9 of ♣, 7 of ♣, 5 of ♠, 3 of ♦, 10 of ♠, 'Q' of ♥, 'J' of ♣, 5 of ♥, 'K' of ♥, 'K' of ♦, 2 of ♠, 8 of ♠, 'Q' of ♣, 3 of ♠, 6 of ♥, 6 of ♦, 'A' of ♣, 'A' of ♦, 3 of ♥, 'J' of ♠, 4 of ♣, 5 of ♦, 2 of ♦, 4 of ♠, 2 of ♣, 'Q' of ♠, 'J' of ♥, 8 of ♥, 9 of ♦] \n",
    "\n",
    ">>> deck2 = Deck('♠')\n",
    ">>> deck2.shuffle_deck()\n",
    ">>> print(deck2.cards)\n",
    "['A' of ♠, 10 of ♠, 3 of ♠, 7 of ♠, 5 of ♠, 4 of ♠, 8 of ♠, 'J' of ♠, 9 of ♠, 'Q' of ♠, 6 of ♠, 2 of ♠, 'K' of ♠]\n",
    "\n",
    ">>> deck2.deal_card(7)\n",
    "['A' of ♠, 10 of ♠, 3 of ♠, 7 of ♠, 5 of ♠, 4 of ♠, 8 of ♠]\n",
    "\n",
    ">>> deck2.deal_card(8)\n",
    "Cannot deal 7 cards. The deck only has 6 cards left!\n",
    "```"
   ]
  },
  {
   "cell_type": "code",
   "execution_count": 259,
   "metadata": {
    "nbgrader": {
     "grade": false,
     "grade_id": "cell-1a340c9ca6b682a1",
     "locked": false,
     "schema_version": 1,
     "solution": true
    }
   },
   "outputs": [],
   "source": [
    "### BEGIN SOLUTION\n",
    "from random import shuffle\n",
    "\n",
    "class PlayingCard(object):\n",
    "\n",
    "    def __init__(self, rank, suit):\n",
    "        if rank in Deck.class_rank:\n",
    "            self.rank = rank\n",
    "        else:\n",
    "            print('Invalid Rank!')\n",
    "            \n",
    "        if suit in Deck.class_suit:\n",
    "            self.suit = suit\n",
    "        else:\n",
    "            print('Invalid Suit!')\n",
    "    \n",
    "    def __str__(self):\n",
    "        return '{} of {}'.format(self.rank, self.suit)\n",
    "    \n",
    "    def __repr__(self):\n",
    "        return self.__str__()\n",
    "    \n",
    "    \n",
    "class Deck(object):\n",
    "    \n",
    "    # Class attributes:\n",
    "    # Tuple for immutability\n",
    "    class_rank = (2,3,4,5,6,7,8,9,10,'J','Q','K','A')\n",
    "    class_suit = ('♠','♥','♦','♣')\n",
    "    class_cards = []\n",
    "    \n",
    "    def __init__(self, suit = ''):\n",
    "        self.suit = suit\n",
    "        self.cards = []\n",
    "        \n",
    "        for rank in Deck.class_rank:\n",
    "            for suit in Deck.class_suit:\n",
    "                Deck.class_cards.append(PlayingCard(rank, suit))\n",
    "                \n",
    "        Deck.class_cards = Deck.class_cards[:52]\n",
    "        \n",
    "        if self.suit in Deck.class_suit:\n",
    "            for card in Deck.class_cards:\n",
    "                if self.suit == card.suit:\n",
    "                    self.cards.append(card)\n",
    "        else:\n",
    "            self.cards = Deck.class_cards\n",
    "    \n",
    "        self.shuffle_deck()\n",
    "        \n",
    "    def shuffle_deck(self):\n",
    "        # Randomly shuffles a deck of cards\n",
    "        shuffle(self.cards)\n",
    "        \n",
    "    def deal_card(self, card_count):\n",
    "        # Removes card_count amount of cards \n",
    "        # and returns a list\n",
    "        \n",
    "        if len(self.cards) >= card_count:\n",
    "            return [self.cards.pop(amt) for amt in range(0, card_count)]\n",
    "        else:\n",
    "            return 'Cannot deal {} cards. The deck only has {} cards left'.format(card_count, len(self.cards))\n",
    "    \n",
    "### END SOLUTION"
   ]
  },
  {
   "cell_type": "markdown",
   "metadata": {
    "nbgrader": {
     "grade": false,
     "grade_id": "cell-2d3fb17759ce7be6",
     "locked": true,
     "schema_version": 1,
     "solution": false
    }
   },
   "source": [
    "Extra Credit (2 points): Write a method called **war** that deals a card to the player and a card to the dealer from your deck.  Whomever has the highest ranked card wins - print them a nice message! (2 is the lowest rank and A is the highest).  If it is a tie - print a different message."
   ]
  },
  {
   "cell_type": "code",
   "execution_count": 260,
   "metadata": {
    "nbgrader": {
     "grade": true,
     "grade_id": "cell-f792b0aacbf4aeb1",
     "locked": false,
     "points": 2,
     "schema_version": 1,
     "solution": true
    }
   },
   "outputs": [],
   "source": [
    "### BEGIN SOLUTION\n",
    "def war():\n",
    "    # Deals a card to a player and dealer\n",
    "    # Highest ranked card wins (2 - lowest, A - highest)\n",
    "    dict = {'2': 2, '3': 3, '4': 4, '5': 5,\n",
    "            '6': 6, '7': 7, '8': 8, '9': 9, '10': 10, \n",
    "            'J': 11, 'Q': 12, 'K': 13, 'A': 14}\n",
    "    deck = Deck()\n",
    " \n",
    "    player = dict[str(deck.deal_card(1)[0].rank)]\n",
    "    dealer = dict[str(deck.deal_card(1)[0].rank)]\n",
    "    print('Player Card: {}, Dealer Card: {}'.format(player, dealer))\n",
    "    \n",
    "    if player > dealer:\n",
    "        print('Player wins!')\n",
    "    elif player < dealer:\n",
    "        print('Dealer wins!')\n",
    "    else:\n",
    "        print('It\\'s a tie!')\n",
    "    \n",
    "### END SOLUTION"
   ]
  },
  {
   "cell_type": "markdown",
   "metadata": {
    "nbgrader": {
     "grade": false,
     "grade_id": "cell-9fb0d10895402417",
     "locked": true,
     "schema_version": 1,
     "solution": false
    }
   },
   "source": [
    "## Part 4-3 - Galton's Box\n",
    "\n",
    "The following figure depicts Galton's box, a game in which marbles are dropped through N rows of pins.  In row 0, there is one position a marble can be in (labeled 0), in row 1, there are two positions (labeled 0 and 1), and so forth.  Each time the marble bounces from one row to the next, there is a 50% probability it bounces left and a 50% probability it bounces right.\n",
    "\n",
    "<img src=\"Galton_Box.png\">\n",
    "<img src=\"Galton2.jpg\">\n",
    "\n",
    "Notice that if a marble is in position x of row y, and it bounces left, it ends up in position x of row y+1.  If it bounces right, it ends up in position x+1.\n",
    "\n",
    "1\\. Create a class, **Marble**, to represent a single Marble that will drop through Galton's Box. \n",
    "- Include attributes to represent the position of the marble.  \n",
    "- The ```__init__``` method should accept a one-character label for use when printing the Marble.\n",
    "\n",
    "2\\. Create a class, **GaltonBox**, to represent the overall setup.  You should include the following methods:\n",
    "\n",
    "- ```__init__``` - Your initializer should accept the size of the box, N.\n",
    "- ```insert_marble``` - This method should accept a Marble instance and sets its position to position 0, row 0.\n",
    "- ```time_step``` - This method should cause all Marbles in Galton's box to bounce to the next row, dropping left or right with equal probability.  When a marble reaches row N-1 at the bottom of the box, it should not move any more.  Note that you should simply allow marbles to occupy the same position (instead of working out a system to prevent a Marble from entering a position if another Marble is already there).\n",
    "- ```__str__ and __repr__``` - Include methods to display the Marbles currently in the box.  To keep things simple, if there are multiple Marbles in a given position, you only have to display one of the labels.\n",
    "\n",
    "Your classes should mimic the following behavior (except that the horizontal positions are random):\n",
    "\n",
    "```\n",
    ">>> m1 = Marble(\"x\")\n",
    ">>> m2 = Marble(\"o\")\n",
    ">>> box = GaltonBox(3)\n",
    ">>> box.insert_marble(m1)\n",
    ">>> box\n",
    "x\n",
    "--\n",
    "---\n",
    ">>> box.time_step()\n",
    ">>> box\n",
    "-\n",
    "-x\n",
    "---\n",
    ">>> box.insert_marble(m2)\n",
    ">>> box\n",
    "o\n",
    "-x\n",
    "---\n",
    ">>> box.time_step()\n",
    ">>> box\n",
    "-\n",
    "o-\n",
    "-x-\n",
    ">>> box.time_step()\n",
    ">>> box\n",
    "-\n",
    "--\n",
    "ox-\n",
    "```\n",
    "\n"
   ]
  },
  {
   "cell_type": "code",
   "execution_count": 261,
   "metadata": {
    "nbgrader": {
     "grade": false,
     "grade_id": "cell-8dc0d52c853e6e25",
     "locked": false,
     "schema_version": 1,
     "solution": true
    }
   },
   "outputs": [],
   "source": [
    "### BEGIN SOLUTION\n",
    "# I could not figure out the __str__ method and how to properly\n",
    "# print out the board with the pieces but I think the rest of\n",
    "# my implementation is good\n",
    "import random\n",
    "\n",
    "class Marble(object):\n",
    "    # pos X or row Y\n",
    "    # bounces left - pos X of row Y+1\n",
    "    # bounces right - pos X+1 of row Y\n",
    "    \n",
    "    def __init__(self, label):\n",
    "        self.label = label\n",
    "        self.pos = 0\n",
    "        self.row = 0\n",
    "        \n",
    "class GaltonBox(object):\n",
    "    \n",
    "    def __init__(self, N):\n",
    "        self.size_of_box = N\n",
    "        self.container = []\n",
    "        \n",
    "    def insert_marble(self, obj):\n",
    "        # accept a Marble instance (obj)\n",
    "        # and set its position to pos 0, row 0\n",
    "        obj.pos = 0\n",
    "        obj.row = 0\n",
    "        self.container.append(obj)\n",
    "        \n",
    "    def time_step(self):        \n",
    "        for obj in self.container:\n",
    "            if obj.pos == self.size_of_box - 1:\n",
    "                continue\n",
    "            else:\n",
    "                if random.random() < 0.5: # bounces left\n",
    "                    obj.pos = obj.pos\n",
    "                    obj.row += 1\n",
    "                else: # bounces right\n",
    "                    obj.pos += 1\n",
    "                    obj.row = obj.row\n",
    "                    \n",
    "    def __str__(self):\n",
    "        for row in range(1, self.size_of_box+1):\n",
    "            for pos in range(0,row):\n",
    "                for obj in self.container:\n",
    "                    if obj.row == row-1 and obj.pos == pos:\n",
    "                        print(obj.label)\n",
    "                    else:\n",
    "                        print('-'*row)\n",
    "        return \"\"\n",
    "            \n",
    "    def __repr__(self):\n",
    "        return self.__str__()      \n",
    "    \n",
    "### END SOLUTION"
   ]
  },
  {
   "cell_type": "markdown",
   "metadata": {
    "nbgrader": {
     "grade": false,
     "grade_id": "cell-0d6fbf3d0326cbc4",
     "locked": true,
     "schema_version": 1,
     "solution": false
    }
   },
   "source": [
    "**Bonus Investigation:** (Extra Credit: 2 points) Once your code is working, write a script to create a box with 20 rows, insert a few dozen Marbles, and repeatedly call time_step() until all Marbles are at the bottom.  Now adapt the following code to display a histogram of the final Marble positions.  What does the shape of the distribution look like?"
   ]
  },
  {
   "cell_type": "code",
   "execution_count": null,
   "metadata": {
    "nbgrader": {
     "grade": false,
     "grade_id": "cell-ff1d95ccd995a9d3",
     "locked": true,
     "schema_version": 1,
     "solution": false
    }
   },
   "outputs": [],
   "source": [
    "# Sample code below - you will have to adjust it to work for your code.\n",
    "\n",
    "%matplotlib inline\n",
    "import matplotlib.pyplot as plt\n",
    "import numpy as np\n",
    "\n",
    "x_positions = (2,3,4,6,7,4,3,2,3,1)\n",
    "cutoffs = np.arange(min(x_positions) - .5, max(x_positions)+.5)\n",
    "plt.hist(x_positions, bins = cutoffs)"
   ]
  },
  {
   "cell_type": "code",
   "execution_count": null,
   "metadata": {
    "nbgrader": {
     "grade": true,
     "grade_id": "cell-d4119824e9396a02",
     "locked": false,
     "points": 1,
     "schema_version": 1,
     "solution": true
    }
   },
   "outputs": [],
   "source": [
    "### BEGIN SOLUTION\n",
    "    \n",
    "### END SOLUTION"
   ]
  },
  {
   "cell_type": "markdown",
   "metadata": {
    "nbgrader": {
     "grade": true,
     "grade_id": "cell-e86742ae1d24a577",
     "locked": false,
     "points": 1,
     "schema_version": 1,
     "solution": true
    }
   },
   "source": [
    "**Your response here**"
   ]
  }
 ],
 "metadata": {
  "celltoolbar": "Create Assignment",
  "kernelspec": {
   "display_name": "Python 3",
   "language": "python",
   "name": "python3"
  },
  "language_info": {
   "codemirror_mode": {
    "name": "ipython",
    "version": 3
   },
   "file_extension": ".py",
   "mimetype": "text/x-python",
   "name": "python",
   "nbconvert_exporter": "python",
   "pygments_lexer": "ipython3",
   "version": "3.7.3"
  }
 },
 "nbformat": 4,
 "nbformat_minor": 1
}
