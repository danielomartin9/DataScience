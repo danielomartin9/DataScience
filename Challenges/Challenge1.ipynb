{
 "cells": [
  {
   "cell_type": "markdown",
   "metadata": {},
   "source": [
    "# Achievement First Data Analyst Technical Exercise"
   ]
  },
  {
   "cell_type": "code",
   "execution_count": 589,
   "metadata": {},
   "outputs": [],
   "source": [
    "import pandas as pd\n",
    "import numpy as np\n",
    "import seaborn as sns\n",
    "import matplotlib.pyplot as plt\n",
    "\n",
    "%matplotlib inline"
   ]
  },
  {
   "cell_type": "code",
   "execution_count": 590,
   "metadata": {
    "scrolled": false
   },
   "outputs": [],
   "source": [
    "# read in the data\n",
    "data = pd.read_excel('F&P Sample Data Set.xlsx')"
   ]
  },
  {
   "cell_type": "markdown",
   "metadata": {},
   "source": [
    "# Pre-Processing"
   ]
  },
  {
   "cell_type": "code",
   "execution_count": 591,
   "metadata": {
    "scrolled": true
   },
   "outputs": [
    {
     "data": {
      "text/html": [
       "<div>\n",
       "<style scoped>\n",
       "    .dataframe tbody tr th:only-of-type {\n",
       "        vertical-align: middle;\n",
       "    }\n",
       "\n",
       "    .dataframe tbody tr th {\n",
       "        vertical-align: top;\n",
       "    }\n",
       "\n",
       "    .dataframe thead th {\n",
       "        text-align: right;\n",
       "    }\n",
       "</style>\n",
       "<table border=\"1\" class=\"dataframe\">\n",
       "  <thead>\n",
       "    <tr style=\"text-align: right;\">\n",
       "      <th></th>\n",
       "      <th>Student ID</th>\n",
       "      <th>School Name</th>\n",
       "      <th>Grade Level</th>\n",
       "      <th>BOY F&amp;P Score</th>\n",
       "      <th>EOY F&amp;P Score</th>\n",
       "    </tr>\n",
       "  </thead>\n",
       "  <tbody>\n",
       "    <tr>\n",
       "      <th>0</th>\n",
       "      <td>10000001</td>\n",
       "      <td>Bushwick Middle School</td>\n",
       "      <td>5</td>\n",
       "      <td>11.0</td>\n",
       "      <td>16.0</td>\n",
       "    </tr>\n",
       "    <tr>\n",
       "      <th>1</th>\n",
       "      <td>10000002</td>\n",
       "      <td>Bushwick Middle School</td>\n",
       "      <td>5</td>\n",
       "      <td>11.0</td>\n",
       "      <td>16.0</td>\n",
       "    </tr>\n",
       "    <tr>\n",
       "      <th>2</th>\n",
       "      <td>10000003</td>\n",
       "      <td>Crown Heights Middle School</td>\n",
       "      <td>5</td>\n",
       "      <td>11.0</td>\n",
       "      <td>16.0</td>\n",
       "    </tr>\n",
       "    <tr>\n",
       "      <th>3</th>\n",
       "      <td>10000004</td>\n",
       "      <td>Bushwick Middle School</td>\n",
       "      <td>5</td>\n",
       "      <td>11.0</td>\n",
       "      <td>16.0</td>\n",
       "    </tr>\n",
       "    <tr>\n",
       "      <th>4</th>\n",
       "      <td>10000005</td>\n",
       "      <td>Bushwick Middle School</td>\n",
       "      <td>5</td>\n",
       "      <td>11.0</td>\n",
       "      <td>14.0</td>\n",
       "    </tr>\n",
       "  </tbody>\n",
       "</table>\n",
       "</div>"
      ],
      "text/plain": [
       "   Student ID                  School Name Grade Level  BOY F&P Score  \\\n",
       "0    10000001       Bushwick Middle School           5           11.0   \n",
       "1    10000002       Bushwick Middle School           5           11.0   \n",
       "2    10000003  Crown Heights Middle School           5           11.0   \n",
       "3    10000004       Bushwick Middle School           5           11.0   \n",
       "4    10000005       Bushwick Middle School           5           11.0   \n",
       "\n",
       "   EOY F&P Score  \n",
       "0           16.0  \n",
       "1           16.0  \n",
       "2           16.0  \n",
       "3           16.0  \n",
       "4           14.0  "
      ]
     },
     "execution_count": 591,
     "metadata": {},
     "output_type": "execute_result"
    }
   ],
   "source": [
    "data.head()"
   ]
  },
  {
   "cell_type": "code",
   "execution_count": 592,
   "metadata": {
    "scrolled": true
   },
   "outputs": [
    {
     "name": "stdout",
     "output_type": "stream",
     "text": [
      "Data Features:  5\n",
      "Data Instances:  376\n"
     ]
    }
   ],
   "source": [
    "# check dimensions of data\n",
    "print('Data Features: ', data.shape[1])\n",
    "print('Data Instances: ', data.shape[0])"
   ]
  },
  {
   "cell_type": "code",
   "execution_count": 593,
   "metadata": {},
   "outputs": [
    {
     "data": {
      "text/plain": [
       "Student ID         int64\n",
       "School Name       object\n",
       "Grade Level       object\n",
       "BOY F&P Score    float64\n",
       "EOY F&P Score    float64\n",
       "dtype: object"
      ]
     },
     "execution_count": 593,
     "metadata": {},
     "output_type": "execute_result"
    }
   ],
   "source": [
    "# check datatypes of features\n",
    "data.dtypes"
   ]
  },
  {
   "cell_type": "code",
   "execution_count": 594,
   "metadata": {},
   "outputs": [
    {
     "data": {
      "text/plain": [
       "Index(['Student ID', 'School Name', 'Grade Level', 'BOY F&P Score',\n",
       "       'EOY F&P Score'],\n",
       "      dtype='object')"
      ]
     },
     "execution_count": 594,
     "metadata": {},
     "output_type": "execute_result"
    }
   ],
   "source": [
    "# data columns\n",
    "data.columns"
   ]
  },
  {
   "cell_type": "code",
   "execution_count": 595,
   "metadata": {
    "scrolled": true
   },
   "outputs": [
    {
     "data": {
      "text/plain": [
       "Student ID        0\n",
       "School Name       0\n",
       "Grade Level       0\n",
       "BOY F&P Score    97\n",
       "EOY F&P Score    10\n",
       "dtype: int64"
      ]
     },
     "execution_count": 595,
     "metadata": {},
     "output_type": "execute_result"
    }
   ],
   "source": [
    "# check for null (missing) values\n",
    "data.isnull().sum()"
   ]
  },
  {
   "cell_type": "code",
   "execution_count": 596,
   "metadata": {},
   "outputs": [
    {
     "data": {
      "text/plain": [
       "Crown Heights Middle School    80\n",
       "Bushwick Middle School         14\n",
       "Crown Hghts Middle School       2\n",
       "Bushwick MS                     1\n",
       "Name: School Name, dtype: int64"
      ]
     },
     "execution_count": 596,
     "metadata": {},
     "output_type": "execute_result"
    }
   ],
   "source": [
    "data.loc[data['BOY F&P Score'].isnull(), 'School Name'].value_counts()"
   ]
  },
  {
   "cell_type": "markdown",
   "metadata": {},
   "source": [
    "### Grade Level Feature"
   ]
  },
  {
   "cell_type": "code",
   "execution_count": 597,
   "metadata": {
    "scrolled": true
   },
   "outputs": [
    {
     "data": {
      "text/plain": [
       "6      197\n",
       "5      172\n",
       "5th      5\n",
       "6th      2\n",
       "Name: Grade Level, dtype: int64"
      ]
     },
     "execution_count": 597,
     "metadata": {},
     "output_type": "execute_result"
    }
   ],
   "source": [
    "# check unique 'Grade Level' feature\n",
    "# --> data may have been manually inputted \n",
    "data['Grade Level'].value_counts()"
   ]
  },
  {
   "cell_type": "code",
   "execution_count": 598,
   "metadata": {},
   "outputs": [
    {
     "name": "stdout",
     "output_type": "stream",
     "text": [
      "<class 'int'>\n",
      "<class 'str'>\n"
     ]
    }
   ],
   "source": [
    "# Grade Level  == 5\n",
    "print(type(data['Grade Level'][0]))\n",
    "\n",
    "# Grade Level == 6th\n",
    "print(type(data['Grade Level'][374]))"
   ]
  },
  {
   "cell_type": "code",
   "execution_count": 599,
   "metadata": {},
   "outputs": [],
   "source": [
    "# convert '5th -> 5' and '6th -> 6' to maintain consistency\n",
    "data['Grade Level'].replace(to_replace=['5th','6th'], value=[5,6], inplace=True)"
   ]
  },
  {
   "cell_type": "code",
   "execution_count": 600,
   "metadata": {},
   "outputs": [
    {
     "data": {
      "text/plain": [
       "6    199\n",
       "5    177\n",
       "Name: Grade Level, dtype: int64"
      ]
     },
     "execution_count": 600,
     "metadata": {},
     "output_type": "execute_result"
    }
   ],
   "source": [
    "# ensure feature 'Grade Level' is correct\n",
    "data['Grade Level'].value_counts()"
   ]
  },
  {
   "cell_type": "markdown",
   "metadata": {},
   "source": [
    "### School Name Feature"
   ]
  },
  {
   "cell_type": "code",
   "execution_count": 601,
   "metadata": {},
   "outputs": [
    {
     "data": {
      "text/plain": [
       "Bushwick Middle School         198\n",
       "Crown Heights Middle School    171\n",
       "Bushwick MS                      4\n",
       "Crown Hghts Middle School        3\n",
       "Name: School Name, dtype: int64"
      ]
     },
     "execution_count": 601,
     "metadata": {},
     "output_type": "execute_result"
    }
   ],
   "source": [
    "# check unique 'School Name' feature\n",
    "# --> data may have been manually inputted\n",
    "data['School Name'].value_counts()"
   ]
  },
  {
   "cell_type": "code",
   "execution_count": 602,
   "metadata": {},
   "outputs": [],
   "source": [
    "# convert 'Brushwick MS -> Bushwick Middle School'\n",
    "# convert 'Crown Hghts Middle School -> Crown Heights Middle School'\n",
    "\n",
    "replace_lst = ['Bushwick MS', 'Crown Hghts Middle School']\n",
    "value_lst = ['Bushwick Middle School', 'Crown Heights Middle School']\n",
    "\n",
    "data['School Name'].replace(to_replace=replace_lst, value=value_lst, inplace=True)"
   ]
  },
  {
   "cell_type": "code",
   "execution_count": 603,
   "metadata": {},
   "outputs": [
    {
     "data": {
      "text/plain": [
       "Bushwick Middle School         202\n",
       "Crown Heights Middle School    174\n",
       "Name: School Name, dtype: int64"
      ]
     },
     "execution_count": 603,
     "metadata": {},
     "output_type": "execute_result"
    }
   ],
   "source": [
    "# ensure feature 'School Name' is correct\n",
    "data['School Name'].value_counts()"
   ]
  },
  {
   "cell_type": "markdown",
   "metadata": {},
   "source": [
    "### BOY/EOY F&P Feature"
   ]
  },
  {
   "cell_type": "code",
   "execution_count": 604,
   "metadata": {},
   "outputs": [
    {
     "name": "stdout",
     "output_type": "stream",
     "text": [
      "Percentage of missing values (BOY F&P Score):  25.79787234042553\n"
     ]
    }
   ],
   "source": [
    "# percent of missing values in 'BOY F&P Score'\n",
    "# percent of 'BOY F&P Score' data is too large to drop (about 25%)\n",
    "\n",
    "print('Percentage of missing values (BOY F&P Score): ', \n",
    "      (data['BOY F&P Score'].isnull().sum() / data.shape[0])*100)"
   ]
  },
  {
   "cell_type": "code",
   "execution_count": 605,
   "metadata": {
    "scrolled": true
   },
   "outputs": [
    {
     "name": "stdout",
     "output_type": "stream",
     "text": [
      "Percentage of missing values (EOY F&P Score):  2.6595744680851063\n"
     ]
    }
   ],
   "source": [
    "# percent of missing values in 'BOY F&P Score'\n",
    "# percent of 'EOY F&P Score' data is too large to drop (about 2%)\n",
    "\n",
    "print('Percentage of missing values (EOY F&P Score): ', \n",
    "      (data['EOY F&P Score'].isnull().sum() / data.shape[0])*100)"
   ]
  },
  {
   "cell_type": "code",
   "execution_count": 606,
   "metadata": {
    "scrolled": true
   },
   "outputs": [
    {
     "data": {
      "text/plain": [
       "<matplotlib.axes._subplots.AxesSubplot at 0x1a1b3a5e10>"
      ]
     },
     "execution_count": 606,
     "metadata": {},
     "output_type": "execute_result"
    },
    {
     "data": {
      "image/png": "[encoded data removed]",
      "text/plain": [
       "<Figure size 432x288 with 1 Axes>"
      ]
     },
     "metadata": {
      "needs_background": "light"
     },
     "output_type": "display_data"
    }
   ],
   "source": [
    "# Distribution plot of 'BOY F&P Score'\n",
    "# the distribution appears to be fairly normal (no drastic outliers),\n",
    "# as a result we can use the mean to replace null values \n",
    "\n",
    "df = data.loc[data['BOY F&P Score'].notnull(), :]\n",
    "sns.distplot(df['BOY F&P Score'])"
   ]
  },
  {
   "cell_type": "code",
   "execution_count": 607,
   "metadata": {},
   "outputs": [
    {
     "data": {
      "text/plain": [
       "<matplotlib.axes._subplots.AxesSubplot at 0x1a1b6c1710>"
      ]
     },
     "execution_count": 607,
     "metadata": {},
     "output_type": "execute_result"
    },
    {
     "data": {
      "image/png": "[encoded data removed]",
      "text/plain": [
       "<Figure size 432x288 with 1 Axes>"
      ]
     },
     "metadata": {
      "needs_background": "light"
     },
     "output_type": "display_data"
    }
   ],
   "source": [
    "# Distribution plot of 'EOY F&P Score'\n",
    "# the distribution appears to be fairly normal (no drastic outliers),\n",
    "# as a result we can use the mean to replace null values \n",
    "\n",
    "df = data.loc[data['EOY F&P Score'].notnull(), :]\n",
    "sns.distplot(df['EOY F&P Score'])"
   ]
  },
  {
   "cell_type": "code",
   "execution_count": 608,
   "metadata": {
    "scrolled": true
   },
   "outputs": [
    {
     "data": {
      "text/plain": [
       "Grade Level  School Name                \n",
       "5            Bushwick Middle School         10.868132\n",
       "             Crown Heights Middle School    13.155844\n",
       "6            Bushwick Middle School         13.718750\n",
       "             Crown Heights Middle School    18.066667\n",
       "Name: BOY F&P Score, dtype: float64"
      ]
     },
     "execution_count": 608,
     "metadata": {},
     "output_type": "execute_result"
    }
   ],
   "source": [
    "# Obtaining the mean 'BOY F&P Score' per 'Grade Level' feature\n",
    "data.groupby(['Grade Level', 'School Name'])['BOY F&P Score'].mean()"
   ]
  },
  {
   "cell_type": "code",
   "execution_count": 609,
   "metadata": {},
   "outputs": [
    {
     "data": {
      "text/plain": [
       "Grade Level  School Name                \n",
       "5            Bushwick Middle School         11.0\n",
       "             Crown Heights Middle School    13.0\n",
       "6            Bushwick Middle School         14.0\n",
       "             Crown Heights Middle School    18.0\n",
       "Name: BOY F&P Score, dtype: float64"
      ]
     },
     "execution_count": 609,
     "metadata": {},
     "output_type": "execute_result"
    }
   ],
   "source": [
    "# Obtaining the median 'BOY F&P Score' per 'Grade Level' feature\n",
    "data.groupby(['Grade Level', 'School Name'])['BOY F&P Score'].median()"
   ]
  },
  {
   "cell_type": "code",
   "execution_count": 610,
   "metadata": {},
   "outputs": [
    {
     "data": {
      "text/plain": [
       "Grade Level  School Name                \n",
       "5            Bushwick Middle School         13.580645\n",
       "             Crown Heights Middle School    14.828947\n",
       "6            Bushwick Middle School         17.854369\n",
       "             Crown Heights Middle School    18.829787\n",
       "Name: EOY F&P Score, dtype: float64"
      ]
     },
     "execution_count": 610,
     "metadata": {},
     "output_type": "execute_result"
    }
   ],
   "source": [
    "# Obtaining the mean 'EOY F&P Score' per 'Grade Level' feature\n",
    "data.groupby(['Grade Level', 'School Name'])['EOY F&P Score'].mean()"
   ]
  },
  {
   "cell_type": "code",
   "execution_count": 611,
   "metadata": {
    "scrolled": false
   },
   "outputs": [
    {
     "data": {
      "text/plain": [
       "Grade Level  School Name                \n",
       "5            Bushwick Middle School         14.0\n",
       "             Crown Heights Middle School    15.0\n",
       "6            Bushwick Middle School         18.0\n",
       "             Crown Heights Middle School    19.0\n",
       "Name: EOY F&P Score, dtype: float64"
      ]
     },
     "execution_count": 611,
     "metadata": {},
     "output_type": "execute_result"
    }
   ],
   "source": [
    "# Obtaining the median 'EOY F&P Score' per 'Grade Level' feature\n",
    "data.groupby(['Grade Level', 'School Name'])['EOY F&P Score'].median()"
   ]
  },
  {
   "cell_type": "code",
   "execution_count": 612,
   "metadata": {},
   "outputs": [],
   "source": [
    "# Since there is not a significant difference in value \n",
    "# for the mean and median for both the 'BOY F&P Score' \n",
    "# and the 'EOY F&P Score', I will use the median as the \n",
    "# replacement test statistic.  Additionally, I chose the \n",
    "# median because the values are in the format of \n",
    "# XX.0 float type for both columns."
   ]
  },
  {
   "cell_type": "code",
   "execution_count": 613,
   "metadata": {},
   "outputs": [],
   "source": [
    "# replace 'BOY F&P Score' and 'EOY F&P Score' null values\n",
    "# with their respective median value by 'Grade Level' and 'School Name'"
   ]
  },
  {
   "cell_type": "code",
   "execution_count": 614,
   "metadata": {},
   "outputs": [],
   "source": [
    "gl5_BMS_median_BOY = data.loc[(data['Grade Level']==5)&(data['School Name']=='Bushwick Middle School'),\n",
    "                          'BOY F&P Score'].median()\n",
    "# gl5_BMS_median_BOY -- > 11.0\n",
    "\n",
    "data.loc[(data['Grade Level']==5)&(data['School Name']=='Bushwick Middle School')\n",
    "         &(data['BOY F&P Score'].isnull()), 'BOY F&P Score'] = gl5_BMS_median_BOY"
   ]
  },
  {
   "cell_type": "code",
   "execution_count": 615,
   "metadata": {},
   "outputs": [],
   "source": [
    "gl5_BMS_median_EOY = data.loc[(data['Grade Level']==5)&(data['School Name']=='Bushwick Middle School'),\n",
    "                          'EOY F&P Score'].median()\n",
    "# gl5_BMS_median_EOY -- > 14.0\n",
    "\n",
    "data.loc[(data['Grade Level']==5)&(data['School Name']=='Bushwick Middle School')\n",
    "         &(data['EOY F&P Score'].isnull()), 'EOY F&P Score'] = gl5_BMS_median_EOY"
   ]
  },
  {
   "cell_type": "code",
   "execution_count": 616,
   "metadata": {},
   "outputs": [],
   "source": [
    "gl5_CHMS_median_BOY = data.loc[(data['Grade Level']==5)&(data['School Name']=='Crown Heights Middle School'),\n",
    "                          'BOY F&P Score'].median()\n",
    "# gl5_CHMS_median_BOY -- > 13.0\n",
    "\n",
    "data.loc[(data['Grade Level']==5)&(data['School Name']=='Crown Heights Middle School')\n",
    "         &(data['BOY F&P Score'].isnull()), 'BOY F&P Score'] = gl5_CHMS_median_BOY"
   ]
  },
  {
   "cell_type": "code",
   "execution_count": 617,
   "metadata": {},
   "outputs": [],
   "source": [
    "gl5_CHMS_median_EOY = data.loc[(data['Grade Level']==5)&(data['School Name']=='Crown Heights Middle School'),\n",
    "                          'EOY F&P Score'].median()\n",
    "# gl5_CHMS_median_EOY -- > 13.0\n",
    "\n",
    "data.loc[(data['Grade Level']==5)&(data['School Name']=='Crown Heights Middle School')\n",
    "         &(data['EOY F&P Score'].isnull()), 'EOY F&P Score'] = gl5_CHMS_median_EOY"
   ]
  },
  {
   "cell_type": "code",
   "execution_count": 618,
   "metadata": {},
   "outputs": [],
   "source": [
    "gl6_BMS_median_BOY = data.loc[(data['Grade Level']==6)&(data['School Name']=='Bushwick Middle School'),\n",
    "                          'BOY F&P Score'].median()\n",
    "# gl6_BMS_median_BOY -- > 14.0\n",
    "\n",
    "data.loc[(data['Grade Level']==6)&(data['School Name']=='Bushwick Middle School')\n",
    "         &(data['BOY F&P Score'].isnull()), 'BOY F&P Score'] = gl6_BMS_median_BOY"
   ]
  },
  {
   "cell_type": "code",
   "execution_count": 619,
   "metadata": {},
   "outputs": [],
   "source": [
    "gl6_BMS_median_EOY = data.loc[(data['Grade Level']==6)&(data['School Name']=='Bushwick Middle School'),\n",
    "                          'EOY F&P Score'].median()\n",
    "# gl6_BMS_median_EOY -- > 18.0\n",
    "\n",
    "data.loc[(data['Grade Level']==6)&(data['School Name']=='Bushwick Middle School')\n",
    "         &(data['EOY F&P Score'].isnull()), 'EOY F&P Score'] = gl6_BMS_median_EOY"
   ]
  },
  {
   "cell_type": "code",
   "execution_count": 620,
   "metadata": {},
   "outputs": [],
   "source": [
    "gl6_CHMS_median_BOY = data.loc[(data['Grade Level']==6)&(data['School Name']=='Crown Heights Middle School'),\n",
    "                          'BOY F&P Score'].median()\n",
    "# gl6_CHMS_median_BOY -- > 14.0\n",
    "\n",
    "data.loc[(data['Grade Level']==6)&(data['School Name']=='Crown Heights Middle School')\n",
    "         &(data['BOY F&P Score'].isnull()), 'BOY F&P Score'] = gl6_CHMS_median_BOY"
   ]
  },
  {
   "cell_type": "code",
   "execution_count": 621,
   "metadata": {},
   "outputs": [],
   "source": [
    "gl6_CHMS_median_EOY = data.loc[(data['Grade Level']==6)&(data['School Name']=='Crown Heights Middle School'),\n",
    "                          'EOY F&P Score'].median()\n",
    "# gl6_CHMS_median_EOY -- > 19.0\n",
    "\n",
    "data.loc[(data['Grade Level']==6)&(data['School Name']=='Crown Heights Middle School')\n",
    "         &(data['EOY F&P Score'].isnull()), 'EOY F&P Score'] = gl6_CHMS_median_EOY"
   ]
  },
  {
   "cell_type": "code",
   "execution_count": 622,
   "metadata": {},
   "outputs": [
    {
     "data": {
      "text/plain": [
       "Student ID       0\n",
       "School Name      0\n",
       "Grade Level      0\n",
       "BOY F&P Score    0\n",
       "EOY F&P Score    0\n",
       "dtype: int64"
      ]
     },
     "execution_count": 622,
     "metadata": {},
     "output_type": "execute_result"
    }
   ],
   "source": [
    "data.isnull().sum()"
   ]
  },
  {
   "cell_type": "markdown",
   "metadata": {},
   "source": [
    "# Feature Engineering "
   ]
  },
  {
   "cell_type": "code",
   "execution_count": 623,
   "metadata": {},
   "outputs": [],
   "source": [
    "# include the additional feature of 'Proficiency Level'\n",
    "# 4th Grade EOY / 5th Grade BOY: Remedial (1-9), Below Proficient (10-11), Proficient (12-13), Advanced (14+)\n",
    "# 5th Grade EOY / 6th Grade BOY: Remedial (1-11), Below Proficient (12-13), Proficient (14-15), Advanced (16+)\n",
    "# 6th Grade EOY / 7th Grade BOY: Remedial (1-13), Belwo Proficient (14-15), Proficient (16-17), Advanced (18+)\n",
    "\n",
    "# Relevant for our dataset:\n",
    "# - 5th Grade BOY: Remedial (1-9), Below Proficient (10-11), Proficient (12-13), Advanced (14+)\n",
    "# - 5th Grade EOY: Remedial (1-11), Below Proficient (12-13), Proficient (14-15), Advanced (16+)\n",
    "# - 6th Grade BOY: Remedial (1-11), Below Proficient (12-13), Proficient (14-15), Advanced (16+)\n",
    "# - 6th Grade EOY: Remedial (1-13), Below Proficient (14-15), Proficient (16-17), Advanced (18+)"
   ]
  },
  {
   "cell_type": "code",
   "execution_count": 624,
   "metadata": {},
   "outputs": [],
   "source": [
    "# Defined two functions:\n",
    "# - one for BOY for both 5/6 grade level\n",
    "# - one for EOY for both 5/6 grade level\n",
    "\n",
    "def BOY_Prof(row):\n",
    "    if row['Grade Level'] == 5:\n",
    "        if (row['BOY F&P Score']>0) & (row['BOY F&P Score']<=9):\n",
    "            return 'Remedial'\n",
    "        elif (row['BOY F&P Score']>9) & (row['BOY F&P Score']<=11):\n",
    "            return 'Below Proficient'\n",
    "        elif (row['BOY F&P Score']>11) & (row['BOY F&P Score']<=13):\n",
    "            return 'Proficient'\n",
    "        else:\n",
    "            return 'Advanced'\n",
    "    elif row['Grade Level'] == 6:\n",
    "        if (row['BOY F&P Score']>0) & (row['BOY F&P Score']<=11):\n",
    "            return 'Remedial'\n",
    "        elif (row['BOY F&P Score']>11) & (row['BOY F&P Score']<=13):\n",
    "            return 'Below Proficient'\n",
    "        elif (row['BOY F&P Score']>13) & (row['BOY F&P Score']<=15):\n",
    "            return 'Proficient'\n",
    "        else:\n",
    "            return 'Advanced'\n",
    "    else:\n",
    "        return np.NaN\n",
    "    \n",
    "def EOY_Prof(row):\n",
    "    if row['Grade Level'] == 5:\n",
    "        if (row['EOY F&P Score']>0) & (row['EOY F&P Score']<=11):\n",
    "            return 'Remedial'\n",
    "        elif (row['EOY F&P Score']>11) & (row['EOY F&P Score']<=13):\n",
    "            return 'Below Proficient'\n",
    "        elif (row['EOY F&P Score']>13) & (row['EOY F&P Score']<=15):\n",
    "            return 'Proficient'\n",
    "        else:\n",
    "            return 'Advanced'\n",
    "    elif row['Grade Level'] == 6:\n",
    "        if (row['EOY F&P Score']>0) & (row['EOY F&P Score']<=13):\n",
    "            return 'Remedial'\n",
    "        elif (row['EOY F&P Score']>13) & (row['EOY F&P Score']<=15):\n",
    "            return 'Below Proficient'\n",
    "        elif (row['EOY F&P Score']>15) & (row['EOY F&P Score']<=17):\n",
    "            return 'Proficient'\n",
    "        else:\n",
    "            return 'Advanced'\n",
    "    else:\n",
    "        return np.NaN"
   ]
  },
  {
   "cell_type": "code",
   "execution_count": 625,
   "metadata": {},
   "outputs": [],
   "source": [
    "data['BOY Proficiency'] = data.apply(func=BOY_Prof, axis=1)\n",
    "data['EOY Proficiency'] = data.apply(func=EOY_Prof, axis=1)"
   ]
  },
  {
   "cell_type": "code",
   "execution_count": 626,
   "metadata": {
    "scrolled": true
   },
   "outputs": [
    {
     "data": {
      "text/html": [
       "<div>\n",
       "<style scoped>\n",
       "    .dataframe tbody tr th:only-of-type {\n",
       "        vertical-align: middle;\n",
       "    }\n",
       "\n",
       "    .dataframe tbody tr th {\n",
       "        vertical-align: top;\n",
       "    }\n",
       "\n",
       "    .dataframe thead th {\n",
       "        text-align: right;\n",
       "    }\n",
       "</style>\n",
       "<table border=\"1\" class=\"dataframe\">\n",
       "  <thead>\n",
       "    <tr style=\"text-align: right;\">\n",
       "      <th></th>\n",
       "      <th>Student ID</th>\n",
       "      <th>School Name</th>\n",
       "      <th>Grade Level</th>\n",
       "      <th>BOY F&amp;P Score</th>\n",
       "      <th>EOY F&amp;P Score</th>\n",
       "      <th>BOY Proficiency</th>\n",
       "      <th>EOY Proficiency</th>\n",
       "    </tr>\n",
       "  </thead>\n",
       "  <tbody>\n",
       "    <tr>\n",
       "      <th>0</th>\n",
       "      <td>10000001</td>\n",
       "      <td>Bushwick Middle School</td>\n",
       "      <td>5</td>\n",
       "      <td>11.0</td>\n",
       "      <td>16.0</td>\n",
       "      <td>Below Proficient</td>\n",
       "      <td>Advanced</td>\n",
       "    </tr>\n",
       "    <tr>\n",
       "      <th>1</th>\n",
       "      <td>10000002</td>\n",
       "      <td>Bushwick Middle School</td>\n",
       "      <td>5</td>\n",
       "      <td>11.0</td>\n",
       "      <td>16.0</td>\n",
       "      <td>Below Proficient</td>\n",
       "      <td>Advanced</td>\n",
       "    </tr>\n",
       "    <tr>\n",
       "      <th>2</th>\n",
       "      <td>10000003</td>\n",
       "      <td>Crown Heights Middle School</td>\n",
       "      <td>5</td>\n",
       "      <td>11.0</td>\n",
       "      <td>16.0</td>\n",
       "      <td>Below Proficient</td>\n",
       "      <td>Advanced</td>\n",
       "    </tr>\n",
       "    <tr>\n",
       "      <th>3</th>\n",
       "      <td>10000004</td>\n",
       "      <td>Bushwick Middle School</td>\n",
       "      <td>5</td>\n",
       "      <td>11.0</td>\n",
       "      <td>16.0</td>\n",
       "      <td>Below Proficient</td>\n",
       "      <td>Advanced</td>\n",
       "    </tr>\n",
       "    <tr>\n",
       "      <th>4</th>\n",
       "      <td>10000005</td>\n",
       "      <td>Bushwick Middle School</td>\n",
       "      <td>5</td>\n",
       "      <td>11.0</td>\n",
       "      <td>14.0</td>\n",
       "      <td>Below Proficient</td>\n",
       "      <td>Proficient</td>\n",
       "    </tr>\n",
       "  </tbody>\n",
       "</table>\n",
       "</div>"
      ],
      "text/plain": [
       "   Student ID                  School Name  Grade Level  BOY F&P Score  \\\n",
       "0    10000001       Bushwick Middle School            5           11.0   \n",
       "1    10000002       Bushwick Middle School            5           11.0   \n",
       "2    10000003  Crown Heights Middle School            5           11.0   \n",
       "3    10000004       Bushwick Middle School            5           11.0   \n",
       "4    10000005       Bushwick Middle School            5           11.0   \n",
       "\n",
       "   EOY F&P Score   BOY Proficiency EOY Proficiency  \n",
       "0           16.0  Below Proficient        Advanced  \n",
       "1           16.0  Below Proficient        Advanced  \n",
       "2           16.0  Below Proficient        Advanced  \n",
       "3           16.0  Below Proficient        Advanced  \n",
       "4           14.0  Below Proficient      Proficient  "
      ]
     },
     "execution_count": 626,
     "metadata": {},
     "output_type": "execute_result"
    }
   ],
   "source": [
    "data.head()"
   ]
  },
  {
   "cell_type": "code",
   "execution_count": 627,
   "metadata": {},
   "outputs": [
    {
     "data": {
      "text/plain": [
       "Student ID         0\n",
       "School Name        0\n",
       "Grade Level        0\n",
       "BOY F&P Score      0\n",
       "EOY F&P Score      0\n",
       "BOY Proficiency    0\n",
       "EOY Proficiency    0\n",
       "dtype: int64"
      ]
     },
     "execution_count": 627,
     "metadata": {},
     "output_type": "execute_result"
    }
   ],
   "source": [
    "data.isnull().sum()"
   ]
  },
  {
   "cell_type": "markdown",
   "metadata": {},
   "source": [
    "# Exploratory Data Analysis"
   ]
  },
  {
   "cell_type": "markdown",
   "metadata": {},
   "source": [
    "Note: the analysis below included the replacement of null values with the median test statistic for both the 'BOY F&P Score' and 'EOY F&P Score'.  The null scores accounted for about 25% of all scores, which was too significant to drop.  This could be the reason why for ex) Crown Heights Proficiency levels decrease from BOY to EOY.  My assumption is that kids may have joined mid school year and did not receive an initial BOY F&P Score."
   ]
  },
  {
   "cell_type": "markdown",
   "metadata": {},
   "source": [
    "### BOY/EOY Analysis"
   ]
  },
  {
   "cell_type": "code",
   "execution_count": 628,
   "metadata": {},
   "outputs": [],
   "source": [
    "# barplot displaying the 'BOY F&P Scores' with respect to 'School Name' and 'Grade Level'\n",
    "\n",
    "# It appears that Bushwick Middle School has a lowered BOY F&P Score for both\n",
    "# Grades 5th and 6th when compared to Crown Heights Middle School. \n",
    "\n",
    "# Bushwick Middle School\n",
    "\n",
    "#               BOY F&P Scores:   EOY F&P Scores:   Increase:\n",
    "# 5th Graders:  10.876289         13.597938         2.721649\n",
    "# 6th Graders:  13.742857         17.857143         4.114286\n",
    "\n",
    "# Crown Heights Middle School\n",
    "\n",
    "#               BOY F&P Scores:   EOY F&P Scores:   Increase:\n",
    "# 5th Graders:  13.150000         14.837500         1.6875\n",
    "# 6th Graders:  18.010638         18.829787         0.826862\n",
    "\n",
    "# Interestingly enough, the 5th graders at Crown Heights Middle School \n",
    "# are practically at the same reading level as the 6th graders at Bushwick Middle School in the BOY. \n",
    "# The 6th graders at Bushwick Middle School have a slightly raised BOY F&P Score than the 5th graders \n",
    "# at Crown Heights Middle School. This is to be expected since the grade level is higher, but \n",
    "# the BOY Scores are so close in value with only a difference of 0.592857.\n",
    "\n",
    "# What is interesting about this data is that although the Crown Heights Middle Schoolers are starting \n",
    "# off at a higher F&P Score in the BOY, they did not progress as significantly as the Bushwick Middle \n",
    "# Schoolers.  On the other hand, since Bushwick Middle Schoolers did begin the year at a lower F&P Score \n",
    "# there was a lot of room for improvement. \n",
    "\n",
    "# NOTE: replacement of null values may have affected these results. \n"
   ]
  },
  {
   "cell_type": "code",
   "execution_count": 629,
   "metadata": {
    "scrolled": false
   },
   "outputs": [
    {
     "data": {
      "image/png": "[encoded data removed]",
      "text/plain": [
       "<Figure size 1440x720 with 2 Axes>"
      ]
     },
     "metadata": {
      "needs_background": "light"
     },
     "output_type": "display_data"
    }
   ],
   "source": [
    "plt.figure(figsize=(20,10))\n",
    "plt.subplot(1,2,1)\n",
    "plt.title('BOY F&P Score vs. School Name')\n",
    "sns.barplot(x='School Name', y='BOY F&P Score', hue='Grade Level', data=data)\n",
    "\n",
    "plt.subplot(1,2,2)\n",
    "plt.title('EOY F&P Score vs. School Name')\n",
    "sns.barplot(x='School Name', y='EOY F&P Score', hue='Grade Level', data=data)\n",
    "\n",
    "plt.subplots_adjust(wspace = 0.3, hspace = 0.3);"
   ]
  },
  {
   "cell_type": "code",
   "execution_count": 630,
   "metadata": {},
   "outputs": [
    {
     "data": {
      "text/plain": [
       "School Name                  Grade Level\n",
       "Bushwick Middle School       5              10.876289\n",
       "                             6              13.742857\n",
       "Crown Heights Middle School  5              13.150000\n",
       "                             6              18.010638\n",
       "Name: BOY F&P Score, dtype: float64"
      ]
     },
     "execution_count": 630,
     "metadata": {},
     "output_type": "execute_result"
    }
   ],
   "source": [
    "data.groupby(['School Name', 'Grade Level'])['BOY F&P Score'].mean()"
   ]
  },
  {
   "cell_type": "code",
   "execution_count": 631,
   "metadata": {
    "scrolled": true
   },
   "outputs": [
    {
     "data": {
      "text/plain": [
       "School Name                  Grade Level\n",
       "Bushwick Middle School       5              13.597938\n",
       "                             6              17.857143\n",
       "Crown Heights Middle School  5              14.837500\n",
       "                             6              18.829787\n",
       "Name: EOY F&P Score, dtype: float64"
      ]
     },
     "execution_count": 631,
     "metadata": {},
     "output_type": "execute_result"
    }
   ],
   "source": [
    "data.groupby(['School Name', 'Grade Level'])['EOY F&P Score'].mean()"
   ]
  },
  {
   "cell_type": "markdown",
   "metadata": {},
   "source": [
    "### Bushwick Proficiency Analysis"
   ]
  },
  {
   "cell_type": "code",
   "execution_count": 632,
   "metadata": {},
   "outputs": [],
   "source": [
    "# countplot of Bushwick MS 'BOY Proficiency' with repsect to 'Grade Level'\n",
    "\n",
    "# Bushwick Middle School\n",
    "\n",
    "# BOY Proficieny  -   Remedial:     Below Proficient:   Proficient:    Advanced:\n",
    "# 5th Graders:        16/97 - 16%   47/97 - 48%         23/97 - 23%    11/97 - 11%\n",
    "# 6th Graders:        9/105 - 8%    32/105 - 30%        49/105 - 46%   15/105 - 14%\n",
    "\n",
    "# EOY Proficiency -  Remedial:      Below Proficient:   Proficient:    Advanced:\n",
    "# 5th Graders:       18/97 - 18%    24/97 - 24%         39/97 - 40%    16/97 - 16%\n",
    "# 6th Graders:       2/105 - 2%     12/105 - 11%        26/105 - 24%   65/105 - 61%\n",
    "\n",
    "# Difference -      Remedial:     Below Proficient:   Proficient:    Advanced:\n",
    "# 5th Graders:       +2%           -24%                +17%           +5%\n",
    "# 6th Graders:       -6%           -19%                - 22%          +47%"
   ]
  },
  {
   "cell_type": "code",
   "execution_count": 633,
   "metadata": {},
   "outputs": [
    {
     "data": {
      "image/png": "[encoded data removed]",
      "text/plain": [
       "<Figure size 1440x720 with 2 Axes>"
      ]
     },
     "metadata": {
      "needs_background": "light"
     },
     "output_type": "display_data"
    }
   ],
   "source": [
    "bushwick = data.loc[data['School Name']=='Bushwick Middle School',:]\n",
    "\n",
    "plt.figure(figsize=(20,10))\n",
    "plt.subplot(1,2,1)\n",
    "plt.title('Bushwick MS: BOY Proficiency')\n",
    "sns.countplot(x='BOY Proficiency', hue='Grade Level',\n",
    "            order=['Remedial','Below Proficient', 'Proficient', 'Advanced'],\n",
    "            data=bushwick)\n",
    "\n",
    "plt.subplot(1,2,2)\n",
    "plt.title('Bushwick MS: EOY Proficiency')\n",
    "sns.countplot(x='EOY Proficiency', hue='Grade Level',\n",
    "            order=['Remedial','Below Proficient', 'Proficient', 'Advanced'],\n",
    "            data=bushwick);\n",
    "\n",
    "plt.subplots_adjust(wspace = 0.3, hspace = 0.3)"
   ]
  },
  {
   "cell_type": "code",
   "execution_count": 634,
   "metadata": {
    "scrolled": false
   },
   "outputs": [
    {
     "data": {
      "text/plain": [
       "Grade Level  BOY Proficiency \n",
       "5            Below Proficient    47\n",
       "             Proficient          23\n",
       "             Remedial            16\n",
       "             Advanced            11\n",
       "6            Proficient          49\n",
       "             Below Proficient    32\n",
       "             Advanced            15\n",
       "             Remedial             9\n",
       "Name: BOY Proficiency, dtype: int64"
      ]
     },
     "execution_count": 634,
     "metadata": {},
     "output_type": "execute_result"
    }
   ],
   "source": [
    "bush.groupby('Grade Level')['BOY Proficiency'].value_counts()"
   ]
  },
  {
   "cell_type": "code",
   "execution_count": 635,
   "metadata": {},
   "outputs": [
    {
     "data": {
      "text/plain": [
       "Grade Level  EOY Proficiency \n",
       "5            Proficient          39\n",
       "             Below Proficient    24\n",
       "             Remedial            18\n",
       "             Advanced            16\n",
       "6            Advanced            65\n",
       "             Proficient          26\n",
       "             Below Proficient    12\n",
       "             Remedial             2\n",
       "Name: EOY Proficiency, dtype: int64"
      ]
     },
     "execution_count": 635,
     "metadata": {},
     "output_type": "execute_result"
    }
   ],
   "source": [
    "bush.groupby('Grade Level')['EOY Proficiency'].value_counts()"
   ]
  },
  {
   "cell_type": "markdown",
   "metadata": {},
   "source": [
    "### Crown Heights Proficiency Analysis"
   ]
  },
  {
   "cell_type": "code",
   "execution_count": 636,
   "metadata": {},
   "outputs": [],
   "source": [
    "# countplot of Crown Heights MS 'BOY Proficiency' with repsect to 'Grade Level'\n",
    "\n",
    "# Crown Heights Middle School\n",
    "\n",
    "# BOY Proficieny  -   Remedial:     Below Proficient:   Proficient:    Advanced:\n",
    "# 5th Graders:        3/80 - 3%     9/80 - 11%          34/80 - 43%    34/80 - 43%\n",
    "# 6th Graders:        0/94 - 0%     0/94 - 0%           2/94 - 2%      92/94 - 97%\n",
    "\n",
    "# EOY Proficiency -  Remedial:      Below Proficient:   Proficient:    Advanced:\n",
    "# 5th Graders:       4/80 - 5%      15/80 - 19%         35/80 - 44%    26/80 - 32%\n",
    "# 6th Graders:       1/94 - 1%      4/94 - 4%           17/94 - 18%    72/94 - 76%\n",
    "\n",
    "# Difference -      Remedial:     Below Proficient:   Proficient:    Advanced:\n",
    "# 5th Graders:       -2%           +8%                 +1%            -11%\n",
    "# 6th Graders:       +1%           +4%                 +12%           -21%\n",
    "\n",
    "# NOTE: replacement of null values may have affected these results.\n"
   ]
  },
  {
   "cell_type": "code",
   "execution_count": 637,
   "metadata": {},
   "outputs": [
    {
     "data": {
      "image/png": "[encoded data removed]",
      "text/plain": [
       "<Figure size 1440x720 with 2 Axes>"
      ]
     },
     "metadata": {
      "needs_background": "light"
     },
     "output_type": "display_data"
    }
   ],
   "source": [
    "crown = data.loc[data['School Name']=='Crown Heights Middle School',:]\n",
    "\n",
    "plt.figure(figsize=(20,10))\n",
    "plt.subplot(1,2,1)\n",
    "plt.title('Crown Heights MS: BOY Proficiency')\n",
    "sns.countplot(x='BOY Proficiency', hue='Grade Level',\n",
    "            order=['Remedial','Below Proficient', 'Proficient', 'Advanced'],\n",
    "            data=crown)\n",
    "\n",
    "plt.subplot(1,2,2)\n",
    "plt.title('Crown Heights MS: EOY Proficiency')\n",
    "sns.countplot(x='EOY Proficiency', hue='Grade Level',\n",
    "            order=['Remedial','Below Proficient', 'Proficient', 'Advanced'],\n",
    "            data=crown)\n",
    "\n",
    "plt.subplots_adjust(wspace = 0.3, hspace = 0.3);"
   ]
  },
  {
   "cell_type": "code",
   "execution_count": 638,
   "metadata": {},
   "outputs": [
    {
     "data": {
      "text/plain": [
       "Grade Level  BOY Proficiency \n",
       "5            Advanced            34\n",
       "             Proficient          34\n",
       "             Below Proficient     9\n",
       "             Remedial             3\n",
       "6            Advanced            92\n",
       "             Proficient           2\n",
       "Name: BOY Proficiency, dtype: int64"
      ]
     },
     "execution_count": 638,
     "metadata": {},
     "output_type": "execute_result"
    }
   ],
   "source": [
    "crown.groupby('Grade Level')['BOY Proficiency'].value_counts()"
   ]
  },
  {
   "cell_type": "code",
   "execution_count": 639,
   "metadata": {},
   "outputs": [
    {
     "data": {
      "text/plain": [
       "Grade Level  EOY Proficiency \n",
       "5            Proficient          35\n",
       "             Advanced            26\n",
       "             Below Proficient    15\n",
       "             Remedial             4\n",
       "6            Advanced            72\n",
       "             Proficient          17\n",
       "             Below Proficient     4\n",
       "             Remedial             1\n",
       "Name: EOY Proficiency, dtype: int64"
      ]
     },
     "execution_count": 639,
     "metadata": {},
     "output_type": "execute_result"
    }
   ],
   "source": [
    "crown.groupby('Grade Level')['EOY Proficiency'].value_counts()"
   ]
  },
  {
   "cell_type": "code",
   "execution_count": 640,
   "metadata": {},
   "outputs": [
    {
     "data": {
      "text/html": [
       "<div>\n",
       "<style scoped>\n",
       "    .dataframe tbody tr th:only-of-type {\n",
       "        vertical-align: middle;\n",
       "    }\n",
       "\n",
       "    .dataframe tbody tr th {\n",
       "        vertical-align: top;\n",
       "    }\n",
       "\n",
       "    .dataframe thead th {\n",
       "        text-align: right;\n",
       "    }\n",
       "</style>\n",
       "<table border=\"1\" class=\"dataframe\">\n",
       "  <thead>\n",
       "    <tr style=\"text-align: right;\">\n",
       "      <th></th>\n",
       "      <th>Student ID</th>\n",
       "      <th>School Name</th>\n",
       "      <th>Grade Level</th>\n",
       "      <th>BOY F&amp;P Score</th>\n",
       "      <th>EOY F&amp;P Score</th>\n",
       "      <th>BOY Proficiency</th>\n",
       "      <th>EOY Proficiency</th>\n",
       "    </tr>\n",
       "  </thead>\n",
       "  <tbody>\n",
       "    <tr>\n",
       "      <th>0</th>\n",
       "      <td>10000001</td>\n",
       "      <td>Bushwick Middle School</td>\n",
       "      <td>5</td>\n",
       "      <td>11.0</td>\n",
       "      <td>16.0</td>\n",
       "      <td>Below Proficient</td>\n",
       "      <td>Advanced</td>\n",
       "    </tr>\n",
       "    <tr>\n",
       "      <th>1</th>\n",
       "      <td>10000002</td>\n",
       "      <td>Bushwick Middle School</td>\n",
       "      <td>5</td>\n",
       "      <td>11.0</td>\n",
       "      <td>16.0</td>\n",
       "      <td>Below Proficient</td>\n",
       "      <td>Advanced</td>\n",
       "    </tr>\n",
       "    <tr>\n",
       "      <th>2</th>\n",
       "      <td>10000003</td>\n",
       "      <td>Crown Heights Middle School</td>\n",
       "      <td>5</td>\n",
       "      <td>11.0</td>\n",
       "      <td>16.0</td>\n",
       "      <td>Below Proficient</td>\n",
       "      <td>Advanced</td>\n",
       "    </tr>\n",
       "    <tr>\n",
       "      <th>3</th>\n",
       "      <td>10000004</td>\n",
       "      <td>Bushwick Middle School</td>\n",
       "      <td>5</td>\n",
       "      <td>11.0</td>\n",
       "      <td>16.0</td>\n",
       "      <td>Below Proficient</td>\n",
       "      <td>Advanced</td>\n",
       "    </tr>\n",
       "    <tr>\n",
       "      <th>4</th>\n",
       "      <td>10000005</td>\n",
       "      <td>Bushwick Middle School</td>\n",
       "      <td>5</td>\n",
       "      <td>11.0</td>\n",
       "      <td>14.0</td>\n",
       "      <td>Below Proficient</td>\n",
       "      <td>Proficient</td>\n",
       "    </tr>\n",
       "  </tbody>\n",
       "</table>\n",
       "</div>"
      ],
      "text/plain": [
       "   Student ID                  School Name  Grade Level  BOY F&P Score  \\\n",
       "0    10000001       Bushwick Middle School            5           11.0   \n",
       "1    10000002       Bushwick Middle School            5           11.0   \n",
       "2    10000003  Crown Heights Middle School            5           11.0   \n",
       "3    10000004       Bushwick Middle School            5           11.0   \n",
       "4    10000005       Bushwick Middle School            5           11.0   \n",
       "\n",
       "   EOY F&P Score   BOY Proficiency EOY Proficiency  \n",
       "0           16.0  Below Proficient        Advanced  \n",
       "1           16.0  Below Proficient        Advanced  \n",
       "2           16.0  Below Proficient        Advanced  \n",
       "3           16.0  Below Proficient        Advanced  \n",
       "4           14.0  Below Proficient      Proficient  "
      ]
     },
     "execution_count": 640,
     "metadata": {},
     "output_type": "execute_result"
    }
   ],
   "source": [
    "data.head()"
   ]
  },
  {
   "cell_type": "code",
   "execution_count": null,
   "metadata": {},
   "outputs": [],
   "source": []
  }
 ],
 "metadata": {
  "kernelspec": {
   "display_name": "Python 3",
   "language": "python",
   "name": "python3"
  },
  "language_info": {
   "codemirror_mode": {
    "name": "ipython",
    "version": 3
   },
   "file_extension": ".py",
   "mimetype": "text/x-python",
   "name": "python",
   "nbconvert_exporter": "python",
   "pygments_lexer": "ipython3",
   "version": "3.7.3"
  }
 },
 "nbformat": 4,
 "nbformat_minor": 2
}
