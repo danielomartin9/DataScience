{
 "cells": [
  {
   "cell_type": "code",
   "execution_count": 1268,
   "metadata": {},
   "outputs": [],
   "source": [
    "import os\n",
    "import re\n",
    "import pandas as pd\n",
    "import numpy as np\n",
    "import seaborn as sns\n",
    "import matplotlib.pyplot as plt\n",
    "\n",
    "%matplotlib inline"
   ]
  },
  {
   "cell_type": "markdown",
   "metadata": {},
   "source": [
    "## Pre-Processing Data"
   ]
  },
  {
   "cell_type": "code",
   "execution_count": 1269,
   "metadata": {},
   "outputs": [],
   "source": [
    "# absolute path to retrieve test files\n",
    "path=os.path.abspath(\"Coding Challenges/Samsara/GPS Test Data/\")"
   ]
  },
  {
   "cell_type": "code",
   "execution_count": 1270,
   "metadata": {
    "scrolled": true
   },
   "outputs": [
    {
     "data": {
      "text/plain": [
       "['LI5-1843685M',\n",
       " 'LI5-1834230M',\n",
       " 'LI5-1843682M',\n",
       " 'LI5-1843681M',\n",
       " 'LI5-1834411M',\n",
       " 'LI5-1834871M']"
      ]
     },
     "execution_count": 1270,
     "metadata": {},
     "output_type": "execute_result"
    }
   ],
   "source": [
    "# list of data files within GPS Test Data folder\n",
    "all_files=os.listdir(path)\n",
    "data_folders=[folder for folder in all_files if folder[0]!='.']\n",
    "data_folders"
   ]
  },
  {
   "cell_type": "code",
   "execution_count": 1271,
   "metadata": {},
   "outputs": [
    {
     "data": {
      "text/plain": [
       "2180"
      ]
     },
     "execution_count": 1271,
     "metadata": {},
     "output_type": "execute_result"
    }
   ],
   "source": [
    "# retrieve count of all .txt files with GPS Test Data\n",
    "txt_files=[]\n",
    "for root, dirs, files in os.walk(path):\n",
    "    for file in files:\n",
    "        if file.endswith(\".txt\"):\n",
    "             txt_files.append(file)\n",
    "                \n",
    "len(txt_files)"
   ]
  },
  {
   "cell_type": "code",
   "execution_count": 1272,
   "metadata": {},
   "outputs": [
    {
     "data": {
      "text/html": [
       "<div>\n",
       "<style scoped>\n",
       "    .dataframe tbody tr th:only-of-type {\n",
       "        vertical-align: middle;\n",
       "    }\n",
       "\n",
       "    .dataframe tbody tr th {\n",
       "        vertical-align: top;\n",
       "    }\n",
       "\n",
       "    .dataframe thead th {\n",
       "        text-align: right;\n",
       "    }\n",
       "</style>\n",
       "<table border=\"1\" class=\"dataframe\">\n",
       "  <thead>\n",
       "    <tr style=\"text-align: right;\">\n",
       "      <th></th>\n",
       "      <th>Date</th>\n",
       "      <th>Serial Number</th>\n",
       "      <th>Total Time</th>\n",
       "      <th>GPS Detect Time</th>\n",
       "      <th>GPS Enable Time</th>\n",
       "      <th>GPS Signal Test Time</th>\n",
       "      <th>TTFF</th>\n",
       "      <th>SNR1</th>\n",
       "      <th>SNR2</th>\n",
       "      <th>SNR3</th>\n",
       "      <th>SNR4</th>\n",
       "      <th>SNR5</th>\n",
       "      <th>SNR6</th>\n",
       "      <th>SNR7</th>\n",
       "      <th>SNR8</th>\n",
       "      <th>GPS Signal Test</th>\n",
       "    </tr>\n",
       "  </thead>\n",
       "  <tbody>\n",
       "  </tbody>\n",
       "</table>\n",
       "</div>"
      ],
      "text/plain": [
       "Empty DataFrame\n",
       "Columns: [Date, Serial Number, Total Time, GPS Detect Time, GPS Enable Time, GPS Signal Test Time, TTFF, SNR1, SNR2, SNR3, SNR4, SNR5, SNR6, SNR7, SNR8, GPS Signal Test]\n",
       "Index: []"
      ]
     },
     "execution_count": 1272,
     "metadata": {},
     "output_type": "execute_result"
    }
   ],
   "source": [
    "# dataframe to store initial relevant features from the GPS Test Data (.txt files)\n",
    "\n",
    "# features:\n",
    "# - Date: date log was created\n",
    "# - Serial Number: unique serial number of gateway device\n",
    "# - Total Time: total time to complete test (hr,min,sec)\n",
    "# - GPS Detect Time: time to detect GPS module (sec)\n",
    "# - GPS Enable Time: time to enable GPS module (sec)\n",
    "# - GPS Signal Test Time: time to complete GPS signal test (sec)\n",
    "# - TTFF: time to first fix time (sec)\n",
    "# - SNR (1 - 8): Signal to noise ratio\n",
    "# - GPS Signal Test: whether the GPS passed signal test\n",
    "\n",
    "data = pd.DataFrame(columns=['Date', 'Serial Number', 'Total Time', 'GPS Detect Time', \n",
    "                             'GPS Enable Time', 'GPS Signal Test Time', 'TTFF', 'SNR1', 'SNR2', 'SNR3', 'SNR4',\n",
    "                             'SNR5', 'SNR6', 'SNR7', 'SNR8', 'GPS Signal Test'])\n",
    "data.head()"
   ]
  },
  {
   "cell_type": "code",
   "execution_count": 1273,
   "metadata": {},
   "outputs": [],
   "source": [
    "# function to extract all relevant data from the GPS Test Data.\n",
    "# run this function while parsing through each .txt file\n",
    "\n",
    "def data_extraction(text):\n",
    "    # null value = -100.0\n",
    "#     instance_info = {'Date':' ', 'Serial Number':' ', 'Total Time':' ', 'GPS Detect Time':' ',\n",
    "#                      'GPS Enable Time':' ', 'GPS Signal Test Time':' ', 'TTFF':' ','SNR1':' ', \n",
    "#                      'SNR2':' ', 'SNR3':' ', 'SNR4':' ','SNR5':' ', 'SNR6':' ', 'SNR7':' ', \n",
    "#                      'SNR8':' ', 'GPS Signal Test':' '}\n",
    "    \n",
    "    instance_info = {'Date':np.NaN, 'Serial Number':np.NaN, 'Total Time':np.NaN, 'GPS Detect Time':np.NaN,\n",
    "                     'GPS Enable Time':np.NaN, 'GPS Signal Test Time':np.NaN, 'TTFF':np.NaN,'SNR1':np.NaN, \n",
    "                     'SNR2':np.NaN, 'SNR3':np.NaN, 'SNR4':np.NaN,'SNR5':np.NaN, 'SNR6':np.NaN, 'SNR7':np.NaN, \n",
    "                     'SNR8':np.NaN, 'GPS Signal Test': np.NaN}\n",
    "    \n",
    "    \"\"\" Extract Date \"\"\"\n",
    "    date_pattern = re.compile(r'\\d{4}[-]\\d{2}[-]\\d{2}')\n",
    "    date = re.match(date_pattern, text).group()\n",
    "    instance_info['Date'] = date\n",
    "    \n",
    "    \"\"\" Extract Serial Number \"\"\"\n",
    "    serial_pattern = re.compile(r'Input SN : ([A-Z0-9]+-[A-Z0-9]+-[A-Z0-9]+)')\n",
    "    serial = re.search(serial_pattern, text).group(1)\n",
    "    instance_info['Serial Number'] = serial\n",
    "    \n",
    "    \"\"\" Extract Total Time \"\"\"\n",
    "    time_pattern= re.compile(r'Total Time ([0-9]+:[0-9]+:[0-9]+)')\n",
    "    time = re.search(time_pattern, text).group(1)\n",
    "    instance_info['Total Time'] = time\n",
    "    \n",
    "    \"\"\" Extract TTFF signal test\n",
    "        TTFF = Time to First Fix\n",
    "        TTFF - time interval between start up (power on) to the first valid nagivation 3D data point \n",
    "               derived from the simulation\n",
    "    \"\"\"\n",
    "    ttff_pattern = re.compile(r'TTFF = ([0-9]+.[0-9]+)')\n",
    "    ttff = re.search(ttff_pattern, text).group(1)\n",
    "    instance_info['TTFF'] = float(ttff)\n",
    "    \n",
    "    \"\"\" Extract the GPS Module Detect Time  \"\"\"\n",
    "    detect_time_pattern = re.compile(r'Detect OK! Use time = ([0-9]+.[0-9]+)')\n",
    "    detect_time = re.search(detect_time_pattern, text).group(1)\n",
    "    instance_info['GPS Detect Time'] = float(detect_time)\n",
    "    \n",
    "    \"\"\" Extract the GPS Module Enable Time \"\"\"\n",
    "    enable_time_pattern = re.compile(r'Enable GPS Module OK! Use time = ([0-9]+.[0-9]+)')\n",
    "    enable_time = re.search(enable_time_pattern, text).group(1)\n",
    "    instance_info['GPS Enable Time'] = float(enable_time)\n",
    "    \n",
    "    \"\"\" Extract the GPS Signal Test Time \"\"\"\n",
    "    signal_test_time_pattern = re.compile(r'GPS Signal Test PASS! Use time = ([0-9]+.[0-9]+)')\n",
    "    signal_test_time = re.search(signal_test_time_pattern, text).group(1)\n",
    "    instance_info['GPS Signal Test Time'] = float(signal_test_time)\n",
    "\n",
    "    \"\"\" Extract GPS Signal Test \"\"\"\n",
    "    gps_test_pattern = re.compile(r'GPS Signal Test ([A-z]{4,})')\n",
    "    gps_test = re.search(gps_test_pattern, text).group(1)\n",
    "    instance_info['GPS Signal Test'] = gps_test\n",
    "\n",
    "    \"\"\" Extract SNR signal test\n",
    "        SNR = Signal to Noise Ratio\n",
    "        SNR - signal strength (higher value is better)\n",
    "            - signal minus the noise\n",
    "        \n",
    "        The further a received signal is from the noise floor, \n",
    "        the better the signal quality. Signals close to the noise\n",
    "        floor can be subject to data corruption,\n",
    "    \"\"\"\n",
    "    for _ in range(1,9):\n",
    "        snr_pattern = re.compile(r'SNR'+str(_)+' = ([0-9]+)') \n",
    "        snr = re.search(snr_pattern, text)\n",
    "        \n",
    "        if (snr_pattern == re.compile('SNR1 = ([0-9]+)')) & (snr != None):\n",
    "            snr1 = snr.group(1)\n",
    "            instance_info['SNR1'] = float(snr1)\n",
    "        elif (snr_pattern == re.compile('SNR2 = ([0-9]+)')) & (snr !=  None):\n",
    "            snr2 = snr.group(1)\n",
    "            instance_info['SNR2'] = float(snr2)\n",
    "        elif (snr_pattern == re.compile('SNR3 = ([0-9]+)')) & (snr != None):\n",
    "            snr3 = snr.group(1)\n",
    "            instance_info['SNR3'] = float(snr3)\n",
    "        elif (snr_pattern == re.compile('SNR4 = ([0-9]+)')) & (snr != None):\n",
    "            snr4 = snr.group(1)\n",
    "            instance_info['SNR4'] = float(snr4)\n",
    "        elif (snr_pattern == re.compile('SNR5 = ([0-9]+)')) & (snr != None):\n",
    "            snr5 = snr.group(1)\n",
    "            instance_info['SNR5'] = float(snr5)\n",
    "        elif (snr_pattern == re.compile('SNR6 = ([0-9]+)')) & (snr != None):\n",
    "            snr6 = snr.group(1)\n",
    "            instance_info['SNR6'] = float(snr6)\n",
    "        elif (snr_pattern == re.compile('SNR7 = ([0-9]+)')) & (snr != None):\n",
    "            snr7 = snr.group(1)\n",
    "            instance_info['SNR7'] = float(snr7)\n",
    "        elif (snr_pattern == re.compile('SNR8 = ([0-9]+)')) & (snr != None):\n",
    "            snr8 = snr.group(1)\n",
    "            instance_info['SNR8'] = float(snr8)\n",
    "    \n",
    "    return instance_info"
   ]
  },
  {
   "cell_type": "code",
   "execution_count": 1274,
   "metadata": {},
   "outputs": [],
   "source": [
    "# parsing through all .txt files within each data folder in GPS Test Data\n",
    "# opening the file and calling 'data_extraction'\n",
    "\n",
    "for file_folder in data_folders:\n",
    "    for file in os.listdir(path+'/'+file_folder+'/PASS/'):\n",
    "        if file.endswith('.txt'):\n",
    "            with open(path+'/'+file_folder+'/PASS/'+file+'') as f:\n",
    "                data = data.append(data_extraction(f.read()), ignore_index=True)"
   ]
  },
  {
   "cell_type": "code",
   "execution_count": 1275,
   "metadata": {
    "scrolled": false
   },
   "outputs": [
    {
     "data": {
      "text/html": [
       "<div>\n",
       "<style scoped>\n",
       "    .dataframe tbody tr th:only-of-type {\n",
       "        vertical-align: middle;\n",
       "    }\n",
       "\n",
       "    .dataframe tbody tr th {\n",
       "        vertical-align: top;\n",
       "    }\n",
       "\n",
       "    .dataframe thead th {\n",
       "        text-align: right;\n",
       "    }\n",
       "</style>\n",
       "<table border=\"1\" class=\"dataframe\">\n",
       "  <thead>\n",
       "    <tr style=\"text-align: right;\">\n",
       "      <th></th>\n",
       "      <th>Date</th>\n",
       "      <th>Serial Number</th>\n",
       "      <th>Total Time</th>\n",
       "      <th>GPS Detect Time</th>\n",
       "      <th>GPS Enable Time</th>\n",
       "      <th>GPS Signal Test Time</th>\n",
       "      <th>TTFF</th>\n",
       "      <th>SNR1</th>\n",
       "      <th>SNR2</th>\n",
       "      <th>SNR3</th>\n",
       "      <th>SNR4</th>\n",
       "      <th>SNR5</th>\n",
       "      <th>SNR6</th>\n",
       "      <th>SNR7</th>\n",
       "      <th>SNR8</th>\n",
       "      <th>GPS Signal Test</th>\n",
       "    </tr>\n",
       "  </thead>\n",
       "  <tbody>\n",
       "    <tr>\n",
       "      <th>0</th>\n",
       "      <td>2018-04-20</td>\n",
       "      <td>GBXT-HMX-C3Z</td>\n",
       "      <td>00:01:21</td>\n",
       "      <td>680.897</td>\n",
       "      <td>3.57</td>\n",
       "      <td>40.76</td>\n",
       "      <td>38.0</td>\n",
       "      <td>44.0</td>\n",
       "      <td>44.0</td>\n",
       "      <td>44.0</td>\n",
       "      <td>44.0</td>\n",
       "      <td>NaN</td>\n",
       "      <td>NaN</td>\n",
       "      <td>NaN</td>\n",
       "      <td>NaN</td>\n",
       "      <td>PASS</td>\n",
       "    </tr>\n",
       "    <tr>\n",
       "      <th>1</th>\n",
       "      <td>2018-04-14</td>\n",
       "      <td>GVGG-P3N-S8H</td>\n",
       "      <td>00:01:13</td>\n",
       "      <td>2143.789</td>\n",
       "      <td>0.61</td>\n",
       "      <td>40.25</td>\n",
       "      <td>36.0</td>\n",
       "      <td>44.0</td>\n",
       "      <td>44.0</td>\n",
       "      <td>44.0</td>\n",
       "      <td>44.0</td>\n",
       "      <td>46.0</td>\n",
       "      <td>46.0</td>\n",
       "      <td>47.0</td>\n",
       "      <td>46.0</td>\n",
       "      <td>PASS</td>\n",
       "    </tr>\n",
       "  </tbody>\n",
       "</table>\n",
       "</div>"
      ],
      "text/plain": [
       "         Date Serial Number Total Time  GPS Detect Time  GPS Enable Time  \\\n",
       "0  2018-04-20  GBXT-HMX-C3Z   00:01:21          680.897             3.57   \n",
       "1  2018-04-14  GVGG-P3N-S8H   00:01:13         2143.789             0.61   \n",
       "\n",
       "   GPS Signal Test Time  TTFF  SNR1  SNR2  SNR3  SNR4  SNR5  SNR6  SNR7  SNR8  \\\n",
       "0                 40.76  38.0  44.0  44.0  44.0  44.0   NaN   NaN   NaN   NaN   \n",
       "1                 40.25  36.0  44.0  44.0  44.0  44.0  46.0  46.0  47.0  46.0   \n",
       "\n",
       "  GPS Signal Test  \n",
       "0            PASS  \n",
       "1            PASS  "
      ]
     },
     "execution_count": 1275,
     "metadata": {},
     "output_type": "execute_result"
    }
   ],
   "source": [
    "data.head(2)"
   ]
  },
  {
   "cell_type": "code",
   "execution_count": 1276,
   "metadata": {},
   "outputs": [],
   "source": [
    "# adding an additional feature\n",
    "# converting Total Time to a numeric value (sec)\n",
    "def convert_time_seconds(text):\n",
    "    \"\"\" Convert Total Time to Seconds \"\"\"\n",
    "    ftr = [3600,60,1]\n",
    "    seconds = sum([a*b for a,b in zip(ftr, map(int, text.split(':')))])\n",
    "    return seconds\n",
    "\n",
    "data['Total Time (sec)'] = data['Total Time'].apply(convert_time_seconds)"
   ]
  },
  {
   "cell_type": "code",
   "execution_count": 1277,
   "metadata": {},
   "outputs": [
    {
     "name": "stdout",
     "output_type": "stream",
     "text": [
      "Number of instance:  2180\n",
      "Number of features:  17\n"
     ]
    }
   ],
   "source": [
    "print('Number of instance: ', data.shape[0])\n",
    "print('Number of features: ', data.shape[1])"
   ]
  },
  {
   "cell_type": "code",
   "execution_count": 1278,
   "metadata": {
    "scrolled": false
   },
   "outputs": [
    {
     "data": {
      "text/html": [
       "<div>\n",
       "<style scoped>\n",
       "    .dataframe tbody tr th:only-of-type {\n",
       "        vertical-align: middle;\n",
       "    }\n",
       "\n",
       "    .dataframe tbody tr th {\n",
       "        vertical-align: top;\n",
       "    }\n",
       "\n",
       "    .dataframe thead th {\n",
       "        text-align: right;\n",
       "    }\n",
       "</style>\n",
       "<table border=\"1\" class=\"dataframe\">\n",
       "  <thead>\n",
       "    <tr style=\"text-align: right;\">\n",
       "      <th></th>\n",
       "      <th>GPS Detect Time</th>\n",
       "      <th>GPS Enable Time</th>\n",
       "      <th>GPS Signal Test Time</th>\n",
       "      <th>TTFF</th>\n",
       "      <th>SNR1</th>\n",
       "      <th>SNR2</th>\n",
       "      <th>SNR3</th>\n",
       "      <th>SNR4</th>\n",
       "      <th>SNR5</th>\n",
       "      <th>SNR6</th>\n",
       "      <th>SNR7</th>\n",
       "      <th>SNR8</th>\n",
       "      <th>Total Time (sec)</th>\n",
       "    </tr>\n",
       "  </thead>\n",
       "  <tbody>\n",
       "    <tr>\n",
       "      <th>count</th>\n",
       "      <td>2180.000000</td>\n",
       "      <td>2180.000000</td>\n",
       "      <td>2180.000000</td>\n",
       "      <td>2180.000000</td>\n",
       "      <td>2151.00000</td>\n",
       "      <td>2151.000000</td>\n",
       "      <td>2150.000000</td>\n",
       "      <td>2149.000000</td>\n",
       "      <td>1963.000000</td>\n",
       "      <td>1963.000000</td>\n",
       "      <td>1962.000000</td>\n",
       "      <td>1808.000000</td>\n",
       "      <td>2180.000000</td>\n",
       "    </tr>\n",
       "    <tr>\n",
       "      <th>mean</th>\n",
       "      <td>3585.844755</td>\n",
       "      <td>2.030627</td>\n",
       "      <td>47.031405</td>\n",
       "      <td>36.682569</td>\n",
       "      <td>41.97629</td>\n",
       "      <td>42.040911</td>\n",
       "      <td>42.128372</td>\n",
       "      <td>42.149372</td>\n",
       "      <td>41.607234</td>\n",
       "      <td>41.641365</td>\n",
       "      <td>41.305810</td>\n",
       "      <td>41.103429</td>\n",
       "      <td>79.761468</td>\n",
       "    </tr>\n",
       "    <tr>\n",
       "      <th>std</th>\n",
       "      <td>4040.925989</td>\n",
       "      <td>1.481934</td>\n",
       "      <td>26.203304</td>\n",
       "      <td>19.649152</td>\n",
       "      <td>4.66146</td>\n",
       "      <td>4.604770</td>\n",
       "      <td>4.541754</td>\n",
       "      <td>4.451218</td>\n",
       "      <td>4.817367</td>\n",
       "      <td>4.893646</td>\n",
       "      <td>5.245066</td>\n",
       "      <td>5.189580</td>\n",
       "      <td>29.288033</td>\n",
       "    </tr>\n",
       "    <tr>\n",
       "      <th>min</th>\n",
       "      <td>1.642000</td>\n",
       "      <td>0.600000</td>\n",
       "      <td>0.110000</td>\n",
       "      <td>0.000000</td>\n",
       "      <td>26.00000</td>\n",
       "      <td>26.000000</td>\n",
       "      <td>26.000000</td>\n",
       "      <td>26.000000</td>\n",
       "      <td>26.000000</td>\n",
       "      <td>26.000000</td>\n",
       "      <td>26.000000</td>\n",
       "      <td>26.000000</td>\n",
       "      <td>18.000000</td>\n",
       "    </tr>\n",
       "    <tr>\n",
       "      <th>25%</th>\n",
       "      <td>721.245750</td>\n",
       "      <td>0.610000</td>\n",
       "      <td>33.480000</td>\n",
       "      <td>29.000000</td>\n",
       "      <td>41.00000</td>\n",
       "      <td>41.000000</td>\n",
       "      <td>41.000000</td>\n",
       "      <td>41.000000</td>\n",
       "      <td>40.000000</td>\n",
       "      <td>40.000000</td>\n",
       "      <td>40.000000</td>\n",
       "      <td>40.000000</td>\n",
       "      <td>60.000000</td>\n",
       "    </tr>\n",
       "    <tr>\n",
       "      <th>50%</th>\n",
       "      <td>2241.373500</td>\n",
       "      <td>0.610000</td>\n",
       "      <td>37.735000</td>\n",
       "      <td>34.000000</td>\n",
       "      <td>43.00000</td>\n",
       "      <td>43.000000</td>\n",
       "      <td>43.000000</td>\n",
       "      <td>43.000000</td>\n",
       "      <td>42.000000</td>\n",
       "      <td>42.000000</td>\n",
       "      <td>42.000000</td>\n",
       "      <td>42.000000</td>\n",
       "      <td>75.000000</td>\n",
       "    </tr>\n",
       "    <tr>\n",
       "      <th>75%</th>\n",
       "      <td>5023.983750</td>\n",
       "      <td>3.570000</td>\n",
       "      <td>43.092500</td>\n",
       "      <td>37.000000</td>\n",
       "      <td>45.00000</td>\n",
       "      <td>45.000000</td>\n",
       "      <td>45.000000</td>\n",
       "      <td>45.000000</td>\n",
       "      <td>45.000000</td>\n",
       "      <td>45.000000</td>\n",
       "      <td>45.000000</td>\n",
       "      <td>45.000000</td>\n",
       "      <td>83.000000</td>\n",
       "    </tr>\n",
       "    <tr>\n",
       "      <th>max</th>\n",
       "      <td>22564.477000</td>\n",
       "      <td>3.830000</td>\n",
       "      <td>121.300000</td>\n",
       "      <td>120.000000</td>\n",
       "      <td>49.00000</td>\n",
       "      <td>49.000000</td>\n",
       "      <td>49.000000</td>\n",
       "      <td>49.000000</td>\n",
       "      <td>49.000000</td>\n",
       "      <td>49.000000</td>\n",
       "      <td>49.000000</td>\n",
       "      <td>49.000000</td>\n",
       "      <td>177.000000</td>\n",
       "    </tr>\n",
       "  </tbody>\n",
       "</table>\n",
       "</div>"
      ],
      "text/plain": [
       "       GPS Detect Time  GPS Enable Time  GPS Signal Test Time         TTFF  \\\n",
       "count      2180.000000      2180.000000           2180.000000  2180.000000   \n",
       "mean       3585.844755         2.030627             47.031405    36.682569   \n",
       "std        4040.925989         1.481934             26.203304    19.649152   \n",
       "min           1.642000         0.600000              0.110000     0.000000   \n",
       "25%         721.245750         0.610000             33.480000    29.000000   \n",
       "50%        2241.373500         0.610000             37.735000    34.000000   \n",
       "75%        5023.983750         3.570000             43.092500    37.000000   \n",
       "max       22564.477000         3.830000            121.300000   120.000000   \n",
       "\n",
       "             SNR1         SNR2         SNR3         SNR4         SNR5  \\\n",
       "count  2151.00000  2151.000000  2150.000000  2149.000000  1963.000000   \n",
       "mean     41.97629    42.040911    42.128372    42.149372    41.607234   \n",
       "std       4.66146     4.604770     4.541754     4.451218     4.817367   \n",
       "min      26.00000    26.000000    26.000000    26.000000    26.000000   \n",
       "25%      41.00000    41.000000    41.000000    41.000000    40.000000   \n",
       "50%      43.00000    43.000000    43.000000    43.000000    42.000000   \n",
       "75%      45.00000    45.000000    45.000000    45.000000    45.000000   \n",
       "max      49.00000    49.000000    49.000000    49.000000    49.000000   \n",
       "\n",
       "              SNR6         SNR7         SNR8  Total Time (sec)  \n",
       "count  1963.000000  1962.000000  1808.000000       2180.000000  \n",
       "mean     41.641365    41.305810    41.103429         79.761468  \n",
       "std       4.893646     5.245066     5.189580         29.288033  \n",
       "min      26.000000    26.000000    26.000000         18.000000  \n",
       "25%      40.000000    40.000000    40.000000         60.000000  \n",
       "50%      42.000000    42.000000    42.000000         75.000000  \n",
       "75%      45.000000    45.000000    45.000000         83.000000  \n",
       "max      49.000000    49.000000    49.000000        177.000000  "
      ]
     },
     "execution_count": 1278,
     "metadata": {},
     "output_type": "execute_result"
    }
   ],
   "source": [
    "data.describe()"
   ]
  },
  {
   "cell_type": "code",
   "execution_count": 1279,
   "metadata": {
    "scrolled": true
   },
   "outputs": [
    {
     "data": {
      "text/plain": [
       "Date                     object\n",
       "Serial Number            object\n",
       "Total Time               object\n",
       "GPS Detect Time         float64\n",
       "GPS Enable Time         float64\n",
       "GPS Signal Test Time    float64\n",
       "TTFF                    float64\n",
       "SNR1                    float64\n",
       "SNR2                    float64\n",
       "SNR3                    float64\n",
       "SNR4                    float64\n",
       "SNR5                    float64\n",
       "SNR6                    float64\n",
       "SNR7                    float64\n",
       "SNR8                    float64\n",
       "GPS Signal Test          object\n",
       "Total Time (sec)          int64\n",
       "dtype: object"
      ]
     },
     "execution_count": 1279,
     "metadata": {},
     "output_type": "execute_result"
    }
   ],
   "source": [
    "data.dtypes"
   ]
  },
  {
   "cell_type": "code",
   "execution_count": 1280,
   "metadata": {},
   "outputs": [
    {
     "data": {
      "text/plain": [
       "Date                      0\n",
       "Serial Number             0\n",
       "Total Time                0\n",
       "GPS Detect Time           0\n",
       "GPS Enable Time           0\n",
       "GPS Signal Test Time      0\n",
       "TTFF                      0\n",
       "SNR1                     29\n",
       "SNR2                     29\n",
       "SNR3                     30\n",
       "SNR4                     31\n",
       "SNR5                    217\n",
       "SNR6                    217\n",
       "SNR7                    218\n",
       "SNR8                    372\n",
       "GPS Signal Test           0\n",
       "Total Time (sec)          0\n",
       "dtype: int64"
      ]
     },
     "execution_count": 1280,
     "metadata": {},
     "output_type": "execute_result"
    }
   ],
   "source": [
    "data.isnull().sum()"
   ]
  },
  {
   "cell_type": "code",
   "execution_count": 1161,
   "metadata": {
    "scrolled": true
   },
   "outputs": [
    {
     "name": "stdout",
     "output_type": "stream",
     "text": [
      "Percentage of null SNR1 - SNR2:  1.3302752293577982\n",
      "Percentage of null SNR3:         1.3761467889908259\n",
      "Percentage of null SNR4:         1.4220183486238533\n",
      "Percentage of null SNR5 - SNR6:  9.954128440366974\n",
      "Percentage of null SNR7:         10.0\n",
      "Percentage of null SNR8:         17.06422018348624\n"
     ]
    }
   ],
   "source": [
    "# percentage of null values per feature is high to remove\n",
    "print('Percentage of null SNR1 - SNR2: ', (29/2180)*100)\n",
    "print('Percentage of null SNR3:        ', (30/2180)*100)\n",
    "print('Percentage of null SNR4:        ', (31/2180)*100)\n",
    "print('Percentage of null SNR5 - SNR6: ', (217/2180)*100)\n",
    "print('Percentage of null SNR7:        ', (218/2180)*100)\n",
    "print('Percentage of null SNR8:        ', (372/2180)*100)"
   ]
  },
  {
   "cell_type": "code",
   "execution_count": 1317,
   "metadata": {},
   "outputs": [],
   "source": [
    "# extracting initial dataset to csv in order to plot EDA\n",
    "data.to_csv(r'/Users/danielmartin/Desktop/samsara_initial_data.csv', header=True)"
   ]
  },
  {
   "cell_type": "markdown",
   "metadata": {},
   "source": [
    "## Exploratory Data Analysis"
   ]
  },
  {
   "cell_type": "code",
   "execution_count": 1281,
   "metadata": {
    "scrolled": false
   },
   "outputs": [
    {
     "data": {
      "text/html": [
       "<div>\n",
       "<style scoped>\n",
       "    .dataframe tbody tr th:only-of-type {\n",
       "        vertical-align: middle;\n",
       "    }\n",
       "\n",
       "    .dataframe tbody tr th {\n",
       "        vertical-align: top;\n",
       "    }\n",
       "\n",
       "    .dataframe thead th {\n",
       "        text-align: right;\n",
       "    }\n",
       "</style>\n",
       "<table border=\"1\" class=\"dataframe\">\n",
       "  <thead>\n",
       "    <tr style=\"text-align: right;\">\n",
       "      <th></th>\n",
       "      <th>Date</th>\n",
       "      <th>Serial Number</th>\n",
       "      <th>Total Time</th>\n",
       "      <th>GPS Detect Time</th>\n",
       "      <th>GPS Enable Time</th>\n",
       "      <th>GPS Signal Test Time</th>\n",
       "      <th>TTFF</th>\n",
       "      <th>SNR1</th>\n",
       "      <th>SNR2</th>\n",
       "      <th>SNR3</th>\n",
       "      <th>SNR4</th>\n",
       "      <th>SNR5</th>\n",
       "      <th>SNR6</th>\n",
       "      <th>SNR7</th>\n",
       "      <th>SNR8</th>\n",
       "      <th>GPS Signal Test</th>\n",
       "      <th>Total Time (sec)</th>\n",
       "    </tr>\n",
       "  </thead>\n",
       "  <tbody>\n",
       "    <tr>\n",
       "      <th>1350</th>\n",
       "      <td>2018-04-04</td>\n",
       "      <td>GEFH-Z25-ZWX</td>\n",
       "      <td>00:02:26</td>\n",
       "      <td>824.166</td>\n",
       "      <td>0.60</td>\n",
       "      <td>120.060</td>\n",
       "      <td>119.0</td>\n",
       "      <td>42.0</td>\n",
       "      <td>42.0</td>\n",
       "      <td>42.0</td>\n",
       "      <td>42.0</td>\n",
       "      <td>41.0</td>\n",
       "      <td>40.0</td>\n",
       "      <td>33.0</td>\n",
       "      <td>41.0</td>\n",
       "      <td>PASS</td>\n",
       "      <td>146</td>\n",
       "    </tr>\n",
       "    <tr>\n",
       "      <th>1369</th>\n",
       "      <td>2018-04-04</td>\n",
       "      <td>GVSH-4VS-KRM</td>\n",
       "      <td>00:02:17</td>\n",
       "      <td>6514.009</td>\n",
       "      <td>0.60</td>\n",
       "      <td>120.050</td>\n",
       "      <td>119.0</td>\n",
       "      <td>44.0</td>\n",
       "      <td>43.0</td>\n",
       "      <td>44.0</td>\n",
       "      <td>44.0</td>\n",
       "      <td>44.0</td>\n",
       "      <td>43.0</td>\n",
       "      <td>44.0</td>\n",
       "      <td>44.0</td>\n",
       "      <td>PASS</td>\n",
       "      <td>137</td>\n",
       "    </tr>\n",
       "    <tr>\n",
       "      <th>1376</th>\n",
       "      <td>2018-04-04</td>\n",
       "      <td>G2G9-WKX-4AD</td>\n",
       "      <td>00:02:20</td>\n",
       "      <td>4848.140</td>\n",
       "      <td>3.57</td>\n",
       "      <td>120.090</td>\n",
       "      <td>119.0</td>\n",
       "      <td>41.0</td>\n",
       "      <td>41.0</td>\n",
       "      <td>40.0</td>\n",
       "      <td>41.0</td>\n",
       "      <td>40.0</td>\n",
       "      <td>40.0</td>\n",
       "      <td>41.0</td>\n",
       "      <td>40.0</td>\n",
       "      <td>PASS</td>\n",
       "      <td>140</td>\n",
       "    </tr>\n",
       "    <tr>\n",
       "      <th>1510</th>\n",
       "      <td>2018-04-04</td>\n",
       "      <td>GRV2-47G-N3B</td>\n",
       "      <td>00:02:48</td>\n",
       "      <td>393.932</td>\n",
       "      <td>3.58</td>\n",
       "      <td>120.200</td>\n",
       "      <td>120.0</td>\n",
       "      <td>39.0</td>\n",
       "      <td>39.0</td>\n",
       "      <td>39.0</td>\n",
       "      <td>39.0</td>\n",
       "      <td>NaN</td>\n",
       "      <td>NaN</td>\n",
       "      <td>NaN</td>\n",
       "      <td>NaN</td>\n",
       "      <td>PASS</td>\n",
       "      <td>168</td>\n",
       "    </tr>\n",
       "    <tr>\n",
       "      <th>1542</th>\n",
       "      <td>2018-04-04</td>\n",
       "      <td>GJR7-UNB-RAB</td>\n",
       "      <td>00:02:41</td>\n",
       "      <td>735.489</td>\n",
       "      <td>3.58</td>\n",
       "      <td>120.420</td>\n",
       "      <td>119.0</td>\n",
       "      <td>36.0</td>\n",
       "      <td>36.0</td>\n",
       "      <td>36.0</td>\n",
       "      <td>36.0</td>\n",
       "      <td>36.0</td>\n",
       "      <td>36.0</td>\n",
       "      <td>36.0</td>\n",
       "      <td>36.0</td>\n",
       "      <td>PASS</td>\n",
       "      <td>161</td>\n",
       "    </tr>\n",
       "    <tr>\n",
       "      <th>1609</th>\n",
       "      <td>2018-04-04</td>\n",
       "      <td>GSYM-W78-JX8</td>\n",
       "      <td>00:02:18</td>\n",
       "      <td>2965.074</td>\n",
       "      <td>0.60</td>\n",
       "      <td>120.720</td>\n",
       "      <td>120.0</td>\n",
       "      <td>46.0</td>\n",
       "      <td>46.0</td>\n",
       "      <td>47.0</td>\n",
       "      <td>46.0</td>\n",
       "      <td>43.0</td>\n",
       "      <td>43.0</td>\n",
       "      <td>43.0</td>\n",
       "      <td>44.0</td>\n",
       "      <td>PASS</td>\n",
       "      <td>138</td>\n",
       "    </tr>\n",
       "    <tr>\n",
       "      <th>1720</th>\n",
       "      <td>2018-04-04</td>\n",
       "      <td>G8FF-3AH-VYX</td>\n",
       "      <td>00:02:20</td>\n",
       "      <td>1716.300</td>\n",
       "      <td>3.57</td>\n",
       "      <td>120.230</td>\n",
       "      <td>120.0</td>\n",
       "      <td>31.0</td>\n",
       "      <td>31.0</td>\n",
       "      <td>31.0</td>\n",
       "      <td>31.0</td>\n",
       "      <td>32.0</td>\n",
       "      <td>32.0</td>\n",
       "      <td>31.0</td>\n",
       "      <td>28.0</td>\n",
       "      <td>PASS</td>\n",
       "      <td>140</td>\n",
       "    </tr>\n",
       "    <tr>\n",
       "      <th>1724</th>\n",
       "      <td>2018-04-04</td>\n",
       "      <td>G8Y3-TJ8-SA8</td>\n",
       "      <td>00:02:21</td>\n",
       "      <td>1562.072</td>\n",
       "      <td>3.58</td>\n",
       "      <td>120.150</td>\n",
       "      <td>119.0</td>\n",
       "      <td>47.0</td>\n",
       "      <td>47.0</td>\n",
       "      <td>47.0</td>\n",
       "      <td>47.0</td>\n",
       "      <td>47.0</td>\n",
       "      <td>47.0</td>\n",
       "      <td>47.0</td>\n",
       "      <td>47.0</td>\n",
       "      <td>PASS</td>\n",
       "      <td>141</td>\n",
       "    </tr>\n",
       "    <tr>\n",
       "      <th>1767</th>\n",
       "      <td>2018-04-30</td>\n",
       "      <td>GRVJ-YHK-92D</td>\n",
       "      <td>00:02:16</td>\n",
       "      <td>142.812</td>\n",
       "      <td>0.60</td>\n",
       "      <td>120.460</td>\n",
       "      <td>120.0</td>\n",
       "      <td>NaN</td>\n",
       "      <td>NaN</td>\n",
       "      <td>NaN</td>\n",
       "      <td>NaN</td>\n",
       "      <td>35.0</td>\n",
       "      <td>36.0</td>\n",
       "      <td>35.0</td>\n",
       "      <td>36.0</td>\n",
       "      <td>PASS</td>\n",
       "      <td>136</td>\n",
       "    </tr>\n",
       "    <tr>\n",
       "      <th>1816</th>\n",
       "      <td>2018-04-04</td>\n",
       "      <td>GN6U-8EF-FZ9</td>\n",
       "      <td>00:02:23</td>\n",
       "      <td>2792.650</td>\n",
       "      <td>0.60</td>\n",
       "      <td>120.301</td>\n",
       "      <td>120.0</td>\n",
       "      <td>40.0</td>\n",
       "      <td>40.0</td>\n",
       "      <td>40.0</td>\n",
       "      <td>40.0</td>\n",
       "      <td>41.0</td>\n",
       "      <td>41.0</td>\n",
       "      <td>41.0</td>\n",
       "      <td>41.0</td>\n",
       "      <td>PASS</td>\n",
       "      <td>143</td>\n",
       "    </tr>\n",
       "    <tr>\n",
       "      <th>1870</th>\n",
       "      <td>2018-04-04</td>\n",
       "      <td>GRVJ-YHK-92D</td>\n",
       "      <td>00:02:17</td>\n",
       "      <td>1863.930</td>\n",
       "      <td>0.61</td>\n",
       "      <td>120.110</td>\n",
       "      <td>119.0</td>\n",
       "      <td>44.0</td>\n",
       "      <td>44.0</td>\n",
       "      <td>44.0</td>\n",
       "      <td>44.0</td>\n",
       "      <td>44.0</td>\n",
       "      <td>44.0</td>\n",
       "      <td>44.0</td>\n",
       "      <td>44.0</td>\n",
       "      <td>PASS</td>\n",
       "      <td>137</td>\n",
       "    </tr>\n",
       "    <tr>\n",
       "      <th>1924</th>\n",
       "      <td>2018-04-03</td>\n",
       "      <td>GPZ2-4A8-M7D</td>\n",
       "      <td>00:02:20</td>\n",
       "      <td>7123.482</td>\n",
       "      <td>3.54</td>\n",
       "      <td>120.840</td>\n",
       "      <td>120.0</td>\n",
       "      <td>40.0</td>\n",
       "      <td>40.0</td>\n",
       "      <td>40.0</td>\n",
       "      <td>41.0</td>\n",
       "      <td>41.0</td>\n",
       "      <td>41.0</td>\n",
       "      <td>41.0</td>\n",
       "      <td>32.0</td>\n",
       "      <td>PASS</td>\n",
       "      <td>140</td>\n",
       "    </tr>\n",
       "    <tr>\n",
       "      <th>1931</th>\n",
       "      <td>2018-04-03</td>\n",
       "      <td>GHVT-NK3-JFZ</td>\n",
       "      <td>00:02:17</td>\n",
       "      <td>353.348</td>\n",
       "      <td>0.60</td>\n",
       "      <td>120.050</td>\n",
       "      <td>119.0</td>\n",
       "      <td>NaN</td>\n",
       "      <td>NaN</td>\n",
       "      <td>NaN</td>\n",
       "      <td>NaN</td>\n",
       "      <td>41.0</td>\n",
       "      <td>41.0</td>\n",
       "      <td>41.0</td>\n",
       "      <td>41.0</td>\n",
       "      <td>PASS</td>\n",
       "      <td>137</td>\n",
       "    </tr>\n",
       "    <tr>\n",
       "      <th>1978</th>\n",
       "      <td>2018-04-04</td>\n",
       "      <td>GK2U-998-B72</td>\n",
       "      <td>00:02:43</td>\n",
       "      <td>973.040</td>\n",
       "      <td>3.58</td>\n",
       "      <td>120.180</td>\n",
       "      <td>120.0</td>\n",
       "      <td>34.0</td>\n",
       "      <td>33.0</td>\n",
       "      <td>34.0</td>\n",
       "      <td>34.0</td>\n",
       "      <td>33.0</td>\n",
       "      <td>33.0</td>\n",
       "      <td>34.0</td>\n",
       "      <td>33.0</td>\n",
       "      <td>PASS</td>\n",
       "      <td>163</td>\n",
       "    </tr>\n",
       "    <tr>\n",
       "      <th>2007</th>\n",
       "      <td>2018-04-04</td>\n",
       "      <td>GBZT-SPM-42E</td>\n",
       "      <td>00:02:38</td>\n",
       "      <td>147.612</td>\n",
       "      <td>3.58</td>\n",
       "      <td>120.610</td>\n",
       "      <td>120.0</td>\n",
       "      <td>35.0</td>\n",
       "      <td>35.0</td>\n",
       "      <td>35.0</td>\n",
       "      <td>35.0</td>\n",
       "      <td>NaN</td>\n",
       "      <td>NaN</td>\n",
       "      <td>NaN</td>\n",
       "      <td>NaN</td>\n",
       "      <td>PASS</td>\n",
       "      <td>158</td>\n",
       "    </tr>\n",
       "    <tr>\n",
       "      <th>2015</th>\n",
       "      <td>2018-04-04</td>\n",
       "      <td>GG42-C6K-82K</td>\n",
       "      <td>00:02:17</td>\n",
       "      <td>1815.810</td>\n",
       "      <td>0.60</td>\n",
       "      <td>120.340</td>\n",
       "      <td>119.0</td>\n",
       "      <td>44.0</td>\n",
       "      <td>44.0</td>\n",
       "      <td>44.0</td>\n",
       "      <td>44.0</td>\n",
       "      <td>44.0</td>\n",
       "      <td>44.0</td>\n",
       "      <td>44.0</td>\n",
       "      <td>NaN</td>\n",
       "      <td>PASS</td>\n",
       "      <td>137</td>\n",
       "    </tr>\n",
       "  </tbody>\n",
       "</table>\n",
       "</div>"
      ],
      "text/plain": [
       "            Date Serial Number Total Time  GPS Detect Time  GPS Enable Time  \\\n",
       "1350  2018-04-04  GEFH-Z25-ZWX   00:02:26          824.166             0.60   \n",
       "1369  2018-04-04  GVSH-4VS-KRM   00:02:17         6514.009             0.60   \n",
       "1376  2018-04-04  G2G9-WKX-4AD   00:02:20         4848.140             3.57   \n",
       "1510  2018-04-04  GRV2-47G-N3B   00:02:48          393.932             3.58   \n",
       "1542  2018-04-04  GJR7-UNB-RAB   00:02:41          735.489             3.58   \n",
       "1609  2018-04-04  GSYM-W78-JX8   00:02:18         2965.074             0.60   \n",
       "1720  2018-04-04  G8FF-3AH-VYX   00:02:20         1716.300             3.57   \n",
       "1724  2018-04-04  G8Y3-TJ8-SA8   00:02:21         1562.072             3.58   \n",
       "1767  2018-04-30  GRVJ-YHK-92D   00:02:16          142.812             0.60   \n",
       "1816  2018-04-04  GN6U-8EF-FZ9   00:02:23         2792.650             0.60   \n",
       "1870  2018-04-04  GRVJ-YHK-92D   00:02:17         1863.930             0.61   \n",
       "1924  2018-04-03  GPZ2-4A8-M7D   00:02:20         7123.482             3.54   \n",
       "1931  2018-04-03  GHVT-NK3-JFZ   00:02:17          353.348             0.60   \n",
       "1978  2018-04-04  GK2U-998-B72   00:02:43          973.040             3.58   \n",
       "2007  2018-04-04  GBZT-SPM-42E   00:02:38          147.612             3.58   \n",
       "2015  2018-04-04  GG42-C6K-82K   00:02:17         1815.810             0.60   \n",
       "\n",
       "      GPS Signal Test Time   TTFF  SNR1  SNR2  SNR3  SNR4  SNR5  SNR6  SNR7  \\\n",
       "1350               120.060  119.0  42.0  42.0  42.0  42.0  41.0  40.0  33.0   \n",
       "1369               120.050  119.0  44.0  43.0  44.0  44.0  44.0  43.0  44.0   \n",
       "1376               120.090  119.0  41.0  41.0  40.0  41.0  40.0  40.0  41.0   \n",
       "1510               120.200  120.0  39.0  39.0  39.0  39.0   NaN   NaN   NaN   \n",
       "1542               120.420  119.0  36.0  36.0  36.0  36.0  36.0  36.0  36.0   \n",
       "1609               120.720  120.0  46.0  46.0  47.0  46.0  43.0  43.0  43.0   \n",
       "1720               120.230  120.0  31.0  31.0  31.0  31.0  32.0  32.0  31.0   \n",
       "1724               120.150  119.0  47.0  47.0  47.0  47.0  47.0  47.0  47.0   \n",
       "1767               120.460  120.0   NaN   NaN   NaN   NaN  35.0  36.0  35.0   \n",
       "1816               120.301  120.0  40.0  40.0  40.0  40.0  41.0  41.0  41.0   \n",
       "1870               120.110  119.0  44.0  44.0  44.0  44.0  44.0  44.0  44.0   \n",
       "1924               120.840  120.0  40.0  40.0  40.0  41.0  41.0  41.0  41.0   \n",
       "1931               120.050  119.0   NaN   NaN   NaN   NaN  41.0  41.0  41.0   \n",
       "1978               120.180  120.0  34.0  33.0  34.0  34.0  33.0  33.0  34.0   \n",
       "2007               120.610  120.0  35.0  35.0  35.0  35.0   NaN   NaN   NaN   \n",
       "2015               120.340  119.0  44.0  44.0  44.0  44.0  44.0  44.0  44.0   \n",
       "\n",
       "      SNR8 GPS Signal Test  Total Time (sec)  \n",
       "1350  41.0            PASS               146  \n",
       "1369  44.0            PASS               137  \n",
       "1376  40.0            PASS               140  \n",
       "1510   NaN            PASS               168  \n",
       "1542  36.0            PASS               161  \n",
       "1609  44.0            PASS               138  \n",
       "1720  28.0            PASS               140  \n",
       "1724  47.0            PASS               141  \n",
       "1767  36.0            PASS               136  \n",
       "1816  41.0            PASS               143  \n",
       "1870  44.0            PASS               137  \n",
       "1924  32.0            PASS               140  \n",
       "1931  41.0            PASS               137  \n",
       "1978  33.0            PASS               163  \n",
       "2007   NaN            PASS               158  \n",
       "2015   NaN            PASS               137  "
      ]
     },
     "execution_count": 1281,
     "metadata": {},
     "output_type": "execute_result"
    }
   ],
   "source": [
    "# dataframe consisting of only instances of defective serial numbers\n",
    "defective_serial_numbers = ['GN6U-8EF-FZ9', 'GPZ2-4A8-M7D', 'GSYM-W78-JX8', 'G8FF-3AH-VYX', 'GRV2-47G-N3B',\n",
    "                            'GBZT-SPM-42E', 'GK2U-998-B72', 'GRVJ-YHK-92D', 'G8Y3-TJ8-SA8', 'GG42-C6K-82K',\n",
    "                            'G2G9-WKX-4AD', 'GVSH-4VS-KRM', 'GHVT-NK3-JFZ', 'GJR7-UNB-RAB', 'GEFH-Z25-ZWX']\n",
    "\n",
    "defective_data = data.loc[data['Serial Number'].isin(defective_serial_numbers), :]\n",
    "defective_data"
   ]
  },
  {
   "cell_type": "code",
   "execution_count": 1282,
   "metadata": {
    "scrolled": false
   },
   "outputs": [
    {
     "name": "stdout",
     "output_type": "stream",
     "text": [
      "Number of instance:  16\n",
      "Number of features:  17\n"
     ]
    }
   ],
   "source": [
    "print('Number of instance: ', defective_data.shape[0])\n",
    "print('Number of features: ', defective_data.shape[1])"
   ]
  },
  {
   "cell_type": "code",
   "execution_count": 1283,
   "metadata": {
    "scrolled": true
   },
   "outputs": [
    {
     "name": "stdout",
     "output_type": "stream",
     "text": [
      "SNR1 Mean:  40.21\n",
      "SNR2 Mean:  40.07\n",
      "SNR3 Mean:  40.21\n",
      "SNR4 Mean:  40.29\n",
      "SNR5 Mean:  40.14\n",
      "SNR6 Mean:  40.07\n",
      "SNR7 Mean:  39.64\n",
      "SNR8 Mean:  39.0\n"
     ]
    }
   ],
   "source": [
    "# mean of SNR(1-8) values for Defective data\n",
    "for _ in range(1,9):\n",
    "    print('SNR'+str(_)+' Mean: ', round(defective_data['SNR'+str(_)].mean(),2))"
   ]
  },
  {
   "cell_type": "code",
   "execution_count": 1284,
   "metadata": {},
   "outputs": [],
   "source": [
    "# replace null values with the mean of SNR\n",
    "for _ in range(1,9):\n",
    "    mean=round(defective_data['SNR'+str(_)].mean(),2)\n",
    "    defective_data['SNR'+str(_)].fillna(mean, inplace=True)"
   ]
  },
  {
   "cell_type": "code",
   "execution_count": 1285,
   "metadata": {},
   "outputs": [
    {
     "data": {
      "text/plain": [
       "Date                    0\n",
       "Serial Number           0\n",
       "Total Time              0\n",
       "GPS Detect Time         0\n",
       "GPS Enable Time         0\n",
       "GPS Signal Test Time    0\n",
       "TTFF                    0\n",
       "SNR1                    0\n",
       "SNR2                    0\n",
       "SNR3                    0\n",
       "SNR4                    0\n",
       "SNR5                    0\n",
       "SNR6                    0\n",
       "SNR7                    0\n",
       "SNR8                    0\n",
       "GPS Signal Test         0\n",
       "Total Time (sec)        0\n",
       "dtype: int64"
      ]
     },
     "execution_count": 1285,
     "metadata": {},
     "output_type": "execute_result"
    }
   ],
   "source": [
    "defective_data.isnull().sum()"
   ]
  },
  {
   "cell_type": "code",
   "execution_count": 1286,
   "metadata": {},
   "outputs": [
    {
     "data": {
      "text/html": [
       "<div>\n",
       "<style scoped>\n",
       "    .dataframe tbody tr th:only-of-type {\n",
       "        vertical-align: middle;\n",
       "    }\n",
       "\n",
       "    .dataframe tbody tr th {\n",
       "        vertical-align: top;\n",
       "    }\n",
       "\n",
       "    .dataframe thead th {\n",
       "        text-align: right;\n",
       "    }\n",
       "</style>\n",
       "<table border=\"1\" class=\"dataframe\">\n",
       "  <thead>\n",
       "    <tr style=\"text-align: right;\">\n",
       "      <th></th>\n",
       "      <th>Date</th>\n",
       "      <th>Serial Number</th>\n",
       "      <th>Total Time</th>\n",
       "      <th>GPS Detect Time</th>\n",
       "      <th>GPS Enable Time</th>\n",
       "      <th>GPS Signal Test Time</th>\n",
       "      <th>TTFF</th>\n",
       "      <th>SNR1</th>\n",
       "      <th>SNR2</th>\n",
       "      <th>SNR3</th>\n",
       "      <th>SNR4</th>\n",
       "      <th>SNR5</th>\n",
       "      <th>SNR6</th>\n",
       "      <th>SNR7</th>\n",
       "      <th>SNR8</th>\n",
       "      <th>GPS Signal Test</th>\n",
       "      <th>Total Time (sec)</th>\n",
       "    </tr>\n",
       "  </thead>\n",
       "  <tbody>\n",
       "    <tr>\n",
       "      <th>0</th>\n",
       "      <td>2018-04-20</td>\n",
       "      <td>GBXT-HMX-C3Z</td>\n",
       "      <td>00:01:21</td>\n",
       "      <td>680.897</td>\n",
       "      <td>3.57</td>\n",
       "      <td>40.76</td>\n",
       "      <td>38.0</td>\n",
       "      <td>44.0</td>\n",
       "      <td>44.0</td>\n",
       "      <td>44.0</td>\n",
       "      <td>44.0</td>\n",
       "      <td>NaN</td>\n",
       "      <td>NaN</td>\n",
       "      <td>NaN</td>\n",
       "      <td>NaN</td>\n",
       "      <td>PASS</td>\n",
       "      <td>81</td>\n",
       "    </tr>\n",
       "    <tr>\n",
       "      <th>1</th>\n",
       "      <td>2018-04-14</td>\n",
       "      <td>GVGG-P3N-S8H</td>\n",
       "      <td>00:01:13</td>\n",
       "      <td>2143.789</td>\n",
       "      <td>0.61</td>\n",
       "      <td>40.25</td>\n",
       "      <td>36.0</td>\n",
       "      <td>44.0</td>\n",
       "      <td>44.0</td>\n",
       "      <td>44.0</td>\n",
       "      <td>44.0</td>\n",
       "      <td>46.0</td>\n",
       "      <td>46.0</td>\n",
       "      <td>47.0</td>\n",
       "      <td>46.0</td>\n",
       "      <td>PASS</td>\n",
       "      <td>73</td>\n",
       "    </tr>\n",
       "  </tbody>\n",
       "</table>\n",
       "</div>"
      ],
      "text/plain": [
       "         Date Serial Number Total Time  GPS Detect Time  GPS Enable Time  \\\n",
       "0  2018-04-20  GBXT-HMX-C3Z   00:01:21          680.897             3.57   \n",
       "1  2018-04-14  GVGG-P3N-S8H   00:01:13         2143.789             0.61   \n",
       "\n",
       "   GPS Signal Test Time  TTFF  SNR1  SNR2  SNR3  SNR4  SNR5  SNR6  SNR7  SNR8  \\\n",
       "0                 40.76  38.0  44.0  44.0  44.0  44.0   NaN   NaN   NaN   NaN   \n",
       "1                 40.25  36.0  44.0  44.0  44.0  44.0  46.0  46.0  47.0  46.0   \n",
       "\n",
       "  GPS Signal Test  Total Time (sec)  \n",
       "0            PASS                81  \n",
       "1            PASS                73  "
      ]
     },
     "execution_count": 1286,
     "metadata": {},
     "output_type": "execute_result"
    }
   ],
   "source": [
    "# dataframe excluding the known defective serial numbers\n",
    "clean_data = data.loc[~data['Serial Number'].isin(defective_serial_numbers), :]\n",
    "clean_data.head(2)"
   ]
  },
  {
   "cell_type": "code",
   "execution_count": 1287,
   "metadata": {
    "scrolled": true
   },
   "outputs": [
    {
     "name": "stdout",
     "output_type": "stream",
     "text": [
      "Number of instance:  2164\n",
      "Number of features:  17\n"
     ]
    }
   ],
   "source": [
    "print('Number of instance: ', clean_data.shape[0])\n",
    "print('Number of features: ', clean_data.shape[1])"
   ]
  },
  {
   "cell_type": "code",
   "execution_count": 1288,
   "metadata": {},
   "outputs": [
    {
     "name": "stdout",
     "output_type": "stream",
     "text": [
      "SNR1 Mean:  41.99\n",
      "SNR2 Mean:  42.05\n",
      "SNR3 Mean:  42.14\n",
      "SNR4 Mean:  42.16\n",
      "SNR5 Mean:  41.62\n",
      "SNR6 Mean:  41.65\n",
      "SNR7 Mean:  41.32\n",
      "SNR8 Mean:  41.12\n"
     ]
    }
   ],
   "source": [
    "# mean of SNR(1-8) values for Clean data\n",
    "for _ in range(1,9):\n",
    "    print('SNR'+str(_)+' Mean: ', round(clean_data['SNR'+str(_)].mean(),2))"
   ]
  },
  {
   "cell_type": "code",
   "execution_count": 1289,
   "metadata": {},
   "outputs": [],
   "source": [
    "# replace null values with the mean of SNR\n",
    "for _ in range(1,9):\n",
    "    mean=round(clean_data['SNR'+str(_)].mean(),2)\n",
    "    clean_data['SNR'+str(_)].fillna(mean, inplace=True)"
   ]
  },
  {
   "cell_type": "code",
   "execution_count": 1290,
   "metadata": {},
   "outputs": [
    {
     "data": {
      "text/plain": [
       "Date                    0\n",
       "Serial Number           0\n",
       "Total Time              0\n",
       "GPS Detect Time         0\n",
       "GPS Enable Time         0\n",
       "GPS Signal Test Time    0\n",
       "TTFF                    0\n",
       "SNR1                    0\n",
       "SNR2                    0\n",
       "SNR3                    0\n",
       "SNR4                    0\n",
       "SNR5                    0\n",
       "SNR6                    0\n",
       "SNR7                    0\n",
       "SNR8                    0\n",
       "GPS Signal Test         0\n",
       "Total Time (sec)        0\n",
       "dtype: int64"
      ]
     },
     "execution_count": 1290,
     "metadata": {},
     "output_type": "execute_result"
    }
   ],
   "source": [
    "clean_data.isnull().sum()"
   ]
  },
  {
   "cell_type": "markdown",
   "metadata": {},
   "source": [
    "## Visualizations"
   ]
  },
  {
   "cell_type": "code",
   "execution_count": 1291,
   "metadata": {
    "scrolled": false
   },
   "outputs": [
    {
     "data": {
      "image/png": "[encoded data removed]",
      "text/plain": [
       "<Figure size 576x360 with 2 Axes>"
      ]
     },
     "metadata": {
      "needs_background": "light"
     },
     "output_type": "display_data"
    }
   ],
   "source": [
    "# distribution plots of Total Time (sec) for both\n",
    "# defective and non-defective data\n",
    "\n",
    "plt.figure(figsize=(8,5))\n",
    "plt.subplot(1,2,1)\n",
    "plt.title('Defective Data')\n",
    "sns.distplot(a=defective_data['Total Time (sec)'])\n",
    "\n",
    "\n",
    "plt.subplot(1,2,2)\n",
    "plt.title('Non-Defective Data')\n",
    "g=sns.distplot(a=clean_data['Total Time (sec)'])\n",
    "g.set_xticks(np.linspace(0,200,6))\n",
    "\n",
    "plt.subplots_adjust(wspace = 0.5, hspace = 0.3);"
   ]
  },
  {
   "cell_type": "code",
   "execution_count": 1292,
   "metadata": {},
   "outputs": [
    {
     "data": {
      "text/plain": [
       "(44, 17)"
      ]
     },
     "execution_count": 1292,
     "metadata": {},
     "output_type": "execute_result"
    }
   ],
   "source": [
    "# outliers - Total Time (sec) values 0-50\n",
    "TT_outliers = clean_data.loc[data['Total Time (sec)']<=40, :]\n",
    "TT_outliers.shape"
   ]
  },
  {
   "cell_type": "code",
   "execution_count": 1293,
   "metadata": {},
   "outputs": [
    {
     "data": {
      "text/plain": [
       "(1738, 17)"
      ]
     },
     "execution_count": 1293,
     "metadata": {},
     "output_type": "execute_result"
    }
   ],
   "source": [
    "# Ship to Vendors - Total Time (sec) values 50-120\n",
    "TT_ship_to_vendor = clean_data.loc[(clean_data['Total Time (sec)']>40)&\n",
    "                                (clean_data['Total Time (sec)']<=100), :]\n",
    "TT_ship_to_vendor.shape"
   ]
  },
  {
   "cell_type": "code",
   "execution_count": 1294,
   "metadata": {},
   "outputs": [
    {
     "data": {
      "text/plain": [
       "(178, 17)"
      ]
     },
     "execution_count": 1294,
     "metadata": {},
     "output_type": "execute_result"
    }
   ],
   "source": [
    "# Screening - Total Time (sec) values 120-130\n",
    "TT_screening = clean_data.loc[(clean_data['Total Time (sec)']>100)&\n",
    "                           (clean_data['Total Time (sec)']<=130), :]\n",
    "TT_screening.shape"
   ]
  },
  {
   "cell_type": "code",
   "execution_count": 1295,
   "metadata": {},
   "outputs": [
    {
     "data": {
      "text/plain": [
       "(204, 17)"
      ]
     },
     "execution_count": 1295,
     "metadata": {},
     "output_type": "execute_result"
    }
   ],
   "source": [
    "# Return from Field - Total Time (sec) values >130\n",
    "TT_return_from_field = clean_data.loc[clean_data['Total Time (sec)']>130, :]\n",
    "TT_return_from_field.shape"
   ]
  },
  {
   "cell_type": "code",
   "execution_count": 1296,
   "metadata": {},
   "outputs": [
    {
     "data": {
      "image/png": "[encoded data removed]",
      "text/plain": [
       "<Figure size 576x360 with 2 Axes>"
      ]
     },
     "metadata": {
      "needs_background": "light"
     },
     "output_type": "display_data"
    }
   ],
   "source": [
    "# distribution plot of GPS Signal Test Time for both\n",
    "# defective and non-defective data\n",
    "\n",
    "plt.figure(figsize=(8,5))\n",
    "plt.subplot(1,2,1)\n",
    "plt.title('Defective Data')\n",
    "sns.distplot(a=defective_data['GPS Signal Test Time'])\n",
    "\n",
    "\n",
    "plt.subplot(1,2,2)\n",
    "plt.title('Non-Defective Data')\n",
    "g=sns.distplot(a=clean_data['GPS Signal Test Time'])\n",
    "g.set_xticks(np.linspace(0,130,6))\n",
    "\n",
    "plt.subplots_adjust(wspace = 0.5, hspace = 0.3);"
   ]
  },
  {
   "cell_type": "code",
   "execution_count": 1297,
   "metadata": {},
   "outputs": [
    {
     "data": {
      "text/plain": [
       "(120, 17)"
      ]
     },
     "execution_count": 1297,
     "metadata": {},
     "output_type": "execute_result"
    }
   ],
   "source": [
    "# outliers - GPS Signal Test Time (sec) values 0-25\n",
    "STT_outliers = clean_data.loc[data['GPS Signal Test Time']<26, :]\n",
    "STT_outliers.shape"
   ]
  },
  {
   "cell_type": "code",
   "execution_count": 1298,
   "metadata": {},
   "outputs": [
    {
     "data": {
      "text/plain": [
       "(1618, 17)"
      ]
     },
     "execution_count": 1298,
     "metadata": {},
     "output_type": "execute_result"
    }
   ],
   "source": [
    "# Ship to Vendors - GPS Signal Test Time (sec) values 26-55\n",
    "STT_ship_to_vendor = clean_data.loc[(clean_data['GPS Signal Test Time']>=26)&\n",
    "                                (clean_data['GPS Signal Test Time']<=55), :]\n",
    "STT_ship_to_vendor.shape"
   ]
  },
  {
   "cell_type": "code",
   "execution_count": 1299,
   "metadata": {},
   "outputs": [
    {
     "data": {
      "text/plain": [
       "(318, 17)"
      ]
     },
     "execution_count": 1299,
     "metadata": {},
     "output_type": "execute_result"
    }
   ],
   "source": [
    "# Screening - GPS Signal Test Time (sec) values 56-105\n",
    "STT_screening = clean_data.loc[(clean_data['GPS Signal Test Time']>55)&\n",
    "                           (clean_data['GPS Signal Test Time']<=105), :]\n",
    "STT_screening.shape"
   ]
  },
  {
   "cell_type": "code",
   "execution_count": 1300,
   "metadata": {},
   "outputs": [
    {
     "data": {
      "text/plain": [
       "(110, 17)"
      ]
     },
     "execution_count": 1300,
     "metadata": {},
     "output_type": "execute_result"
    }
   ],
   "source": [
    "# Return from Field - GPS Signal Test Time (sec) values >104\n",
    "STT_return_from_field = clean_data.loc[clean_data['GPS Signal Test Time']>104, :]\n",
    "STT_return_from_field.shape"
   ]
  },
  {
   "cell_type": "code",
   "execution_count": 1301,
   "metadata": {
    "scrolled": true
   },
   "outputs": [
    {
     "data": {
      "image/png": "[encoded data removed]",
      "text/plain": [
       "<Figure size 576x360 with 2 Axes>"
      ]
     },
     "metadata": {
      "needs_background": "light"
     },
     "output_type": "display_data"
    }
   ],
   "source": [
    "# distribution plot of TTFF values for both\n",
    "# defective and non-defective data\n",
    "\n",
    "plt.figure(figsize=(8,5))\n",
    "plt.subplot(1,2,1)\n",
    "plt.title('Defective Data')\n",
    "sns.distplot(a=defective_data['TTFF'])\n",
    "\n",
    "plt.subplot(1,2,2)\n",
    "plt.title('Non-Defective Data')\n",
    "g=sns.distplot(a=clean_data['TTFF'])\n",
    "g.set_xticks(np.linspace(0,130,6))\n",
    "\n",
    "plt.subplots_adjust(wspace = 0.5, hspace = 0.3);"
   ]
  },
  {
   "cell_type": "code",
   "execution_count": 1302,
   "metadata": {},
   "outputs": [
    {
     "data": {
      "text/plain": [
       "(276, 17)"
      ]
     },
     "execution_count": 1302,
     "metadata": {},
     "output_type": "execute_result"
    }
   ],
   "source": [
    "# outliers - TTFF (sec) values 0-25\n",
    "TTFF_outliers = clean_data.loc[data['TTFF']<26, :]\n",
    "TTFF_outliers.shape"
   ]
  },
  {
   "cell_type": "code",
   "execution_count": 1303,
   "metadata": {},
   "outputs": [
    {
     "data": {
      "text/plain": [
       "(1768, 17)"
      ]
     },
     "execution_count": 1303,
     "metadata": {},
     "output_type": "execute_result"
    }
   ],
   "source": [
    "# Ship to Vendors - GPS Signal Test Time (sec) values 26-55\n",
    "TTFF_ship_to_vendor = clean_data.loc[(clean_data['TTFF']>=26)&\n",
    "                                (clean_data['TTFF']<=55), :]\n",
    "TTFF_ship_to_vendor.shape"
   ]
  },
  {
   "cell_type": "code",
   "execution_count": 1304,
   "metadata": {},
   "outputs": [
    {
     "data": {
      "text/plain": [
       "(45, 17)"
      ]
     },
     "execution_count": 1304,
     "metadata": {},
     "output_type": "execute_result"
    }
   ],
   "source": [
    "# Screening - GPS Signal Test Time (sec) values 56-105\n",
    "TTFF_screening = clean_data.loc[(clean_data['TTFF']>55)&\n",
    "                           (clean_data['TTFF']<=105), :]\n",
    "TTFF_screening.shape"
   ]
  },
  {
   "cell_type": "code",
   "execution_count": 1305,
   "metadata": {
    "scrolled": true
   },
   "outputs": [
    {
     "data": {
      "text/plain": [
       "(75, 17)"
      ]
     },
     "execution_count": 1305,
     "metadata": {},
     "output_type": "execute_result"
    }
   ],
   "source": [
    "# Return from Field - GPS Signal Test Time (sec) values >104\n",
    "TTFF_return_from_field = clean_data.loc[clean_data['TTFF']>105, :]\n",
    "TTFF_return_from_field.shape"
   ]
  },
  {
   "cell_type": "markdown",
   "metadata": {},
   "source": [
    "## Analysis (Recommendation)"
   ]
  },
  {
   "cell_type": "code",
   "execution_count": 1306,
   "metadata": {},
   "outputs": [],
   "source": [
    "# functions that will categorize the gateway devices in terms of \n",
    "# Total Time (sec), GPS Signal Test Time, and TTFF values\n",
    "\n",
    "def total_time_rec(time):\n",
    "    if time<=40:\n",
    "        return 'outlier'\n",
    "    elif (time>40)&(time<=100):\n",
    "        return 'ship to vendor'\n",
    "    elif (time>100)&(time<=130):\n",
    "        return 'screening'\n",
    "    else:\n",
    "        return 'return from field'\n",
    "    \n",
    "def signal_time_rec(time):\n",
    "    if time<26:\n",
    "        return 'outlier'\n",
    "    elif (time>=26)&(time<=55):\n",
    "        return 'ship to vendor'\n",
    "    elif (time>55)&(time<=105):\n",
    "        return 'screening'\n",
    "    else:\n",
    "        return 'return from field'\n",
    "    \n",
    "def ttff_rec(ttff):\n",
    "    if ttff<26:\n",
    "        return 'outlier'\n",
    "    elif (ttff>=26)&(ttff<=55):\n",
    "        return 'ship to vendor'\n",
    "    elif (ttff>55)&(ttff<=105):\n",
    "        return 'screening'\n",
    "    else:\n",
    "        return 'return from field'"
   ]
  },
  {
   "cell_type": "code",
   "execution_count": 1307,
   "metadata": {},
   "outputs": [],
   "source": [
    "# applying the functions above to every instance in the dataset\n",
    "data['Total Time Rec'] = data['Total Time (sec)'].apply(total_time_rec)\n",
    "data['Signal Time Rec'] = data['GPS Signal Test Time'].apply(signal_time_rec)\n",
    "data['TTFF Rec'] = data['TTFF'].apply(ttff_rec)"
   ]
  },
  {
   "cell_type": "code",
   "execution_count": 1308,
   "metadata": {},
   "outputs": [],
   "source": [
    "# function for my final recommendation\n",
    "# returning the mode value for Total Time (sec), GPS Signal Test Time, and TTFF\n",
    "# - if the values are split evenly or if the gateway is categorized as an outlier\n",
    "#   my final recommendation is to screen the device an additional time\n",
    "\n",
    "def mode_func(row):\n",
    "    if len(row[['Total Time Rec', 'Signal Time Rec', 'TTFF Rec']].value_counts()) > 2:\n",
    "        return 'screening'\n",
    "    elif row[['Total Time Rec', 'Signal Time Rec', 'TTFF Rec']].mode()[0] == 'outlier':\n",
    "        return 'screening'\n",
    "    else:\n",
    "        return row[['Total Time Rec', 'Signal Time Rec', 'TTFF Rec']].mode() "
   ]
  },
  {
   "cell_type": "code",
   "execution_count": 1309,
   "metadata": {},
   "outputs": [
    {
     "data": {
      "text/html": [
       "<div>\n",
       "<style scoped>\n",
       "    .dataframe tbody tr th:only-of-type {\n",
       "        vertical-align: middle;\n",
       "    }\n",
       "\n",
       "    .dataframe tbody tr th {\n",
       "        vertical-align: top;\n",
       "    }\n",
       "\n",
       "    .dataframe thead th {\n",
       "        text-align: right;\n",
       "    }\n",
       "</style>\n",
       "<table border=\"1\" class=\"dataframe\">\n",
       "  <thead>\n",
       "    <tr style=\"text-align: right;\">\n",
       "      <th></th>\n",
       "      <th>Date</th>\n",
       "      <th>Serial Number</th>\n",
       "      <th>Total Time</th>\n",
       "      <th>GPS Detect Time</th>\n",
       "      <th>GPS Enable Time</th>\n",
       "      <th>GPS Signal Test Time</th>\n",
       "      <th>TTFF</th>\n",
       "      <th>SNR1</th>\n",
       "      <th>SNR2</th>\n",
       "      <th>SNR3</th>\n",
       "      <th>...</th>\n",
       "      <th>SNR5</th>\n",
       "      <th>SNR6</th>\n",
       "      <th>SNR7</th>\n",
       "      <th>SNR8</th>\n",
       "      <th>GPS Signal Test</th>\n",
       "      <th>Total Time (sec)</th>\n",
       "      <th>Total Time Rec</th>\n",
       "      <th>Signal Time Rec</th>\n",
       "      <th>TTFF Rec</th>\n",
       "      <th>final rec</th>\n",
       "    </tr>\n",
       "  </thead>\n",
       "  <tbody>\n",
       "    <tr>\n",
       "      <th>0</th>\n",
       "      <td>2018-04-20</td>\n",
       "      <td>GBXT-HMX-C3Z</td>\n",
       "      <td>00:01:21</td>\n",
       "      <td>680.897</td>\n",
       "      <td>3.57</td>\n",
       "      <td>40.76</td>\n",
       "      <td>38.0</td>\n",
       "      <td>44.0</td>\n",
       "      <td>44.0</td>\n",
       "      <td>44.0</td>\n",
       "      <td>...</td>\n",
       "      <td>NaN</td>\n",
       "      <td>NaN</td>\n",
       "      <td>NaN</td>\n",
       "      <td>NaN</td>\n",
       "      <td>PASS</td>\n",
       "      <td>81</td>\n",
       "      <td>ship to vendor</td>\n",
       "      <td>ship to vendor</td>\n",
       "      <td>ship to vendor</td>\n",
       "      <td>ship to vendor</td>\n",
       "    </tr>\n",
       "    <tr>\n",
       "      <th>1</th>\n",
       "      <td>2018-04-14</td>\n",
       "      <td>GVGG-P3N-S8H</td>\n",
       "      <td>00:01:13</td>\n",
       "      <td>2143.789</td>\n",
       "      <td>0.61</td>\n",
       "      <td>40.25</td>\n",
       "      <td>36.0</td>\n",
       "      <td>44.0</td>\n",
       "      <td>44.0</td>\n",
       "      <td>44.0</td>\n",
       "      <td>...</td>\n",
       "      <td>46.0</td>\n",
       "      <td>46.0</td>\n",
       "      <td>47.0</td>\n",
       "      <td>46.0</td>\n",
       "      <td>PASS</td>\n",
       "      <td>73</td>\n",
       "      <td>ship to vendor</td>\n",
       "      <td>ship to vendor</td>\n",
       "      <td>ship to vendor</td>\n",
       "      <td>ship to vendor</td>\n",
       "    </tr>\n",
       "    <tr>\n",
       "      <th>2</th>\n",
       "      <td>2018-04-20</td>\n",
       "      <td>GG95-8CE-W8M</td>\n",
       "      <td>00:02:15</td>\n",
       "      <td>570.095</td>\n",
       "      <td>3.58</td>\n",
       "      <td>93.90</td>\n",
       "      <td>26.0</td>\n",
       "      <td>44.0</td>\n",
       "      <td>44.0</td>\n",
       "      <td>44.0</td>\n",
       "      <td>...</td>\n",
       "      <td>41.0</td>\n",
       "      <td>41.0</td>\n",
       "      <td>41.0</td>\n",
       "      <td>41.0</td>\n",
       "      <td>PASS</td>\n",
       "      <td>135</td>\n",
       "      <td>return from field</td>\n",
       "      <td>screening</td>\n",
       "      <td>ship to vendor</td>\n",
       "      <td>screening</td>\n",
       "    </tr>\n",
       "    <tr>\n",
       "      <th>3</th>\n",
       "      <td>2018-04-20</td>\n",
       "      <td>GDJK-B45-V6F</td>\n",
       "      <td>00:01:22</td>\n",
       "      <td>2158.762</td>\n",
       "      <td>3.57</td>\n",
       "      <td>38.01</td>\n",
       "      <td>34.0</td>\n",
       "      <td>42.0</td>\n",
       "      <td>42.0</td>\n",
       "      <td>42.0</td>\n",
       "      <td>...</td>\n",
       "      <td>43.0</td>\n",
       "      <td>42.0</td>\n",
       "      <td>43.0</td>\n",
       "      <td>41.0</td>\n",
       "      <td>PASS</td>\n",
       "      <td>82</td>\n",
       "      <td>ship to vendor</td>\n",
       "      <td>ship to vendor</td>\n",
       "      <td>ship to vendor</td>\n",
       "      <td>ship to vendor</td>\n",
       "    </tr>\n",
       "    <tr>\n",
       "      <th>4</th>\n",
       "      <td>2018-04-20</td>\n",
       "      <td>GHRT-RF9-E9K</td>\n",
       "      <td>00:00:59</td>\n",
       "      <td>10.912</td>\n",
       "      <td>3.56</td>\n",
       "      <td>36.40</td>\n",
       "      <td>33.0</td>\n",
       "      <td>43.0</td>\n",
       "      <td>43.0</td>\n",
       "      <td>43.0</td>\n",
       "      <td>...</td>\n",
       "      <td>NaN</td>\n",
       "      <td>NaN</td>\n",
       "      <td>NaN</td>\n",
       "      <td>NaN</td>\n",
       "      <td>PASS</td>\n",
       "      <td>59</td>\n",
       "      <td>ship to vendor</td>\n",
       "      <td>ship to vendor</td>\n",
       "      <td>ship to vendor</td>\n",
       "      <td>ship to vendor</td>\n",
       "    </tr>\n",
       "  </tbody>\n",
       "</table>\n",
       "<p>5 rows × 21 columns</p>\n",
       "</div>"
      ],
      "text/plain": [
       "         Date Serial Number Total Time  GPS Detect Time  GPS Enable Time  \\\n",
       "0  2018-04-20  GBXT-HMX-C3Z   00:01:21          680.897             3.57   \n",
       "1  2018-04-14  GVGG-P3N-S8H   00:01:13         2143.789             0.61   \n",
       "2  2018-04-20  GG95-8CE-W8M   00:02:15          570.095             3.58   \n",
       "3  2018-04-20  GDJK-B45-V6F   00:01:22         2158.762             3.57   \n",
       "4  2018-04-20  GHRT-RF9-E9K   00:00:59           10.912             3.56   \n",
       "\n",
       "   GPS Signal Test Time  TTFF  SNR1  SNR2  SNR3  ...  SNR5  SNR6  SNR7  SNR8  \\\n",
       "0                 40.76  38.0  44.0  44.0  44.0  ...   NaN   NaN   NaN   NaN   \n",
       "1                 40.25  36.0  44.0  44.0  44.0  ...  46.0  46.0  47.0  46.0   \n",
       "2                 93.90  26.0  44.0  44.0  44.0  ...  41.0  41.0  41.0  41.0   \n",
       "3                 38.01  34.0  42.0  42.0  42.0  ...  43.0  42.0  43.0  41.0   \n",
       "4                 36.40  33.0  43.0  43.0  43.0  ...   NaN   NaN   NaN   NaN   \n",
       "\n",
       "   GPS Signal Test Total Time (sec)     Total Time Rec Signal Time Rec  \\\n",
       "0             PASS               81     ship to vendor  ship to vendor   \n",
       "1             PASS               73     ship to vendor  ship to vendor   \n",
       "2             PASS              135  return from field       screening   \n",
       "3             PASS               82     ship to vendor  ship to vendor   \n",
       "4             PASS               59     ship to vendor  ship to vendor   \n",
       "\n",
       "         TTFF Rec       final rec  \n",
       "0  ship to vendor  ship to vendor  \n",
       "1  ship to vendor  ship to vendor  \n",
       "2  ship to vendor       screening  \n",
       "3  ship to vendor  ship to vendor  \n",
       "4  ship to vendor  ship to vendor  \n",
       "\n",
       "[5 rows x 21 columns]"
      ]
     },
     "execution_count": 1309,
     "metadata": {},
     "output_type": "execute_result"
    }
   ],
   "source": [
    "data['final rec'] = data.apply(mode_func, axis = 1)\n",
    "data.head()"
   ]
  },
  {
   "cell_type": "code",
   "execution_count": 1311,
   "metadata": {},
   "outputs": [
    {
     "data": {
      "text/plain": [
       "final rec\n",
       "return from field     123\n",
       "screening             407\n",
       "ship to vendor       1650\n",
       "Name: Serial Number, dtype: int64"
      ]
     },
     "execution_count": 1311,
     "metadata": {},
     "output_type": "execute_result"
    }
   ],
   "source": [
    "# counts per final recommendation value\n",
    "data.groupby('final rec')['Serial Number'].count()"
   ]
  },
  {
   "cell_type": "code",
   "execution_count": 1315,
   "metadata": {},
   "outputs": [
    {
     "data": {
      "image/png": "[encoded data removed]",
      "text/plain": [
       "<Figure size 576x360 with 1 Axes>"
      ]
     },
     "metadata": {
      "needs_background": "light"
     },
     "output_type": "display_data"
    }
   ],
   "source": [
    "# countplot displaying the counts of final recommendations\n",
    "\n",
    "plt.figure(figsize=(8,5))\n",
    "plt.title('Final Recommendation Counts')\n",
    "sns.countplot(data['final rec']);"
   ]
  },
  {
   "cell_type": "code",
   "execution_count": 1318,
   "metadata": {},
   "outputs": [],
   "source": [
    "# extracting final dataset to csv in order to plot EDA\n",
    "data.to_csv(r'/Users/danielmartin/Desktop/samsara_final_data.csv', header=True)"
   ]
  },
  {
   "cell_type": "markdown",
   "metadata": {},
   "source": [
    "### Additional EDA"
   ]
  },
  {
   "cell_type": "code",
   "execution_count": 1316,
   "metadata": {},
   "outputs": [],
   "source": [
    "# The following plots did not demonstrate much of an association\n",
    "# between defective and non-defective gateways when compared to \n",
    "# Total Time (sec), GPS Signal Test Time, and TTFF features.\n",
    "# For this reason I excluded the SNR (signal to noise ration)\n",
    "# values from the final recommendation. "
   ]
  },
  {
   "cell_type": "code",
   "execution_count": 887,
   "metadata": {},
   "outputs": [
    {
     "data": {
      "image/png": "[encoded data removed]",
      "text/plain": [
       "<Figure size 576x360 with 2 Axes>"
      ]
     },
     "metadata": {
      "needs_background": "light"
     },
     "output_type": "display_data"
    }
   ],
   "source": [
    "plt.figure(figsize=(8,5))\n",
    "plt.subplot(1,2,1)\n",
    "plt.title('Defective Data')\n",
    "sns.distplot(a=defective_data['SNR1'])\n",
    "\n",
    "plt.subplot(1,2,2)\n",
    "plt.title('Non-Defective Data')\n",
    "sns.distplot(a=clean_data['SNR1'])\n",
    "\n",
    "plt.subplots_adjust(wspace = 0.5, hspace = 0.3);"
   ]
  },
  {
   "cell_type": "code",
   "execution_count": 888,
   "metadata": {},
   "outputs": [
    {
     "data": {
      "image/png": "[encoded data removed]",
      "text/plain": [
       "<Figure size 576x360 with 2 Axes>"
      ]
     },
     "metadata": {
      "needs_background": "light"
     },
     "output_type": "display_data"
    }
   ],
   "source": [
    "plt.figure(figsize=(8,5))\n",
    "plt.subplot(1,2,1)\n",
    "plt.title('Defective Data')\n",
    "sns.distplot(a=defective_data['SNR2'])\n",
    "\n",
    "plt.subplot(1,2,2)\n",
    "plt.title('Non-Defective Data')\n",
    "sns.distplot(a=clean_data['SNR2'])\n",
    "\n",
    "plt.subplots_adjust(wspace = 0.5, hspace = 0.3);"
   ]
  },
  {
   "cell_type": "code",
   "execution_count": 889,
   "metadata": {},
   "outputs": [
    {
     "data": {
      "image/png": "[encoded data removed]",
      "text/plain": [
       "<Figure size 576x360 with 2 Axes>"
      ]
     },
     "metadata": {
      "needs_background": "light"
     },
     "output_type": "display_data"
    }
   ],
   "source": [
    "plt.figure(figsize=(8,5))\n",
    "plt.subplot(1,2,1)\n",
    "plt.title('Defective Data')\n",
    "sns.distplot(a=defective_data['SNR3'])\n",
    "\n",
    "plt.subplot(1,2,2)\n",
    "plt.title('Non-Defective Data')\n",
    "sns.distplot(a=clean_data['SNR3'])\n",
    "\n",
    "plt.subplots_adjust(wspace = 0.5, hspace = 0.3);"
   ]
  },
  {
   "cell_type": "code",
   "execution_count": 890,
   "metadata": {},
   "outputs": [
    {
     "data": {
      "image/png": "[encoded data removed]",
      "text/plain": [
       "<Figure size 576x360 with 2 Axes>"
      ]
     },
     "metadata": {
      "needs_background": "light"
     },
     "output_type": "display_data"
    }
   ],
   "source": [
    "plt.figure(figsize=(8,5))\n",
    "plt.subplot(1,2,1)\n",
    "plt.title('Defective Data')\n",
    "sns.distplot(a=defective_data['SNR4'])\n",
    "\n",
    "plt.subplot(1,2,2)\n",
    "plt.title('Non-Defective Data')\n",
    "sns.distplot(a=clean_data['SNR4'])\n",
    "\n",
    "plt.subplots_adjust(wspace = 0.5, hspace = 0.3);"
   ]
  },
  {
   "cell_type": "code",
   "execution_count": 891,
   "metadata": {},
   "outputs": [
    {
     "data": {
      "image/png": "[encoded data removed]",
      "text/plain": [
       "<Figure size 576x360 with 2 Axes>"
      ]
     },
     "metadata": {
      "needs_background": "light"
     },
     "output_type": "display_data"
    }
   ],
   "source": [
    "plt.figure(figsize=(8,5))\n",
    "plt.subplot(1,2,1)\n",
    "plt.title('Defective Data')\n",
    "sns.distplot(a=defective_data['SNR5'])\n",
    "\n",
    "plt.subplot(1,2,2)\n",
    "plt.title('Non-Defective Data')\n",
    "sns.distplot(a=clean_data['SNR5'])\n",
    "\n",
    "plt.subplots_adjust(wspace = 0.5, hspace = 0.3);"
   ]
  },
  {
   "cell_type": "code",
   "execution_count": 892,
   "metadata": {},
   "outputs": [
    {
     "data": {
      "image/png": "[encoded data removed]",
      "text/plain": [
       "<Figure size 576x360 with 2 Axes>"
      ]
     },
     "metadata": {
      "needs_background": "light"
     },
     "output_type": "display_data"
    }
   ],
   "source": [
    "plt.figure(figsize=(8,5))\n",
    "plt.subplot(1,2,1)\n",
    "plt.title('Defective Data')\n",
    "sns.distplot(a=defective_data['SNR6'])\n",
    "\n",
    "plt.subplot(1,2,2)\n",
    "plt.title('Non-Defective Data')\n",
    "sns.distplot(a=clean_data['SNR6'])\n",
    "\n",
    "plt.subplots_adjust(wspace = 0.5, hspace = 0.3);"
   ]
  },
  {
   "cell_type": "code",
   "execution_count": 893,
   "metadata": {},
   "outputs": [
    {
     "data": {
      "image/png": "[encoded data removed]",
      "text/plain": [
       "<Figure size 576x360 with 2 Axes>"
      ]
     },
     "metadata": {
      "needs_background": "light"
     },
     "output_type": "display_data"
    }
   ],
   "source": [
    "plt.figure(figsize=(8,5))\n",
    "plt.subplot(1,2,1)\n",
    "plt.title('Defective Data')\n",
    "sns.distplot(a=defective_data['SNR7'])\n",
    "\n",
    "plt.subplot(1,2,2)\n",
    "plt.title('Non-Defective Data')\n",
    "sns.distplot(a=clean_data['SNR7'])\n",
    "\n",
    "plt.subplots_adjust(wspace = 0.5, hspace = 0.3);"
   ]
  },
  {
   "cell_type": "code",
   "execution_count": 894,
   "metadata": {},
   "outputs": [
    {
     "data": {
      "image/png": "[encoded data removed]",
      "text/plain": [
       "<Figure size 576x360 with 2 Axes>"
      ]
     },
     "metadata": {
      "needs_background": "light"
     },
     "output_type": "display_data"
    }
   ],
   "source": [
    "plt.figure(figsize=(8,5))\n",
    "plt.subplot(1,2,1)\n",
    "plt.title('Defective Data')\n",
    "sns.distplot(a=defective_data['SNR8'])\n",
    "\n",
    "plt.subplot(1,2,2)\n",
    "plt.title('Non-Defective Data')\n",
    "sns.distplot(a=clean_data['SNR8'])\n",
    "\n",
    "plt.subplots_adjust(wspace = 0.5, hspace = 0.3);"
   ]
  },
  {
   "cell_type": "code",
   "execution_count": 713,
   "metadata": {
    "scrolled": true
   },
   "outputs": [
    {
     "data": {
      "image/png": "[encoded data removed]",
      "text/plain": [
       "<Figure size 576x360 with 2 Axes>"
      ]
     },
     "metadata": {
      "needs_background": "light"
     },
     "output_type": "display_data"
    }
   ],
   "source": [
    "plt.figure(figsize=(8,5))\n",
    "plt.subplot(1,2,1)\n",
    "plt.title('Defective Data')\n",
    "sns.distplot(a=defective_data['GPS Detect Time'])\n",
    "\n",
    "plt.subplot(1,2,2)\n",
    "plt.title('Non-Defective Data')\n",
    "sns.distplot(a=clean_data['GPS Detect Time'])\n",
    "\n",
    "plt.subplots_adjust(wspace = 0.5, hspace = 0.3);"
   ]
  },
  {
   "cell_type": "code",
   "execution_count": 719,
   "metadata": {},
   "outputs": [
    {
     "data": {
      "image/png": "[encoded data removed]",
      "text/plain": [
       "<Figure size 576x360 with 2 Axes>"
      ]
     },
     "metadata": {
      "needs_background": "light"
     },
     "output_type": "display_data"
    }
   ],
   "source": [
    "plt.figure(figsize=(8,5))\n",
    "plt.subplot(1,2,1)\n",
    "plt.title('Defective Data')\n",
    "sns.distplot(a=defective_data['GPS Enable Time'])\n",
    "\n",
    "plt.subplot(1,2,2)\n",
    "plt.title('Non-Defective Data')\n",
    "sns.distplot(a=clean_data['GPS Enable Time'])\n",
    "\n",
    "plt.subplots_adjust(wspace = 0.5, hspace = 0.3);"
   ]
  }
 ],
 "metadata": {
  "kernelspec": {
   "display_name": "Python 3",
   "language": "python",
   "name": "python3"
  },
  "language_info": {
   "codemirror_mode": {
    "name": "ipython",
    "version": 3
   },
   "file_extension": ".py",
   "mimetype": "text/x-python",
   "name": "python",
   "nbconvert_exporter": "python",
   "pygments_lexer": "ipython3",
   "version": "3.7.3"
  }
 },
 "nbformat": 4,
 "nbformat_minor": 2
}
